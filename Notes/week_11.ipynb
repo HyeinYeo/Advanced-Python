{
 "cells": [
  {
   "cell_type": "markdown",
   "id": "a1e7e804-a597-4adb-bb12-d9bbcb9c25ac",
   "metadata": {
    "tags": []
   },
   "source": [
    "# **Week 11 - 2022/05/13**\n",
    "---"
   ]
  },
  {
   "cell_type": "markdown",
   "id": "da8630b2-3c9d-45fc-9ab8-8638eee44abe",
   "metadata": {},
   "source": [
    "## **Ch10. 객체와 클래스**"
   ]
  },
  {
   "cell_type": "markdown",
   "id": "793dc064-9735-483c-8b1c-5c4c8774413b",
   "metadata": {},
   "source": [
    "### **10.3. 상속**\n",
    "- 상속 (inheritance)\n",
    "- 재사용할 때, A vs. B\n",
    "  - \"A의 대부분을 쓰고, 나머지를 추가, 변경하고 싶다\"\n",
    "  - 부모의 모든 속성을 그대로 가져와서 쓰겠다.\n",
    "- `반복되는 부분`을 가져와서 물려받겠다.\n",
    "- A <- B\n",
    "  - A: 부모, 슈퍼, 베이스\n",
    "  - B: 자식, 서브, derived\n",
    "- 자식 클래스는 부모 클래스를 구체화 한다.\n",
    "- is-a 관계: Car is-a Vehicle (포함된다)"
   ]
  },
  {
   "cell_type": "code",
   "execution_count": 1,
   "id": "920ec979-ff0c-438b-8e00-7d603862781a",
   "metadata": {},
   "outputs": [],
   "source": [
    "# parent, super\n",
    "class Vehicle:\n",
    "    def __init__(self, speed):\n",
    "        self.speed = speed\n",
    "    \n",
    "    def go(self):\n",
    "        print(f'{self.speed}의 속도로 달린다.')\n",
    "        \n",
    "# child, sub\n",
    "class Car(Vehicle): # 상속\n",
    "    pass"
   ]
  },
  {
   "cell_type": "code",
   "execution_count": 2,
   "id": "28554855-5f30-4d57-92ff-f66329f2963c",
   "metadata": {},
   "outputs": [
    {
     "name": "stdout",
     "output_type": "stream",
     "text": [
      "20km/h의 속도로 달린다.\n"
     ]
    }
   ],
   "source": [
    "car = Car('20km/h')\n",
    "car.go()"
   ]
  },
  {
   "cell_type": "markdown",
   "id": "e585166f-c2b8-4217-8d13-611a7bb4c25b",
   "metadata": {},
   "source": [
    "#### **10.3.1. 변수 추가, 변경**"
   ]
  },
  {
   "cell_type": "code",
   "execution_count": 3,
   "id": "e631b638-489b-4207-a4f4-3e8023268aef",
   "metadata": {},
   "outputs": [],
   "source": [
    "# parent, super\n",
    "class Vehicle:\n",
    "    def __init__(self, speed):\n",
    "        self.speed = f'와우~ {speed}'\n",
    "    \n",
    "    def go(self):\n",
    "        print(f'{self.speed}의 속도로 달린다.')\n",
    "        \n",
    "# child\n",
    "class Car(Vehicle):\n",
    "    def __init__(self, speed, brand):\n",
    "        # speed == 부모\n",
    "        # 부모의 변수 중에서 가져올 것을 쓴다.\n",
    "        super().__init__(speed)\n",
    "        \n",
    "        # brand == 자식\n",
    "        self.brand = brand # 나(자식)의 고유한 특성"
   ]
  },
  {
   "cell_type": "code",
   "execution_count": 4,
   "id": "5075b40d-a8cd-4f88-9d5b-bf804924134c",
   "metadata": {},
   "outputs": [
    {
     "data": {
      "text/plain": [
       "'kia'"
      ]
     },
     "execution_count": 4,
     "metadata": {},
     "output_type": "execute_result"
    }
   ],
   "source": [
    "car2 = Car('20km/h', 'kia')\n",
    "car2.brand"
   ]
  },
  {
   "cell_type": "code",
   "execution_count": 5,
   "id": "234623ab-f627-482d-9928-1720098dfbe8",
   "metadata": {},
   "outputs": [
    {
     "data": {
      "text/plain": [
       "'와우~ 20km/h'"
      ]
     },
     "execution_count": 5,
     "metadata": {},
     "output_type": "execute_result"
    }
   ],
   "source": [
    "car2.speed"
   ]
  },
  {
   "cell_type": "code",
   "execution_count": 6,
   "id": "0d0c638a-3095-483e-9616-289f26680a9a",
   "metadata": {},
   "outputs": [
    {
     "name": "stdout",
     "output_type": "stream",
     "text": [
      "와우~ 20km/h의 속도로 달린다.\n"
     ]
    }
   ],
   "source": [
    "car2.go()"
   ]
  },
  {
   "cell_type": "code",
   "execution_count": 7,
   "id": "ecad9cac-e61c-4bc6-8212-64b2fe451595",
   "metadata": {},
   "outputs": [
    {
     "ename": "AttributeError",
     "evalue": "'Vehicle' object has no attribute 'brand'",
     "output_type": "error",
     "traceback": [
      "\u001b[1;31m---------------------------------------------------------------------------\u001b[0m",
      "\u001b[1;31mAttributeError\u001b[0m                            Traceback (most recent call last)",
      "\u001b[1;32mC:\\Temp/ipykernel_7656/763013439.py\u001b[0m in \u001b[0;36m<module>\u001b[1;34m\u001b[0m\n\u001b[0;32m      1\u001b[0m \u001b[0mv\u001b[0m \u001b[1;33m=\u001b[0m \u001b[0mVehicle\u001b[0m\u001b[1;33m(\u001b[0m\u001b[1;34m'33km/h'\u001b[0m\u001b[1;33m)\u001b[0m\u001b[1;33m\u001b[0m\u001b[1;33m\u001b[0m\u001b[0m\n\u001b[1;32m----> 2\u001b[1;33m \u001b[0mv\u001b[0m\u001b[1;33m.\u001b[0m\u001b[0mbrand\u001b[0m \u001b[1;31m#부모는 없음, 자식의 고유한 특성\u001b[0m\u001b[1;33m\u001b[0m\u001b[1;33m\u001b[0m\u001b[0m\n\u001b[0m",
      "\u001b[1;31mAttributeError\u001b[0m: 'Vehicle' object has no attribute 'brand'"
     ]
    }
   ],
   "source": [
    "v = Vehicle('33km/h')\n",
    "v.brand #부모는 없음, 자식의 고유한 특성"
   ]
  },
  {
   "cell_type": "code",
   "execution_count": 9,
   "id": "1d9a6b4d-6664-4ae4-8e4d-f76ae0e51b3b",
   "metadata": {},
   "outputs": [],
   "source": [
    "# 개인 실습\n",
    "class Country:\n",
    "    def __init__(self, population):\n",
    "        self.name = '국가명'\n",
    "        self.population = '인구'\n",
    "        self.capital = '수도'\n",
    "\n",
    "    def show(self):\n",
    "        print('국가 클래스의 메서드입니다.')\n",
    "\n",
    "\n",
    "class Korea(Country):\n",
    "    def __init__(self, population2, capital2):\n",
    "        # 부모 클래스의 __init__()을 그대로 가져오는 것\n",
    "        # 자식 클래스의 population2에는 부모 클래스의 population을 쓰겠다\n",
    "        super().__init__(population2)\n",
    "        \n",
    "        # capital은 자식 클래스에서 인자로 전달 받은 capital2를 쓰겠다\n",
    "        self.capital = capital2\n",
    "        \n",
    "        # name은 부모 클래스의 name\n",
    "        #self.name = name\n",
    "\n",
    "    def show_name(self):\n",
    "        print('국가 이름은 : ', self.name)"
   ]
  },
  {
   "cell_type": "code",
   "execution_count": 10,
   "id": "df72696b-130a-4b25-96ed-ae93c5e459ac",
   "metadata": {},
   "outputs": [
    {
     "name": "stdout",
     "output_type": "stream",
     "text": [
      "국가 클래스의 메서드입니다.\n"
     ]
    },
    {
     "data": {
      "text/plain": [
       "('국가명', '인구', '서울')"
      ]
     },
     "execution_count": 10,
     "metadata": {},
     "output_type": "execute_result"
    }
   ],
   "source": [
    "tmp1 = Korea('한국', '서울')\n",
    "tmp1.show()\n",
    "tmp1.name, tmp1.population, tmp1.capital"
   ]
  },
  {
   "cell_type": "markdown",
   "id": "237d88cf-4e87-40b5-8310-8ca64fe29a35",
   "metadata": {},
   "source": [
    "#### **10.3.2. 메서드 추가, 변경**\n",
    "- override하면 부모의 메서드가 잊힌다."
   ]
  },
  {
   "cell_type": "code",
   "execution_count": 11,
   "id": "67e1727b-69cf-4ced-9199-c230fa98180e",
   "metadata": {},
   "outputs": [],
   "source": [
    "# parent, super\n",
    "class Vehicle:\n",
    "    def __init__(self, speed):\n",
    "        self.speed = speed\n",
    "    \n",
    "    def go(self):\n",
    "        print(f'{self.speed}의 속도로 달린다.')\n",
    "        \n",
    "# child\n",
    "class Car(Vehicle):\n",
    "    def __init__(self, speed, brand):\n",
    "        super().__init__(speed)\n",
    "        self.brand = brand\n",
    "    \n",
    "    # 오버라이드(override): 재정의\n",
    "    def go(self):\n",
    "        print(f'차종 {self.brand}의 속도 {self.speed}')\n",
    "    \n",
    "    # 메서드 추가\n",
    "    def stop():\n",
    "        pass\n",
    "    "
   ]
  },
  {
   "cell_type": "code",
   "execution_count": 12,
   "id": "8ff16a49-9dd8-4b8e-9575-656060ac4f03",
   "metadata": {},
   "outputs": [
    {
     "name": "stdout",
     "output_type": "stream",
     "text": [
      "차종 mini의 속도 33km/h\n"
     ]
    }
   ],
   "source": [
    "car3 = Car('33km/h', 'mini')\n",
    "car3.go()"
   ]
  },
  {
   "cell_type": "code",
   "execution_count": 13,
   "id": "0860257c-9dfc-4264-9735-5c578c81dd64",
   "metadata": {},
   "outputs": [],
   "source": [
    "# 개인 실습\n",
    "class Country:\n",
    "    def __init__(self, name):\n",
    "        self.name = '국가명'\n",
    "        self.population = '인구'\n",
    "        self.capital = '수도'\n",
    "\n",
    "    def show(self):\n",
    "        print('국가 클래스의 메서드입니다.')\n",
    "        \n",
    "class Korea(Country):\n",
    "    def __init__(self, name, population, capital):\n",
    "        self.name = name\n",
    "        self.population = population\n",
    "        self.capital = capital\n",
    "\n",
    "    def show(self):\n",
    "        print(\n",
    "            f\"\"\"\n",
    "            국가의 이름은 {self.name} 입니다.\n",
    "            국가의 인구는 {self.population} 입니다.\n",
    "            국가의 수도는 {self.capital} 입니다.\n",
    "            \"\"\"\n",
    "        )"
   ]
  },
  {
   "cell_type": "code",
   "execution_count": 14,
   "id": "1206fc49-c204-46e3-864f-a71d08654553",
   "metadata": {},
   "outputs": [
    {
     "name": "stdout",
     "output_type": "stream",
     "text": [
      "\n",
      "            국가의 이름은 한국 입니다.\n",
      "            국가의 인구는 5000만 입니다.\n",
      "            국가의 수도는 서울 입니다.\n",
      "            \n"
     ]
    }
   ],
   "source": [
    "tmp2 = Korea('한국', '5000만', '서울')\n",
    "tmp2.show()"
   ]
  },
  {
   "cell_type": "markdown",
   "id": "126caf17-4a43-442c-9dc6-ec0c017fd9aa",
   "metadata": {},
   "source": [
    "#### **[실습 1] 부모의 go()도 함께 가져가고 싶다면?**\n",
    "- `super()`.go()"
   ]
  },
  {
   "cell_type": "code",
   "execution_count": 15,
   "id": "8cd343d3-38c5-4f04-aaf1-67968de93b44",
   "metadata": {},
   "outputs": [],
   "source": [
    "# parent, super\n",
    "class Vehicle:\n",
    "    def __init__(self, speed):\n",
    "        self.speed = speed\n",
    "    \n",
    "    def go(self):\n",
    "        print(f'{self.speed}의 속도로 달린다.')\n",
    "        \n",
    "# child\n",
    "class Car(Vehicle):\n",
    "    def __init__(self, speed, brand):\n",
    "        super().__init__(speed)\n",
    "        self.brand = brand\n",
    "\n",
    "    def go(self):\n",
    "        # 부모의 go도 함께 가져가고 싶다면?\n",
    "        super().go()\n",
    "        print(f'차종 {self.brand}의 속도 {self.speed}')\n",
    "        \n",
    "    def stop():\n",
    "        pass "
   ]
  },
  {
   "cell_type": "code",
   "execution_count": 16,
   "id": "80616c88-e4ed-428d-8b8a-0c8a237f1065",
   "metadata": {},
   "outputs": [
    {
     "name": "stdout",
     "output_type": "stream",
     "text": [
      "33km/h의 속도로 달린다.\n",
      "차종 mini의 속도 33km/h\n"
     ]
    }
   ],
   "source": [
    "car4 = Car('33km/h', 'mini')\n",
    "car4.go()"
   ]
  },
  {
   "cell_type": "markdown",
   "id": "f23ce5f7-2c19-4402-a387-8080893cfe06",
   "metadata": {},
   "source": [
    "#### **[실습 2]**"
   ]
  },
  {
   "cell_type": "code",
   "execution_count": 17,
   "id": "072a5e18-65ae-4b40-a930-29fb47979dc5",
   "metadata": {},
   "outputs": [
    {
     "data": {
      "text/plain": [
       "('Dr. pablo', 'Mr. pablo', 'Mrs. pablo')"
      ]
     },
     "execution_count": 17,
     "metadata": {},
     "output_type": "execute_result"
    }
   ],
   "source": [
    "class Person:\n",
    "    def __init__(self, name):\n",
    "        self.name = name\n",
    "        \n",
    "#----------------------------------------\n",
    "class Doctor(Person):\n",
    "    def __init__(self, name):\n",
    "        #super().__init__(name)\n",
    "        #self.name = 'Dr. ' + name\n",
    "        super().__init__('Dr. ' + name)\n",
    "\n",
    "class Male(Person):\n",
    "    def __init__(self, name):\n",
    "        super().__init__(name)\n",
    "        self.name = 'Mr. ' + name\n",
    "    \n",
    "class Female(Person):\n",
    "    def __init__(self, name):\n",
    "        super().__init__(name)\n",
    "        self.name = 'Mrs. ' + name\n",
    "        \n",
    "temp1 = Doctor('pablo')\n",
    "temp2 = Male('pablo')\n",
    "temp3 = Female('pablo')\n",
    "temp1.name, temp2.name, temp3.name"
   ]
  },
  {
   "cell_type": "code",
   "execution_count": 18,
   "id": "6762b57c-e5b4-4dcf-831c-cf4a6dd10b50",
   "metadata": {},
   "outputs": [],
   "source": [
    "# 개인 실습\n",
    "class Country:\n",
    "    def __init__(self, name):\n",
    "        self.name = '국가명'\n",
    "        self.population = '인구'\n",
    "        self.capital = '수도'\n",
    "\n",
    "    def show(self):\n",
    "        print('국가 정보는 다음과 같습니다.')\n",
    "        \n",
    "class Korea(Country):\n",
    "    def __init__(self, name, population, capital):\n",
    "        self.name = name\n",
    "        self.population = population\n",
    "        self.capital = capital\n",
    "\n",
    "    def show(self):\n",
    "        super().show()\n",
    "        print(\n",
    "            f\"\"\"\n",
    "            국가의 이름은 {self.name} 입니다.\n",
    "            국가의 인구는 {self.population} 입니다.\n",
    "            국가의 수도는 {self.capital} 입니다.\n",
    "            \"\"\"\n",
    "        )"
   ]
  },
  {
   "cell_type": "code",
   "execution_count": 19,
   "id": "3bbc1015-5605-4194-af42-c5dbb371e881",
   "metadata": {},
   "outputs": [
    {
     "name": "stdout",
     "output_type": "stream",
     "text": [
      "국가 정보는 다음과 같습니다.\n",
      "\n",
      "            국가의 이름은 한국 입니다.\n",
      "            국가의 인구는 5000만 입니다.\n",
      "            국가의 수도는 서울 입니다.\n",
      "            \n"
     ]
    }
   ],
   "source": [
    "tmp3 = Korea('한국', '5000만', '서울')\n",
    "tmp3.show()"
   ]
  },
  {
   "cell_type": "markdown",
   "id": "dffe9019-42ff-47d3-b226-8bda3e79dd14",
   "metadata": {},
   "source": [
    "### **10.4. 다중상속**\n",
    "- 오버라이딩(재정의) 했을 때 어느 부모의 것을 가져올 것인가?\n",
    "- method~~\n",
    "- Animal <- Horse \n",
    "            <-Donkey\n",
    "                    <- Mule(Donkey)\n",
    "                    <- Hinny(Horse)"
   ]
  },
  {
   "cell_type": "markdown",
   "id": "ebc65b68-03cc-492f-90af-2d1b5e5d5d15",
   "metadata": {},
   "source": [
    "- 다중 상속 시 `가까운 부모부터` 써준다. \n",
    "- 오버라이딩(재정의)하지 않으면 가까운 부모의 클래스를 상속한다"
   ]
  },
  {
   "cell_type": "markdown",
   "id": "53aec3c5-c7c4-4051-95b2-922dca2d4308",
   "metadata": {},
   "source": [
    "- 클래스 이름.`mro()`: 어떤 게 가장 가까운지 알려준다"
   ]
  },
  {
   "cell_type": "code",
   "execution_count": 20,
   "id": "f06ec92f-e7cb-4601-b457-ccb6e0e5a3c3",
   "metadata": {},
   "outputs": [],
   "source": [
    "# 부모(조부모)\n",
    "class Animal:\n",
    "    def says(self):\n",
    "        return '동물이 운다.'\n",
    "\n",
    "# 자식\n",
    "class Horse(Animal):\n",
    "    def says(self):\n",
    "        #super().says() -> 부모 기억\n",
    "        return '히히힝'\n",
    "\n",
    "class Donkey(Animal):\n",
    "    def says(self):\n",
    "        return '히이호'\n",
    "    \n",
    "# 손자\n",
    "class Mule(Donkey, Horse): # 가까운 부모부터 써준다. override하지 않으면 가까운 부모\n",
    "    pass\n",
    "\n",
    "class Hinny(Horse, Donkey):\n",
    "    pass"
   ]
  },
  {
   "cell_type": "code",
   "execution_count": 21,
   "id": "5cc01d8d-4d00-4813-8ef5-d087d1580434",
   "metadata": {},
   "outputs": [
    {
     "data": {
      "text/plain": [
       "'히이호'"
      ]
     },
     "execution_count": 21,
     "metadata": {},
     "output_type": "execute_result"
    }
   ],
   "source": [
    "# Donkey 클래스\n",
    "m = Mule()\n",
    "m.says()"
   ]
  },
  {
   "cell_type": "code",
   "execution_count": 22,
   "id": "ae6e8921-3c22-49dd-bc04-0d0b271fb8d4",
   "metadata": {},
   "outputs": [
    {
     "data": {
      "text/plain": [
       "'히히힝'"
      ]
     },
     "execution_count": 22,
     "metadata": {},
     "output_type": "execute_result"
    }
   ],
   "source": [
    "# Horse 클래스\n",
    "Hinny().says()"
   ]
  },
  {
   "cell_type": "code",
   "execution_count": 23,
   "id": "4a331bdc-275f-4e6a-bc5d-9b7c71c289b9",
   "metadata": {},
   "outputs": [
    {
     "data": {
      "text/plain": [
       "[__main__.Mule, __main__.Donkey, __main__.Horse, __main__.Animal, object]"
      ]
     },
     "execution_count": 23,
     "metadata": {},
     "output_type": "execute_result"
    }
   ],
   "source": [
    "# Mule(자신) -> Donkey -> Horse -> Animal\n",
    "Mule.mro()"
   ]
  },
  {
   "cell_type": "code",
   "execution_count": 24,
   "id": "d1ec9197-a0cd-4973-8a08-b3f7fb42386d",
   "metadata": {},
   "outputs": [
    {
     "name": "stdout",
     "output_type": "stream",
     "text": [
      "안녕하세요.\n",
      "학점 관리\n",
      "공부하기\n",
      "사람입니다.\n"
     ]
    }
   ],
   "source": [
    "# 개인 실습\n",
    "class Person:\n",
    "    def greeting(self):\n",
    "        print('안녕하세요.')\n",
    "    def introduce(self):\n",
    "        print('사람입니다.')\n",
    "\n",
    "class University:\n",
    "    def manage_credit(self):\n",
    "        print('학점 관리')\n",
    "    def introduce(self):\n",
    "        print('대학교입니다.')\n",
    "\n",
    "class Undergraduate(Person, University):\n",
    "    def study(self):\n",
    "        print('공부하기')\n",
    "\n",
    "james = Undergraduate()\n",
    "james.greeting()      # 안녕하세요.: Person의 메서드 호출\n",
    "james.manage_credit() # 학점 관리: University의 메서드 호출\n",
    "james.study()         # 공부하기: Undergraduate에 추가한 study 메서드 호출\n",
    "james.introduce()     # 가까운 부모 클래스인 Person의 introduce 메서드 호출"
   ]
  },
  {
   "cell_type": "markdown",
   "id": "83526c32-6087-4c7a-aaaa-ed3d2b260fb7",
   "metadata": {},
   "source": [
    "### **10.5. 다형성**\n",
    "- 형태는 다르지만 기능은 같다\n",
    "- 객체가 다른데도 같은 메소드를 가지고 있으면 같은 기능 수행 가능"
   ]
  },
  {
   "cell_type": "code",
   "execution_count": 25,
   "id": "9de610b3-e270-4169-a2ee-ecf0b37663ab",
   "metadata": {},
   "outputs": [
    {
     "name": "stdout",
     "output_type": "stream",
     "text": [
      "히이호\n",
      "히이호\n",
      "동물이 운다.\n"
     ]
    }
   ],
   "source": [
    "for animal in [Mule(), Donkey(), Animal()]:\n",
    "    print(animal.says())"
   ]
  },
  {
   "cell_type": "markdown",
   "id": "4f1de54f-c62a-49a2-abe5-6e383d5baeab",
   "metadata": {},
   "source": [
    "### **10.6. 메서드 타입**\n",
    "- **인스턴스 메서드**\n",
    "  - self가 1번 인자\n",
    "  - 객체 생성 -> 사용 가능\n",
    "- **클래스 메서드**\n",
    "  - 객체 생성하지 않아도 사용 가능\n",
    "  - `클래스에 접근`하는 메서드(인스턴스 접근 X)\n",
    "  - @classmethod\n",
    "  - 예약어: `cls`\n",
    "  - 함수(cls)가 첫 인자\n",
    "  - class Person, cls == Person\n",
    "      - 클래스 자신\n",
    "  - 객체랑 상관없이 클래스 틀에서 작용\n",
    "      - 객체가 아무리 만들어져도 변하지 않음\n",
    "      - 클래스 변수\n",
    "- **정적 메서드**\n",
    "  - 객체 생성하지 않고 접근 가능\n",
    "  - 클래스랑 전혀 상관이 없기 때문에 접근 가능한 것\n",
    "  - 상관이 없지만 내용, 기능이 비슷해서 클래스 내에 묶어둠\n",
    "  - self 없음\n",
    "      - 객체랑 상관없기 때문\n",
    "      - 딕셔너리에 변수 저장하는 것과 비슷\n",
    "- **추상 메서드**\n",
    "  - 추상 클래스: abstract 이름만 존재하는 클래스\n",
    "      - 메서드도 이름만 존재하고, 변수도 이름만 존재\n",
    "  - 설계도 역할\n",
    "      - 클래스 내에 변수, 메서드가 많은데 이것들을 한 줄에 일목요연하게 표현할 수 있는 기능\n",
    "  - 상속하는 자식클래스 => 반드시 구현해야 하는 메소드를 정의한다.\n",
    "      - 추상클래스 메서드를 오버라이딩(재정의)하지 않으면 객체가 성립이 되지 않음(상속이 되지 않음)\n",
    "      - obligation을 주는 역할"
   ]
  },
  {
   "cell_type": "markdown",
   "id": "e7005c86-ea0b-4f37-94b4-babf5035ce3a",
   "metadata": {},
   "source": [
    "#### **10.6.1. 인스턴스 메서드**"
   ]
  },
  {
   "cell_type": "code",
   "execution_count": 26,
   "id": "20c1c0aa-4efd-4924-bc80-29ca69d13127",
   "metadata": {},
   "outputs": [
    {
     "data": {
      "text/plain": [
       "'히이호'"
      ]
     },
     "execution_count": 26,
     "metadata": {},
     "output_type": "execute_result"
    }
   ],
   "source": [
    "a = Mule() # 객체 생성 후 사용\n",
    "a.says()"
   ]
  },
  {
   "cell_type": "code",
   "execution_count": 27,
   "id": "8234e7fa-b1d3-4f19-bdda-6538bacdf75a",
   "metadata": {},
   "outputs": [
    {
     "data": {
      "text/plain": [
       "'히이호'"
      ]
     },
     "execution_count": 27,
     "metadata": {},
     "output_type": "execute_result"
    }
   ],
   "source": [
    "# self가 없기 때문에 불가능\n",
    "Mule().says()"
   ]
  },
  {
   "cell_type": "markdown",
   "id": "a9399506-82ce-4c23-82df-5f90e5444665",
   "metadata": {},
   "source": [
    "#### **10.6.2. 클래스 메서드**"
   ]
  },
  {
   "cell_type": "code",
   "execution_count": 28,
   "id": "ae7c7f4f-bdc4-4d8b-97cd-c9eed92a1baf",
   "metadata": {},
   "outputs": [],
   "source": [
    "class A:\n",
    "    cnt = 0 # 인스턴스 변수 X\n",
    "    \n",
    "    def move(self):\n",
    "        return cnt"
   ]
  },
  {
   "cell_type": "code",
   "execution_count": 29,
   "id": "6a77774c-7fb9-4671-820d-f940018173cb",
   "metadata": {},
   "outputs": [
    {
     "ename": "NameError",
     "evalue": "name 'cnt' is not defined",
     "output_type": "error",
     "traceback": [
      "\u001b[1;31m---------------------------------------------------------------------------\u001b[0m",
      "\u001b[1;31mNameError\u001b[0m                                 Traceback (most recent call last)",
      "\u001b[1;32mC:\\Temp/ipykernel_7656/2217094946.py\u001b[0m in \u001b[0;36m<module>\u001b[1;34m\u001b[0m\n\u001b[1;32m----> 1\u001b[1;33m \u001b[0mA\u001b[0m\u001b[1;33m(\u001b[0m\u001b[1;33m)\u001b[0m\u001b[1;33m.\u001b[0m\u001b[0mmove\u001b[0m\u001b[1;33m(\u001b[0m\u001b[1;33m)\u001b[0m \u001b[1;31m#cnt를 알 수 없음\u001b[0m\u001b[1;33m\u001b[0m\u001b[1;33m\u001b[0m\u001b[0m\n\u001b[0m",
      "\u001b[1;32mC:\\Temp/ipykernel_7656/633640.py\u001b[0m in \u001b[0;36mmove\u001b[1;34m(self)\u001b[0m\n\u001b[0;32m      3\u001b[0m \u001b[1;33m\u001b[0m\u001b[0m\n\u001b[0;32m      4\u001b[0m     \u001b[1;32mdef\u001b[0m \u001b[0mmove\u001b[0m\u001b[1;33m(\u001b[0m\u001b[0mself\u001b[0m\u001b[1;33m)\u001b[0m\u001b[1;33m:\u001b[0m\u001b[1;33m\u001b[0m\u001b[1;33m\u001b[0m\u001b[0m\n\u001b[1;32m----> 5\u001b[1;33m         \u001b[1;32mreturn\u001b[0m \u001b[0mcnt\u001b[0m\u001b[1;33m\u001b[0m\u001b[1;33m\u001b[0m\u001b[0m\n\u001b[0m",
      "\u001b[1;31mNameError\u001b[0m: name 'cnt' is not defined"
     ]
    }
   ],
   "source": [
    "A().move() #cnt를 알 수 없음"
   ]
  },
  {
   "cell_type": "code",
   "execution_count": 30,
   "id": "a6ad1a09-8d84-4379-9ec2-b99595d4f932",
   "metadata": {},
   "outputs": [],
   "source": [
    "class A:\n",
    "    cnt = 0\n",
    "    \n",
    "    @classmethod\n",
    "    def move(cls):\n",
    "        # return A.cnt\n",
    "        return cls.cnt"
   ]
  },
  {
   "cell_type": "code",
   "execution_count": 31,
   "id": "c93c46a1-9716-4af0-b287-b3f044c72ea9",
   "metadata": {},
   "outputs": [
    {
     "data": {
      "text/plain": [
       "0"
      ]
     },
     "execution_count": 31,
     "metadata": {},
     "output_type": "execute_result"
    }
   ],
   "source": [
    "A.move()"
   ]
  },
  {
   "cell_type": "markdown",
   "id": "6f812fa9-f2c1-4496-b608-a186c3f31db1",
   "metadata": {},
   "source": [
    "#### **[실습 3] 함수가 클래스에 접근하게 해서 객체 생성하기**\n",
    "- 클래스의 객체 생성 방식 재정의\n",
    "- 함수에 (name, age) 튜플을 넣어도 객체가 만들어지게끔"
   ]
  },
  {
   "cell_type": "code",
   "execution_count": 32,
   "id": "5fcc9172-d6b1-4b48-bb5a-5ef57e909d45",
   "metadata": {},
   "outputs": [
    {
     "data": {
      "text/plain": [
       "('kim', 24)"
      ]
     },
     "execution_count": 32,
     "metadata": {},
     "output_type": "execute_result"
    }
   ],
   "source": [
    "class Person:\n",
    "    def __init__(self, name, age):\n",
    "        self.name = name\n",
    "        self.age = age\n",
    "    \n",
    "    @classmethod\n",
    "    def tuple_object(cls, args): # cls -> Person\n",
    "        return cls(args[0], args[1]) # Person()이 구현되는 것과 같음\n",
    "\n",
    "name = 'kim'\n",
    "age = 24\n",
    "#p = Person(name, age)\n",
    "\n",
    "info = name, age\n",
    "p = Person.tuple_object(info) #p 객체 생성\n",
    "p.name, p.age"
   ]
  },
  {
   "cell_type": "markdown",
   "id": "cb1ed74c-894d-4fc8-b300-8341641019d3",
   "metadata": {},
   "source": [
    "#### **[실습 4] 객체 생성 횟수 세기**\n",
    "- 클래스에 접근하기\n",
    "- 객체 생성할 때 cnt가 증가해야 한다"
   ]
  },
  {
   "cell_type": "code",
   "execution_count": 33,
   "id": "087dace0-fb03-4d57-aaf3-d3f9c9e536da",
   "metadata": {},
   "outputs": [
    {
     "data": {
      "text/plain": [
       "'객체 수: 4'"
      ]
     },
     "execution_count": 33,
     "metadata": {},
     "output_type": "execute_result"
    }
   ],
   "source": [
    "class A:\n",
    "    # 붕어빵 몇 개?\n",
    "    cnt = 0\n",
    "    def __init__(self):\n",
    "        A.cnt += 1\n",
    "    \n",
    "    @classmethod\n",
    "    def count(cls):\n",
    "        return f'객체 수: {cls.cnt}'\n",
    "A()\n",
    "A()\n",
    "A()\n",
    "A()\n",
    "A.count()"
   ]
  },
  {
   "cell_type": "code",
   "execution_count": 34,
   "id": "0dbb421d-a238-4d00-bd38-dcbcf4ea4ed4",
   "metadata": {},
   "outputs": [],
   "source": [
    "# 개인 실습\n",
    "class P:\n",
    "    cnt = 5\n",
    "    def __init__(self, name):\n",
    "        P.cnt -= 1\n",
    "        self.name = name\n",
    "        self.count = P.cnt\n",
    "    \n",
    "    @classmethod\n",
    "    def get_cnt(cls):\n",
    "        return f'남은 객체 수: {cls.cnt}'\n",
    "    \n",
    "    @classmethod\n",
    "    def create(cls, c_name):\n",
    "        return cls(c_name)"
   ]
  },
  {
   "cell_type": "code",
   "execution_count": 35,
   "id": "9bc6257a-97de-429b-86b4-d05fb1853705",
   "metadata": {},
   "outputs": [
    {
     "name": "stdout",
     "output_type": "stream",
     "text": [
      "남은 객체 수: 4\n"
     ]
    },
    {
     "data": {
      "text/plain": [
       "(4, 'p 클래스')"
      ]
     },
     "execution_count": 35,
     "metadata": {},
     "output_type": "execute_result"
    }
   ],
   "source": [
    "name = 'p 클래스'\n",
    "p = P.create(name)\n",
    "print(p.get_cnt())\n",
    "p.count, p.name"
   ]
  },
  {
   "cell_type": "markdown",
   "id": "fe5c6ae3-7a6d-4e53-b9d8-c5b482a375fb",
   "metadata": {},
   "source": [
    "#### **10.6.3. 정적 메서드**"
   ]
  },
  {
   "cell_type": "code",
   "execution_count": 36,
   "id": "c081cf3b-bf03-46fe-8913-4395e270c6c2",
   "metadata": {},
   "outputs": [
    {
     "name": "stdout",
     "output_type": "stream",
     "text": [
      "hi\n"
     ]
    }
   ],
   "source": [
    "class Coyote:\n",
    "    @staticmethod\n",
    "    def says(): #self 없음\n",
    "        print('hi')\n",
    "Coyote.says()"
   ]
  },
  {
   "cell_type": "markdown",
   "id": "ed1d11f9-9075-4154-acc0-5818225e3978",
   "metadata": {},
   "source": [
    "#### **10.6.4. 추상 메서드**"
   ]
  },
  {
   "cell_type": "code",
   "execution_count": 37,
   "id": "fb1386bc-42ef-42eb-a389-aa7198c04207",
   "metadata": {},
   "outputs": [
    {
     "ename": "TypeError",
     "evalue": "Can't instantiate abstract class Car with abstract method go",
     "output_type": "error",
     "traceback": [
      "\u001b[1;31m---------------------------------------------------------------------------\u001b[0m",
      "\u001b[1;31mTypeError\u001b[0m                                 Traceback (most recent call last)",
      "\u001b[1;32mC:\\Temp/ipykernel_7656/712508525.py\u001b[0m in \u001b[0;36m<module>\u001b[1;34m\u001b[0m\n\u001b[0;32m     13\u001b[0m     \u001b[1;32mpass\u001b[0m\u001b[1;33m\u001b[0m\u001b[1;33m\u001b[0m\u001b[0m\n\u001b[0;32m     14\u001b[0m \u001b[1;33m\u001b[0m\u001b[0m\n\u001b[1;32m---> 15\u001b[1;33m \u001b[0mCar\u001b[0m\u001b[1;33m(\u001b[0m\u001b[1;33m)\u001b[0m \u001b[1;31m# 오류 발생\u001b[0m\u001b[1;33m\u001b[0m\u001b[1;33m\u001b[0m\u001b[0m\n\u001b[0m",
      "\u001b[1;31mTypeError\u001b[0m: Can't instantiate abstract class Car with abstract method go"
     ]
    }
   ],
   "source": [
    "# 추상 클래스를 만들려면 import로 abc 모듈을 가져와야 한다.\n",
    "# abc는 abstract base class의 약자\n",
    "from abc import *\n",
    "\n",
    "class Vehicle(metaclass=ABCMeta): # 추상 클래스 설정하는 방법\n",
    "    speed = '속도'\n",
    "    \n",
    "    @abstractmethod #꼭 상속받아야 하는 메서드\n",
    "    def go(self):\n",
    "        print('탈것이 간다.')\n",
    "        \n",
    "class Car(Vehicle): # 필수적으로 go()를 포함해야 한다.\n",
    "    pass\n",
    "\n",
    "Car() # 오류 발생"
   ]
  },
  {
   "cell_type": "code",
   "execution_count": 38,
   "id": "958c6863-650b-455a-b2ac-c0fcdcefb11e",
   "metadata": {},
   "outputs": [
    {
     "name": "stdout",
     "output_type": "stream",
     "text": [
      "Gogogo\n"
     ]
    }
   ],
   "source": [
    "from abc import *\n",
    "\n",
    "class Vehicle(metaclass=ABCMeta): # 추상 클래스 설정하는 방법\n",
    "    speed = '속도'\n",
    "    \n",
    "    @abstractmethod #꼭 상속받아야 하는 메서드\n",
    "    def go(self):\n",
    "        print('탈것이 간다.')\n",
    "        \n",
    "class Car(Vehicle): # 필수적으로 go()를 포함해야 한다.\n",
    "    def go(self):\n",
    "        print('Gogogo')\n",
    "        \n",
    "Car().go()"
   ]
  },
  {
   "cell_type": "markdown",
   "id": "d9930239-8aec-48e0-bb06-5b941dda3f4d",
   "metadata": {},
   "source": [
    "---\n",
    "## **Review**\n",
    "\n",
    "### **새롭게 알게 된 내용**\n",
    "- 상속\n",
    "    - __init__ 상속\n",
    "    - 상속 시 속성(변수)들은 어떻게 되는가\n",
    "- 다중 상속\n",
    "- 다형성\n",
    "- 클래스 메서드\n",
    "- 정적 메서드\n",
    "- 추상 메서드"
   ]
  }
 ],
 "metadata": {
  "kernelspec": {
   "display_name": "Python 3 (ipykernel)",
   "language": "python",
   "name": "python3"
  },
  "language_info": {
   "codemirror_mode": {
    "name": "ipython",
    "version": 3
   },
   "file_extension": ".py",
   "mimetype": "text/x-python",
   "name": "python",
   "nbconvert_exporter": "python",
   "pygments_lexer": "ipython3",
   "version": "3.9.7"
  }
 },
 "nbformat": 4,
 "nbformat_minor": 5
}
