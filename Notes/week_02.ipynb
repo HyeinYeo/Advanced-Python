{
 "cells": [
  {
   "cell_type": "markdown",
   "id": "340b5f05-70b5-4b97-bc52-efb40b4c1c25",
   "metadata": {},
   "source": [
    "# **Week 02 - 2022/03/11**\n",
    "##### 처음 시작하는 파이썬 p. 75~105"
   ]
  },
  {
   "cell_type": "markdown",
   "id": "b78e53c1-d4e4-40d7-9949-1cb85e704382",
   "metadata": {},
   "source": [
    "---"
   ]
  },
  {
   "cell_type": "markdown",
   "id": "20e629ab-4193-4854-86af-ce75725c150d",
   "metadata": {},
   "source": [
    "## **Week 01 Review**\n",
    "- string\n",
    "- float\n",
    "- integer\n",
    "- boolean"
   ]
  },
  {
   "cell_type": "markdown",
   "id": "b84e544b-90c0-45c3-83df-5c7fb72a247c",
   "metadata": {},
   "source": [
    "---"
   ]
  },
  {
   "cell_type": "markdown",
   "id": "39b2aaa3-454d-4062-b47c-f01dd62cff3b",
   "metadata": {},
   "source": [
    "## **Ch02. Variable**"
   ]
  },
  {
   "cell_type": "markdown",
   "id": "9ae5f7e9-569e-4ae2-9647-d78c75c35ac8",
   "metadata": {},
   "source": [
    "### **2.1 할당**"
   ]
  },
  {
   "cell_type": "code",
   "execution_count": 16,
   "id": "7b827ef1-0067-4949-b04a-8c8403d3f8c1",
   "metadata": {
    "tags": []
   },
   "outputs": [
    {
     "data": {
      "text/plain": [
       "2"
      ]
     },
     "execution_count": 16,
     "metadata": {},
     "output_type": "execute_result"
    }
   ],
   "source": [
    "# 여러 이름 동시에 할당\n",
    "two = deux = dos = 2 # dos -> deux -> two 순으로 할당됨.\n",
    "two"
   ]
  },
  {
   "cell_type": "code",
   "execution_count": 17,
   "id": "f83913cd-39f2-4908-aedb-f83cc75ecee1",
   "metadata": {},
   "outputs": [
    {
     "data": {
      "text/plain": [
       "(2742977063248, 2742977063248)"
      ]
     },
     "execution_count": 17,
     "metadata": {},
     "output_type": "execute_result"
    }
   ],
   "source": [
    "id(two), id(deux)"
   ]
  },
  {
   "cell_type": "markdown",
   "id": "9fd69f79-ac9c-4405-b281-41c2574170b4",
   "metadata": {},
   "source": [
    "<br>\n",
    "\n",
    "### **2.2 가변객체, 불변객체** [\\[참고\\]](https://fierycoding.tistory.com/43)"
   ]
  },
  {
   "cell_type": "markdown",
   "id": "e9850fbc-0b5d-4a0b-9d46-f6dc87d9eb75",
   "metadata": {},
   "source": [
    "##### **불변객체 e.g. integer**"
   ]
  },
  {
   "cell_type": "code",
   "execution_count": 18,
   "id": "73befe2a-42ed-44cd-b930-17db760d54ab",
   "metadata": {},
   "outputs": [
    {
     "name": "stdout",
     "output_type": "stream",
     "text": [
      "4 2 2\n"
     ]
    }
   ],
   "source": [
    "# integer 불변객체이므로 변하지 않음\n",
    "two = 4\n",
    "print(two, deux, dos) #deux, dos 변하지 않음."
   ]
  },
  {
   "cell_type": "code",
   "execution_count": 19,
   "id": "12952d28-f702-4842-ab90-01e2e4f35752",
   "metadata": {
    "tags": []
   },
   "outputs": [
    {
     "data": {
      "text/plain": [
       "(2742977063312, 2742977063248)"
      ]
     },
     "execution_count": 19,
     "metadata": {},
     "output_type": "execute_result"
    }
   ],
   "source": [
    "#(메모리)공간에 대한 주소는 변화\n",
    "# id(): 객체의 고유값(레퍼런스-메모리상에 위치한 주솟값)을 반환하는 함수\n",
    "id(two), id(deux)   # two -> 4를 가리킴, deux -> 2를 가리킴"
   ]
  },
  {
   "cell_type": "markdown",
   "id": "c76976d4-f60a-44d3-ad06-1b8e902f29f8",
   "metadata": {},
   "source": [
    "##### **가변객체 e.g. list**"
   ]
  },
  {
   "cell_type": "code",
   "execution_count": 4,
   "id": "0e18b25b-cc70-4ee6-bc3b-78aa05e8d43c",
   "metadata": {},
   "outputs": [
    {
     "data": {
      "text/plain": [
       "([1, 2, 3], [1, 2, 3])"
      ]
     },
     "execution_count": 4,
     "metadata": {},
     "output_type": "execute_result"
    }
   ],
   "source": [
    "#가변객체 e.g. list\n",
    "p = [1, 2, 3]\n",
    "q = p\n",
    "p, q"
   ]
  },
  {
   "cell_type": "code",
   "execution_count": 5,
   "id": "74c2e699-e258-4c48-b038-6a28e442472c",
   "metadata": {},
   "outputs": [
    {
     "data": {
      "text/plain": [
       "(1834939723008, 1834939723008)"
      ]
     },
     "execution_count": 5,
     "metadata": {},
     "output_type": "execute_result"
    }
   ],
   "source": [
    "id(p), id(q)"
   ]
  },
  {
   "cell_type": "code",
   "execution_count": 6,
   "id": "136ceb54-9c0c-48fd-aa68-4d8acd30fe15",
   "metadata": {},
   "outputs": [
    {
     "data": {
      "text/plain": [
       "([9, 2, 3], [9, 2, 3])"
      ]
     },
     "execution_count": 6,
     "metadata": {},
     "output_type": "execute_result"
    }
   ],
   "source": [
    "p[0] = 9\n",
    "p, q  #값이 바뀜"
   ]
  },
  {
   "cell_type": "code",
   "execution_count": 7,
   "id": "a4b47300-3472-4d98-be53-0f769dcdb909",
   "metadata": {},
   "outputs": [
    {
     "data": {
      "text/plain": [
       "(1834939723008, 1834939723008)"
      ]
     },
     "execution_count": 7,
     "metadata": {},
     "output_type": "execute_result"
    }
   ],
   "source": [
    "id(p), id(q)  #주소값은 변하지 않음"
   ]
  },
  {
   "cell_type": "markdown",
   "id": "173d73a6-7812-41d5-bed4-91c683228ef5",
   "metadata": {
    "tags": []
   },
   "source": [
    "<br>\n",
    "\n",
    "### **2.3 좋은 변수명**\n",
    "- 간결하고 명확한 이름\n",
    "- 의미가 담겨야 한다.\n",
    "    - a, b, c. ... (X)\n",
    "- ***코드에는 의미***가 담기고 ***주석에는 의도***가 담긴다.\n",
    "    - 예:  the number of students\n",
    "    n < the_number_of_students < 'num_students'(파이썬)\n",
    "    - 카멜표기법: numStudents(Java 선호)"
   ]
  },
  {
   "cell_type": "markdown",
   "id": "1341e247-c3bd-4ef9-9b46-3b72bf0e1593",
   "metadata": {},
   "source": [
    "<br>\n",
    "\n",
    "### **2.4 자료형 변환, 형 변환**\n",
    "##### `str(<변환할 값>)`, int(), float(), bool()"
   ]
  },
  {
   "cell_type": "code",
   "execution_count": 4,
   "id": "4610730b-945a-4037-80bf-97ea0dacc943",
   "metadata": {},
   "outputs": [
    {
     "data": {
      "text/plain": [
       "True"
      ]
     },
     "execution_count": 4,
     "metadata": {},
     "output_type": "execute_result"
    }
   ],
   "source": [
    "a = 10\n",
    "#str\n",
    "str(a)\n",
    "\n",
    "#float\n",
    "float(a)\n",
    "\n",
    "#bool\n",
    "bool(a)  #어떤 값이 False로 변환이 되는지만 기억"
   ]
  },
  {
   "cell_type": "markdown",
   "id": "17537cec-5ca4-4cde-87a2-c32219b35ac8",
   "metadata": {},
   "source": [
    "##### **주의할 점 1:** `float -> int` (소수점 절삭)"
   ]
  },
  {
   "cell_type": "code",
   "execution_count": 20,
   "id": "805fbffb-4e20-40fb-9e14-97c5bb10b741",
   "metadata": {},
   "outputs": [
    {
     "data": {
      "text/plain": [
       "20"
      ]
     },
     "execution_count": 20,
     "metadata": {},
     "output_type": "execute_result"
    }
   ],
   "source": [
    "x = 20.6  #소수점 절삭됨\n",
    "int(x)"
   ]
  },
  {
   "cell_type": "code",
   "execution_count": 21,
   "id": "8c26ec11-a9c0-4d42-9ada-4de29be35c5a",
   "metadata": {},
   "outputs": [
    {
     "name": "stdout",
     "output_type": "stream",
     "text": [
      "38\n",
      "37\n"
     ]
    }
   ],
   "source": [
    "y = 17.8\n",
    "\n",
    "print(int(x + y)) #더한 후 절삭\n",
    "print(int(x) + int(y)) #절삭 후 더함 (값이 달라짐)"
   ]
  },
  {
   "cell_type": "markdown",
   "id": "9ea0c659-32cb-4ade-948a-56d1dd21dfe2",
   "metadata": {},
   "source": [
    "##### **주의할 점 2:** `str -> int/float` (타입에 맞는 형 변환)"
   ]
  },
  {
   "cell_type": "code",
   "execution_count": 12,
   "id": "704ba292-9b71-4eb7-8bb6-ca271de86528",
   "metadata": {},
   "outputs": [
    {
     "data": {
      "text/plain": [
       "(10, 10.0)"
      ]
     },
     "execution_count": 12,
     "metadata": {},
     "output_type": "execute_result"
    }
   ],
   "source": [
    "i = '10'\n",
    "int(i), float(i)"
   ]
  },
  {
   "cell_type": "code",
   "execution_count": 22,
   "id": "2773a652-9104-4125-b30d-7ac193f2b1db",
   "metadata": {},
   "outputs": [
    {
     "ename": "ValueError",
     "evalue": "invalid literal for int() with base 10: '10.7'",
     "output_type": "error",
     "traceback": [
      "\u001b[1;31m---------------------------------------------------------------------------\u001b[0m",
      "\u001b[1;31mValueError\u001b[0m                                Traceback (most recent call last)",
      "\u001b[1;32mC:\\Temp/ipykernel_5252/550404216.py\u001b[0m in \u001b[0;36m<module>\u001b[1;34m\u001b[0m\n\u001b[0;32m      1\u001b[0m \u001b[1;31m#문제점: int와 맞지 않는 str을 int로 형 변환 시 문제 발생\u001b[0m\u001b[1;33m\u001b[0m\u001b[1;33m\u001b[0m\u001b[0m\n\u001b[0;32m      2\u001b[0m \u001b[0mj\u001b[0m \u001b[1;33m=\u001b[0m \u001b[1;34m'10.7'\u001b[0m  \u001b[1;31m#10.7은 명백히 interger가 아님.(float형으로 형 변환)\u001b[0m\u001b[1;33m\u001b[0m\u001b[1;33m\u001b[0m\u001b[0m\n\u001b[1;32m----> 3\u001b[1;33m \u001b[0mint\u001b[0m\u001b[1;33m(\u001b[0m\u001b[0mj\u001b[0m\u001b[1;33m)\u001b[0m\u001b[1;33m\u001b[0m\u001b[1;33m\u001b[0m\u001b[0m\n\u001b[0m",
      "\u001b[1;31mValueError\u001b[0m: invalid literal for int() with base 10: '10.7'"
     ]
    }
   ],
   "source": [
    "#문제점: int와 맞지 않는 str을 int로 형 변환 시 문제 발생\n",
    "j = '10.7'  #10.7은 명백히 interger가 아님.(float형으로 형 변환)\n",
    "int(j)"
   ]
  },
  {
   "cell_type": "markdown",
   "id": "78bd005e-26ea-4088-9829-d4e8271b3448",
   "metadata": {},
   "source": [
    "<br>\n",
    "\n",
    "### **2.4 `print()` 꿀팁**"
   ]
  },
  {
   "cell_type": "markdown",
   "id": "e0a42518-f8cf-470b-aa5d-701d2f7a441d",
   "metadata": {},
   "source": [
    "##### **병렬 출력**"
   ]
  },
  {
   "cell_type": "code",
   "execution_count": 23,
   "id": "ed423903-ce7a-443a-b9ca-1ee0b2bcb61f",
   "metadata": {},
   "outputs": [
    {
     "name": "stdout",
     "output_type": "stream",
     "text": [
      "hyraxarmadillopika\n",
      "hyrax armadillo pika\n"
     ]
    }
   ],
   "source": [
    "hyrax  = 'hyrax'\n",
    "armadillo = 'armadillo'\n",
    "pika = 'pika'\n",
    "\n",
    "print(hyrax + armadillo + pika)  #space X, \\n\n",
    "print(hyrax, armadillo, pika)   #space O, \\n"
   ]
  },
  {
   "cell_type": "markdown",
   "id": "d354d1a4-7e0d-4ad0-8a22-b53034744d1c",
   "metadata": {},
   "source": [
    "##### **키워드 인수(sep, end)**"
   ]
  },
  {
   "cell_type": "code",
   "execution_count": 24,
   "id": "ff65033b-131e-4167-9c73-ba153c971a9e",
   "metadata": {},
   "outputs": [
    {
     "name": "stdout",
     "output_type": "stream",
     "text": [
      "hyrax armadillo pika\n",
      "hyrax/armadillo/pika\n",
      "\n",
      "EOL\n"
     ]
    }
   ],
   "source": [
    "print(hyrax, armadillo, pika, sep=' ', end='\\n') #default(argument 내에선 붙여쓰기하기도 함)\n",
    "print(hyrax, armadillo, pika, sep='/', end='\\n\\n')\n",
    "print('EOL')"
   ]
  },
  {
   "cell_type": "code",
   "execution_count": 25,
   "id": "158ec4d5-a7d5-4e92-a344-d6020b1ba012",
   "metadata": {},
   "outputs": [
    {
     "name": "stdout",
     "output_type": "stream",
     "text": [
      "My favourite animal is  hyrax\n",
      "My favourite animal is hyrax.\n"
     ]
    }
   ],
   "source": [
    "#1.\n",
    "print(\"My favourite animal is \", hyrax)\n",
    "\n",
    "#2.\n",
    "print(f\"My favourite animal is {hyrax}.\")"
   ]
  },
  {
   "cell_type": "markdown",
   "id": "c90d1d8e-1b64-4a28-a574-a7a9527d6ff7",
   "metadata": {},
   "source": [
    "##### **코드 줄이 짧을 때 ;(세미콜론)을 이용해 한 줄로 쓸 수 있다.**"
   ]
  },
  {
   "cell_type": "code",
   "execution_count": 26,
   "id": "56a9da0f-197a-495e-993c-e25d0f939f89",
   "metadata": {},
   "outputs": [
    {
     "name": "stdout",
     "output_type": "stream",
     "text": [
      "pika\n"
     ]
    }
   ],
   "source": [
    "hyrax  = 'hyrax'; armadillo = 'armadillo'; pika = 'pika'\n",
    "print(pika)"
   ]
  },
  {
   "cell_type": "markdown",
   "id": "abcb1684-d60e-4fe9-8705-a17b40377bb5",
   "metadata": {},
   "source": [
    "<br>\n",
    "\n",
    "### **2.5 `input()` 함수**\n",
    "- console에서 사용자가 입력하는 값을 받을 수 있는 함수\n",
    "- 입력 받는 값은 **문자열**로 인식이 된다.\n",
    "- 입력 받을 값을 **변수에 담아서 사용**한다.\n",
    "- 변수에 저장하지 않을 경우 사라진다.\n",
    "- 숫자일 경우 형 변환한다. => int(input()), float(input()) ..."
   ]
  },
  {
   "cell_type": "code",
   "execution_count": 19,
   "id": "02b121a4-9443-49aa-a3c8-950d93a91936",
   "metadata": {},
   "outputs": [
    {
     "name": "stdin",
     "output_type": "stream",
     "text": [
      "Hello? Hi\n"
     ]
    },
    {
     "data": {
      "text/plain": [
       "'Hi'"
      ]
     },
     "execution_count": 19,
     "metadata": {},
     "output_type": "execute_result"
    }
   ],
   "source": [
    "input(\"Hello?\")"
   ]
  },
  {
   "cell_type": "markdown",
   "id": "19146257-fb4e-4267-b106-4fa0154302df",
   "metadata": {},
   "source": [
    "##### **숫자일 경우 형 변환**"
   ]
  },
  {
   "cell_type": "code",
   "execution_count": 20,
   "id": "d7d37148-792f-4aee-bf26-7df09d656f89",
   "metadata": {},
   "outputs": [
    {
     "name": "stdin",
     "output_type": "stream",
     "text": [
      "나이가 어떻게 되나요? 21\n"
     ]
    },
    {
     "data": {
      "text/plain": [
       "21"
      ]
     },
     "execution_count": 20,
     "metadata": {},
     "output_type": "execute_result"
    }
   ],
   "source": [
    "int(input('나이가 어떻게 되나요?'))"
   ]
  },
  {
   "cell_type": "markdown",
   "id": "12b78e23-8a1e-4dea-aacc-c86626578e0a",
   "metadata": {},
   "source": [
    "##### **변수에 할당하는 방법**"
   ]
  },
  {
   "cell_type": "code",
   "execution_count": 21,
   "id": "10dd21dc-3572-41ac-90f5-50d262f6d273",
   "metadata": {},
   "outputs": [
    {
     "name": "stdin",
     "output_type": "stream",
     "text": [
      "나이가 어떻게 되나요? 21\n"
     ]
    }
   ],
   "source": [
    "#1.\n",
    "age = int(input('나이가 어떻게 되나요?'))"
   ]
  },
  {
   "cell_type": "code",
   "execution_count": 22,
   "id": "b4ea248e-66bd-4dc4-b684-29622761a85b",
   "metadata": {},
   "outputs": [
    {
     "data": {
      "text/plain": [
       "21"
      ]
     },
     "execution_count": 22,
     "metadata": {},
     "output_type": "execute_result"
    }
   ],
   "source": [
    "age"
   ]
  },
  {
   "cell_type": "code",
   "execution_count": 23,
   "id": "f344edb2-4aaf-4188-9f73-5a39f6fb9ee0",
   "metadata": {},
   "outputs": [
    {
     "name": "stdout",
     "output_type": "stream",
     "text": [
      "나이가?\n"
     ]
    },
    {
     "name": "stdin",
     "output_type": "stream",
     "text": [
      " 21\n"
     ]
    }
   ],
   "source": [
    "#2.\n",
    "print('나이가?')\n",
    "age = input()"
   ]
  },
  {
   "cell_type": "code",
   "execution_count": 24,
   "id": "064e8668-1a7b-4391-a4a3-caa3c1a02cd1",
   "metadata": {},
   "outputs": [
    {
     "data": {
      "text/plain": [
       "'21'"
      ]
     },
     "execution_count": 24,
     "metadata": {},
     "output_type": "execute_result"
    }
   ],
   "source": [
    "age"
   ]
  },
  {
   "cell_type": "markdown",
   "id": "ce51fac7-4457-4b98-8ded-8d591d02e67b",
   "metadata": {},
   "source": [
    "\n",
    "### **`Quiz 1`**\n",
    "- 섭씨를 입력받아서 화씨로 변환하기\n",
    "- \"섭씨 * 1.8 + 32 = 화씨\""
   ]
  },
  {
   "cell_type": "code",
   "execution_count": 26,
   "id": "6c6bc7b3-38f3-4b56-8318-33e4bececabc",
   "metadata": {},
   "outputs": [
    {
     "name": "stdin",
     "output_type": "stream",
     "text": [
      "섭씨:  37.78\n"
     ]
    },
    {
     "name": "stdout",
     "output_type": "stream",
     "text": [
      "변환된 화씨: 100.004\n"
     ]
    }
   ],
   "source": [
    "celcius = float(input('섭씨: '))\n",
    "fahrenheit = (celcius * 1.8) + 32\n",
    "print(f\"변환된 화씨: {fahrenheit}\")"
   ]
  },
  {
   "cell_type": "markdown",
   "id": "dbfd7d9e-3674-4f33-892a-bdbf4c5ccb85",
   "metadata": {},
   "source": [
    "### **`Quiz 2`** \n",
    "- 택배 정보 입력 받고, 총 합계 계산하기\n",
    "- 출력값: \n",
    "    -\"==택배 정보==\"\n",
    "    - 수취인 성명: <이름>\n",
    "    - 수취인 주소: <주소>\n",
    "    - 배송비: 3000원\n",
    "    - 물건 비용: <가격>원\n",
    "    - 총 합계: <가격>원\n",
    "- 물건 비용: 무게(g) * 5\n",
    "- 합계 = 배송비 + 물건 비용"
   ]
  },
  {
   "cell_type": "code",
   "execution_count": 34,
   "id": "e5cb17c7-e921-4024-8928-996df5b3d3eb",
   "metadata": {},
   "outputs": [
    {
     "name": "stdin",
     "output_type": "stream",
     "text": [
      "수취인 성명:  여혜인\n",
      "수취인 주소:  세종특별자치시\n",
      "무게(g):  500\n"
     ]
    },
    {
     "name": "stdout",
     "output_type": "stream",
     "text": [
      "\n",
      "==택배 정보==\n",
      "수취인 성명: 여혜인\n",
      "수취인 주소: 세종특별자치시\n",
      "배송비: 3000원\n",
      "물건 비용: 2500.0원\n",
      "총 합계: 5500.0원\n"
     ]
    }
   ],
   "source": [
    "name = input('수취인 성명: ')\n",
    "address = input('수취인 주소: ')\n",
    "weight = float(input('무게(g): '))\n",
    "shipping_fee = 3000\n",
    "price = weight * 5\n",
    "total = shipping_fee + price\n",
    "\n",
    "print()\n",
    "print(\"==택배 정보==\")\n",
    "print(f\"\"\"수취인 성명: {name}\n",
    "수취인 주소: {address}\n",
    "배송비: {shipping_fee}원\n",
    "물건 비용: {price}원\n",
    "총 합계: {total}원\"\"\")"
   ]
  },
  {
   "cell_type": "markdown",
   "id": "9e25f471-6703-4890-95fc-2fee3f3e2101",
   "metadata": {},
   "source": [
    "---"
   ]
  },
  {
   "cell_type": "markdown",
   "id": "97802aa7-be08-4580-932a-1ff60004cb8c",
   "metadata": {
    "tags": []
   },
   "source": [
    "\n",
    "## **Ch03: Numbers**"
   ]
  },
  {
   "cell_type": "markdown",
   "id": "8cd21d52-ac35-4e4b-b224-f06ffc1f3af4",
   "metadata": {},
   "source": [
    "### **3.1 boolean**\n",
    "- T/F 진위값\n",
    "- 형 변환 시 True, False인지 기억\n",
    "    - **False: ''(빈 값), None, 0, ...**\n",
    "    - True: 이외\n",
    "- 조건식에서 많이 쓴다. e.g. 만약 이 조건이 True라면, ..."
   ]
  },
  {
   "cell_type": "code",
   "execution_count": 35,
   "id": "7c0d85f8-b1c2-4501-abb6-909592dea659",
   "metadata": {},
   "outputs": [
    {
     "data": {
      "text/plain": [
       "True"
      ]
     },
     "execution_count": 35,
     "metadata": {},
     "output_type": "execute_result"
    }
   ],
   "source": [
    "bool(1)"
   ]
  },
  {
   "cell_type": "code",
   "execution_count": 36,
   "id": "3da470bc-f06c-4198-b8af-38e9b785b1f3",
   "metadata": {},
   "outputs": [
    {
     "data": {
      "text/plain": [
       "False"
      ]
     },
     "execution_count": 36,
     "metadata": {},
     "output_type": "execute_result"
    }
   ],
   "source": [
    "bool('') #빈 string"
   ]
  },
  {
   "cell_type": "markdown",
   "id": "abd1afd8-5baf-4a2f-9a62-79abce6f864f",
   "metadata": {},
   "source": [
    "### **3.2 integer**\n",
    "- 소수점 없음.\n",
    "- default 양수, 음수는 앞에 -를 붙인다.\n",
    "- 숫자 앞에는 0을 붙일 수 없다. e.g. 05(X)\n",
    "    - 예외적으로 e.g. 0bxxx => 다른 진수 표현법\n",
    "- 리터럴: 4\n",
    "- 숫자는 공백이 많아도 무시된다.\n",
    "- 10,000원 -> 10, 000원 두 개로 인식 => _(언더바) 사용\n",
    "    - _(언더바)는 숫자 사이에 있을 때 무시됨.\n",
    "    - e.g. 10_000"
   ]
  },
  {
   "cell_type": "markdown",
   "id": "76abf324-a5f9-49d0-8bf7-b181d627033d",
   "metadata": {},
   "source": [
    "##### **음의 정수**"
   ]
  },
  {
   "cell_type": "code",
   "execution_count": 27,
   "id": "e46df2cf-552e-4042-9af5-e345e1fb3e32",
   "metadata": {
    "tags": []
   },
   "outputs": [
    {
     "data": {
      "text/plain": [
       "-548"
      ]
     },
     "execution_count": 27,
     "metadata": {},
     "output_type": "execute_result"
    }
   ],
   "source": [
    "a = -574 #음의 정수 표현\n",
    "26 + a"
   ]
  },
  {
   "cell_type": "markdown",
   "id": "54d479fe-22ef-4ad1-937d-c775cf66a07e",
   "metadata": {},
   "source": [
    "##### **정수 앞 0 불가능**"
   ]
  },
  {
   "cell_type": "code",
   "execution_count": 28,
   "id": "c492defb-ac7e-49c9-8acf-66edb941cd6c",
   "metadata": {
    "tags": []
   },
   "outputs": [
    {
     "ename": "SyntaxError",
     "evalue": "leading zeros in decimal integer literals are not permitted; use an 0o prefix for octal integers (Temp/ipykernel_5252/349262782.py, line 1)",
     "output_type": "error",
     "traceback": [
      "\u001b[1;36m  File \u001b[1;32m\"C:\\Temp/ipykernel_5252/349262782.py\"\u001b[1;36m, line \u001b[1;32m1\u001b[0m\n\u001b[1;33m    a = 003 #오류 발생(불가능)\u001b[0m\n\u001b[1;37m          ^\u001b[0m\n\u001b[1;31mSyntaxError\u001b[0m\u001b[1;31m:\u001b[0m leading zeros in decimal integer literals are not permitted; use an 0o prefix for octal integers\n"
     ]
    }
   ],
   "source": [
    "a = 003 #앞에 0 붙일 수 없음. 오류 발생(불가능)"
   ]
  },
  {
   "cell_type": "markdown",
   "id": "a0513cd0-21db-4ee8-9c40-c04c62178f8d",
   "metadata": {},
   "source": [
    "##### **공백 무시**"
   ]
  },
  {
   "cell_type": "code",
   "execution_count": 29,
   "id": "f4eb3be6-992a-40a4-9103-0392495a7161",
   "metadata": {
    "collapsed": true,
    "jupyter": {
     "outputs_hidden": true
    },
    "tags": []
   },
   "outputs": [
    {
     "data": {
      "text/plain": [
       "-5"
      ]
     },
     "execution_count": 29,
     "metadata": {},
     "output_type": "execute_result"
    }
   ],
   "source": [
    "-9 + 5             -1 #공백 무시"
   ]
  },
  {
   "cell_type": "markdown",
   "id": "7d8703df-dcc3-4f52-a79a-55047cdf4d2d",
   "metadata": {},
   "source": [
    "##### **언더바 무시**"
   ]
  },
  {
   "cell_type": "code",
   "execution_count": 30,
   "id": "72086668-92c8-4cdb-869c-bef9482a20b4",
   "metadata": {},
   "outputs": [
    {
     "name": "stdout",
     "output_type": "stream",
     "text": [
      "342500\n"
     ]
    }
   ],
   "source": [
    "a = 342_500 #_(언더바)는 숫자 사이에 있을 때 무시됨.\n",
    "print(a)"
   ]
  },
  {
   "cell_type": "markdown",
   "id": "2fc404de-fa0f-4daf-b609-1d691573685d",
   "metadata": {},
   "source": [
    "<br>\n",
    "\n",
    "### **3.3 연산**\n",
    "- 연산자|operator: +, -, ...\n",
    "- 피연산자|operand: 연산이 되는 값들. e.g. 4, 5, ...\n",
    "- 수식|expression: 연산, 피연산자로 이루어진 것"
   ]
  },
  {
   "cell_type": "markdown",
   "id": "12d7e12a-6d58-4583-bac4-cdd9c85821b3",
   "metadata": {},
   "source": [
    "##### **연산자**"
   ]
  },
  {
   "cell_type": "markdown",
   "id": "f5e8bd13-d5b0-44d4-ab65-14b48a6d8361",
   "metadata": {},
   "source": [
    "- 할당연산자"
   ]
  },
  {
   "cell_type": "code",
   "execution_count": 49,
   "id": "38656ba6-ee54-440c-8d49-d4362d79bae3",
   "metadata": {},
   "outputs": [],
   "source": [
    "x = 2\n",
    "y = 7\n",
    "\n",
    "#plus(3.4 복합대입연산자)"
   ]
  },
  {
   "cell_type": "markdown",
   "id": "a117f584-e742-4b30-a5bc-33a47dc06ade",
   "metadata": {},
   "source": [
    "- 산술연산자"
   ]
  },
  {
   "cell_type": "code",
   "execution_count": 50,
   "id": "0a5615a8-b9da-4c33-96ec-ab207b4a3275",
   "metadata": {},
   "outputs": [
    {
     "data": {
      "text/plain": [
       "2"
      ]
     },
     "execution_count": 50,
     "metadata": {},
     "output_type": "execute_result"
    }
   ],
   "source": [
    "#산술연산자\n",
    "x + y\n",
    "x - y\n",
    "x * y\n",
    "x / y\n",
    "\n",
    "#거듭제곱|exponential\n",
    "x ** y\n",
    "\n",
    "#몫, 나머지\n",
    "x // y\n",
    "x % y"
   ]
  },
  {
   "cell_type": "markdown",
   "id": "6641d59a-2dcf-4bf3-95bd-df18bf5654d8",
   "metadata": {},
   "source": [
    "###### **나눗셈에서 주의할 사항**"
   ]
  },
  {
   "cell_type": "code",
   "execution_count": 39,
   "id": "b5676f76-7bd0-4259-af7b-aac8e2f8b92a",
   "metadata": {},
   "outputs": [
    {
     "data": {
      "text/plain": [
       "(0, 2, 0.2857142857142857)"
      ]
     },
     "execution_count": 39,
     "metadata": {},
     "output_type": "execute_result"
    }
   ],
   "source": [
    "#1. division by zero => 주의! (y!=0): 0으로 나눌 수 없음\n",
    "#2. 몫, 나머지\n",
    "x // y #몫(정수)\n",
    "x % y  #나머지\n",
    "x / y  #단순 나눗셈(부동소수점)\n",
    "\n",
    "x // y, x % y,  x / y"
   ]
  },
  {
   "cell_type": "code",
   "execution_count": 40,
   "id": "1cc7aa20-6645-4f2d-98cd-d8450f12354b",
   "metadata": {},
   "outputs": [
    {
     "data": {
      "text/plain": [
       "(0, 2)"
      ]
     },
     "execution_count": 40,
     "metadata": {},
     "output_type": "execute_result"
    }
   ],
   "source": [
    "divmod(x, y) # 몫, 나머지만 출력하고 싶을 때"
   ]
  },
  {
   "cell_type": "markdown",
   "id": "0a206179-cfef-40b8-9d12-06e40a7b3067",
   "metadata": {},
   "source": [
    "##### 이외에도...\n",
    "- 비교연산자(4.3)\n",
    "- 논리연산자(4.4)\n",
    "- 항등연산자: is, is not\n",
    "- 멤버연산자: in\n",
    "- 비트연산자: &, | ^, ~, <<, >>\n",
    "- [바다코끼리 연산자](https://nanarin.tistory.com/287)(Python 3.8):   :="
   ]
  },
  {
   "cell_type": "markdown",
   "id": "6d953fe8-3c0c-4cfa-a7b4-a58be56f2466",
   "metadata": {
    "tags": []
   },
   "source": [
    "<br>\n",
    "\n",
    "### **3.4 복합 대입연산자**"
   ]
  },
  {
   "cell_type": "code",
   "execution_count": 94,
   "id": "eccffd0c-e0a6-43c6-b3fc-a67f30f95215",
   "metadata": {},
   "outputs": [
    {
     "name": "stdout",
     "output_type": "stream",
     "text": [
      "5\n"
     ]
    }
   ],
   "source": [
    "a = 5\n",
    "a - 3\n",
    "print(a) # a - 3만 하면 a값은 변하지 않음."
   ]
  },
  {
   "cell_type": "code",
   "execution_count": 46,
   "id": "f194658d-a079-4219-855b-15b1fc72ccc4",
   "metadata": {
    "tags": []
   },
   "outputs": [],
   "source": [
    "a = a - 3\n",
    "#1. a-3 계산\n",
    "#2. 임시변수 temp = a - 3\n",
    "#3. a = a - 3  \n",
    "\n",
    "a -= 3 #복합대입연산자"
   ]
  },
  {
   "cell_type": "markdown",
   "id": "05f21a93-2fb7-447a-abfe-ccaf8db37d64",
   "metadata": {},
   "source": [
    "##### **복합대입연산자 종류**"
   ]
  },
  {
   "cell_type": "code",
   "execution_count": 98,
   "id": "95e91b41-acd0-49ee-baba-d74e2d844c04",
   "metadata": {},
   "outputs": [
    {
     "data": {
      "text/plain": [
       "8"
      ]
     },
     "execution_count": 98,
     "metadata": {},
     "output_type": "execute_result"
    }
   ],
   "source": [
    "a += 3\n",
    "a -= 3\n",
    "a *= 3\n",
    "a /= 3\n",
    "a **= 3"
   ]
  },
  {
   "cell_type": "markdown",
   "id": "3bf278e2-c945-415c-9401-90044664b6df",
   "metadata": {},
   "source": [
    "##### **사용 시 주의할 점(초기화 필수)**"
   ]
  },
  {
   "cell_type": "code",
   "execution_count": 48,
   "id": "bf4a3c9b-5364-4237-ac80-061471b0e137",
   "metadata": {
    "tags": []
   },
   "outputs": [
    {
     "ename": "SyntaxError",
     "evalue": "invalid syntax (Temp/ipykernel_18036/2498341549.py, line 1)",
     "output_type": "error",
     "traceback": [
      "\u001b[1;36m  File \u001b[1;32m\"C:\\Temp/ipykernel_18036/2498341549.py\"\u001b[1;36m, line \u001b[1;32m1\u001b[0m\n\u001b[1;33m    u = ? #값 초기화할 것\u001b[0m\n\u001b[1;37m        ^\u001b[0m\n\u001b[1;31mSyntaxError\u001b[0m\u001b[1;31m:\u001b[0m invalid syntax\n"
     ]
    }
   ],
   "source": [
    "u = ? #값 초기화할 것. 초기화 이후 복합대입연산자 사용 가능\n",
    "u = u + 1 #초기화하지 않았으므로 오류 발생"
   ]
  },
  {
   "cell_type": "markdown",
   "id": "6d1cf093-5cd1-458a-8289-4c551b107924",
   "metadata": {},
   "source": [
    "\n",
    "### **`Quiz 1.`**\n",
    "- 1\\) 정수를 입력 받고 3의 배수인지 확인하세요.\n",
    "- 2\\) 정수를 입력 받고 홀수인지 확인하세요.\n",
    "- key point: **mod 연산** 활용"
   ]
  },
  {
   "cell_type": "code",
   "execution_count": 61,
   "id": "51c9f995-3a71-4702-baed-5030bec0043a",
   "metadata": {},
   "outputs": [
    {
     "name": "stdin",
     "output_type": "stream",
     "text": [
      "정수 입력:  6\n"
     ]
    },
    {
     "data": {
      "text/plain": [
       "True"
      ]
     },
     "execution_count": 61,
     "metadata": {},
     "output_type": "execute_result"
    }
   ],
   "source": [
    "#1)\n",
    "num = int(input('정수 입력: '))\n",
    "num % 3 == 0"
   ]
  },
  {
   "cell_type": "code",
   "execution_count": 62,
   "id": "4f77cad1-090e-4c10-8146-542954941a6f",
   "metadata": {},
   "outputs": [
    {
     "name": "stdin",
     "output_type": "stream",
     "text": [
      "정수 입력:  4\n"
     ]
    },
    {
     "data": {
      "text/plain": [
       "False"
      ]
     },
     "execution_count": 62,
     "metadata": {},
     "output_type": "execute_result"
    }
   ],
   "source": [
    "#2)\n",
    "num = int(input('정수 입력: '))\n",
    "num % 2 == 1"
   ]
  },
  {
   "cell_type": "markdown",
   "id": "ff7efa3b-93a4-4831-a572-90cfa6cb8227",
   "metadata": {},
   "source": [
    "<br>\n",
    "\n",
    "### **3.5 지수 표현**\n",
    "- e, E 둘 다 가능\n",
    "- 앞부분은 float, int\n",
    "- 뒷부분은 int만 온다.\n",
    "    - 양수면 0 앞으로 e.g. <숫자>e<소숫점 앞으로 붙일 0 개수>\n",
    "    - 음수면 0 뒤로(소수점) e.g. <숫자>e<-소숫점 아래 자릿수>"
   ]
  },
  {
   "cell_type": "code",
   "execution_count": 63,
   "id": "b45114f6-1e89-4ee1-af1f-8b15a227b0b7",
   "metadata": {},
   "outputs": [
    {
     "data": {
      "text/plain": [
       "1000000.0"
      ]
     },
     "execution_count": 63,
     "metadata": {},
     "output_type": "execute_result"
    }
   ],
   "source": [
    "1.0e6 #float"
   ]
  },
  {
   "cell_type": "code",
   "execution_count": 35,
   "id": "aaf93396-3b06-426e-9775-dd1927068e3e",
   "metadata": {
    "tags": []
   },
   "outputs": [
    {
     "data": {
      "text/plain": [
       "0.000789"
      ]
     },
     "execution_count": 35,
     "metadata": {},
     "output_type": "execute_result"
    }
   ],
   "source": [
    "# 0.000789 => 지수 표현?\n",
    "7.89e-5\n",
    "789e-6\n",
    "# 0.0789"
   ]
  },
  {
   "cell_type": "markdown",
   "id": "cd64d8c9-33ac-439d-a6af-b7dc83f20bd4",
   "metadata": {},
   "source": [
    "---"
   ]
  },
  {
   "cell_type": "markdown",
   "id": "d8989aa4-1722-4daf-98f7-0f4da2567fa3",
   "metadata": {},
   "source": [
    "## **Ch04. 조건문, If**"
   ]
  },
  {
   "cell_type": "markdown",
   "id": "6a651bf7-d3d8-4daf-9a21-ae0a76da5efc",
   "metadata": {
    "tags": []
   },
   "source": [
    "### **4.1 코드 짜는 룰**\n",
    "##### **주석 다는 법**\n",
    "- 주석: 설명하는 부분\n",
    "- 목적: 의도 표현, 의사소통\n",
    "- 방법: '#' hash, sharp, ...\n",
    "- 시작된 부분부터 그 라인 끝까지 주석\n",
    "- 문자열 안에 들어있는 해시는 문자열로 인식\n",
    "- \"\"\"<주석>\"\"\" : 여러 줄 주석을 달 때 사용"
   ]
  },
  {
   "cell_type": "markdown",
   "id": "7a07f222-582c-4e33-8856-b7d7311bea00",
   "metadata": {},
   "source": [
    "- 기본 주석(#)"
   ]
  },
  {
   "cell_type": "code",
   "execution_count": 69,
   "id": "4cf520f2-750f-4690-bd83-87edc7a15622",
   "metadata": {},
   "outputs": [],
   "source": [
    "a = 3 #여기부터 라인 끝\n",
    "b = 2"
   ]
  },
  {
   "cell_type": "markdown",
   "id": "be6be54a-4375-4a6b-8c83-896e3fb7ebc6",
   "metadata": {
    "tags": []
   },
   "source": [
    "- 문자열 내의 해시(#): 문자열"
   ]
  },
  {
   "cell_type": "code",
   "execution_count": 47,
   "id": "d3887cb3-616b-451b-8a9b-9832932336fa",
   "metadata": {},
   "outputs": [
    {
     "name": "stdout",
     "output_type": "stream",
     "text": [
      "hey ###\n"
     ]
    }
   ],
   "source": [
    "example = 'hey ###'\n",
    "print(example)"
   ]
  },
  {
   "cell_type": "markdown",
   "id": "55a5f61e-17d8-4a33-b285-f03c5b80fc5d",
   "metadata": {},
   "source": [
    "- 여러 줄 주석"
   ]
  },
  {
   "cell_type": "code",
   "execution_count": 46,
   "id": "0fa4d129-eab2-42d7-986c-0342b3638b4f",
   "metadata": {},
   "outputs": [
    {
     "data": {
      "text/plain": [
       "'\\n주석1\\n주석2\\n주석3\\n'"
      ]
     },
     "execution_count": 46,
     "metadata": {},
     "output_type": "execute_result"
    }
   ],
   "source": [
    "\"\"\"\n",
    "주석1\n",
    "주석2\n",
    "주석3\n",
    "\"\"\""
   ]
  },
  {
   "cell_type": "markdown",
   "id": "b5b0e2bf-e7cc-4f0c-8a63-ea2f4136a540",
   "metadata": {},
   "source": [
    "##### **라인 유지하기**\n",
    "- 들여쓰기, 공백 4개, 탭 1개(탭 사용)\n",
    "- 한 줄에 최대 80자 넘지 않게\n",
    "- 넘을 경우 백슬래시로 끊어준다.(\\\\)"
   ]
  },
  {
   "cell_type": "code",
   "execution_count": 45,
   "id": "3fa53358-a936-435e-a46d-553317fc1156",
   "metadata": {},
   "outputs": [
    {
     "data": {
      "text/plain": [
       "10"
      ]
     },
     "execution_count": 45,
     "metadata": {},
     "output_type": "execute_result"
    }
   ],
   "source": [
    "sum = 1 + \\\n",
    "2 + \\\n",
    "3 + \\\n",
    "4 \n",
    "\n",
    "sum"
   ]
  },
  {
   "cell_type": "markdown",
   "id": "7b7dcdfe-8705-414d-8dde-83c02274317f",
   "metadata": {},
   "source": [
    "<br>\n",
    "\n",
    "### **4.2 조건문, if**\n",
    "##### **code structure**(들여쓰기 블럭 표현)"
   ]
  },
  {
   "cell_type": "code",
   "execution_count": null,
   "id": "3528f986-a028-43a1-a0dd-50bbcb9eed17",
   "metadata": {},
   "outputs": [],
   "source": [
    "if ...:\n",
    "    ###"
   ]
  },
  {
   "cell_type": "markdown",
   "id": "7dfdfe1f-53cc-4c20-8995-7c00e06e2dbc",
   "metadata": {},
   "source": [
    "##### **`조건 1개`**\n",
    "if <조건식>:<br>\n",
    "　　 <실행할 코드>"
   ]
  },
  {
   "cell_type": "code",
   "execution_count": 48,
   "id": "051d9200-1768-40ef-913a-3f365fc68778",
   "metadata": {},
   "outputs": [
    {
     "name": "stdout",
     "output_type": "stream",
     "text": [
      "Yaaay!\n"
     ]
    }
   ],
   "source": [
    "if 4 == 9:\n",
    "    print('hey~')\n",
    "if 4 != 9:\n",
    "    print('Yaaay!')    "
   ]
  },
  {
   "cell_type": "markdown",
   "id": "27341be8-44e0-4d0d-ab55-3210c43a7518",
   "metadata": {},
   "source": [
    "##### **`조건 2개`**\n",
    "if <조건식>:<br>\n",
    "　　<실행할 코드 1><br>\n",
    "else:<br>\n",
    "　　<실행할 코드 2>"
   ]
  },
  {
   "cell_type": "code",
   "execution_count": 72,
   "id": "2370e61b-0392-4bbc-aa2d-846eed6f3251",
   "metadata": {},
   "outputs": [
    {
     "name": "stdout",
     "output_type": "stream",
     "text": [
      "hey\n"
     ]
    }
   ],
   "source": [
    "if 4 == 9:\n",
    "    print('Yaay!')\n",
    "else: \n",
    "    print('hey')"
   ]
  },
  {
   "cell_type": "markdown",
   "id": "25b194fe-ed0a-44ea-9694-ff92f1a9af42",
   "metadata": {},
   "source": [
    "##### **`조건 3개 이상`**\n",
    "if <조건식 1>:<br>\n",
    "　　　<실행할 코드 1><br>\n",
    "elif <조건식 2>:<br>\n",
    "　　　<실행할 코드 2><br>\n",
    "    <br>\n",
    "    ...<br>\n",
    "else:<br>\n",
    "　　　<실행할 코드 3>"
   ]
  },
  {
   "cell_type": "markdown",
   "id": "40c0d6f3-1079-4505-b3a1-0a00e91c4a25",
   "metadata": {},
   "source": [
    "<br>\n",
    "\n",
    "### **4.3 비교연산자**\n",
    "- x < y, x <= y\n",
    "- x > y, x >= y\n",
    "- x == y(값)\n",
    "- x != y(값)\n",
    "- x is y(값, 메모리 주소)\n",
    "- x is not y"
   ]
  },
  {
   "cell_type": "markdown",
   "id": "b0fc4a04-4126-4269-970b-4ae334af0315",
   "metadata": {},
   "source": [
    "### **`Quiz 1.`**\n",
    "- 학점 부여하기\n",
    "- 학점을 입력 받아서\n",
    "    - 90점 이상이면 A\n",
    "    - 80, B\n",
    "    - 70, C\n",
    "    - 그 외, D\n",
    "- 변수 설정 유의"
   ]
  },
  {
   "cell_type": "code",
   "execution_count": 81,
   "id": "350cc5c5-fa29-47cd-b697-8940c2eb5086",
   "metadata": {},
   "outputs": [
    {
     "name": "stdin",
     "output_type": "stream",
     "text": [
      "학점 입력:  76\n"
     ]
    },
    {
     "name": "stdout",
     "output_type": "stream",
     "text": [
      "당신의 학점은 76, C입니다.\n"
     ]
    }
   ],
   "source": [
    "score = int(input('학점 입력: '))\n",
    "grade = ''\n",
    "if score >= 90:\n",
    "    grade = 'A'\n",
    "elif score >= 80:\n",
    "    grade = 'B'\n",
    "elif score >= 70:\n",
    "    grade = 'C'\n",
    "else: grade = 'D'\n",
    "\n",
    "print(f'당신의 학점은 {score}, {grade}입니다.')"
   ]
  },
  {
   "cell_type": "markdown",
   "id": "7df11510-78c9-4843-b736-7aae481b0911",
   "metadata": {},
   "source": [
    "### **`Quiz 2.`**\n",
    "- 아이디와 비번 입력 받아서 둘 다 일치하면 로그인하기\n",
    "- 아이디, 비번 각자 정해놓기\n",
    "- 일치하지 않을 때에는 창의적으로 어떤 걸로 반환하기"
   ]
  },
  {
   "cell_type": "code",
   "execution_count": 4,
   "id": "494b2e13-6c38-4929-b9cb-c85c62370c87",
   "metadata": {},
   "outputs": [
    {
     "name": "stdin",
     "output_type": "stream",
     "text": [
      "아이디 입력:  gamza5\n",
      "비밀번호 입력:  315876\n"
     ]
    },
    {
     "name": "stdout",
     "output_type": "stream",
     "text": [
      "아이디가 일치하지 않습니다!\n"
     ]
    }
   ],
   "source": [
    "user_id = 'gamza'; user_password = '315876'\n",
    "\n",
    "input_id = input('아이디 입력: ')\n",
    "input_password = input('비밀번호 입력: ')\n",
    "\n",
    "if (input_id == user_id):\n",
    "    if (input_password == user_password):\n",
    "        print('로그인되었습니다.')\n",
    "    else:\n",
    "        print('비밀번호가 일치하지 않습니다!')\n",
    "else:\n",
    "    if (input_password == user_password):\n",
    "        print('아이디가 일치하지 않습니다!')\n",
    "    else:\n",
    "        print('아이디와 비밀번호가 일치하지 않습니다!')"
   ]
  },
  {
   "cell_type": "markdown",
   "id": "c5b4d62d-e65e-415e-ae55-ba039c0dacc4",
   "metadata": {},
   "source": [
    "<br>\n",
    "\n",
    "### **4.4 논리연산자**\n",
    "- 여러 조건식을 비교할 때\n",
    "- e.g. 10 < x < 20\n",
    "    - 파이썬에서만 가능한 표현\n",
    "    - (x > 10) 혹은 (x < 20)\n",
    "\n",
    "- and, & : 둘 다 참일 때 True\n",
    "- or, | : 둘 중 하나만 참이어도 True\n",
    "- not : 참 -> False, 거짓 -> True"
   ]
  },
  {
   "cell_type": "markdown",
   "id": "b4a330db-220c-4a3c-9341-083b46951aea",
   "metadata": {},
   "source": [
    "### **`Quiz 3.`**\n",
    "- Quiz 1 확장판\n",
    "- 결석 횟수를 받아서 점수가 80점 이상인데 결석이 2번 이상이면 F, 나머지는 점수대로"
   ]
  },
  {
   "cell_type": "code",
   "execution_count": 2,
   "id": "7636162f-e5b1-47b0-8fa1-337106626781",
   "metadata": {},
   "outputs": [
    {
     "name": "stdin",
     "output_type": "stream",
     "text": [
      "학점 입력:  80\n",
      "결석 횟수:  2\n"
     ]
    },
    {
     "name": "stdout",
     "output_type": "stream",
     "text": [
      "당신의 학점은 80점이며 결석 횟수는 2회, 따라서 F입니다.\n"
     ]
    }
   ],
   "source": [
    "# 1) 논리연산자 사용\n",
    "score = int(input('학점 입력: '))\n",
    "absence = int(input('결석 횟수: '))\n",
    "grade = ''\n",
    "\n",
    "if (score >= 80) and (absence >= 2):\n",
    "    grade = 'F'\n",
    "elif (score >= 90) and (absence < 2):\n",
    "    grade = 'A'\n",
    "elif (score >= 80) and (absence < 2):\n",
    "    grade = 'B'\n",
    "elif score >= 70:\n",
    "    grade = 'C'\n",
    "else: grade = 'D'\n",
    "\n",
    "print(f'당신의 학점은 {score}점이며 결석 횟수는 {absence}회, 따라서 {grade}입니다.')"
   ]
  },
  {
   "cell_type": "code",
   "execution_count": 3,
   "id": "74b13614-f12a-48be-bc55-aa2a774e7825",
   "metadata": {
    "tags": []
   },
   "outputs": [
    {
     "name": "stdin",
     "output_type": "stream",
     "text": [
      "학점 입력:  80\n",
      "결석 횟수:  2\n"
     ]
    },
    {
     "name": "stdout",
     "output_type": "stream",
     "text": [
      "당신의 학점은 80점이며 결석 횟수는 2회, 따라서 F입니다.\n"
     ]
    }
   ],
   "source": [
    "# 2) if구조 2번 활용\n",
    "score = int(input('학점 입력: '))\n",
    "absence = int(input('결석 횟수: '))\n",
    "grade = ''\n",
    "    \n",
    "if score >= 90:\n",
    "    grade = 'A'\n",
    "elif score >= 80:\n",
    "    grade = 'B'\n",
    "elif score >= 70:\n",
    "    grade = 'C'\n",
    "else: grade = 'D'\n",
    "\n",
    "if (score >= 80) and (absence >= 2):\n",
    "    grade = 'F'\n",
    "\n",
    "print(f'당신의 학점은 {score}점이며 결석 횟수는 {absence}회, 따라서 {grade}입니다.')"
   ]
  },
  {
   "cell_type": "markdown",
   "id": "657deb35-4dcd-4059-81f2-ce4331f0ded4",
   "metadata": {},
   "source": [
    "---"
   ]
  },
  {
   "cell_type": "markdown",
   "id": "1af29ede-f2f9-4b92-a3dc-bcf81904d77d",
   "metadata": {},
   "source": [
    "## **Review**\n",
    "\n",
    "### **새롭게 알게 된 내용**\n",
    "\n",
    "- 가변객체, 불변객체 특징\n",
    "- 코드와 주석의 의의: `코드-의미`, `주석-의도`\n",
    "- integer(정수): `_(언더바)`는 숫자 사이에 있을 때 `무시`된다.\n",
    "- 연산: `divmod(x, y)` 두 숫자를 나누어 몫과 나머지를 tuple로 반환하는 함수\n",
    "- 지수표현: 양수, 음수"
   ]
  },
  {
   "cell_type": "markdown",
   "id": "0701bd91-5fce-4f32-8e57-9b9bfe95e694",
   "metadata": {},
   "source": [
    "### **신경 쓸 점**\n",
    "- 적절한 변수명(의미있는 변수명으로 생성하기)\n",
    "- 반복되는 동일한 부분(e.g. 형식이 유사한 print())을 최대한 줄인 코드(효율)\n",
    "- 연산자와 피연산자 간 띄어쓰기 e.g. x = y + 2; k == 2"
   ]
  },
  {
   "cell_type": "markdown",
   "id": "6642d232-3ad0-4a11-9aee-b0c618294659",
   "metadata": {},
   "source": [
    "### **이번주 학습 자기평가**\n",
    "- 대부분 아는 내용이라 아직까진 수월하다.\n",
    "- 파이썬 기초 개념(언더바 규칙, 지수표현 등)에 구멍이 조금씩 있다.\n",
    "- 파이썬 사용 시 C언어와 다른 문법들이 다소 헷갈린다.\n",
    "    - 자꾸 변수 선언을 하려 한다.\n",
    "    - 주석 문자를 잘못 사용한다.\n",
    "    - 형 변환 시 괄호를 종종 반대로 친다.\n",
    "- 보다 더 효율적인 코드 짜는 실력이 부족한 것 같다.\n",
    "\n",
    "##### **학습 문제 해결책**\n",
    "- 새롭게 알게된 내용은 반복 학습으로 확실히 체화하기\n",
    "- 아는 내용, 쉬운 내용이라고 자만하지 않고, 더 꼼꼼히 점검하고 넘어가기\n",
    "- 배운 내용 이외에 더 효율적인 내장함수, 모듈, 라이브러리 등이 있는지 확장적 학습하기\n",
    "- 교재 연습문제, 코드업 파이썬 기초 100제 풀어보며 파이썬 문법 확실히 하기\n",
    "- 타인의 코드 참조하여 코드 발전시키기"
   ]
  }
 ],
 "metadata": {
  "kernelspec": {
   "display_name": "Python 3 (ipykernel)",
   "language": "python",
   "name": "python3"
  },
  "language_info": {
   "codemirror_mode": {
    "name": "ipython",
    "version": 3
   },
   "file_extension": ".py",
   "mimetype": "text/x-python",
   "name": "python",
   "nbconvert_exporter": "python",
   "pygments_lexer": "ipython3",
   "version": "3.9.7"
  }
 },
 "nbformat": 4,
 "nbformat_minor": 5
}
