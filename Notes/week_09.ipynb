{
 "cells": [
  {
   "cell_type": "markdown",
   "id": "feebd333-fbca-44e9-bb32-39f8b2dc850e",
   "metadata": {},
   "source": [
    "# **Week 09 - 2022/04/29**\n",
    "---"
   ]
  },
  {
   "cell_type": "markdown",
   "id": "5230d7a1-7c15-4d56-81ca-ab3f62657e36",
   "metadata": {},
   "source": [
    "## **Dictionary**\n",
    "- 영어 사전\n",
    "    - '단어: 뜻' 형태의 자료구조\n",
    "    - 키: 값\n",
    "    - 순서가 없다. => 인덱싱 불가능\n",
    "    - \"키로 값을 찾는다.\"\n",
    "        - 키는 중복되지 않는 고유한 값\n",
    "    - 가변: 수정, 삭제, 추가 가능\n",
    "    - 타입: dict\n",
    "    - 형변환: `dict()`\n",
    "    - 중괄호 사용 {}, 콤마로 구분\n",
    "    - 값에 다양한 자료구조가 올 수 있음\n",
    "        - a:1, a:[1, 2, 3, 4]"
   ]
  },
  {
   "cell_type": "code",
   "execution_count": 102,
   "id": "746ca0e1-f660-43e0-8015-f8028cca4cbb",
   "metadata": {},
   "outputs": [
    {
     "data": {
      "text/plain": [
       "1"
      ]
     },
     "execution_count": 102,
     "metadata": {},
     "output_type": "execute_result"
    }
   ],
   "source": [
    "# 인덱싱 불가능\n",
    "# e.g. 리스트처럼 인덱싱 불가능\n",
    "a = [1, 2, 3]\n",
    "a[0]"
   ]
  },
  {
   "cell_type": "markdown",
   "id": "10a93940-d685-418e-a50a-2457074c4f78",
   "metadata": {},
   "source": [
    "### **생성**"
   ]
  },
  {
   "cell_type": "markdown",
   "id": "0904c394-8e9f-4a2a-9b98-3370453dbdf2",
   "metadata": {},
   "source": [
    "##### **- 빈 딕셔너리 생성**"
   ]
  },
  {
   "cell_type": "code",
   "execution_count": 103,
   "id": "9035cb7d-a7aa-41ca-9266-006ef873adb1",
   "metadata": {},
   "outputs": [],
   "source": [
    "empty = dict()\n",
    "empty = {}"
   ]
  },
  {
   "cell_type": "markdown",
   "id": "36c56eba-e869-4eac-a609-976910690be6",
   "metadata": {},
   "source": [
    "- set은? => set()으로 생성"
   ]
  },
  {
   "cell_type": "code",
   "execution_count": 104,
   "id": "6b56be76-2737-4e9c-80de-f4e728f5ffbf",
   "metadata": {},
   "outputs": [],
   "source": [
    "empty = {} #dict type\n",
    "empty = set() # set type"
   ]
  },
  {
   "cell_type": "markdown",
   "id": "cf98d4dd-f942-49ce-b5da-49c18f92851e",
   "metadata": {},
   "source": [
    "##### **- 값이 있을 때 선언하기**"
   ]
  },
  {
   "cell_type": "code",
   "execution_count": 105,
   "id": "b4890623-4fe5-4530-b56b-a36deac3af88",
   "metadata": {},
   "outputs": [
    {
     "data": {
      "text/plain": [
       "{1: 'a', 2: 'b', 3: 'c'}"
      ]
     },
     "execution_count": 105,
     "metadata": {},
     "output_type": "execute_result"
    }
   ],
   "source": [
    "a = {1, 2, 3} #set\n",
    "a = {1:'a', 2:'b', 3:'c'} #dict\n",
    "a"
   ]
  },
  {
   "cell_type": "code",
   "execution_count": 106,
   "id": "596f2ad2-7077-456c-ab80-35b93ef4b2d8",
   "metadata": {},
   "outputs": [
    {
     "data": {
      "text/plain": [
       "({'name': 'pey', 'phone': '0119993323', 'birth': '1118'}, {'num': [1, 2, 3]})"
      ]
     },
     "execution_count": 106,
     "metadata": {},
     "output_type": "execute_result"
    }
   ],
   "source": [
    "# 개인 추가 실습\n",
    "dic = {'name':'pey', 'phone':'0119993323', 'birth': '1118'}\n",
    "num = {'num': [1,2,3]}\n",
    "dic, num"
   ]
  },
  {
   "cell_type": "code",
   "execution_count": 107,
   "id": "02a1106d-2889-4e09-a293-ab1f8b710d4d",
   "metadata": {},
   "outputs": [
    {
     "data": {
      "text/plain": [
       "{'apple': 'a', 'banana': 'b', 'kiwi': 'c'}"
      ]
     },
     "execution_count": 107,
     "metadata": {},
     "output_type": "execute_result"
    }
   ],
   "source": [
    "# 키를 따옴표로 묶지 않아도 되는 방법\n",
    "b = dict(apple='a', banana='b', kiwi='c')\n",
    "b"
   ]
  },
  {
   "cell_type": "markdown",
   "id": "6ef10d04-9a5f-4553-90fe-f827b2d93d10",
   "metadata": {
    "tags": []
   },
   "source": [
    "#### **[실습 1] 출석부로 딕셔너리 만들기**\n",
    "- 이름, 학번, 학과\n",
    "- james 202201 경제학과\n",
    "- laura 202203 스페인어과\n",
    "- louis 202202 컴공과\n",
    "- **무엇을 key로 할 것인가? => 유일한 값(학번)**"
   ]
  },
  {
   "cell_type": "code",
   "execution_count": 108,
   "id": "3b71ef6a-1ac2-49c9-81e1-4b4206ba65c1",
   "metadata": {},
   "outputs": [
    {
     "data": {
      "text/plain": [
       "{202201: ['james', '경제학과'],\n",
       " 202203: ['laura', '스페인어과'],\n",
       " 202202: ['louis', '컴공과']}"
      ]
     },
     "execution_count": 108,
     "metadata": {},
     "output_type": "execute_result"
    }
   ],
   "source": [
    "roll_book = {202201:['james', '경제학과'], 202203:['laura', '스페인어과'], 202202:['louis', '컴공과']}\n",
    "roll_book"
   ]
  },
  {
   "cell_type": "markdown",
   "id": "f0ce4c2c-2a27-4c44-85b1-8d8e08eab0e6",
   "metadata": {},
   "source": [
    "### **형 변환**\n",
    "- 쌍이 있을 때 가능"
   ]
  },
  {
   "cell_type": "code",
   "execution_count": 109,
   "id": "7cd96bb2-3cf5-4b1a-bf70-c47315470a19",
   "metadata": {},
   "outputs": [
    {
     "data": {
      "text/plain": [
       "{1: 2, 2: 3, 3: 4}"
      ]
     },
     "execution_count": 109,
     "metadata": {},
     "output_type": "execute_result"
    }
   ],
   "source": [
    "# 리스트 쌍\n",
    "ex1 = [[1, 2], [2, 3], [3, 4]]\n",
    "dict(ex1)"
   ]
  },
  {
   "cell_type": "code",
   "execution_count": 110,
   "id": "96000ad0-076b-43ee-af95-abf6f9738802",
   "metadata": {},
   "outputs": [
    {
     "ename": "TypeError",
     "evalue": "cannot convert dictionary update sequence element #0 to a sequence",
     "output_type": "error",
     "traceback": [
      "\u001b[1;31m---------------------------------------------------------------------------\u001b[0m",
      "\u001b[1;31mTypeError\u001b[0m                                 Traceback (most recent call last)",
      "\u001b[1;32mC:\\Temp/ipykernel_12608/335598587.py\u001b[0m in \u001b[0;36m<module>\u001b[1;34m\u001b[0m\n\u001b[0;32m      1\u001b[0m \u001b[1;31m# 개인 추가 실습 => 리스트도 쌍이 아니면(요소기 3개 이상이면) 불가능\u001b[0m\u001b[1;33m\u001b[0m\u001b[1;33m\u001b[0m\u001b[0m\n\u001b[1;32m----> 2\u001b[1;33m \u001b[0mdict\u001b[0m\u001b[1;33m(\u001b[0m\u001b[1;33m[\u001b[0m\u001b[1;36m1\u001b[0m\u001b[1;33m,\u001b[0m \u001b[1;36m2\u001b[0m\u001b[1;33m,\u001b[0m \u001b[1;36m3\u001b[0m\u001b[1;33m]\u001b[0m\u001b[1;33m)\u001b[0m\u001b[1;33m\u001b[0m\u001b[1;33m\u001b[0m\u001b[0m\n\u001b[0m",
      "\u001b[1;31mTypeError\u001b[0m: cannot convert dictionary update sequence element #0 to a sequence"
     ]
    }
   ],
   "source": [
    "# 개인 추가 실습 => 리스트도 쌍이 아니면(요소기 3개 이상이면) 불가능\n",
    "dict([1, 2, 3])"
   ]
  },
  {
   "cell_type": "code",
   "execution_count": 111,
   "id": "372091d0-803d-4c8a-a07a-4e581a918340",
   "metadata": {},
   "outputs": [
    {
     "data": {
      "text/plain": [
       "{1: 3, 2: 3}"
      ]
     },
     "execution_count": 111,
     "metadata": {},
     "output_type": "execute_result"
    }
   ],
   "source": [
    "# 튜플 쌍\n",
    "ex2 = [(1, 2), (2, 3), (1, 3)] # 키 중복 경우에는 마지막 것만 남고 다른 것은 없어짐\n",
    "dict(ex2)"
   ]
  },
  {
   "cell_type": "code",
   "execution_count": 112,
   "id": "90209046-4eaf-405f-8765-16a415933abd",
   "metadata": {},
   "outputs": [
    {
     "data": {
      "text/plain": [
       "{'a': 'b', 'b': 'c'}"
      ]
     },
     "execution_count": 112,
     "metadata": {},
     "output_type": "execute_result"
    }
   ],
   "source": [
    "# 문자열\n",
    "ex3 = ['ab', 'bc']\n",
    "dict(ex3)"
   ]
  },
  {
   "cell_type": "code",
   "execution_count": 113,
   "id": "964bd7a1-6dc0-450d-9e05-fdafdd417e76",
   "metadata": {},
   "outputs": [
    {
     "ename": "ValueError",
     "evalue": "dictionary update sequence element #2 has length 3; 2 is required",
     "output_type": "error",
     "traceback": [
      "\u001b[1;31m---------------------------------------------------------------------------\u001b[0m",
      "\u001b[1;31mValueError\u001b[0m                                Traceback (most recent call last)",
      "\u001b[1;32mC:\\Temp/ipykernel_12608/879384647.py\u001b[0m in \u001b[0;36m<module>\u001b[1;34m\u001b[0m\n\u001b[0;32m      1\u001b[0m \u001b[1;31m# 문자열은 두 자리까지만 됨\u001b[0m\u001b[1;33m\u001b[0m\u001b[1;33m\u001b[0m\u001b[0m\n\u001b[0;32m      2\u001b[0m \u001b[0mex4\u001b[0m \u001b[1;33m=\u001b[0m \u001b[1;33m[\u001b[0m\u001b[1;34m'ab'\u001b[0m\u001b[1;33m,\u001b[0m \u001b[1;34m'bc'\u001b[0m\u001b[1;33m,\u001b[0m \u001b[1;34m'des'\u001b[0m\u001b[1;33m]\u001b[0m\u001b[1;33m\u001b[0m\u001b[1;33m\u001b[0m\u001b[0m\n\u001b[1;32m----> 3\u001b[1;33m \u001b[0mdict\u001b[0m\u001b[1;33m(\u001b[0m\u001b[0mex4\u001b[0m\u001b[1;33m)\u001b[0m\u001b[1;33m\u001b[0m\u001b[1;33m\u001b[0m\u001b[0m\n\u001b[0m",
      "\u001b[1;31mValueError\u001b[0m: dictionary update sequence element #2 has length 3; 2 is required"
     ]
    }
   ],
   "source": [
    "# 문자열은 두 자리까지만 됨\n",
    "ex4 = ['ab', 'bc', 'des'] \n",
    "dict(ex4)"
   ]
  },
  {
   "cell_type": "markdown",
   "id": "b961430d-3589-4f89-a885-44f798ab1597",
   "metadata": {},
   "source": [
    "### **항목 조회 & 변경**"
   ]
  },
  {
   "cell_type": "code",
   "execution_count": 114,
   "id": "ab0e99f7-378a-4adc-8aaa-5295bf9472af",
   "metadata": {},
   "outputs": [],
   "source": [
    "pythons = {\n",
    "    'Chapman':'Graham',\n",
    "    'Cleese':'John',\n",
    "    'Idle':'Eric',\n",
    "    'Jonse':'Terry',\n",
    "    'Palin':'Michael'\n",
    "}"
   ]
  },
  {
   "cell_type": "markdown",
   "id": "c23a7bb8-d539-44ea-9929-511b350f2d87",
   "metadata": {},
   "source": [
    "##### **- 항목 조회**\n",
    "- 딕셔너리명[key]"
   ]
  },
  {
   "cell_type": "code",
   "execution_count": 115,
   "id": "8e5ada23-6080-4837-9f06-8929140c39b1",
   "metadata": {},
   "outputs": [
    {
     "data": {
      "text/plain": [
       "'Eric'"
      ]
     },
     "execution_count": 115,
     "metadata": {},
     "output_type": "execute_result"
    }
   ],
   "source": [
    "pythons['Idle']"
   ]
  },
  {
   "cell_type": "code",
   "execution_count": 116,
   "id": "98ab9941-63ce-486d-bb8a-5b34ee90ef21",
   "metadata": {},
   "outputs": [
    {
     "ename": "KeyError",
     "evalue": "'Hwa'",
     "output_type": "error",
     "traceback": [
      "\u001b[1;31m---------------------------------------------------------------------------\u001b[0m",
      "\u001b[1;31mKeyError\u001b[0m                                  Traceback (most recent call last)",
      "\u001b[1;32mC:\\Temp/ipykernel_12608/3329213109.py\u001b[0m in \u001b[0;36m<module>\u001b[1;34m\u001b[0m\n\u001b[1;32m----> 1\u001b[1;33m \u001b[0mpythons\u001b[0m\u001b[1;33m[\u001b[0m\u001b[1;34m'Hwa'\u001b[0m\u001b[1;33m]\u001b[0m \u001b[1;31m#없는 키, 값 => 오류 발생\u001b[0m\u001b[1;33m\u001b[0m\u001b[1;33m\u001b[0m\u001b[0m\n\u001b[0m",
      "\u001b[1;31mKeyError\u001b[0m: 'Hwa'"
     ]
    }
   ],
   "source": [
    "pythons['Hwa'] #없는 키, 값 => 오류 발생"
   ]
  },
  {
   "cell_type": "code",
   "execution_count": 117,
   "id": "e649d88b-70dc-47d8-b37a-e2ca0d2986b5",
   "metadata": {},
   "outputs": [
    {
     "data": {
      "text/plain": [
       "('a', 2)"
      ]
     },
     "execution_count": 117,
     "metadata": {},
     "output_type": "execute_result"
    }
   ],
   "source": [
    "# 개인 추가 실습\n",
    "ver1 = {1:'a', 2:'b'}\n",
    "ver2 = {'a':1, 'b':2}\n",
    "ver1[1], ver2['b']"
   ]
  },
  {
   "cell_type": "markdown",
   "id": "1ee00ea0-0fde-4766-9602-025c2b991831",
   "metadata": {},
   "source": [
    "##### **- 항목 변경**\n",
    "- key로 찾아서 다른 값을 넣어주면 됨"
   ]
  },
  {
   "cell_type": "code",
   "execution_count": 118,
   "id": "2aead3ab-c7ae-45ad-bf36-35033e161c26",
   "metadata": {},
   "outputs": [
    {
     "data": {
      "text/plain": [
       "{'Chapman': 'Graham',\n",
       " 'Cleese': 'John',\n",
       " 'Idle': 'James',\n",
       " 'Jonse': 'Terry',\n",
       " 'Palin': 'Michael'}"
      ]
     },
     "execution_count": 118,
     "metadata": {},
     "output_type": "execute_result"
    }
   ],
   "source": [
    "pythons['Idle'] = 'James'\n",
    "pythons"
   ]
  },
  {
   "cell_type": "code",
   "execution_count": 119,
   "id": "f16ba622-40fd-44aa-98cb-1c96f8db94bc",
   "metadata": {},
   "outputs": [
    {
     "data": {
      "text/plain": [
       "{'name': ['pey', 'wang'], 'phone': '0119993323', 'birth': '1118'}"
      ]
     },
     "execution_count": 119,
     "metadata": {},
     "output_type": "execute_result"
    }
   ],
   "source": [
    "# 개인 추가 실습\n",
    "dic = {'name':'pey', 'phone':'0119993323', 'birth': '1118'}\n",
    "dic['name'] = ['pey', 'wang']\n",
    "dic"
   ]
  },
  {
   "cell_type": "markdown",
   "id": "21fa2dad-1a65-4676-9079-ef819db20143",
   "metadata": {},
   "source": [
    "##### **- 항목 추가**"
   ]
  },
  {
   "cell_type": "code",
   "execution_count": 120,
   "id": "a749582c-c530-4742-8a10-f3bf4d88ad82",
   "metadata": {},
   "outputs": [
    {
     "data": {
      "text/plain": [
       "{'Chapman': 'Graham',\n",
       " 'Cleese': 'John',\n",
       " 'Idle': 'James',\n",
       " 'Jonse': 'Terry',\n",
       " 'Palin': 'Michael',\n",
       " 'Hwa': 'Chloe'}"
      ]
     },
     "execution_count": 120,
     "metadata": {},
     "output_type": "execute_result"
    }
   ],
   "source": [
    "pythons['Hwa'] = 'Chloe'\n",
    "pythons"
   ]
  },
  {
   "cell_type": "markdown",
   "id": "654678eb-6021-4bef-a956-276b05e3c91f",
   "metadata": {
    "tags": []
   },
   "source": [
    "##### **\\* 예외 없이 사용하는 법**"
   ]
  },
  {
   "cell_type": "markdown",
   "id": "233e5623-9aa4-4c91-8337-be84c33f9a59",
   "metadata": {},
   "source": [
    "- `in` 멤버십 연산자 사용"
   ]
  },
  {
   "cell_type": "code",
   "execution_count": 121,
   "id": "ce540c4b-ff2c-403a-babd-1d9c8e0acc88",
   "metadata": {},
   "outputs": [
    {
     "data": {
      "text/plain": [
       "True"
      ]
     },
     "execution_count": 121,
     "metadata": {},
     "output_type": "execute_result"
    }
   ],
   "source": [
    "'Hwa' in pythons"
   ]
  },
  {
   "cell_type": "markdown",
   "id": "abe8a4c9-6884-473b-8eb4-a39dd448b8b7",
   "metadata": {},
   "source": [
    "- `get()`"
   ]
  },
  {
   "cell_type": "code",
   "execution_count": 122,
   "id": "32f603e6-231a-494d-b3fe-27c96444e135",
   "metadata": {},
   "outputs": [
    {
     "data": {
      "text/plain": [
       "0"
      ]
     },
     "execution_count": 122,
     "metadata": {},
     "output_type": "execute_result"
    }
   ],
   "source": [
    "pythons.get('Lee', 0) # default -> 없는 키는 None 반환, 원하는 반환값 설정 가능(e.g. 0으로 설정)"
   ]
  },
  {
   "cell_type": "markdown",
   "id": "4d065308-7268-48ee-8ebb-3e5eac5f3b51",
   "metadata": {},
   "source": [
    "##### **- 전체 조회**\n",
    "- keys(), values(), items()"
   ]
  },
  {
   "cell_type": "markdown",
   "id": "a38388f3-b602-4a4f-bb85-a15de3d938f0",
   "metadata": {},
   "source": [
    "- `keys()`"
   ]
  },
  {
   "cell_type": "code",
   "execution_count": 123,
   "id": "ebc88cc9-4c2e-492c-86c2-5618be81d9a1",
   "metadata": {},
   "outputs": [
    {
     "data": {
      "text/plain": [
       "['Chapman', 'Cleese', 'Idle', 'Jonse', 'Palin', 'Hwa']"
      ]
     },
     "execution_count": 123,
     "metadata": {},
     "output_type": "execute_result"
    }
   ],
   "source": [
    "pythons.keys()\n",
    "list(pythons.keys()) #리스트로 형 변환해줘야 함"
   ]
  },
  {
   "cell_type": "code",
   "execution_count": 124,
   "id": "d9d46661-d65e-4542-8f13-fab05b702a23",
   "metadata": {},
   "outputs": [
    {
     "data": {
      "text/plain": [
       "dict_keys(['Chapman', 'Cleese', 'Idle', 'Jonse', 'Palin', 'Hwa'])"
      ]
     },
     "execution_count": 124,
     "metadata": {},
     "output_type": "execute_result"
    }
   ],
   "source": [
    "# 형 변환 안 해주면?\n",
    "pythons.keys()"
   ]
  },
  {
   "cell_type": "markdown",
   "id": "b4fd04e7-b2a2-4cec-a998-886320f8a85c",
   "metadata": {},
   "source": [
    "- `values()`"
   ]
  },
  {
   "cell_type": "code",
   "execution_count": 125,
   "id": "565a1abd-49be-4863-a27c-bb81480d3dda",
   "metadata": {},
   "outputs": [
    {
     "data": {
      "text/plain": [
       "['Graham', 'John', 'James', 'Terry', 'Michael', 'Chloe']"
      ]
     },
     "execution_count": 125,
     "metadata": {},
     "output_type": "execute_result"
    }
   ],
   "source": [
    "pythons.values()\n",
    "list(pythons.values()) #리스트로 형 변환해줘야 함"
   ]
  },
  {
   "cell_type": "markdown",
   "id": "14c75b37-bad2-4919-96fe-7e479c7f91ff",
   "metadata": {},
   "source": [
    "- `items()`"
   ]
  },
  {
   "cell_type": "code",
   "execution_count": 126,
   "id": "51c6d4c7-e7b1-4629-998c-012862de1e5f",
   "metadata": {},
   "outputs": [
    {
     "data": {
      "text/plain": [
       "dict_items([('Chapman', 'Graham'), ('Cleese', 'John'), ('Idle', 'James'), ('Jonse', 'Terry'), ('Palin', 'Michael'), ('Hwa', 'Chloe')])"
      ]
     },
     "execution_count": 126,
     "metadata": {},
     "output_type": "execute_result"
    }
   ],
   "source": [
    "pythons.items() #(키, 값) 튜플 형태로 => 순회 때 많이 씀\n",
    "# 튜플 형태여서 인덱스로 접근 가능 0 -> 키, 1 -> 값"
   ]
  },
  {
   "cell_type": "code",
   "execution_count": 127,
   "id": "3abe5b39-60d2-462c-a1d3-953351f286f8",
   "metadata": {},
   "outputs": [
    {
     "name": "stdout",
     "output_type": "stream",
     "text": [
      "Chapman = Graham\n",
      "Cleese = John\n",
      "Idle = James\n",
      "Jonse = Terry\n",
      "Palin = Michael\n",
      "Hwa = Chloe\n"
     ]
    }
   ],
   "source": [
    "for k, v in pythons.items(): \n",
    "    print(f'{k} = {v}')"
   ]
  },
  {
   "cell_type": "code",
   "execution_count": 128,
   "id": "467fbafc-fb20-4491-8a4c-b771f8cecbef",
   "metadata": {},
   "outputs": [
    {
     "data": {
      "text/plain": [
       "[('Chapman', 'Graham'),\n",
       " ('Cleese', 'John'),\n",
       " ('Idle', 'James'),\n",
       " ('Jonse', 'Terry'),\n",
       " ('Palin', 'Michael'),\n",
       " ('Hwa', 'Chloe')]"
      ]
     },
     "execution_count": 128,
     "metadata": {},
     "output_type": "execute_result"
    }
   ],
   "source": [
    "[(k, v) for k, v in pythons.items()] # 리스트 컴프리헨션"
   ]
  },
  {
   "cell_type": "code",
   "execution_count": 129,
   "id": "a29dcd07-5a1c-4ef6-bbba-8fb3c25870d4",
   "metadata": {},
   "outputs": [
    {
     "name": "stdout",
     "output_type": "stream",
     "text": [
      "key: ['Chapman', 'Cleese', 'Idle', 'Jonse', 'Palin', 'Hwa']\n",
      "value: ['Graham', 'John', 'James', 'Terry', 'Michael', 'Chloe']\n"
     ]
    }
   ],
   "source": [
    "# 0=key,1=value \n",
    "print(f'key: {[k[0] for k in pythons.items()]}')\n",
    "print(f'value: {[k[1] for k in pythons.items()]}')"
   ]
  },
  {
   "cell_type": "code",
   "execution_count": 130,
   "id": "a76d5128-ccd6-4d4d-ad37-1e64d52ff691",
   "metadata": {},
   "outputs": [
    {
     "data": {
      "text/plain": [
       "['Chapman', 'Cleese', 'Idle', 'Jonse', 'Palin', 'Hwa']"
      ]
     },
     "execution_count": 130,
     "metadata": {},
     "output_type": "execute_result"
    }
   ],
   "source": [
    "# 아무런 인덱싱 없으면 키값만 나옴\n",
    "[k for k in pythons] "
   ]
  },
  {
   "cell_type": "markdown",
   "id": "1561f089-6fea-45ce-b68c-c87a4655be99",
   "metadata": {},
   "source": [
    "#### **[실습 2] animal : num_leg 딕셔너리 만들기**"
   ]
  },
  {
   "cell_type": "code",
   "execution_count": 131,
   "id": "6cc7e59c-e0cd-4605-8f4f-ca8dfc66cfa6",
   "metadata": {},
   "outputs": [
    {
     "data": {
      "text/plain": [
       "{'cat': 4, 'snake': 0, 'monkey': 2, 'ant': 4, 'spider': 8}"
      ]
     },
     "execution_count": 131,
     "metadata": {},
     "output_type": "execute_result"
    }
   ],
   "source": [
    "animals = 'cat snake monkey ant spider'.split()\n",
    "legs = 4, 0, 2, 4, 8\n",
    "\n",
    "# 나의 답.(딕셔너리 컴프리헨션 사용)\n",
    "animal_legs = {animal:leg for animal, leg in zip(animals, legs)}\n",
    "animal_legs"
   ]
  },
  {
   "cell_type": "code",
   "execution_count": 132,
   "id": "245ed426-2c0f-470a-9db5-4aaf6605aaec",
   "metadata": {},
   "outputs": [
    {
     "data": {
      "text/plain": [
       "{'cat': 4, 'snake': 0, 'monkey': 2, 'ant': 4, 'spider': 8}"
      ]
     },
     "execution_count": 132,
     "metadata": {},
     "output_type": "execute_result"
    }
   ],
   "source": [
    "# 딕셔너리 컴프리헨션 사용 X\n",
    "num_leg = {}\n",
    "for animal, leg in zip(animals, legs):\n",
    "    num_leg[animal] = leg\n",
    "num_leg"
   ]
  },
  {
   "cell_type": "markdown",
   "id": "b01e9481-87a6-469e-908e-e2f15d42fe43",
   "metadata": {},
   "source": [
    "#### **[실습 3] pythons에서 튜플 (성, 이름) 리스트로 변환하기**\n",
    "- 성: 이름, 성 첫 글자만, 이름은 글자 개수로 이루어진 튜플 (성, 이름) 리스트\n",
    "- dictionary comprehension 사용 금지"
   ]
  },
  {
   "cell_type": "code",
   "execution_count": 133,
   "id": "99bd6f14-64cb-41b9-a586-f87cdde9f89b",
   "metadata": {},
   "outputs": [],
   "source": [
    "pythons = {\n",
    "    'Chapman':'Graham',\n",
    "    'Cleese':'John',\n",
    "    'Idle':'Eric',\n",
    "    'Jonse':'Terry',\n",
    "    'Palin':'Michael'\n",
    "}"
   ]
  },
  {
   "cell_type": "code",
   "execution_count": 134,
   "id": "eaf9613e-e47d-4644-8efa-e5318b3cd02a",
   "metadata": {},
   "outputs": [
    {
     "data": {
      "text/plain": [
       "[('C', 6), ('C', 4), ('I', 4), ('J', 5), ('P', 7)]"
      ]
     },
     "execution_count": 134,
     "metadata": {},
     "output_type": "execute_result"
    }
   ],
   "source": [
    "[(surname[0], len(first_name)) for surname, first_name in pythons.items()]"
   ]
  },
  {
   "cell_type": "markdown",
   "id": "0acc0166-5cc3-4fd3-b27c-5faa314985ac",
   "metadata": {},
   "source": [
    "### **값 수정, 삭제, 복제, 비교**"
   ]
  },
  {
   "cell_type": "code",
   "execution_count": 135,
   "id": "07540374-53a8-4413-8090-58a7214b3cb6",
   "metadata": {},
   "outputs": [
    {
     "data": {
      "text/plain": [
       "{'Chapman': 'Graham',\n",
       " 'Cleese': 'John',\n",
       " 'Idle': 'Eric',\n",
       " 'Jonse': 'Terry',\n",
       " 'Palin': 'Michael'}"
      ]
     },
     "execution_count": 135,
     "metadata": {},
     "output_type": "execute_result"
    }
   ],
   "source": [
    "pythons"
   ]
  },
  {
   "cell_type": "code",
   "execution_count": 136,
   "id": "f4600dab-e9cc-479c-a4af-aa1687dfc856",
   "metadata": {},
   "outputs": [
    {
     "data": {
      "text/plain": [
       "{'Marx': 'Groucho', 'Howard': 'Moe'}"
      ]
     },
     "execution_count": 136,
     "metadata": {},
     "output_type": "execute_result"
    }
   ],
   "source": [
    "others = {\n",
    "    'Marx':'Groucho',\n",
    "    'Howard':'Moe'\n",
    "}\n",
    "others"
   ]
  },
  {
   "cell_type": "markdown",
   "id": "59ca52f2-a9b9-44ea-8dee-ca31106dbfc9",
   "metadata": {},
   "source": [
    "##### **- 수정(확장)**"
   ]
  },
  {
   "cell_type": "code",
   "execution_count": 137,
   "id": "351faa4f-eb57-428d-a0c1-5171fb5ab233",
   "metadata": {},
   "outputs": [
    {
     "data": {
      "text/plain": [
       "{'Chapman': 'Graham',\n",
       " 'Cleese': 'John',\n",
       " 'Idle': 'Eric',\n",
       " 'Jonse': 'Terry',\n",
       " 'Palin': 'Michael',\n",
       " 'Marx': 'Groucho',\n",
       " 'Howard': 'Moe'}"
      ]
     },
     "execution_count": 137,
     "metadata": {},
     "output_type": "execute_result"
    }
   ],
   "source": [
    "# dict + dict\n",
    "pythons.update(others)\n",
    "pythons"
   ]
  },
  {
   "cell_type": "code",
   "execution_count": 138,
   "id": "ddf05b34-6041-4dbc-9554-e02b125b18ec",
   "metadata": {},
   "outputs": [
    {
     "data": {
      "text/plain": [
       "{'Marx': 'Groucho',\n",
       " 'Howard': 'Moe',\n",
       " 'Chapman': 'Graham',\n",
       " 'Cleese': 'John',\n",
       " 'Idle': 'Eric',\n",
       " 'Jonse': 'Terry',\n",
       " 'Palin': 'Michael'}"
      ]
     },
     "execution_count": 138,
     "metadata": {},
     "output_type": "execute_result"
    }
   ],
   "source": [
    "# py 3에만 있는 기능\n",
    "{**others, **pythons}"
   ]
  },
  {
   "cell_type": "markdown",
   "id": "4cab1e9a-b0c5-499f-a99a-98d0d5f545b1",
   "metadata": {},
   "source": [
    "##### **- 삭제**"
   ]
  },
  {
   "cell_type": "markdown",
   "id": "1719a584-03f7-4273-9ac5-b4f4aa6b74b2",
   "metadata": {},
   "source": [
    "- `del`"
   ]
  },
  {
   "cell_type": "code",
   "execution_count": 139,
   "id": "7bfee138-6da2-43f0-8d50-4d196247cdcc",
   "metadata": {},
   "outputs": [
    {
     "ename": "KeyError",
     "evalue": "'Hwa'",
     "output_type": "error",
     "traceback": [
      "\u001b[1;31m---------------------------------------------------------------------------\u001b[0m",
      "\u001b[1;31mKeyError\u001b[0m                                  Traceback (most recent call last)",
      "\u001b[1;32mC:\\Temp/ipykernel_12608/1089166412.py\u001b[0m in \u001b[0;36m<module>\u001b[1;34m\u001b[0m\n\u001b[1;32m----> 1\u001b[1;33m \u001b[1;32mdel\u001b[0m \u001b[0mpythons\u001b[0m\u001b[1;33m[\u001b[0m\u001b[1;34m'Hwa'\u001b[0m\u001b[1;33m]\u001b[0m \u001b[1;31m#없는 것 삭제하면 오류 발생\u001b[0m\u001b[1;33m\u001b[0m\u001b[1;33m\u001b[0m\u001b[0m\n\u001b[0m",
      "\u001b[1;31mKeyError\u001b[0m: 'Hwa'"
     ]
    }
   ],
   "source": [
    "del pythons['Hwa'] #없는 것 삭제하면 오류 발생"
   ]
  },
  {
   "cell_type": "markdown",
   "id": "4fde9d91-fe45-4696-9dfb-2a9c9e87e1d8",
   "metadata": {},
   "source": [
    "- `pop()`"
   ]
  },
  {
   "cell_type": "code",
   "execution_count": 140,
   "id": "1091993e-d9da-42d9-8c1e-ee9f87311a51",
   "metadata": {},
   "outputs": [
    {
     "data": {
      "text/plain": [
       "0"
      ]
     },
     "execution_count": 140,
     "metadata": {},
     "output_type": "execute_result"
    }
   ],
   "source": [
    "pythons.pop('Lee', 0) #없으면 예외 발생/예외 시 출력 값 지정 가능"
   ]
  },
  {
   "cell_type": "code",
   "execution_count": 141,
   "id": "c09da9ab-931b-485c-85a0-9c9d791ae676",
   "metadata": {},
   "outputs": [
    {
     "data": {
      "text/plain": [
       "'없는 값!'"
      ]
     },
     "execution_count": 141,
     "metadata": {},
     "output_type": "execute_result"
    }
   ],
   "source": [
    "# 개인 추가 실습\n",
    "pythons.pop('Lee', '없는 값!')"
   ]
  },
  {
   "cell_type": "markdown",
   "id": "76234ace-069b-4819-b09d-352855a4867a",
   "metadata": {},
   "source": [
    "- `clear()` : 전체 삭제"
   ]
  },
  {
   "cell_type": "code",
   "execution_count": 142,
   "id": "6483d3a0-ca48-4842-b397-782c05ae335f",
   "metadata": {},
   "outputs": [],
   "source": [
    "pythons.clear()\n",
    "\n",
    "# 전체 삭제하는 법 2\n",
    "pythons = {}"
   ]
  },
  {
   "cell_type": "markdown",
   "id": "65e864df-f1eb-4f14-86c3-3ceb904f59bd",
   "metadata": {
    "tags": []
   },
   "source": [
    "##### **- 복제**\n",
    "- 할당, 얕은 복사, 깊은 복사"
   ]
  },
  {
   "cell_type": "markdown",
   "id": "839c3a41-b856-45ca-a1fe-5908e175194d",
   "metadata": {},
   "source": [
    "- `할당`\n",
    "  - 문제점: 값 변경 시 다 변함(같은 값 참조하고 있기 때문)"
   ]
  },
  {
   "cell_type": "code",
   "execution_count": 143,
   "id": "5030285e-352c-47a0-a515-4491c2acfb42",
   "metadata": {},
   "outputs": [
    {
     "data": {
      "text/plain": [
       "({1: 45, 2: 2, 3: 3}, {1: 45, 2: 2, 3: 3})"
      ]
     },
     "execution_count": 143,
     "metadata": {},
     "output_type": "execute_result"
    }
   ],
   "source": [
    "a = {1:1, 2:2, 3:3}\n",
    "b = a\n",
    "a[1] = 45\n",
    "a, b"
   ]
  },
  {
   "cell_type": "markdown",
   "id": "13c72f58-e414-41ea-8a10-e3269e004fda",
   "metadata": {},
   "source": [
    "- `얕은 복사`"
   ]
  },
  {
   "cell_type": "code",
   "execution_count": 144,
   "id": "7509c464-3d21-4059-b5e8-36a6fe6750c6",
   "metadata": {},
   "outputs": [
    {
     "data": {
      "text/plain": [
       "({1: 45, 2: 22, 3: 3}, {1: 45, 2: 2, 3: 3})"
      ]
     },
     "execution_count": 144,
     "metadata": {},
     "output_type": "execute_result"
    }
   ],
   "source": [
    "c = a.copy()\n",
    "a[2] = 22\n",
    "a, c"
   ]
  },
  {
   "cell_type": "code",
   "execution_count": 145,
   "id": "003ff400-589a-4f16-84e0-9b4bee3a561c",
   "metadata": {},
   "outputs": [
    {
     "data": {
      "text/plain": [
       "({1: [100, 2, 3], 2: [2, 3, 4]}, {1: [100, 2, 3], 2: [2, 3, 4]})"
      ]
     },
     "execution_count": 145,
     "metadata": {},
     "output_type": "execute_result"
    }
   ],
   "source": [
    "# 얕은 복사 문제점: 값이 가변객체일 때\n",
    "a = {1:[1, 2, 3], 2:[2, 3, 4]}\n",
    "d = a.copy()\n",
    "a[1][0] = 100\n",
    "a, d"
   ]
  },
  {
   "cell_type": "markdown",
   "id": "2a3c5130-d7c3-4954-b709-af884f6ca95b",
   "metadata": {},
   "source": [
    "- `깊은 복사`"
   ]
  },
  {
   "cell_type": "code",
   "execution_count": 146,
   "id": "9bca60f0-9fe9-4cf4-9838-a1eeee56a6e6",
   "metadata": {},
   "outputs": [
    {
     "data": {
      "text/plain": [
       "({1: [100, 999, 3], 2: [2, 3, 4]}, {1: [100, 2, 3], 2: [2, 3, 4]})"
      ]
     },
     "execution_count": 146,
     "metadata": {},
     "output_type": "execute_result"
    }
   ],
   "source": [
    "import copy\n",
    "e = copy.deepcopy(a)\n",
    "a[1][1] = 999\n",
    "a, e"
   ]
  },
  {
   "cell_type": "markdown",
   "id": "2d0a1961-3fd6-4dcf-805e-354c3447ca98",
   "metadata": {},
   "source": [
    "##### **- 비교**\n",
    "- '같다 다르다'만 된다"
   ]
  },
  {
   "cell_type": "code",
   "execution_count": 147,
   "id": "de6c8b63-d610-451c-bab2-d99924e0aa4e",
   "metadata": {},
   "outputs": [
    {
     "data": {
      "text/plain": [
       "True"
      ]
     },
     "execution_count": 147,
     "metadata": {},
     "output_type": "execute_result"
    }
   ],
   "source": [
    "a != b"
   ]
  },
  {
   "cell_type": "markdown",
   "id": "3c975b04-21ed-47b9-bf08-16516fb5a044",
   "metadata": {},
   "source": [
    "#### **[실습 4] 딕셔너리 실습**\n",
    "1. 두 리스트로 하나의 딕셔너리 생성\n",
    "2. 명왕성=pluto 추가하기\n",
    "3. '성'으로 끝나지 않는 키 삭제하기\n",
    "4. sorted 이용해서 값 정렬하기 키 기준, 값 기준"
   ]
  },
  {
   "cell_type": "code",
   "execution_count": 148,
   "id": "29f511e6-b582-4047-b402-36da80138d5a",
   "metadata": {},
   "outputs": [],
   "source": [
    "solar_kor = '태양 수성 금성 지구 화성 목성 토성 천왕성 해왕성'.split()\n",
    "solar_eng = 'sun mercury venus earth mars jupiter saturn uranus neptune'.split()"
   ]
  },
  {
   "cell_type": "code",
   "execution_count": 149,
   "id": "f490bf09-3205-43b5-b761-159738a34593",
   "metadata": {},
   "outputs": [
    {
     "data": {
      "text/plain": [
       "'key_sort = sorted(system.items(), key=operator.itemgetter(0))\\nvalue_sort = sorted(system.items(), key=operator.itemgetter(1))'"
      ]
     },
     "execution_count": 149,
     "metadata": {},
     "output_type": "execute_result"
    }
   ],
   "source": [
    "import operator\n",
    "system = dict()\n",
    "for k, v in zip(solar_kor, solar_eng):\n",
    "    system[k] = v\n",
    "system['명왕성'] = 'pluto'\n",
    "system = dict([elem for elem in system.items() if elem[0].endswith('성')])\n",
    "# dict([(k, v) for k, v in system.items() if k.endswith('성')])\n",
    "\n",
    "key_sort = sorted(system.items(), key=lambda x:x[0])\n",
    "value_sort = sorted(system.items(), key=lambda x:x[1])\n",
    "'''key_sort = sorted(system.items(), key=operator.itemgetter(0))\n",
    "value_sort = sorted(system.items(), key=operator.itemgetter(1))'''"
   ]
  },
  {
   "cell_type": "markdown",
   "id": "66978cb5-1c3b-4b90-b43c-ec5ef72cb7e9",
   "metadata": {},
   "source": [
    "### **딕셔너리 컴프리헨션**"
   ]
  },
  {
   "cell_type": "code",
   "execution_count": 150,
   "id": "435e1e6e-c2ab-4575-8969-69f8ff718195",
   "metadata": {},
   "outputs": [
    {
     "data": {
      "text/plain": [
       "{'a': 1, 'p': 2, 'l': 1, 'e': 1}"
      ]
     },
     "execution_count": 150,
     "metadata": {},
     "output_type": "execute_result"
    }
   ],
   "source": [
    "letter = 'apple'\n",
    "{ch:letter.count(ch) for ch in letter}"
   ]
  },
  {
   "cell_type": "code",
   "execution_count": 151,
   "id": "dd9785f3-05f0-4f45-a566-66170505dd1e",
   "metadata": {},
   "outputs": [
    {
     "data": {
      "text/plain": [
       "{'a': 2, 'e': 1, 'i': 1, 'o': 4}"
      ]
     },
     "execution_count": 151,
     "metadata": {},
     "output_type": "execute_result"
    }
   ],
   "source": [
    "# 단어의 모음 세기\n",
    "vowels = 'aeiou'\n",
    "word = 'onomatopoeia'\n",
    "{w:word.count(w) for w in set(word) if w in vowels}\n",
    "{v:word.count(v) for v in vowels if v in word}"
   ]
  },
  {
   "cell_type": "markdown",
   "id": "cda9c027-19b4-40b8-8726-56ef79822bf2",
   "metadata": {},
   "source": [
    "### **sorting**"
   ]
  },
  {
   "cell_type": "code",
   "execution_count": 152,
   "id": "cd549b9b-fa56-48ff-a371-b2ccdda2711d",
   "metadata": {},
   "outputs": [],
   "source": [
    "def fx(x):\n",
    "    return x[1]"
   ]
  },
  {
   "cell_type": "code",
   "execution_count": 153,
   "id": "51d56c1b-5a4e-4fdc-9a15-f1e19e23262b",
   "metadata": {},
   "outputs": [
    {
     "data": {
      "text/plain": [
       "[('목성', 'jupiter'),\n",
       " ('화성', 'mars'),\n",
       " ('수성', 'mercury'),\n",
       " ('해왕성', 'neptune'),\n",
       " ('명왕성', 'pluto'),\n",
       " ('토성', 'saturn'),\n",
       " ('천왕성', 'uranus'),\n",
       " ('금성', 'venus')]"
      ]
     },
     "execution_count": 153,
     "metadata": {},
     "output_type": "execute_result"
    }
   ],
   "source": [
    "sorted(system.items(), key=fx)"
   ]
  },
  {
   "cell_type": "code",
   "execution_count": 154,
   "id": "f18d7243-6dc0-433b-b7a6-00402c7d8763",
   "metadata": {},
   "outputs": [
    {
     "data": {
      "text/plain": [
       "[('금성', 'venus'),\n",
       " ('명왕성', 'pluto'),\n",
       " ('목성', 'jupiter'),\n",
       " ('수성', 'mercury'),\n",
       " ('천왕성', 'uranus'),\n",
       " ('토성', 'saturn'),\n",
       " ('해왕성', 'neptune'),\n",
       " ('화성', 'mars')]"
      ]
     },
     "execution_count": 154,
     "metadata": {},
     "output_type": "execute_result"
    }
   ],
   "source": [
    "# 익명 함수 lambda 활용\n",
    "sorted(system.items(), key=lambda x:x[0])"
   ]
  },
  {
   "cell_type": "markdown",
   "id": "9c9f2dca-7f0a-48f7-b8df-48fbf7674304",
   "metadata": {},
   "source": [
    "---"
   ]
  },
  {
   "cell_type": "markdown",
   "id": "9cd214f2-839d-4db5-af80-a492e23fc0b3",
   "metadata": {},
   "source": [
    "## **Set**\n",
    "- \"중복이 없다\"\n",
    "- 집합 => 교집합, 합집합, 차집합, ...\n",
    "- bag, 인덱싱도 없다."
   ]
  },
  {
   "cell_type": "markdown",
   "id": "d0b9a745-5abe-414a-ae69-1ebceeaca06a",
   "metadata": {},
   "source": [
    "### **생성**"
   ]
  },
  {
   "cell_type": "code",
   "execution_count": 155,
   "id": "e8aa264f-c57d-4c29-9d3c-df317a7f0e8b",
   "metadata": {},
   "outputs": [
    {
     "data": {
      "text/plain": [
       "set()"
      ]
     },
     "execution_count": 155,
     "metadata": {},
     "output_type": "execute_result"
    }
   ],
   "source": [
    "# 빈 집합 선언\n",
    "empty = set()\n",
    "empty"
   ]
  },
  {
   "cell_type": "code",
   "execution_count": 156,
   "id": "e3236cfb-89f6-4b98-906e-46ec2532755b",
   "metadata": {},
   "outputs": [],
   "source": [
    "a = {1, 2, 3}\n",
    "a = set((1, 2, 3)) #선언, 형 변환"
   ]
  },
  {
   "cell_type": "markdown",
   "id": "619a1489-ceb5-437e-90b5-53a3c25a55ea",
   "metadata": {},
   "source": [
    "### **추가**"
   ]
  },
  {
   "cell_type": "code",
   "execution_count": 157,
   "id": "25e58f0c-f7e1-42e1-931f-1555bf8728ab",
   "metadata": {},
   "outputs": [
    {
     "data": {
      "text/plain": [
       "{1, 2, 3, 4}"
      ]
     },
     "execution_count": 157,
     "metadata": {},
     "output_type": "execute_result"
    }
   ],
   "source": [
    "# 추가\n",
    "a.add(4)\n",
    "a"
   ]
  },
  {
   "cell_type": "markdown",
   "id": "5a3c5a50-340f-46f6-a119-97b0eaaf7f68",
   "metadata": {},
   "source": [
    "### **삭제**"
   ]
  },
  {
   "cell_type": "code",
   "execution_count": 158,
   "id": "f49793fe-2ba5-4215-92f5-9f1795328d13",
   "metadata": {},
   "outputs": [
    {
     "data": {
      "text/plain": [
       "{1, 2, 3}"
      ]
     },
     "execution_count": 158,
     "metadata": {},
     "output_type": "execute_result"
    }
   ],
   "source": [
    "# 삭제\n",
    "a.remove(4)\n",
    "a"
   ]
  },
  {
   "cell_type": "markdown",
   "id": "1b4f1a33-35d3-40b7-a757-9d55e18caaf1",
   "metadata": {},
   "source": [
    "### **멤버십 연산자**"
   ]
  },
  {
   "cell_type": "code",
   "execution_count": 159,
   "id": "c0618177-75c7-4c45-ae46-2ba78ac375c3",
   "metadata": {},
   "outputs": [],
   "source": [
    "# 멤버십 연산자\n",
    "drinks = {\n",
    "    'martini':{'vodka', 'vermouth'},\n",
    "    'balck russian':{'vodka', 'kahlua'},\n",
    "    'white russian':{'cream', 'kahlua', 'bitters'},\n",
    "    'manhattan':{'rye', 'vermouth', 'bitters'},\n",
    "    'screwdriver':{'orange juice', 'vodka'}\n",
    "}"
   ]
  },
  {
   "cell_type": "code",
   "execution_count": 160,
   "id": "9e8cb6ab-c448-4b83-9e71-9d99b2a58b67",
   "metadata": {},
   "outputs": [
    {
     "name": "stdout",
     "output_type": "stream",
     "text": [
      "martini\n",
      "balck russian\n",
      "screwdriver\n"
     ]
    }
   ],
   "source": [
    "# vodka가 포함된 술 출력\n",
    "for name, elem in drinks.items():\n",
    "    if 'vodka' in elem:\n",
    "        print(name)"
   ]
  },
  {
   "cell_type": "code",
   "execution_count": 161,
   "id": "424349f3-a615-4419-bc06-66f0cc8dce42",
   "metadata": {},
   "outputs": [
    {
     "name": "stdout",
     "output_type": "stream",
     "text": [
      "balck russian\n",
      "screwdriver\n"
     ]
    }
   ],
   "source": [
    "# vodka는 있지만 cream, vermouth 없는 술 출력하기\n",
    "for name, elem in drinks.items():\n",
    "    if 'vodka' in elem and 'cream' not in elem and 'vermouth' not in elem:\n",
    "        print(name)"
   ]
  },
  {
   "cell_type": "code",
   "execution_count": 162,
   "id": "5dfc9c26-b541-4843-84f5-aaa957c11656",
   "metadata": {},
   "outputs": [
    {
     "name": "stdout",
     "output_type": "stream",
     "text": [
      "balck russian\n",
      "screwdriver\n"
     ]
    }
   ],
   "source": [
    "# set을 활용해서 바꾸기\n",
    "for name, elem in drinks.items():\n",
    "    if elem & {'vodka'} and not elem & {'cream', 'vermouth'}:\n",
    "        print(name)"
   ]
  },
  {
   "cell_type": "markdown",
   "id": "e969ffb1-58b8-4e0c-becd-f0c32651ab57",
   "metadata": {},
   "source": [
    "### **집합 연산**\n",
    "- 교집합, 합집합, 차집합"
   ]
  },
  {
   "cell_type": "code",
   "execution_count": 163,
   "id": "3cd5d9aa-edfe-43ee-bddc-660b29fb023c",
   "metadata": {},
   "outputs": [],
   "source": [
    "a = {1, 2, 3}\n",
    "b = {2, 3, 4}"
   ]
  },
  {
   "cell_type": "markdown",
   "id": "f97ee798-8b4a-45f3-b474-1139a9bac3c4",
   "metadata": {},
   "source": [
    "- `교집합` | intersection\n",
    "  - intersection()\n",
    "  - &"
   ]
  },
  {
   "cell_type": "code",
   "execution_count": 164,
   "id": "3f7ee5f1-691d-44ef-9c5f-fd0fdc7b4ed3",
   "metadata": {},
   "outputs": [
    {
     "data": {
      "text/plain": [
       "{2, 3}"
      ]
     },
     "execution_count": 164,
     "metadata": {},
     "output_type": "execute_result"
    }
   ],
   "source": [
    "a.intersection(b)\n",
    "a & b"
   ]
  },
  {
   "cell_type": "markdown",
   "id": "c34ff714-176d-4cd6-a114-5d3f2800f52b",
   "metadata": {},
   "source": [
    "- `합집합` | union\n",
    "  - union()\n",
    "  - |"
   ]
  },
  {
   "cell_type": "code",
   "execution_count": 165,
   "id": "73d52587-eade-4215-9e78-733476f99e96",
   "metadata": {},
   "outputs": [
    {
     "data": {
      "text/plain": [
       "{1, 2, 3, 4}"
      ]
     },
     "execution_count": 165,
     "metadata": {},
     "output_type": "execute_result"
    }
   ],
   "source": [
    "a.union(b)\n",
    "a | b"
   ]
  },
  {
   "cell_type": "markdown",
   "id": "5c84c8b3-8c17-4dfb-a212-f3965aa84e84",
   "metadata": {},
   "source": [
    "- `차집합` | difference\n",
    "  - difference()\n",
    "  - -"
   ]
  },
  {
   "cell_type": "code",
   "execution_count": 166,
   "id": "036db99d-7786-4c69-a39b-4610860523ff",
   "metadata": {},
   "outputs": [
    {
     "data": {
      "text/plain": [
       "({1}, {4})"
      ]
     },
     "execution_count": 166,
     "metadata": {},
     "output_type": "execute_result"
    }
   ],
   "source": [
    "a.difference(b)\n",
    "a - b, b - a"
   ]
  },
  {
   "cell_type": "markdown",
   "id": "48a534de-da87-4474-871a-239971605b43",
   "metadata": {},
   "source": [
    "### **set 컴프리헨션**"
   ]
  },
  {
   "cell_type": "code",
   "execution_count": 167,
   "id": "82fada3f-aea3-4647-bc93-71030b7101e0",
   "metadata": {},
   "outputs": [
    {
     "data": {
      "text/plain": [
       "{0, 1, 2, 3, 4}"
      ]
     },
     "execution_count": 167,
     "metadata": {},
     "output_type": "execute_result"
    }
   ],
   "source": [
    "{s for s in range(5)}"
   ]
  },
  {
   "cell_type": "markdown",
   "id": "bf70f385-4228-4a3a-b4f6-360e326b9195",
   "metadata": {},
   "source": [
    "### **frozenset**\n",
    "- 가변객체 -> 불변객체"
   ]
  },
  {
   "cell_type": "code",
   "execution_count": 168,
   "id": "fc5bd642-f457-4ab2-a638-84719467be29",
   "metadata": {},
   "outputs": [],
   "source": [
    "# frozenset\n",
    "set([1, 2])\n",
    "temp = frozenset([1, 2])"
   ]
  },
  {
   "cell_type": "markdown",
   "id": "8519d1e5-dba2-4433-874f-2e2611a9c060",
   "metadata": {},
   "source": [
    "---\n",
    "## **Review**\n",
    "\n",
    "### **새롭게 알게 된 내용**\n",
    "\n",
    "- 딕셔너리 컴프리헨션\n",
    "- lambda 사용법\n",
    "- frozenset()"
   ]
  }
 ],
 "metadata": {
  "kernelspec": {
   "display_name": "Python 3 (ipykernel)",
   "language": "python",
   "name": "python3"
  },
  "language_info": {
   "codemirror_mode": {
    "name": "ipython",
    "version": 3
   },
   "file_extension": ".py",
   "mimetype": "text/x-python",
   "name": "python",
   "nbconvert_exporter": "python",
   "pygments_lexer": "ipython3",
   "version": "3.9.7"
  }
 },
 "nbformat": 4,
 "nbformat_minor": 5
}
