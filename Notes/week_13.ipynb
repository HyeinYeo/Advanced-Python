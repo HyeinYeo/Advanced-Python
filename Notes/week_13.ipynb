{
 "cells": [
  {
   "cell_type": "markdown",
   "id": "5d833e99-80de-4610-b0c9-eb4f05ccc218",
   "metadata": {},
   "source": [
    "# **Week 13 - 2022/06/03**\n",
    "---"
   ]
  },
  {
   "cell_type": "markdown",
   "id": "83995de7-5fd4-4b83-8bc2-67173f124ae0",
   "metadata": {},
   "source": [
    "## **함수 II**\n",
    "- 일급객체\n",
    "- 내부함수, 클로저\n",
    "- 익명함수\n",
    "- 제너레이터\n",
    "- 재귀함수"
   ]
  },
  {
   "cell_type": "markdown",
   "id": "18954bda-830b-4f03-a639-b55a49547bf7",
   "metadata": {},
   "source": [
    "### **일급 객체**\n",
    "- first class object, first class citizen\n",
    "- 파이썬에서는 함수도 일급 객체다.\n",
    "- 일급 객체의 조건\n",
    "  - 함수의 인자로 전달된다.\n",
    "    - def fx(func):\n",
    "  - 함수의 반환값이 된다.\n",
    "    - def fx(func):\n",
    "        return func\n",
    "  - 수정, 할당이 된다.\n",
    "      var = fx()"
   ]
  },
  {
   "cell_type": "code",
   "execution_count": 40,
   "id": "bc8f1c8b-d993-4d10-9c99-10ca68e49672",
   "metadata": {},
   "outputs": [
    {
     "name": "stdout",
     "output_type": "stream",
     "text": [
      "42\n"
     ]
    }
   ],
   "source": [
    "def answer():\n",
    "    print(42)\n",
    "\n",
    "def run_sth(func):\n",
    "    func() # func vs. func() : () 붙으면 '실행을 해라'\n",
    "    \n",
    "run_sth(answer)"
   ]
  },
  {
   "cell_type": "code",
   "execution_count": 41,
   "id": "cfb11dfd-f0a7-4e0a-8990-fe02a9f7fb13",
   "metadata": {},
   "outputs": [
    {
     "name": "stdout",
     "output_type": "stream",
     "text": [
      "8\n"
     ]
    }
   ],
   "source": [
    "def add_args(arg1, arg2):\n",
    "    print(arg1 + arg2)\n",
    "    \n",
    "def run_sth2(func, *args):\n",
    "    func(*args)\n",
    "\n",
    "run_sth2(add_args, 3, 5)"
   ]
  },
  {
   "cell_type": "code",
   "execution_count": 42,
   "id": "0d93403e-b3ff-4f6d-a660-3955bad60ac9",
   "metadata": {},
   "outputs": [
    {
     "name": "stdout",
     "output_type": "stream",
     "text": [
      "25\n",
      "<function square at 0x000002C421560DC0>\n",
      "<function square at 0x000002C421560DC0>\n",
      "25\n"
     ]
    }
   ],
   "source": [
    "# 개인 실습\n",
    "def square(x):\n",
    "    return x**2\n",
    "\n",
    "f = square     \n",
    "\n",
    "print(square(5))\n",
    "print(square)  \n",
    "print(f)\n",
    "print(f(5))"
   ]
  },
  {
   "cell_type": "markdown",
   "id": "d66ead14-5c93-4229-b504-afa9ef9987f2",
   "metadata": {},
   "source": [
    "### **중첩함수**\n",
    "- 함수 내에서 또 다른 함수를 정의하는 것\n",
    "- 내부함수 캡슐화\n",
    "    - 메모리 절약\n",
    "    - 변수가 섞여서 불필요하게 충돌하는 것을 방지함\n",
    "    - 목적에 맞게 변수를 그룹화. 관리, 책임 명확히"
   ]
  },
  {
   "cell_type": "code",
   "execution_count": 43,
   "id": "9c0a1495-e5b7-403e-ae79-953fb1a1c5b4",
   "metadata": {},
   "outputs": [
    {
     "data": {
      "text/plain": [
       "2"
      ]
     },
     "execution_count": 43,
     "metadata": {},
     "output_type": "execute_result"
    }
   ],
   "source": [
    "def outer(a, b): # 외부함수\n",
    "    def inner(c, d): # 내부함수\n",
    "        return c + d\n",
    "    return inner(a, b)\n",
    "\n",
    "outer(1, 1)"
   ]
  },
  {
   "cell_type": "code",
   "execution_count": 44,
   "id": "cd1886f3-c739-44ec-9b86-7cf01f6d7031",
   "metadata": {},
   "outputs": [
    {
     "ename": "NameError",
     "evalue": "name 'inner' is not defined",
     "output_type": "error",
     "traceback": [
      "\u001b[1;31m---------------------------------------------------------------------------\u001b[0m",
      "\u001b[1;31mNameError\u001b[0m                                 Traceback (most recent call last)",
      "\u001b[1;32mC:\\Temp/ipykernel_21876/2609007440.py\u001b[0m in \u001b[0;36m<module>\u001b[1;34m\u001b[0m\n\u001b[1;32m----> 1\u001b[1;33m \u001b[0minner\u001b[0m\u001b[1;33m(\u001b[0m\u001b[1;36m1\u001b[0m\u001b[1;33m,\u001b[0m \u001b[1;36m2\u001b[0m\u001b[1;33m)\u001b[0m \u001b[1;31m# 내부함수 호출 불가능\u001b[0m\u001b[1;33m\u001b[0m\u001b[1;33m\u001b[0m\u001b[0m\n\u001b[0m",
      "\u001b[1;31mNameError\u001b[0m: name 'inner' is not defined"
     ]
    }
   ],
   "source": [
    "inner(1, 2) # 내부함수 호출 불가능"
   ]
  },
  {
   "cell_type": "code",
   "execution_count": 46,
   "id": "18528096-7f72-4528-a249-bd2ae7699d8b",
   "metadata": {},
   "outputs": [],
   "source": [
    "def knight(saying):\n",
    "    def inner():\n",
    "        # 연산은 불가능\n",
    "            # saying += 'a'\n",
    "            # listA.append(saying)\n",
    "        return f'We are the knights who say: {saying}'\n",
    "    return inner\n",
    "\n",
    "a = knight('hi')\n",
    "b = knight('안녕')"
   ]
  },
  {
   "cell_type": "code",
   "execution_count": 47,
   "id": "c0b1cc85-afac-4c81-b13d-6b1883d46606",
   "metadata": {},
   "outputs": [
    {
     "data": {
      "text/plain": [
       "<function __main__.knight.<locals>.inner()>"
      ]
     },
     "execution_count": 47,
     "metadata": {},
     "output_type": "execute_result"
    }
   ],
   "source": [
    "a"
   ]
  },
  {
   "cell_type": "markdown",
   "id": "6c166608-8b62-41c2-9d7e-08990dfad9db",
   "metadata": {},
   "source": [
    "- 외부함수의 인자를 `참조`할 수 있다.\n",
    "- 수정/활용은 안 됨"
   ]
  },
  {
   "cell_type": "code",
   "execution_count": 48,
   "id": "9de6792e-8775-42ec-a13b-4220790513af",
   "metadata": {},
   "outputs": [
    {
     "data": {
      "text/plain": [
       "'We are the knights who say: hi'"
      ]
     },
     "execution_count": 48,
     "metadata": {},
     "output_type": "execute_result"
    }
   ],
   "source": [
    "a()"
   ]
  },
  {
   "cell_type": "code",
   "execution_count": 49,
   "id": "8447dd9e-6427-4b4f-8a74-75a3e43d6606",
   "metadata": {},
   "outputs": [
    {
     "ename": "NameError",
     "evalue": "name 'saying' is not defined",
     "output_type": "error",
     "traceback": [
      "\u001b[1;31m---------------------------------------------------------------------------\u001b[0m",
      "\u001b[1;31mNameError\u001b[0m                                 Traceback (most recent call last)",
      "\u001b[1;32mC:\\Temp/ipykernel_21876/2334059125.py\u001b[0m in \u001b[0;36m<module>\u001b[1;34m\u001b[0m\n\u001b[0;32m      3\u001b[0m     \u001b[1;32mreturn\u001b[0m \u001b[1;34mf'We are the knights who say: {saying}'\u001b[0m\u001b[1;33m\u001b[0m\u001b[1;33m\u001b[0m\u001b[0m\n\u001b[0;32m      4\u001b[0m \u001b[1;33m\u001b[0m\u001b[0m\n\u001b[1;32m----> 5\u001b[1;33m \u001b[0minner\u001b[0m\u001b[1;33m(\u001b[0m\u001b[1;33m)\u001b[0m\u001b[1;33m\u001b[0m\u001b[1;33m\u001b[0m\u001b[0m\n\u001b[0m",
      "\u001b[1;32mC:\\Temp/ipykernel_21876/2334059125.py\u001b[0m in \u001b[0;36minner\u001b[1;34m()\u001b[0m\n\u001b[0;32m      1\u001b[0m \u001b[1;31m# 원래는 매개변수-인자로 받지 않으면 사용 불가능\u001b[0m\u001b[1;33m\u001b[0m\u001b[1;33m\u001b[0m\u001b[0m\n\u001b[0;32m      2\u001b[0m \u001b[1;32mdef\u001b[0m \u001b[0minner\u001b[0m\u001b[1;33m(\u001b[0m\u001b[1;33m)\u001b[0m\u001b[1;33m:\u001b[0m\u001b[1;33m\u001b[0m\u001b[1;33m\u001b[0m\u001b[0m\n\u001b[1;32m----> 3\u001b[1;33m     \u001b[1;32mreturn\u001b[0m \u001b[1;34mf'We are the knights who say: {saying}'\u001b[0m\u001b[1;33m\u001b[0m\u001b[1;33m\u001b[0m\u001b[0m\n\u001b[0m\u001b[0;32m      4\u001b[0m \u001b[1;33m\u001b[0m\u001b[0m\n\u001b[0;32m      5\u001b[0m \u001b[0minner\u001b[0m\u001b[1;33m(\u001b[0m\u001b[1;33m)\u001b[0m\u001b[1;33m\u001b[0m\u001b[1;33m\u001b[0m\u001b[0m\n",
      "\u001b[1;31mNameError\u001b[0m: name 'saying' is not defined"
     ]
    }
   ],
   "source": [
    "# 원래는 매개변수-인자로 받지 않으면 사용 불가능\n",
    "def inner():\n",
    "    return f'We are the knights who say: {saying}'\n",
    "\n",
    "inner()"
   ]
  },
  {
   "cell_type": "code",
   "execution_count": 50,
   "id": "297d5573-c855-42ab-9c79-e49743c6816d",
   "metadata": {},
   "outputs": [
    {
     "name": "stdout",
     "output_type": "stream",
     "text": [
      "1\n",
      "2\n",
      "5\n",
      "9\n",
      "---\n",
      "There is nothing!\n"
     ]
    }
   ],
   "source": [
    "# 개인 실습\n",
    "\n",
    "def print_all_elements(list_of_things):\n",
    "    # 중첩함수\n",
    "    def print_each_element(things):\n",
    "        for thing in things:\n",
    "            print(thing)\n",
    "\n",
    "    if len(list_of_things) > 0:\n",
    "        print_each_element(list_of_things)\n",
    "    else:\n",
    "        print(\"There is nothing!\")\n",
    "\n",
    "list_1 = [1, 2, 5, 9]\n",
    "list_2 = []\n",
    "print_all_elements(list_1)\n",
    "print('---')\n",
    "print_all_elements(list_2)"
   ]
  },
  {
   "cell_type": "markdown",
   "id": "b490db6c-1724-4cdf-a3f7-ab1056bbea2e",
   "metadata": {},
   "source": [
    "### **클로저 | closure**\n",
    "- 조건\n",
    "    1. 중첩함수일 것\n",
    "    2. 내부함수가 외부함수의 상태값을 참조할 것\n",
    "    3. 외부함수의 리턴값이 내부함수일 것\n",
    "- 외부함수의 상태값을 기억하는 함수(호출 시 사용 가능)"
   ]
  },
  {
   "cell_type": "code",
   "execution_count": 51,
   "id": "573c55db-1069-4151-8cb0-e0a708fb433f",
   "metadata": {},
   "outputs": [],
   "source": [
    "def multifly(x):\n",
    "    def inner(y): # 1.\n",
    "        return x * y # 2.\n",
    "    return inner # 3."
   ]
  },
  {
   "cell_type": "code",
   "execution_count": 52,
   "id": "cc6bea54-c76e-4459-b507-c736717e2269",
   "metadata": {},
   "outputs": [],
   "source": [
    "m = multifly(5)\n",
    "n = multifly(6)"
   ]
  },
  {
   "cell_type": "code",
   "execution_count": 53,
   "id": "8c4f8bde-d601-4ea1-820d-d4301f15fe32",
   "metadata": {},
   "outputs": [
    {
     "data": {
      "text/plain": [
       "(10, 60)"
      ]
     },
     "execution_count": 53,
     "metadata": {},
     "output_type": "execute_result"
    }
   ],
   "source": [
    "m(2), n(10)"
   ]
  },
  {
   "cell_type": "code",
   "execution_count": 54,
   "id": "88182484-f95b-4a9a-89df-e70b86b3f749",
   "metadata": {},
   "outputs": [],
   "source": [
    "del(multifly)"
   ]
  },
  {
   "cell_type": "code",
   "execution_count": 55,
   "id": "6e3dafdb-daae-4181-9996-17a5b62d1b4b",
   "metadata": {},
   "outputs": [
    {
     "ename": "NameError",
     "evalue": "name 'multifly' is not defined",
     "output_type": "error",
     "traceback": [
      "\u001b[1;31m---------------------------------------------------------------------------\u001b[0m",
      "\u001b[1;31mNameError\u001b[0m                                 Traceback (most recent call last)",
      "\u001b[1;32mC:\\Temp/ipykernel_21876/1185389868.py\u001b[0m in \u001b[0;36m<module>\u001b[1;34m\u001b[0m\n\u001b[1;32m----> 1\u001b[1;33m \u001b[0mmultifly\u001b[0m \u001b[1;31m# 외부함수 삭제\u001b[0m\u001b[1;33m\u001b[0m\u001b[1;33m\u001b[0m\u001b[0m\n\u001b[0m",
      "\u001b[1;31mNameError\u001b[0m: name 'multifly' is not defined"
     ]
    }
   ],
   "source": [
    "multifly # 외부함수 삭제"
   ]
  },
  {
   "cell_type": "code",
   "execution_count": 56,
   "id": "ffad936e-c55e-4660-af11-5841979397ed",
   "metadata": {},
   "outputs": [
    {
     "data": {
      "text/plain": [
       "40"
      ]
     },
     "execution_count": 56,
     "metadata": {},
     "output_type": "execute_result"
    }
   ],
   "source": [
    "m(8) # 객체는 따로 기억 -> 메모리 효율적 사용"
   ]
  },
  {
   "cell_type": "markdown",
   "id": "7371ac1b-c82c-4067-85e7-a30698ccca37",
   "metadata": {},
   "source": [
    "#### **[실습 1] square 함수(클로저 사용)**"
   ]
  },
  {
   "cell_type": "code",
   "execution_count": 57,
   "id": "e0397550-33b9-4d5c-9cbc-3f7709d9ac04",
   "metadata": {},
   "outputs": [],
   "source": [
    "def add(a, b):\n",
    "    return a + b\n",
    "\n",
    "# 리턴값 * 리턴값 (8 * 8)\n",
    "def square(func):\n",
    "    def inner(x, y):\n",
    "        n = func(x, y)\n",
    "        return n * n\n",
    "    return inner"
   ]
  },
  {
   "cell_type": "code",
   "execution_count": 58,
   "id": "55b525e4-85b9-421c-be4c-acd99d454b7c",
   "metadata": {},
   "outputs": [],
   "source": [
    "s = square(add)"
   ]
  },
  {
   "cell_type": "code",
   "execution_count": 59,
   "id": "6f2781d6-69db-4e92-8290-c3ad9c417a19",
   "metadata": {},
   "outputs": [
    {
     "data": {
      "text/plain": [
       "81"
      ]
     },
     "execution_count": 59,
     "metadata": {},
     "output_type": "execute_result"
    }
   ],
   "source": [
    "s(4, 5)"
   ]
  },
  {
   "cell_type": "code",
   "execution_count": 60,
   "id": "7c08ed8c-08dc-4e49-ba02-7936fc3ddd2b",
   "metadata": {},
   "outputs": [
    {
     "data": {
      "text/plain": [
       "4"
      ]
     },
     "execution_count": 60,
     "metadata": {},
     "output_type": "execute_result"
    }
   ],
   "source": [
    "# 개인 실습\n",
    "def f(x):\n",
    "    def g(y):\n",
    "        return x + y\n",
    "    return g  \n",
    "\n",
    "func1 = f(1)\n",
    "func1(3)"
   ]
  },
  {
   "cell_type": "markdown",
   "id": "4cd7250d-77b9-424b-b90a-1cb87f47ff96",
   "metadata": {
    "tags": []
   },
   "source": [
    "### **데코레이터**\n",
    "- 메인 함수에 또 다른 함수를 취해 반환할 수 있게 함\n",
    "- 재사용성 높음\n",
    "- 가독성, 직관성 좋음"
   ]
  },
  {
   "cell_type": "code",
   "execution_count": 61,
   "id": "c9d24d2b-e098-4847-ad64-d1659c4e6804",
   "metadata": {},
   "outputs": [],
   "source": [
    "def add(a, b):\n",
    "    return a + b\n",
    "\n",
    "def square(func):\n",
    "    def inner(x, y):\n",
    "        n = func(x, y)\n",
    "        return n * n\n",
    "    return inner"
   ]
  },
  {
   "cell_type": "code",
   "execution_count": 62,
   "id": "afabb3d0-2550-4e72-a366-ea8342eb6458",
   "metadata": {},
   "outputs": [
    {
     "data": {
      "text/plain": [
       "81"
      ]
     },
     "execution_count": 62,
     "metadata": {},
     "output_type": "execute_result"
    }
   ],
   "source": [
    "@square\n",
    "def plus(a, b):\n",
    "    return a + b\n",
    "\n",
    "plus(4, 5)"
   ]
  },
  {
   "cell_type": "code",
   "execution_count": 63,
   "id": "3b2b5aee-73b1-487c-afea-345143186b31",
   "metadata": {},
   "outputs": [
    {
     "name": "stdout",
     "output_type": "stream",
     "text": [
      "welcome to our restaurant\n",
      "steak\n"
     ]
    }
   ],
   "source": [
    "# 개인 실습\n",
    "def welcome_message(myfunc):\n",
    "    def inner_func(*args, **kwargs):\n",
    "        print('welcome to our restaurant')\n",
    "        myfunc()\n",
    "    return inner_func\n",
    "\n",
    "@welcome_message\n",
    "def menu_item():\n",
    "    print(\"steak\")\n",
    "    \n",
    "menu_item()"
   ]
  },
  {
   "cell_type": "markdown",
   "id": "245e6576-02d9-482f-8a3b-5146a7a2326a",
   "metadata": {},
   "source": [
    "### **scope | 범위**\n",
    "- 전역: global\n",
    "- 지역: local\n",
    "- `nonlocal`"
   ]
  },
  {
   "cell_type": "code",
   "execution_count": 64,
   "id": "50a2b4e6-9155-4165-a925-fbdd6c03eeca",
   "metadata": {},
   "outputs": [],
   "source": [
    "a = 1 #global\n",
    "def add(a, b):\n",
    "    x = 2 #local\n",
    "    return a + b\n",
    "\n",
    "def square(func):\n",
    "    #local\n",
    "    def inner(x, y): #nonlocal\n",
    "        n = func(x, y)\n",
    "        return n * n\n",
    "    return inner"
   ]
  },
  {
   "cell_type": "code",
   "execution_count": 65,
   "id": "35fd2e9a-7227-4935-b05e-d42db77e656f",
   "metadata": {},
   "outputs": [
    {
     "data": {
      "text/plain": [
       "999"
      ]
     },
     "execution_count": 65,
     "metadata": {},
     "output_type": "execute_result"
    }
   ],
   "source": [
    "a = 3 #global\n",
    "\n",
    "def outer(c): # c=9\n",
    "    b = 5 #local\n",
    "    def inner():\n",
    "        # c=9\n",
    "        c = 999 # nonlocal\n",
    "        return c # 인자로 받은  c와는 다른 c\n",
    "    return inner()\n",
    "\n",
    "outer(9)"
   ]
  },
  {
   "cell_type": "code",
   "execution_count": 66,
   "id": "b11298b6-641c-4078-bf77-52bd44ed337c",
   "metadata": {},
   "outputs": [
    {
     "ename": "UnboundLocalError",
     "evalue": "local variable 'c' referenced before assignment",
     "output_type": "error",
     "traceback": [
      "\u001b[1;31m---------------------------------------------------------------------------\u001b[0m",
      "\u001b[1;31mUnboundLocalError\u001b[0m                         Traceback (most recent call last)",
      "\u001b[1;32mC:\\Temp/ipykernel_21876/2047582937.py\u001b[0m in \u001b[0;36m<module>\u001b[1;34m\u001b[0m\n\u001b[0;32m      9\u001b[0m     \u001b[1;32mreturn\u001b[0m \u001b[0minner\u001b[0m\u001b[1;33m(\u001b[0m\u001b[1;33m)\u001b[0m\u001b[1;33m\u001b[0m\u001b[1;33m\u001b[0m\u001b[0m\n\u001b[0;32m     10\u001b[0m \u001b[1;33m\u001b[0m\u001b[0m\n\u001b[1;32m---> 11\u001b[1;33m \u001b[0mouter\u001b[0m\u001b[1;33m(\u001b[0m\u001b[1;36m9\u001b[0m\u001b[1;33m)\u001b[0m\u001b[1;33m\u001b[0m\u001b[1;33m\u001b[0m\u001b[0m\n\u001b[0m",
      "\u001b[1;32mC:\\Temp/ipykernel_21876/2047582937.py\u001b[0m in \u001b[0;36mouter\u001b[1;34m(c)\u001b[0m\n\u001b[0;32m      7\u001b[0m         \u001b[0mc\u001b[0m \u001b[1;33m+=\u001b[0m \u001b[1;36m1\u001b[0m \u001b[1;31m#읽기는 되지만 쓰기는 안 된다\u001b[0m\u001b[1;33m\u001b[0m\u001b[1;33m\u001b[0m\u001b[0m\n\u001b[0;32m      8\u001b[0m         \u001b[1;32mreturn\u001b[0m \u001b[0mc\u001b[0m\u001b[1;33m\u001b[0m\u001b[1;33m\u001b[0m\u001b[0m\n\u001b[1;32m----> 9\u001b[1;33m     \u001b[1;32mreturn\u001b[0m \u001b[0minner\u001b[0m\u001b[1;33m(\u001b[0m\u001b[1;33m)\u001b[0m\u001b[1;33m\u001b[0m\u001b[1;33m\u001b[0m\u001b[0m\n\u001b[0m\u001b[0;32m     10\u001b[0m \u001b[1;33m\u001b[0m\u001b[0m\n\u001b[0;32m     11\u001b[0m \u001b[0mouter\u001b[0m\u001b[1;33m(\u001b[0m\u001b[1;36m9\u001b[0m\u001b[1;33m)\u001b[0m\u001b[1;33m\u001b[0m\u001b[1;33m\u001b[0m\u001b[0m\n",
      "\u001b[1;32mC:\\Temp/ipykernel_21876/2047582937.py\u001b[0m in \u001b[0;36minner\u001b[1;34m()\u001b[0m\n\u001b[0;32m      5\u001b[0m     \u001b[1;32mdef\u001b[0m \u001b[0minner\u001b[0m\u001b[1;33m(\u001b[0m\u001b[1;33m)\u001b[0m\u001b[1;33m:\u001b[0m\u001b[1;33m\u001b[0m\u001b[1;33m\u001b[0m\u001b[0m\n\u001b[0;32m      6\u001b[0m         \u001b[1;31m# c=9\u001b[0m\u001b[1;33m\u001b[0m\u001b[1;33m\u001b[0m\u001b[0m\n\u001b[1;32m----> 7\u001b[1;33m         \u001b[0mc\u001b[0m \u001b[1;33m+=\u001b[0m \u001b[1;36m1\u001b[0m \u001b[1;31m#읽기는 되지만 쓰기는 안 된다\u001b[0m\u001b[1;33m\u001b[0m\u001b[1;33m\u001b[0m\u001b[0m\n\u001b[0m\u001b[0;32m      8\u001b[0m         \u001b[1;32mreturn\u001b[0m \u001b[0mc\u001b[0m\u001b[1;33m\u001b[0m\u001b[1;33m\u001b[0m\u001b[0m\n\u001b[0;32m      9\u001b[0m     \u001b[1;32mreturn\u001b[0m \u001b[0minner\u001b[0m\u001b[1;33m(\u001b[0m\u001b[1;33m)\u001b[0m\u001b[1;33m\u001b[0m\u001b[1;33m\u001b[0m\u001b[0m\n",
      "\u001b[1;31mUnboundLocalError\u001b[0m: local variable 'c' referenced before assignment"
     ]
    }
   ],
   "source": [
    "a = 3 #global\n",
    "\n",
    "def outer(c): # c=9\n",
    "    b = 5 #local\n",
    "    def inner():\n",
    "        # c=9\n",
    "        c += 1 #읽기는 되지만 쓰기는 안 된다\n",
    "        return c\n",
    "    return inner()\n",
    "\n",
    "outer(9)"
   ]
  },
  {
   "cell_type": "code",
   "execution_count": 67,
   "id": "77c178e9-5498-4595-a7f2-73a0243519c2",
   "metadata": {},
   "outputs": [
    {
     "data": {
      "text/plain": [
       "10"
      ]
     },
     "execution_count": 67,
     "metadata": {},
     "output_type": "execute_result"
    }
   ],
   "source": [
    "a = 3 #global\n",
    "\n",
    "def outer(c): # c=9\n",
    "    b = 5 #local\n",
    "    def inner():\n",
    "        # c=9\n",
    "        nonlocal c\n",
    "        c += 1 \n",
    "        return c\n",
    "    return inner()\n",
    "\n",
    "outer(9)"
   ]
  },
  {
   "cell_type": "code",
   "execution_count": 68,
   "id": "0217b751-dbf7-454d-9fb5-9820399656d0",
   "metadata": {},
   "outputs": [
    {
     "data": {
      "text/plain": [
       "6"
      ]
     },
     "execution_count": 68,
     "metadata": {},
     "output_type": "execute_result"
    }
   ],
   "source": [
    "# 개인 실습: local은?\n",
    "    # local도 nonlocal로 선언해줘야 수정 가능\n",
    "a = 3 #global\n",
    "\n",
    "def outer(c): # c=9\n",
    "    b = 5 #local\n",
    "    def inner():\n",
    "        # c=9\n",
    "        nonlocal b\n",
    "        b += 1 \n",
    "        return b\n",
    "    return inner()\n",
    "\n",
    "outer(9)"
   ]
  },
  {
   "cell_type": "markdown",
   "id": "4cded4eb-64b0-406b-8435-65055f648c45",
   "metadata": {},
   "source": [
    "#### **[실습 2] 제한 속도 초과 검사 함수(클로저, 데코레이터)**\n",
    "- fx1: speed, limit 내 속도가 제한 속도를 위반하는지 T/F\n",
    "- fx2: 클로저. 초과할 경우에 얼마나 초과하는지 프린트하는 함수\n",
    "- 실행은 데코레이터로"
   ]
  },
  {
   "cell_type": "code",
   "execution_count": 69,
   "id": "d81c566d-4eb1-4968-8b7e-c14bfc01cb4c",
   "metadata": {},
   "outputs": [],
   "source": [
    "def fx1(speed, limit):\n",
    "    return speed > limit\n",
    "\n",
    "def fx2(func):\n",
    "    def inner(s, l):\n",
    "        if func(s, l):\n",
    "            return f'{s - l} km/h 초과'\n",
    "    return inner"
   ]
  },
  {
   "cell_type": "code",
   "execution_count": 70,
   "id": "5f24273e-3454-449d-af93-e215e0cd4b0e",
   "metadata": {},
   "outputs": [],
   "source": [
    "@fx2\n",
    "def fx1(speed, limit):\n",
    "    return True if speed > limit else False"
   ]
  },
  {
   "cell_type": "code",
   "execution_count": 71,
   "id": "9668b67e-3da5-41c6-a31d-65b1a8d1c753",
   "metadata": {},
   "outputs": [
    {
     "data": {
      "text/plain": [
       "'20 km/h 초과'"
      ]
     },
     "execution_count": 71,
     "metadata": {},
     "output_type": "execute_result"
    }
   ],
   "source": [
    "fx1(80, 60)"
   ]
  },
  {
   "cell_type": "code",
   "execution_count": 72,
   "id": "2e6a4aab-8b75-4c13-a81a-173af74daf08",
   "metadata": {},
   "outputs": [
    {
     "name": "stdout",
     "output_type": "stream",
     "text": [
      "초과: 20 km/h\n",
      "정상 속도\n"
     ]
    }
   ],
   "source": [
    "def violate(func):\n",
    "    def inner(speed, limit):\n",
    "        if func(speed, limit):\n",
    "            return f'초과: {speed - limit} km/h'\n",
    "        else:\n",
    "             return '정상 속도'\n",
    "    return inner\n",
    "\n",
    "\n",
    "@violate\n",
    "def is_speeding(speed, limit):\n",
    "    return speed > limit\n",
    "\n",
    "print(is_speeding(100, 80))\n",
    "print(is_speeding(60, 80))"
   ]
  },
  {
   "cell_type": "markdown",
   "id": "0dc5355d-ca83-4bc8-988a-8815ea4e76e6",
   "metadata": {},
   "source": [
    "### **익명함수 | lambda**\n",
    "- 이름이 없다.\n",
    "    \n",
    "    def is_speeding(): \n",
    "        return\n",
    "        \n",
    "    - def, return x\n",
    "    - is_speeding x\n",
    "\n",
    "- 함수 재사용할 일 없을 때\n",
    "- 단순한 용도의 함수가 필요한 경우 사용\n",
    "- 잦은 사용은 권하지 않음\n",
    "- lambda x : <x를 요리할 코드>"
   ]
  },
  {
   "cell_type": "code",
   "execution_count": 73,
   "id": "bda27736-000b-437c-8728-a4dedffc3f8a",
   "metadata": {},
   "outputs": [
    {
     "data": {
      "text/plain": [
       "3"
      ]
     },
     "execution_count": 73,
     "metadata": {},
     "output_type": "execute_result"
    }
   ],
   "source": [
    "(lambda x: x + 1)(2)"
   ]
  },
  {
   "cell_type": "code",
   "execution_count": 74,
   "id": "dfb7a04d-d64c-4a20-a5f2-3158bf331d0c",
   "metadata": {},
   "outputs": [
    {
     "data": {
      "text/plain": [
       "3"
      ]
     },
     "execution_count": 74,
     "metadata": {},
     "output_type": "execute_result"
    }
   ],
   "source": [
    "def add_one(x):\n",
    "    return x + 1\n",
    "add_one(2) # 호출 수고 X"
   ]
  },
  {
   "cell_type": "code",
   "execution_count": 75,
   "id": "dc53adbb-22d4-49ca-90ca-28f10503cda9",
   "metadata": {},
   "outputs": [],
   "source": [
    "# 할당도 가능\n",
    "f = lambda x : x + 1"
   ]
  },
  {
   "cell_type": "code",
   "execution_count": 76,
   "id": "93384e52-1e13-46e9-a4c8-4eec99b56a67",
   "metadata": {},
   "outputs": [],
   "source": [
    "# 변수 복수 개 사용하고 싶을 때\n",
    "f = lambda x, y: x + y"
   ]
  },
  {
   "cell_type": "code",
   "execution_count": 77,
   "id": "4158d0d6-b782-47a4-ada0-ca0f9fc45b54",
   "metadata": {},
   "outputs": [
    {
     "data": {
      "text/plain": [
       "8"
      ]
     },
     "execution_count": 77,
     "metadata": {},
     "output_type": "execute_result"
    }
   ],
   "source": [
    "f(3, 5)"
   ]
  },
  {
   "cell_type": "code",
   "execution_count": 78,
   "id": "4e9058d5-21f3-4425-ad4f-895bf955abcc",
   "metadata": {},
   "outputs": [
    {
     "data": {
      "text/plain": [
       "3"
      ]
     },
     "execution_count": 78,
     "metadata": {},
     "output_type": "execute_result"
    }
   ],
   "source": [
    "# 개인 실습\n",
    "    # 클로저 + 람다\n",
    "def h(x):\n",
    "    return lambda y: x + y\n",
    "func2 = h(1)\n",
    "func2(2)"
   ]
  },
  {
   "cell_type": "markdown",
   "id": "b3c07f7f-3e5b-4762-9284-dd8b7e66af2c",
   "metadata": {},
   "source": [
    "#### **[실습 3] 문자열 조작(람다 함수)**\n",
    "- 단어가 들어왔을 때 첫글자를 대문자로 바꾸고 단어 끝에 !를 붙이도록 람다를 만들자\n",
    "- 예: hello -> Hello!"
   ]
  },
  {
   "cell_type": "code",
   "execution_count": 79,
   "id": "254d34ca-85ea-441b-bd8d-54058a15a2c4",
   "metadata": {},
   "outputs": [
    {
     "data": {
      "text/plain": [
       "'Hello!'"
      ]
     },
     "execution_count": 79,
     "metadata": {},
     "output_type": "execute_result"
    }
   ],
   "source": [
    "word = lambda x: x.capitalize() + '!'\n",
    "\n",
    "word('hello')"
   ]
  },
  {
   "cell_type": "markdown",
   "id": "f19c6e67-b157-49e3-8811-0029f937cb4f",
   "metadata": {},
   "source": [
    "### **제너레이터**\n",
    "- return -> yield\n",
    "- 시퀀스 순회할 때 시퀀스를 생성하는 객체.\n",
    "- 한 번 사용되고 사라짐 => 메모리 효율 좋음"
   ]
  },
  {
   "cell_type": "code",
   "execution_count": 80,
   "id": "efa4dba7-2dd3-4a88-af37-c816d1059384",
   "metadata": {},
   "outputs": [
    {
     "data": {
      "text/plain": [
       "<generator object print_number at 0x000002C4219D5AC0>"
      ]
     },
     "execution_count": 80,
     "metadata": {},
     "output_type": "execute_result"
    }
   ],
   "source": [
    "def print_number(num):\n",
    "    for i in range(num):\n",
    "        yield i\n",
    "        \n",
    "print_number(10)"
   ]
  },
  {
   "cell_type": "code",
   "execution_count": 81,
   "id": "9bbd4d37-bfbf-417c-8e04-1430b0ad8408",
   "metadata": {},
   "outputs": [
    {
     "name": "stdout",
     "output_type": "stream",
     "text": [
      "0\n",
      "1\n",
      "2\n",
      "3\n",
      "4\n",
      "5\n",
      "6\n",
      "7\n",
      "8\n",
      "9\n"
     ]
    }
   ],
   "source": [
    "fx = print_number(10)\n",
    "for i in fx:\n",
    "    print(i)"
   ]
  },
  {
   "cell_type": "code",
   "execution_count": 82,
   "id": "701c845d-34b4-4549-a457-abde6218e96f",
   "metadata": {},
   "outputs": [],
   "source": [
    "for i in fx:\n",
    "    print(i)\n",
    "    \n",
    "# 아무것도 안 뜬다(한 번 사용되고 사라짐)"
   ]
  },
  {
   "cell_type": "code",
   "execution_count": 83,
   "id": "94fca4a3-18e7-435a-9a69-1c3134ef9e2c",
   "metadata": {},
   "outputs": [],
   "source": [
    "# 제너레이터 타입\n",
    "ranger = (i for i in range(5)) "
   ]
  },
  {
   "cell_type": "code",
   "execution_count": 84,
   "id": "b48a193a-e07e-4802-952c-50be15c3695f",
   "metadata": {},
   "outputs": [
    {
     "name": "stdout",
     "output_type": "stream",
     "text": [
      "0\n",
      "1\n",
      "2\n",
      "3\n",
      "4\n"
     ]
    }
   ],
   "source": [
    "for i in ranger:\n",
    "    print(i)"
   ]
  },
  {
   "cell_type": "code",
   "execution_count": 85,
   "id": "f9d8911a-702c-4703-99d6-6ed5ec91e69d",
   "metadata": {},
   "outputs": [
    {
     "name": "stdout",
     "output_type": "stream",
     "text": [
      "A\n",
      "B\n",
      "C\n"
     ]
    }
   ],
   "source": [
    "# 개인 실습(1초마다 1개씩 출력)\n",
    "import time\n",
    "\n",
    "def yield_abc():\n",
    "    for ch in \"ABC\":\n",
    "        time.sleep(1)\n",
    "        yield ch\n",
    "\n",
    "for ch in yield_abc():\n",
    "    print(ch)"
   ]
  },
  {
   "cell_type": "markdown",
   "id": "784d90df-a7e9-4fd7-b621-561367d0949a",
   "metadata": {},
   "source": [
    "- 제너레이터의 장점(vs. return)\n",
    "    - 수만 개의 알파벳을 출력하는 경우,\n",
    "        - return: 첫 번째 결과값을 얻는 데 수만 초 소요 \n",
    "        - 제너레이터: 첫 번째 결과값을 얻는 데 항상 1초 소요\n",
    "            - 결과값을 나누어서 얻을 수 있기 때문에 성능 측면에서 큰 장점\n",
    "    - 메모리 효율\n",
    "        - return: 모든 결과값을 메모리에 올려놓아야 함\n",
    "        - 제너레이터: 결과 값을 하나씩 메모리에 올려놓음\n",
    "            - 특히 메모리에 한 번에 올리기에는 부담스러운 경우\n",
    "                - 대용량의 파일 읽기 \n",
    "                - 스트림 데이터 처리 시"
   ]
  },
  {
   "cell_type": "markdown",
   "id": "9e82cc01-3aef-4281-9a80-9d044de2b4bf",
   "metadata": {
    "tags": []
   },
   "source": [
    "#### **[실습 3] range() 구현하기(제너레이터)**\n",
    "- 제너레이터 사용\n",
    "- def my_range(start, end, step):\n",
    "    yield\n",
    "\n",
    "ranger = my_range(a, b, c)"
   ]
  },
  {
   "cell_type": "code",
   "execution_count": 86,
   "id": "035c7aa4-c066-4a18-b4f0-5e5cbbc72dc8",
   "metadata": {},
   "outputs": [],
   "source": [
    "def my_range(end, start=None, step=1):\n",
    "    if start is None:\n",
    "        start = 0\n",
    "    else:\n",
    "        start, end = end, start\n",
    "     \n",
    "    cnt = start\n",
    "    while cnt < end:\n",
    "        yield cnt\n",
    "        cnt += step"
   ]
  },
  {
   "cell_type": "code",
   "execution_count": 87,
   "id": "eb83f94d-93e4-4741-9dd8-c148cec406a3",
   "metadata": {},
   "outputs": [
    {
     "name": "stdout",
     "output_type": "stream",
     "text": [
      "0\n",
      "1\n",
      "2\n",
      "3\n",
      "4\n"
     ]
    }
   ],
   "source": [
    "ranger = my_range(5)\n",
    "\n",
    "for i in ranger:\n",
    "    print(i)"
   ]
  },
  {
   "cell_type": "code",
   "execution_count": 88,
   "id": "6d42bb87-1f6a-4342-b422-b19cfc166fc8",
   "metadata": {},
   "outputs": [
    {
     "name": "stdout",
     "output_type": "stream",
     "text": [
      "1\n",
      "3\n",
      "5\n",
      "7\n",
      "9\n"
     ]
    }
   ],
   "source": [
    "ranger = my_range(1, 10, 2)\n",
    "\n",
    "for i in ranger:\n",
    "    print(i)"
   ]
  },
  {
   "cell_type": "markdown",
   "id": "e6763db5-cbe1-4fcf-8327-f5b96be81959",
   "metadata": {},
   "source": [
    "### **재귀함수**\n",
    "- 너무 깊으면 예외 발생 => 주의\n",
    "- 자기 자신을 호출하는 함수\n",
    "- [[1, 2, 3], 4, 5] -> [1, 2, 3, 4, 5]"
   ]
  },
  {
   "cell_type": "code",
   "execution_count": 89,
   "id": "5b2aa1ef-ea30-43fa-831d-5a6b81e610ce",
   "metadata": {},
   "outputs": [],
   "source": [
    "def flatten(sent):\n",
    "    for word in sent:\n",
    "        if isinstance(word, list):\n",
    "            # true\n",
    "            for sub_word in flatten(word):\n",
    "                yield sub_word\n",
    "            # yield from flatten(word)\n",
    "        else:\n",
    "            #false\n",
    "            yield word"
   ]
  },
  {
   "cell_type": "code",
   "execution_count": 90,
   "id": "bdc2544a-9f97-4ed8-b23d-9ba6aa075bb7",
   "metadata": {},
   "outputs": [
    {
     "data": {
      "text/plain": [
       "False"
      ]
     },
     "execution_count": 90,
     "metadata": {},
     "output_type": "execute_result"
    }
   ],
   "source": [
    "# 인스턴스 타입 확인\n",
    "isinstance('h', int)"
   ]
  },
  {
   "cell_type": "code",
   "execution_count": 91,
   "id": "7d072884-74ec-414d-9f3b-1d950541b828",
   "metadata": {},
   "outputs": [
    {
     "data": {
      "text/plain": [
       "<generator object flatten at 0x000002C4219ED3C0>"
      ]
     },
     "execution_count": 91,
     "metadata": {},
     "output_type": "execute_result"
    }
   ],
   "source": [
    "a = [[1, 2, 3], [[1, 1]], 4, 5]\n",
    "flatten(a)"
   ]
  },
  {
   "cell_type": "code",
   "execution_count": 92,
   "id": "a30ce526-c5c4-4e10-9c38-37f44f81a0a0",
   "metadata": {},
   "outputs": [
    {
     "name": "stdout",
     "output_type": "stream",
     "text": [
      "1\n",
      "2\n",
      "3\n",
      "1\n",
      "1\n",
      "4\n",
      "5\n"
     ]
    }
   ],
   "source": [
    "for i in flatten(a):\n",
    "    print(i)"
   ]
  },
  {
   "cell_type": "markdown",
   "id": "d5114c0f-ae94-4b00-9e59-a7af06100260",
   "metadata": {},
   "source": [
    "### **예외 처리 | exception handling**\n",
    "- 목적: 프로그램 정상 종료\n",
    "- 예외 발생 시, 사용자에게 알리고 조치 취함\n",
    "- 소프트 랜딩"
   ]
  },
  {
   "cell_type": "markdown",
   "id": "6905d943-667a-445a-a5ff-ba0783aa77a5",
   "metadata": {},
   "source": [
    "#### **0. 대표적인 예외 유형**"
   ]
  },
  {
   "cell_type": "code",
   "execution_count": 93,
   "id": "eb81897e-c339-4f59-8429-67d1365f5da2",
   "metadata": {},
   "outputs": [
    {
     "ename": "ZeroDivisionError",
     "evalue": "division by zero",
     "output_type": "error",
     "traceback": [
      "\u001b[1;31m---------------------------------------------------------------------------\u001b[0m",
      "\u001b[1;31mZeroDivisionError\u001b[0m                         Traceback (most recent call last)",
      "\u001b[1;32mC:\\Temp/ipykernel_21876/2603469385.py\u001b[0m in \u001b[0;36m<module>\u001b[1;34m\u001b[0m\n\u001b[0;32m      1\u001b[0m \u001b[1;31m# ZeroDivisionError\u001b[0m\u001b[1;33m\u001b[0m\u001b[1;33m\u001b[0m\u001b[0m\n\u001b[1;32m----> 2\u001b[1;33m \u001b[1;36m10\u001b[0m \u001b[1;33m/\u001b[0m \u001b[1;36m0\u001b[0m\u001b[1;33m\u001b[0m\u001b[1;33m\u001b[0m\u001b[0m\n\u001b[0m",
      "\u001b[1;31mZeroDivisionError\u001b[0m: division by zero"
     ]
    }
   ],
   "source": [
    "# ZeroDivisionError\n",
    "10 / 0"
   ]
  },
  {
   "cell_type": "code",
   "execution_count": 94,
   "id": "56153c54-e0dd-46b6-928f-8fc2d26a970e",
   "metadata": {},
   "outputs": [
    {
     "ename": "ValueError",
     "evalue": "invalid literal for int() with base 10: 'sss'",
     "output_type": "error",
     "traceback": [
      "\u001b[1;31m---------------------------------------------------------------------------\u001b[0m",
      "\u001b[1;31mValueError\u001b[0m                                Traceback (most recent call last)",
      "\u001b[1;32mC:\\Temp/ipykernel_21876/910512866.py\u001b[0m in \u001b[0;36m<module>\u001b[1;34m\u001b[0m\n\u001b[0;32m      1\u001b[0m \u001b[1;31m# ValueError\u001b[0m\u001b[1;33m\u001b[0m\u001b[1;33m\u001b[0m\u001b[0m\n\u001b[1;32m----> 2\u001b[1;33m \u001b[0mint\u001b[0m\u001b[1;33m(\u001b[0m\u001b[1;34m'sss'\u001b[0m\u001b[1;33m)\u001b[0m\u001b[1;33m\u001b[0m\u001b[1;33m\u001b[0m\u001b[0m\n\u001b[0m",
      "\u001b[1;31mValueError\u001b[0m: invalid literal for int() with base 10: 'sss'"
     ]
    }
   ],
   "source": [
    "# ValueError\n",
    "int('sss')"
   ]
  },
  {
   "cell_type": "code",
   "execution_count": 95,
   "id": "2ac25a60-cc5e-42a8-8cd9-8f7b506f5480",
   "metadata": {},
   "outputs": [
    {
     "ename": "NameError",
     "evalue": "name 'hello' is not defined",
     "output_type": "error",
     "traceback": [
      "\u001b[1;31m---------------------------------------------------------------------------\u001b[0m",
      "\u001b[1;31mNameError\u001b[0m                                 Traceback (most recent call last)",
      "\u001b[1;32mC:\\Temp/ipykernel_21876/3946023802.py\u001b[0m in \u001b[0;36m<module>\u001b[1;34m\u001b[0m\n\u001b[0;32m      1\u001b[0m \u001b[1;31m# NameError: 선언되지 않은 변수\u001b[0m\u001b[1;33m\u001b[0m\u001b[1;33m\u001b[0m\u001b[0m\n\u001b[1;32m----> 2\u001b[1;33m \u001b[0mhello\u001b[0m\u001b[1;33m\u001b[0m\u001b[1;33m\u001b[0m\u001b[0m\n\u001b[0m",
      "\u001b[1;31mNameError\u001b[0m: name 'hello' is not defined"
     ]
    }
   ],
   "source": [
    "# NameError: 선언되지 않은 변수\n",
    "hello "
   ]
  },
  {
   "cell_type": "code",
   "execution_count": 96,
   "id": "43a2f48e-03b7-462d-bc52-8ad97ca0b8a9",
   "metadata": {},
   "outputs": [
    {
     "ename": "IndexError",
     "evalue": "string index out of range",
     "output_type": "error",
     "traceback": [
      "\u001b[1;31m---------------------------------------------------------------------------\u001b[0m",
      "\u001b[1;31mIndexError\u001b[0m                                Traceback (most recent call last)",
      "\u001b[1;32mC:\\Temp/ipykernel_21876/4195565937.py\u001b[0m in \u001b[0;36m<module>\u001b[1;34m\u001b[0m\n\u001b[0;32m      1\u001b[0m \u001b[1;31m# IndexError\u001b[0m\u001b[1;33m\u001b[0m\u001b[1;33m\u001b[0m\u001b[0m\n\u001b[1;32m----> 2\u001b[1;33m \u001b[1;34m'kk'\u001b[0m\u001b[1;33m[\u001b[0m\u001b[1;36m10\u001b[0m\u001b[1;33m]\u001b[0m\u001b[1;33m\u001b[0m\u001b[1;33m\u001b[0m\u001b[0m\n\u001b[0m",
      "\u001b[1;31mIndexError\u001b[0m: string index out of range"
     ]
    }
   ],
   "source": [
    "# IndexError\n",
    "'kk'[10]"
   ]
  },
  {
   "cell_type": "markdown",
   "id": "17d6dfbd-5ded-4004-b078-5c91fa75b6e0",
   "metadata": {},
   "source": [
    "#### **1. try-except**"
   ]
  },
  {
   "cell_type": "code",
   "execution_count": null,
   "id": "e77ec708-0522-4a6b-8571-be7243dc677a",
   "metadata": {},
   "outputs": [],
   "source": [
    "try:\n",
    "    <에러 발생 가능한 코드 블럭>\n",
    "except <에러 타입>:\n",
    "    <처리할 방법>"
   ]
  },
  {
   "cell_type": "code",
   "execution_count": 97,
   "id": "9ff3d914-6bd2-4546-bafa-8e183fb8a710",
   "metadata": {},
   "outputs": [
    {
     "name": "stdout",
     "output_type": "stream",
     "text": [
      "0으로 나눌 수 없음\n"
     ]
    }
   ],
   "source": [
    "try:\n",
    "    10 / 0\n",
    "except ZeroDivisionError:\n",
    "    print('0으로 나눌 수 없음')"
   ]
  },
  {
   "cell_type": "code",
   "execution_count": 98,
   "id": "9a5ce70b-b895-4cc6-b3e0-f682d96f01c9",
   "metadata": {},
   "outputs": [
    {
     "name": "stdout",
     "output_type": "stream",
     "text": [
      "0으로 나눌 수 없음\n",
      "10.0\n",
      "5.0\n",
      "3.3333333333333335\n",
      "2.5\n",
      "2.0\n",
      "1.6666666666666667\n",
      "1.4285714285714286\n",
      "1.25\n",
      "1.1111111111111112\n"
     ]
    }
   ],
   "source": [
    "# 코드 전체를 try문에 넣을 수 없는 이유\n",
    "    # except를 찾는 위치가 중요 \n",
    "for i in range(10):\n",
    "    try:\n",
    "        print(10/i)\n",
    "    except ZeroDivisionError: # 각 에러를 잡아주어야 함\n",
    "        print('0으로 나눌 수 없음')"
   ]
  },
  {
   "cell_type": "code",
   "execution_count": 99,
   "id": "293acf49-ef5c-426b-8a2e-97564594d7a4",
   "metadata": {},
   "outputs": [
    {
     "name": "stdin",
     "output_type": "stream",
     "text": [
      "인덱스 입력:  6\n"
     ]
    },
    {
     "name": "stdout",
     "output_type": "stream",
     "text": [
      "index error\n"
     ]
    },
    {
     "name": "stdin",
     "output_type": "stream",
     "text": [
      "인덱스 입력:  s\n"
     ]
    },
    {
     "name": "stdout",
     "output_type": "stream",
     "text": [
      "type error\n"
     ]
    },
    {
     "name": "stdin",
     "output_type": "stream",
     "text": [
      "인덱스 입력:  2\n"
     ]
    },
    {
     "name": "stdout",
     "output_type": "stream",
     "text": [
      "l\n"
     ]
    },
    {
     "name": "stdin",
     "output_type": "stream",
     "text": [
      "인덱스 입력:  q\n"
     ]
    }
   ],
   "source": [
    "word = 'hello'\n",
    "while True:\n",
    "    index = input('인덱스 입력: ')\n",
    "    if index == 'q':\n",
    "        break\n",
    "    try:\n",
    "        print(word[int(index)]) # 형변환 에러, 인덱스 에러\n",
    "    except IndexError:\n",
    "        print('index error')\n",
    "    except ValueError:\n",
    "        print('type error')"
   ]
  },
  {
   "cell_type": "code",
   "execution_count": 100,
   "id": "cb8d45c3-1d2c-4dbf-8b53-c5c564c08e32",
   "metadata": {},
   "outputs": [
    {
     "name": "stdin",
     "output_type": "stream",
     "text": [
      "인덱스 입력:  7\n"
     ]
    },
    {
     "name": "stdout",
     "output_type": "stream",
     "text": [
      "index error\n",
      "string index out of range\n"
     ]
    },
    {
     "name": "stdin",
     "output_type": "stream",
     "text": [
      "인덱스 입력:  5\n"
     ]
    },
    {
     "name": "stdout",
     "output_type": "stream",
     "text": [
      "index error\n",
      "string index out of range\n"
     ]
    },
    {
     "name": "stdin",
     "output_type": "stream",
     "text": [
      "인덱스 입력:  3\n"
     ]
    },
    {
     "name": "stdout",
     "output_type": "stream",
     "text": [
      "l\n"
     ]
    },
    {
     "name": "stdin",
     "output_type": "stream",
     "text": [
      "인덱스 입력:  1\n"
     ]
    },
    {
     "name": "stdout",
     "output_type": "stream",
     "text": [
      "e\n"
     ]
    },
    {
     "name": "stdin",
     "output_type": "stream",
     "text": [
      "인덱스 입력:  q\n"
     ]
    }
   ],
   "source": [
    "word = 'hello'\n",
    "while True:\n",
    "    index = input('인덱스 입력: ')\n",
    "    if index == 'q':\n",
    "        break\n",
    "    try:\n",
    "        print(word[int(index)]) # 형변환 에러, 인덱스 에러\n",
    "    except IndexError as e1: # 핸들러\n",
    "        print('index error')\n",
    "        print(e1)\n",
    "    except ValueError as e2:\n",
    "        print('type error')\n",
    "        print(e2)"
   ]
  },
  {
   "cell_type": "markdown",
   "id": "0a8d9bc6-17d8-4f9d-825b-efd4ccfcbeb5",
   "metadata": {
    "tags": []
   },
   "source": [
    "#### **2. 예외 발생시키기**\n",
    "- 프로그램을 `강제 종료`하고자 할 때 사용함\n",
    "- `raise`\n",
    "- `assert`"
   ]
  },
  {
   "cell_type": "markdown",
   "id": "d164aa85-6bb4-40ed-9055-7b898b80e8a6",
   "metadata": {},
   "source": [
    "- `raise`"
   ]
  },
  {
   "cell_type": "code",
   "execution_count": 101,
   "id": "ed8e8293-6e76-4eab-9204-55ee4dbf6ff2",
   "metadata": {},
   "outputs": [
    {
     "ename": "ValueError",
     "evalue": "print ...",
     "output_type": "error",
     "traceback": [
      "\u001b[1;31m---------------------------------------------------------------------------\u001b[0m",
      "\u001b[1;31mValueError\u001b[0m                                Traceback (most recent call last)",
      "\u001b[1;32mC:\\Temp/ipykernel_21876/1326601765.py\u001b[0m in \u001b[0;36m<module>\u001b[1;34m\u001b[0m\n\u001b[1;32m----> 1\u001b[1;33m \u001b[1;32mraise\u001b[0m \u001b[0mValueError\u001b[0m\u001b[1;33m(\u001b[0m\u001b[1;34m'print ...'\u001b[0m\u001b[1;33m)\u001b[0m\u001b[1;33m\u001b[0m\u001b[1;33m\u001b[0m\u001b[0m\n\u001b[0m",
      "\u001b[1;31mValueError\u001b[0m: print ..."
     ]
    }
   ],
   "source": [
    "raise ValueError('print ...')"
   ]
  },
  {
   "cell_type": "code",
   "execution_count": 102,
   "id": "1df473c0-eb25-4b4f-9364-f8936ce5f077",
   "metadata": {},
   "outputs": [
    {
     "name": "stdin",
     "output_type": "stream",
     "text": [
      "num >>>  s\n"
     ]
    },
    {
     "ename": "ValueError",
     "evalue": "숫자가 아닙니당",
     "output_type": "error",
     "traceback": [
      "\u001b[1;31m---------------------------------------------------------------------------\u001b[0m",
      "\u001b[1;31mValueError\u001b[0m                                Traceback (most recent call last)",
      "\u001b[1;32mC:\\Temp/ipykernel_21876/3590819874.py\u001b[0m in \u001b[0;36m<module>\u001b[1;34m\u001b[0m\n\u001b[0;32m      2\u001b[0m     \u001b[0mnum\u001b[0m \u001b[1;33m=\u001b[0m \u001b[0minput\u001b[0m\u001b[1;33m(\u001b[0m\u001b[1;34m'num >>> '\u001b[0m\u001b[1;33m)\u001b[0m\u001b[1;33m\u001b[0m\u001b[1;33m\u001b[0m\u001b[0m\n\u001b[0;32m      3\u001b[0m     \u001b[1;32mif\u001b[0m \u001b[1;32mnot\u001b[0m \u001b[0mnum\u001b[0m\u001b[1;33m.\u001b[0m\u001b[0misdigit\u001b[0m\u001b[1;33m(\u001b[0m\u001b[1;33m)\u001b[0m\u001b[1;33m:\u001b[0m\u001b[1;33m\u001b[0m\u001b[1;33m\u001b[0m\u001b[0m\n\u001b[1;32m----> 4\u001b[1;33m         \u001b[1;32mraise\u001b[0m \u001b[0mValueError\u001b[0m\u001b[1;33m(\u001b[0m\u001b[1;34m'숫자가 아닙니당'\u001b[0m\u001b[1;33m)\u001b[0m\u001b[1;33m\u001b[0m\u001b[1;33m\u001b[0m\u001b[0m\n\u001b[0m\u001b[0;32m      5\u001b[0m     \u001b[1;32melse\u001b[0m\u001b[1;33m:\u001b[0m\u001b[1;33m\u001b[0m\u001b[1;33m\u001b[0m\u001b[0m\n\u001b[0;32m      6\u001b[0m         \u001b[0mprint\u001b[0m\u001b[1;33m(\u001b[0m\u001b[0mnum\u001b[0m\u001b[1;33m)\u001b[0m\u001b[1;33m\u001b[0m\u001b[1;33m\u001b[0m\u001b[0m\n",
      "\u001b[1;31mValueError\u001b[0m: 숫자가 아닙니당"
     ]
    }
   ],
   "source": [
    "while True:\n",
    "    num = input('num >>> ')\n",
    "    if not num.isdigit():\n",
    "        raise ValueError('숫자가 아닙니당')\n",
    "    else:\n",
    "        print(num)\n",
    "        break"
   ]
  },
  {
   "cell_type": "markdown",
   "id": "55021824-9ed1-433b-a14c-994d3cf51afc",
   "metadata": {},
   "source": [
    "- `assert`"
   ]
  },
  {
   "cell_type": "code",
   "execution_count": null,
   "id": "da00a00c-360d-4ae5-a2a9-d90d91814bd2",
   "metadata": {},
   "outputs": [],
   "source": [
    "assert <참인 조건>, '예외 메시지' # AssertionError"
   ]
  },
  {
   "cell_type": "code",
   "execution_count": 103,
   "id": "5437b83f-7e15-498e-ad68-6cc15b63d697",
   "metadata": {},
   "outputs": [
    {
     "ename": "AssertionError",
     "evalue": "정수 아님",
     "output_type": "error",
     "traceback": [
      "\u001b[1;31m---------------------------------------------------------------------------\u001b[0m",
      "\u001b[1;31mAssertionError\u001b[0m                            Traceback (most recent call last)",
      "\u001b[1;32mC:\\Temp/ipykernel_21876/998539337.py\u001b[0m in \u001b[0;36m<module>\u001b[1;34m\u001b[0m\n\u001b[0;32m      3\u001b[0m     \u001b[1;32mreturn\u001b[0m \u001b[0mbin\u001b[0m\u001b[1;33m(\u001b[0m\u001b[0mnum\u001b[0m\u001b[1;33m)\u001b[0m\u001b[1;33m\u001b[0m\u001b[1;33m\u001b[0m\u001b[0m\n\u001b[0;32m      4\u001b[0m \u001b[1;33m\u001b[0m\u001b[0m\n\u001b[1;32m----> 5\u001b[1;33m \u001b[0mget_binary\u001b[0m\u001b[1;33m(\u001b[0m\u001b[1;34m'bb'\u001b[0m\u001b[1;33m)\u001b[0m\u001b[1;33m\u001b[0m\u001b[1;33m\u001b[0m\u001b[0m\n\u001b[0m",
      "\u001b[1;32mC:\\Temp/ipykernel_21876/998539337.py\u001b[0m in \u001b[0;36mget_binary\u001b[1;34m(num)\u001b[0m\n\u001b[0;32m      1\u001b[0m \u001b[1;32mdef\u001b[0m \u001b[0mget_binary\u001b[0m\u001b[1;33m(\u001b[0m\u001b[0mnum\u001b[0m\u001b[1;33m)\u001b[0m\u001b[1;33m:\u001b[0m\u001b[1;33m\u001b[0m\u001b[1;33m\u001b[0m\u001b[0m\n\u001b[1;32m----> 2\u001b[1;33m     \u001b[1;32massert\u001b[0m \u001b[0misinstance\u001b[0m\u001b[1;33m(\u001b[0m\u001b[0mnum\u001b[0m\u001b[1;33m,\u001b[0m \u001b[0mint\u001b[0m\u001b[1;33m)\u001b[0m\u001b[1;33m,\u001b[0m \u001b[1;34m'정수 아님'\u001b[0m \u001b[1;31m#내가 낸 에러, 체크의 기능\u001b[0m\u001b[1;33m\u001b[0m\u001b[1;33m\u001b[0m\u001b[0m\n\u001b[0m\u001b[0;32m      3\u001b[0m     \u001b[1;32mreturn\u001b[0m \u001b[0mbin\u001b[0m\u001b[1;33m(\u001b[0m\u001b[0mnum\u001b[0m\u001b[1;33m)\u001b[0m\u001b[1;33m\u001b[0m\u001b[1;33m\u001b[0m\u001b[0m\n\u001b[0;32m      4\u001b[0m \u001b[1;33m\u001b[0m\u001b[0m\n\u001b[0;32m      5\u001b[0m \u001b[0mget_binary\u001b[0m\u001b[1;33m(\u001b[0m\u001b[1;34m'bb'\u001b[0m\u001b[1;33m)\u001b[0m\u001b[1;33m\u001b[0m\u001b[1;33m\u001b[0m\u001b[0m\n",
      "\u001b[1;31mAssertionError\u001b[0m: 정수 아님"
     ]
    }
   ],
   "source": [
    "def get_binary(num):\n",
    "    assert isinstance(num, int), '정수 아님' #내가 낸 에러, 체크의 기능\n",
    "    return bin(num)\n",
    "\n",
    "get_binary('bb')"
   ]
  },
  {
   "cell_type": "markdown",
   "id": "c08e82de-621f-4987-8f09-96d093608348",
   "metadata": {},
   "source": [
    "#### **3. 예외 정의하기**\n",
    "- `사용자 정의` 예외\n",
    "- `Exception`이라는 부모클래스를 `상속`받는다."
   ]
  },
  {
   "cell_type": "code",
   "execution_count": 104,
   "id": "2cb3d2bc-a15a-400c-bcb6-14943ef0fb0c",
   "metadata": {},
   "outputs": [],
   "source": [
    "class MyException(Exception): \n",
    "    pass"
   ]
  },
  {
   "cell_type": "code",
   "execution_count": 105,
   "id": "d78ff7d0-edf9-42a8-ad9a-0be7074dc20e",
   "metadata": {},
   "outputs": [
    {
     "name": "stdout",
     "output_type": "stream",
     "text": [
      "a\n",
      "b\n"
     ]
    },
    {
     "ename": "MyException",
     "evalue": "대문자 안 됨!",
     "output_type": "error",
     "traceback": [
      "\u001b[1;31m---------------------------------------------------------------------------\u001b[0m",
      "\u001b[1;31mMyException\u001b[0m                               Traceback (most recent call last)",
      "\u001b[1;32mC:\\Temp/ipykernel_21876/703420827.py\u001b[0m in \u001b[0;36m<module>\u001b[1;34m\u001b[0m\n\u001b[0;32m      1\u001b[0m \u001b[1;32mfor\u001b[0m \u001b[0mword\u001b[0m \u001b[1;32min\u001b[0m \u001b[1;33m[\u001b[0m\u001b[1;34m'a'\u001b[0m\u001b[1;33m,\u001b[0m \u001b[1;34m'b'\u001b[0m\u001b[1;33m,\u001b[0m \u001b[1;34m'C'\u001b[0m\u001b[1;33m]\u001b[0m\u001b[1;33m:\u001b[0m\u001b[1;33m\u001b[0m\u001b[1;33m\u001b[0m\u001b[0m\n\u001b[0;32m      2\u001b[0m     \u001b[1;32mif\u001b[0m \u001b[0mword\u001b[0m\u001b[1;33m.\u001b[0m\u001b[0misupper\u001b[0m\u001b[1;33m(\u001b[0m\u001b[1;33m)\u001b[0m\u001b[1;33m:\u001b[0m\u001b[1;33m\u001b[0m\u001b[1;33m\u001b[0m\u001b[0m\n\u001b[1;32m----> 3\u001b[1;33m         \u001b[1;32mraise\u001b[0m \u001b[0mMyException\u001b[0m\u001b[1;33m(\u001b[0m\u001b[1;34m'대문자 안 됨!'\u001b[0m\u001b[1;33m)\u001b[0m\u001b[1;33m\u001b[0m\u001b[1;33m\u001b[0m\u001b[0m\n\u001b[0m\u001b[0;32m      4\u001b[0m     \u001b[1;32melse\u001b[0m\u001b[1;33m:\u001b[0m\u001b[1;33m\u001b[0m\u001b[1;33m\u001b[0m\u001b[0m\n\u001b[0;32m      5\u001b[0m          \u001b[0mprint\u001b[0m\u001b[1;33m(\u001b[0m\u001b[0mword\u001b[0m\u001b[1;33m)\u001b[0m\u001b[1;33m\u001b[0m\u001b[1;33m\u001b[0m\u001b[0m\n",
      "\u001b[1;31mMyException\u001b[0m: 대문자 안 됨!"
     ]
    }
   ],
   "source": [
    "for word in ['a', 'b', 'C']:\n",
    "    if word.isupper():\n",
    "        raise MyException('대문자 안 됨!')\n",
    "    else:\n",
    "         print(word)"
   ]
  },
  {
   "cell_type": "code",
   "execution_count": 106,
   "id": "aa77b936-4c25-4cb1-8a06-9fb107260e5b",
   "metadata": {},
   "outputs": [
    {
     "name": "stdout",
     "output_type": "stream",
     "text": [
      "a\n",
      "b\n"
     ]
    },
    {
     "ename": "UppercaseException",
     "evalue": "대문자 불가능",
     "output_type": "error",
     "traceback": [
      "\u001b[1;31m---------------------------------------------------------------------------\u001b[0m",
      "\u001b[1;31mUppercaseException\u001b[0m                        Traceback (most recent call last)",
      "\u001b[1;32mC:\\Temp/ipykernel_21876/886286727.py\u001b[0m in \u001b[0;36m<module>\u001b[1;34m\u001b[0m\n\u001b[0;32m      5\u001b[0m \u001b[1;32mfor\u001b[0m \u001b[0mword\u001b[0m \u001b[1;32min\u001b[0m \u001b[1;33m[\u001b[0m\u001b[1;34m'a'\u001b[0m\u001b[1;33m,\u001b[0m \u001b[1;34m'b'\u001b[0m\u001b[1;33m,\u001b[0m \u001b[1;34m'C'\u001b[0m\u001b[1;33m]\u001b[0m\u001b[1;33m:\u001b[0m\u001b[1;33m\u001b[0m\u001b[1;33m\u001b[0m\u001b[0m\n\u001b[0;32m      6\u001b[0m     \u001b[1;32mif\u001b[0m \u001b[0mword\u001b[0m\u001b[1;33m.\u001b[0m\u001b[0misupper\u001b[0m\u001b[1;33m(\u001b[0m\u001b[1;33m)\u001b[0m\u001b[1;33m:\u001b[0m\u001b[1;33m\u001b[0m\u001b[1;33m\u001b[0m\u001b[0m\n\u001b[1;32m----> 7\u001b[1;33m         \u001b[1;32mraise\u001b[0m \u001b[0mUppercaseException\u001b[0m\u001b[1;33m\u001b[0m\u001b[1;33m\u001b[0m\u001b[0m\n\u001b[0m\u001b[0;32m      8\u001b[0m     \u001b[1;32melse\u001b[0m\u001b[1;33m:\u001b[0m\u001b[1;33m\u001b[0m\u001b[1;33m\u001b[0m\u001b[0m\n\u001b[0;32m      9\u001b[0m          \u001b[0mprint\u001b[0m\u001b[1;33m(\u001b[0m\u001b[0mword\u001b[0m\u001b[1;33m)\u001b[0m\u001b[1;33m\u001b[0m\u001b[1;33m\u001b[0m\u001b[0m\n",
      "\u001b[1;31mUppercaseException\u001b[0m: 대문자 불가능"
     ]
    }
   ],
   "source": [
    "class UppercaseException(Exception): \n",
    "    def __init__(self):\n",
    "        super().__init__('대문자 불가능')\n",
    "        \n",
    "for word in ['a', 'b', 'C']:\n",
    "    if word.isupper():\n",
    "        raise UppercaseException\n",
    "    else:\n",
    "         print(word)"
   ]
  },
  {
   "cell_type": "markdown",
   "id": "a54afcc4-119e-47de-b431-3c13f08f0ba0",
   "metadata": {},
   "source": [
    "---\n",
    "## **Review**\n",
    "\n",
    "### **새롭게 알게 된 내용**\n",
    "- 일급객체\n",
    "- 클로저\n",
    "- 데코레이터\n",
    "- nonlocal"
   ]
  }
 ],
 "metadata": {
  "kernelspec": {
   "display_name": "Python 3 (ipykernel)",
   "language": "python",
   "name": "python3"
  },
  "language_info": {
   "codemirror_mode": {
    "name": "ipython",
    "version": 3
   },
   "file_extension": ".py",
   "mimetype": "text/x-python",
   "name": "python",
   "nbconvert_exporter": "python",
   "pygments_lexer": "ipython3",
   "version": "3.9.7"
  }
 },
 "nbformat": 4,
 "nbformat_minor": 5
}
