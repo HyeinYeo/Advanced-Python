{
 "cells": [
  {
   "cell_type": "markdown",
   "id": "d59e88d3-a2e6-4a6e-8b66-7f20ce11d4ed",
   "metadata": {},
   "source": [
    "# **Week 06 - 2022/04/08**\n",
    "---"
   ]
  },
  {
   "cell_type": "markdown",
   "id": "00112f91-ea42-428f-9e56-19c660f9f9dd",
   "metadata": {},
   "source": [
    "## **NLTK corpus**"
   ]
  },
  {
   "cell_type": "code",
   "execution_count": 1,
   "id": "071bc563-268c-48e4-b006-b4c5ee454cd8",
   "metadata": {
    "collapsed": true,
    "jupyter": {
     "outputs_hidden": true
    },
    "tags": []
   },
   "outputs": [
    {
     "name": "stderr",
     "output_type": "stream",
     "text": [
      "[nltk_data] Downloading package brown to\n",
      "[nltk_data]     C:\\Users\\여혜인\\AppData\\Roaming\\nltk_data...\n",
      "[nltk_data]   Package brown is already up-to-date!\n",
      "[nltk_data] Downloading package gutenberg to\n",
      "[nltk_data]     C:\\Users\\여혜인\\AppData\\Roaming\\nltk_data...\n",
      "[nltk_data]   Package gutenberg is already up-to-date!\n",
      "[nltk_data] Downloading package inaugural to\n",
      "[nltk_data]     C:\\Users\\여혜인\\AppData\\Roaming\\nltk_data...\n",
      "[nltk_data]   Package inaugural is already up-to-date!\n"
     ]
    },
    {
     "data": {
      "text/plain": [
       "True"
      ]
     },
     "execution_count": 1,
     "metadata": {},
     "output_type": "execute_result"
    }
   ],
   "source": [
    "import nltk\n",
    "nltk.download(['brown', 'gutenberg', 'inaugural'])"
   ]
  },
  {
   "cell_type": "code",
   "execution_count": 2,
   "id": "6a90905c-798d-49b5-b0b6-a2a7c27fb5be",
   "metadata": {},
   "outputs": [],
   "source": [
    "# 또 다른 방법\n",
    "gutenberg = nltk.corpus.gutenberg\n",
    "brown = nltk.corpus.brown\n",
    "inaugural = nltk.corpus.inaugural"
   ]
  },
  {
   "cell_type": "markdown",
   "id": "011a0324-e5da-4caa-b9e0-0d6cb733c7d9",
   "metadata": {},
   "source": [
    "### **cfd**"
   ]
  },
  {
   "cell_type": "markdown",
   "id": "80176420-d5fd-4db8-ae28-ee0a9bc0c3a7",
   "metadata": {},
   "source": [
    "- **`tabulate(conditions=, samples=)`**\n",
    "  - 결과를 표(테이블)로 만들어주는 함수\n",
    "  - conditions: 행 항목\n",
    "  - samples 열 항목"
   ]
  },
  {
   "cell_type": "code",
   "execution_count": 2,
   "id": "2799ed73-bdf5-4707-a030-308dc85800c7",
   "metadata": {
    "tags": []
   },
   "outputs": [
    {
     "name": "stdout",
     "output_type": "stream",
     "text": [
      "                  can could  will would   may might \n",
      "      adventure    46   151    50   191     5    58 \n",
      " belles_lettres   246   213   236   392   207   113 \n",
      "      editorial   121    56   233   180    74    39 \n",
      "        fiction    37   166    52   287     8    44 \n",
      "     government   117    38   244   120   153    13 \n",
      "        hobbies   268    58   264    78   131    22 \n",
      "          humor    16    30    13    56     8     8 \n",
      "        learned   365   159   340   319   324   128 \n",
      "           lore   170   141   175   186   165    49 \n",
      "        mystery    42   141    20   186    13    57 \n",
      "           news    93    86   389   244    66    38 \n",
      "       religion    82    59    71    68    78    12 \n",
      "        reviews    45    40    58    47    45    26 \n",
      "        romance    74   193    43   244    11    51 \n",
      "science_fiction    16    49    16    79     4    12 \n"
     ]
    }
   ],
   "source": [
    "# cfd\n",
    "brown = nltk.corpus.brown\n",
    "cfd = nltk.ConditionalFreqDist(\n",
    "    (genre, word)\n",
    "    for genre in brown.categories()  \n",
    "    for word in brown.words(categories=genre) #fileids 키워드 인수도 있기 때문에 반드시 지정\n",
    ")\n",
    "\n",
    "modals = ['can', 'could', 'will', 'would', 'may', 'might']\n",
    "cfd.tabulate(conditions=brown.categories(), samples=modals)"
   ]
  },
  {
   "cell_type": "code",
   "execution_count": 3,
   "id": "71fa8667-eb31-40fd-8b84-9089188fc843",
   "metadata": {},
   "outputs": [
    {
     "name": "stdout",
     "output_type": "stream",
     "text": [
      "                  can could   may might  will would \n",
      "      adventure    48   154     7    59    51   194 \n",
      " belles_lettres   249   216   221   113   246   397 \n",
      "      editorial   124    57    79    39   235   185 \n",
      "        fiction    39   168    10    44    56   291 \n",
      "     government   119    38   179    13   244   120 \n",
      "        hobbies   276    59   143    22   269    83 \n",
      "          humor    17    33     8     8    13    56 \n",
      "        learned   367   159   336   128   340   321 \n",
      "           lore   170   142   170    50   178   188 \n",
      "        mystery    45   145    15    57    25   189 \n",
      "           news    94    87    93    38   389   246 \n",
      "       religion    84    59    79    12    72    69 \n",
      "        reviews    45    40    47    26    61    48 \n",
      "        romance    79   195    11    51    49   247 \n",
      "science_fiction    16    49     4    12    17    80 \n"
     ]
    }
   ],
   "source": [
    "#modals를 cfd 안에 넣기\n",
    "#modal의 빈도수가 포함된 cfd (word -> modal_verb)\n",
    "\n",
    "brown = nltk.corpus.brown\n",
    "cfd1 = nltk.ConditionalFreqDist(\n",
    "    (genre, modal)\n",
    "    for genre in brown.categories()\n",
    "    for modal in ['can', 'could', 'will', 'would', 'may', 'might']\n",
    "    \n",
    "    for word in brown.words(categories=genre) \n",
    "        if word.lower() == modal #genre와 modal의 연관 관계 만들어 줌\n",
    ")\n",
    "\n",
    "cfd1.tabulate()"
   ]
  },
  {
   "cell_type": "code",
   "execution_count": 9,
   "id": "81995b3c-2365-4ae0-8365-14c1f5f3b5d2",
   "metadata": {},
   "outputs": [
    {
     "data": {
      "image/png": "[encoded data removed]",
      "text/plain": [
       "<Figure size 864x360 with 1 Axes>"
      ]
     },
     "metadata": {
      "needs_background": "light"
     },
     "output_type": "display_data"
    },
    {
     "data": {
      "text/plain": [
       "<AxesSubplot:xlabel='Samples', ylabel='Counts'>"
      ]
     },
     "execution_count": 9,
     "metadata": {},
     "output_type": "execute_result"
    }
   ],
   "source": [
    "# plot: 결과를 그림(그래프)으로 만들어 줌\n",
    "import matplotlib.pyplot as plt\n",
    "plt.figure(figsize=(12, 5))\n",
    "cfd1.plot()"
   ]
  },
  {
   "cell_type": "markdown",
   "id": "faa358d2-2233-404e-bde6-32cd1f5c7040",
   "metadata": {},
   "source": [
    "### **`Inaugural`**\n",
    "- 연설문 코퍼스"
   ]
  },
  {
   "cell_type": "code",
   "execution_count": 5,
   "id": "bde1420a-f5f6-48dc-9f36-92c052dfff60",
   "metadata": {},
   "outputs": [],
   "source": [
    "# import 하는 법\n",
    "inaugural = nltk.corpus.inaugural"
   ]
  },
  {
   "cell_type": "code",
   "execution_count": 8,
   "id": "5c777de1-94c3-4aa2-a877-9791fccef5f4",
   "metadata": {
    "collapsed": true,
    "jupyter": {
     "outputs_hidden": true
    },
    "tags": []
   },
   "outputs": [
    {
     "data": {
      "text/plain": [
       "['1789-Washington.txt',\n",
       " '1793-Washington.txt',\n",
       " '1797-Adams.txt',\n",
       " '1801-Jefferson.txt',\n",
       " '1805-Jefferson.txt',\n",
       " '1809-Madison.txt',\n",
       " '1813-Madison.txt',\n",
       " '1817-Monroe.txt',\n",
       " '1821-Monroe.txt',\n",
       " '1825-Adams.txt',\n",
       " '1829-Jackson.txt',\n",
       " '1833-Jackson.txt',\n",
       " '1837-VanBuren.txt',\n",
       " '1841-Harrison.txt',\n",
       " '1845-Polk.txt',\n",
       " '1849-Taylor.txt',\n",
       " '1853-Pierce.txt',\n",
       " '1857-Buchanan.txt',\n",
       " '1861-Lincoln.txt',\n",
       " '1865-Lincoln.txt',\n",
       " '1869-Grant.txt',\n",
       " '1873-Grant.txt',\n",
       " '1877-Hayes.txt',\n",
       " '1881-Garfield.txt',\n",
       " '1885-Cleveland.txt',\n",
       " '1889-Harrison.txt',\n",
       " '1893-Cleveland.txt',\n",
       " '1897-McKinley.txt',\n",
       " '1901-McKinley.txt',\n",
       " '1905-Roosevelt.txt',\n",
       " '1909-Taft.txt',\n",
       " '1913-Wilson.txt',\n",
       " '1917-Wilson.txt',\n",
       " '1921-Harding.txt',\n",
       " '1925-Coolidge.txt',\n",
       " '1929-Hoover.txt',\n",
       " '1933-Roosevelt.txt',\n",
       " '1937-Roosevelt.txt',\n",
       " '1941-Roosevelt.txt',\n",
       " '1945-Roosevelt.txt',\n",
       " '1949-Truman.txt',\n",
       " '1953-Eisenhower.txt',\n",
       " '1957-Eisenhower.txt',\n",
       " '1961-Kennedy.txt',\n",
       " '1965-Johnson.txt',\n",
       " '1969-Nixon.txt',\n",
       " '1973-Nixon.txt',\n",
       " '1977-Carter.txt',\n",
       " '1981-Reagan.txt',\n",
       " '1985-Reagan.txt',\n",
       " '1989-Bush.txt',\n",
       " '1993-Clinton.txt',\n",
       " '1997-Clinton.txt',\n",
       " '2001-Bush.txt',\n",
       " '2005-Bush.txt',\n",
       " '2009-Obama.txt',\n",
       " '2013-Obama.txt',\n",
       " '2017-Trump.txt',\n",
       " '2021-Biden.txt']"
      ]
     },
     "execution_count": 8,
     "metadata": {},
     "output_type": "execute_result"
    }
   ],
   "source": [
    "# inaugural에는 fileids()만 있음\n",
    "inaugural.fileids() #연도-이름.txt 형식 | '2021-Biden.txt'"
   ]
  },
  {
   "cell_type": "code",
   "execution_count": 5,
   "id": "50359563-fc7f-4856-ba9c-8fb6dfd9d9a6",
   "metadata": {
    "collapsed": true,
    "jupyter": {
     "outputs_hidden": true
    },
    "tags": []
   },
   "outputs": [
    {
     "data": {
      "text/plain": [
       "'Chief Justice Roberts, President Carter, President Clinton, President Bush, President Obama, fellow Americans, and people of the world: Thank you.\\n\\nWe, the citizens of America, are now joined in a great national effort to rebuild our country and restore its promise for all of our people. Together, we will determine the course of America and the world for many, many years to come. We will face challenges, we will confront hardships, but we will get the job done.\\n\\nEvery 4 years, we gather on these steps to carry out the orderly and peaceful transfer of power, and we are grateful to President Obama and First Lady Michelle Obama for their gracious aid throughout this transition. They have been magnificent. Thank you.\\n\\nToday\\'s ceremony, however, has very special meaning. Because today we are not merely transferring power from one administration to another or from one party to another, but we are transferring power from Washington, DC, and giving it back to you, the people.\\n\\nFor too long, a small group in our Nation\\'s Capital has reaped the rewards of Government while the people have borne the cost. Washington flourished, but the people did not share in its wealth. Politicians prospered, but the jobs left, and the factories closed. The establishment protected itself, but not the citizens of our country. Their victories have not been your victories; their triumphs have not been your triumphs; and while they celebrated in our Nation\\'s Capital, there was little to celebrate for struggling families all across our land.\\n\\nThat all changes, starting right here and right now, because this moment is your moment: It belongs to you. It belongs to everyone gathered here today and everyone watching all across America. This is your day. This is your celebration. And this, the United States of America, is your country.\\n\\nWhat truly matters is not which party controls our Government, but whether our Government is controlled by the people. January 20, 2017, will be remembered as the day the people became the rulers of this Nation again. The forgotten men and women of our country will be forgotten no longer. Everyone is listening to you now.\\n\\nYou came by the tens of millions to become part of a historic movement the likes of which the world has never seen before. At the center of this movement is a crucial conviction: that a nation exists to serve its citizens. Americans want great schools for their children, safe neighborhoods for their families, and good jobs for themselves. These are just and reasonable demands of righteous people and a righteous public.\\n\\nBut for too many of our citizens, a different reality exists: Mothers and children trapped in poverty in our inner cities; rusted-out factories scattered like tombstones across the landscape of our Nation; an education system, flush with cash, but which leaves our young and beautiful students deprived of all knowledge; and the crime and the gangs and the drugs that have stolen too many lives and robbed our country of so much unrealized potential.\\n\\nThis American carnage stops right here and stops right now. We are one Nation, and their pain is our pain, their dreams are our dreams, and their success will be our success. We share one heart, one home, and one glorious destiny.\\n\\nThe oath of office I take today is an oath of allegiance to all Americans.\\n\\nFor many decades, we\\'ve enriched foreign industry at the expense of American industry, subsidized the armies of other countries while allowing for the very sad depletion of our military. We\\'ve defended other nations\\' borders while refusing to defend our own and spent trillions and trillions of dollars overseas while America\\'s infrastructure has fallen into disrepair and decay. We\\'ve made other countries rich while the wealth, strength, and confidence of our country has dissipated over the horizon.\\n\\nOne by one, the factories shuttered and left our shores, with not even a thought about the millions and millions of American workers that were left behind. The wealth of our middle class has been ripped from their homes and then redistributed all across the world.\\n\\nBut that is the past. And now we are looking only to the future.\\n\\nWe, assembled here today, are issuing a new decree to be heard in every city, in every foreign capital, and in every hall of power. From this day forward, a new vision will govern our land. From this this day forward, it\\'s going to be only America first. America first.\\n\\nEvery decision on trade, on taxes, on immigration, on foreign affairs, will be made to benefit American workers and American families.\\n\\nWe must protect our borders from the ravages of other countries making our products, stealing our companies, and destroying our jobs. Protection will lead to great prosperity and strength. I will fight for you with every breath in my body, and I will never, ever let you down.\\n\\nAmerica will start winning again, winning like never before. We will bring back our jobs. We will bring back our borders. We will bring back our wealth. And we will bring back our dreams.\\n\\nWe will build new roads and highways and bridges and airports and tunnels and railways all across our wonderful Nation.\\n\\nWe will get our people off of welfare and back to work, rebuilding our country with American hands and American labor. We will follow two simple rules: Buy American and hire American.\\n\\nWe will seek friendship and good will with the nations of the world, but we do so with the understanding that it is the right of all nations to put their own interests first. We do not seek to impose our way of life on anyone, but rather to let it shine as an exampleâ\\x80\\x94we will shineâ\\x80\\x94for everyone to follow.\\n\\nWe will reinforce old alliances and form new ones and unite the civilized world against radical Islamic terrorism, which we will eradicate completely from the face of the Earth.\\n\\nAt the bedrock of our politics will be a total allegiance to the United States of America, and through our loyalty to our country, we will rediscover our loyalty to each other. When you open your heart to patriotism, there is no room for prejudice. The Bible tells us, \"How good and pleasant it is when God\\'s people live together in unity.\" We must speak our minds openly, debate our disagreements honestly, but always pursue solidarity. When America is united, America is totally unstoppable. There should be no fear: We are protected, and we will always be protected. We will be protected by the great men and women of our military and law enforcement, and most importantly, we will be protected by God.\\n\\nFinally, we must think big and dream even bigger. In America, we understand that a nation is only living as long as it is striving.\\n\\nWe will no longer accept politicians who are all talk and no action, constantly complaining, but never doing anything about it. The time for empty talk is over. Now arrives the hour of action.\\n\\nDo not allow anyone to tell you that it cannot be done. No challenge can match the heart and fight and spirit of America. We will not fail. Our country will thrive and prosper again.\\n\\nWe stand at the birth of a new millennium, ready to unlock the mysteries of space, to free the Earth from the miseries of disease, and to harness the energies, industries, and technologies of tomorrow. A new national pride will stir our souls, lift our sights, and heal our divisions.\\n\\nIt\\'s time to remember that old wisdom our soldiers will never forget: that whether we are Black or Brown or White, we all bleed the same red blood of patriots, we all enjoy the same glorious freedoms, and we all salute the same great American flag.\\n\\nAnd whether a child is born in the urban sprawl of Detroit or the windswept plains of Nebraska, they look up at the same night sky, they fill their heart with the same dreams, and they are infused with the breath of life by the same almighty Creator.\\n\\nSo to all Americans in every city near and far, small and large, from mountain to mountain, from ocean to ocean, hear these words: You will never be ignored again. Your voice, your hopes, and your dreams will define our American destiny. And your courage and goodness and love will forever guide us along the way.\\n\\nTogether, we will make America strong again. We will make America wealthy again. We will make America proud again. We will make America safe again.\\n\\nAnd, yes, together, we will make America great again. Thank you. God bless you, and God bless America. Thank you. God bless America.\\n'"
      ]
     },
     "execution_count": 5,
     "metadata": {},
     "output_type": "execute_result"
    }
   ],
   "source": [
    "# 파일 출력해보기\n",
    "inaugural.raw(fileids='2017-Trump.txt')"
   ]
  },
  {
   "cell_type": "code",
   "execution_count": 6,
   "id": "f70c6db7-7dd5-45c7-9cb3-ac90a621d09c",
   "metadata": {
    "collapsed": true,
    "jupyter": {
     "outputs_hidden": true
    },
    "tags": []
   },
   "outputs": [
    {
     "name": "stdout",
     "output_type": "stream",
     "text": [
      "                america citizen \n",
      "1793-Washington       1       0 \n",
      "     1797-Adams       5       1 \n",
      "    1817-Monroe       0       5 \n",
      "    1821-Monroe       2       0 \n",
      "     1825-Adams       0       1 \n",
      "  1837-VanBuren       1       1 \n",
      "  1841-Harrison       0      11 \n",
      "    1853-Pierce       0       1 \n",
      "  1857-Buchanan       1       0 \n",
      "   1861-Lincoln       0       1 \n",
      "     1869-Grant       0       2 \n",
      "     1873-Grant       0       1 \n",
      "     1877-Hayes       0       1 \n",
      "  1881-Garfield       1       2 \n",
      " 1885-Cleveland       0       5 \n",
      "  1889-Harrison       0       3 \n",
      " 1893-Cleveland       0       3 \n",
      "      1909-Taft       4       0 \n",
      "    1917-Wilson       2       0 \n",
      "   1921-Harding      15       0 \n",
      "  1925-Coolidge       8       2 \n",
      "    1929-Hoover       6       2 \n",
      " 1937-Roosevelt       1       1 \n",
      " 1941-Roosevelt       7       1 \n",
      " 1945-Roosevelt       1       0 \n",
      "1953-Eisenhower       3       3 \n",
      "1957-Eisenhower       5       0 \n",
      "   1961-Kennedy       2       0 \n",
      "   1965-Johnson       3       3 \n",
      "     1969-Nixon       6       0 \n",
      "     1973-Nixon      21       0 \n",
      "    1977-Carter       2       0 \n",
      "    1981-Reagan       6       0 \n",
      "    1985-Reagan       7       0 \n",
      "      1989-Bush       7       1 \n",
      "   1993-Clinton      19       0 \n",
      "   1997-Clinton      15       1 \n",
      "      2001-Bush      11       1 \n",
      "      2005-Bush      20       1 \n",
      "     2009-Obama      10       0 \n",
      "     2013-Obama       8       2 \n",
      "     2017-Trump      20       0 \n",
      "     2021-Biden      20       0 \n"
     ]
    }
   ],
   "source": [
    "# ['america', 'citizen'] 빈도수를 cfd로 만드시오. \n",
    "# target_word = ['america', 'citizen']\n",
    "\n",
    "cfd2 = nltk.ConditionalFreqDist(\n",
    "    (fileid[:-4], target_word) #위치 바꾸면 x, y축 바뀜\n",
    "    for fileid in inaugural.fileids()  \n",
    "    for target_word in ['america', 'citizen'] #fileids\n",
    "    \n",
    "    for word in inaugural.words(fileids=fileid)\n",
    "        if word.lower() == target_word\n",
    "        #if word.lower().startswith(target_word)\n",
    "        #if word.lower() in target_word\n",
    ")\n",
    "cfd2.tabulate()"
   ]
  },
  {
   "cell_type": "code",
   "execution_count": 13,
   "id": "487064f5-8af7-41b7-a1d7-90b91c6fd7c2",
   "metadata": {
    "jupyter": {
     "source_hidden": true
    },
    "tags": []
   },
   "outputs": [],
   "source": [
    "cfd2 = nltk.ConditionalFreqDist(\n",
    "    (target_word, fileid[:-4])\n",
    "    for fileid in inaugural.fileids()  \n",
    "    for target_word in ['america', 'citizen'] #fileids\n",
    "    \n",
    "    for word in inaugural.words(fileids=fileid)\n",
    "        if word.lower() == target_word\n",
    "        #if word.lower().startswith(target_word)\n",
    "        #if word.lower() in target_word\n",
    ")"
   ]
  },
  {
   "cell_type": "code",
   "execution_count": 15,
   "id": "fb46c297-9a63-4e0a-8125-f2b4a1a34036",
   "metadata": {},
   "outputs": [
    {
     "data": {
      "image/png": "[encoded data removed]",
      "text/plain": [
       "<Figure size 864x360 with 1 Axes>"
      ]
     },
     "metadata": {
      "needs_background": "light"
     },
     "output_type": "display_data"
    },
    {
     "data": {
      "text/plain": [
       "<AxesSubplot:xlabel='Samples', ylabel='Counts'>"
      ]
     },
     "execution_count": 15,
     "metadata": {},
     "output_type": "execute_result"
    }
   ],
   "source": [
    "plt.figure(figsize=(12, 5))\n",
    "cfd2.plot()"
   ]
  },
  {
   "cell_type": "code",
   "execution_count": 13,
   "id": "073fe575-2f29-4ea6-8864-8ffafc2dc0fa",
   "metadata": {},
   "outputs": [
    {
     "name": "stdout",
     "output_type": "stream",
     "text": [
      "20\n",
      "0\n"
     ]
    }
   ],
   "source": [
    "# 여전히 이렇게도 접근 가능\n",
    "print(cfd2['2017-Trump']['america'])\n",
    "\n",
    "# 이건 안 되네\n",
    "print(cfd2['2017-Trump.txt']['we']) #['america', 'citizen']의 빈도수만 만들었기 때문"
   ]
  },
  {
   "cell_type": "code",
   "execution_count": 15,
   "id": "e18030c1-e495-4045-b1ac-6c5fe6279934",
   "metadata": {
    "collapsed": true,
    "jupyter": {
     "outputs_hidden": true
    },
    "tags": []
   },
   "outputs": [
    {
     "name": "stdout",
     "output_type": "stream",
     "text": [
      "1789-Washington.txt | 449개\n",
      "1793-Washington.txt | 77개\n",
      "1797-Adams.txt | 554개\n",
      "1801-Jefferson.txt | 491개\n",
      "1805-Jefferson.txt | 518개\n",
      "1809-Madison.txt | 400개\n",
      "1813-Madison.txt | 399개\n",
      "1817-Monroe.txt | 616개\n",
      "1821-Monroe.txt | 744개\n",
      "1825-Adams.txt | 677개\n",
      "1829-Jackson.txt | 396개\n",
      "1833-Jackson.txt | 344개\n",
      "1837-VanBuren.txt | 819개\n",
      "1841-Harrison.txt | 1046개\n",
      "1845-Polk.txt | 769개\n",
      "1849-Taylor.txt | 364개\n",
      "1853-Pierce.txt | 764개\n",
      "1857-Buchanan.txt | 578개\n",
      "1861-Lincoln.txt | 624개\n",
      "1865-Lincoln.txt | 240개\n",
      "1869-Grant.txt | 330개\n",
      "1873-Grant.txt | 353개\n",
      "1877-Hayes.txt | 518개\n",
      "1881-Garfield.txt | 646개\n",
      "1885-Cleveland.txt | 465개\n",
      "1889-Harrison.txt | 845개\n",
      "1893-Cleveland.txt | 587개\n",
      "1897-McKinley.txt | 787개\n",
      "1901-McKinley.txt | 585개\n",
      "1905-Roosevelt.txt | 250개\n",
      "1909-Taft.txt | 806개\n",
      "1913-Wilson.txt | 434개\n",
      "1917-Wilson.txt | 342개\n",
      "1921-Harding.txt | 749개\n",
      "1925-Coolidge.txt | 736개\n",
      "1929-Hoover.txt | 594개\n",
      "1933-Roosevelt.txt | 483개\n",
      "1937-Roosevelt.txt | 458개\n",
      "1941-Roosevelt.txt | 345개\n",
      "1945-Roosevelt.txt | 189개\n",
      "1949-Truman.txt | 467개\n",
      "1953-Eisenhower.txt | 592개\n",
      "1957-Eisenhower.txt | 395개\n",
      "1961-Kennedy.txt | 347개\n",
      "1965-Johnson.txt | 355개\n",
      "1969-Nixon.txt | 467개\n",
      "1973-Nixon.txt | 310개\n",
      "1977-Carter.txt | 340개\n",
      "1981-Reagan.txt | 581개\n",
      "1985-Reagan.txt | 565개\n",
      "1989-Bush.txt | 476개\n",
      "1993-Clinton.txt | 424개\n",
      "1997-Clinton.txt | 466개\n",
      "2001-Bush.txt | 388개\n",
      "2005-Bush.txt | 500개\n",
      "2009-Obama.txt | 628개\n",
      "2013-Obama.txt | 561개\n",
      "2017-Trump.txt | 368개\n",
      "2021-Biden.txt | 491개\n"
     ]
    }
   ],
   "source": [
    "# cfd의 hapaxes()\n",
    "cfd3 = nltk.ConditionalFreqDist(\n",
    "    (file, word.lower())\n",
    "    for file in inaugural.fileids()\n",
    "    for word in inaugural.words(fileids=file)\n",
    ")\n",
    "for file in inaugural.fileids():\n",
    "    print(f'{file} | {len(cfd3[file].hapaxes())}개')"
   ]
  },
  {
   "cell_type": "markdown",
   "id": "357a20b6-e55d-4481-bcce-eb8bbe391e13",
   "metadata": {
    "tags": []
   },
   "source": [
    "---\n",
    "## **Ch08. Tuple & List**\n",
    "### **8.1 Tuple & List**\n",
    "- 불변 객체(튜플) vs. 가변 객체(리스트)"
   ]
  },
  {
   "cell_type": "markdown",
   "id": "03401072-6ed7-473e-b6a1-c3e846328eaa",
   "metadata": {},
   "source": [
    "#### **8.1.1 생성**"
   ]
  },
  {
   "cell_type": "markdown",
   "id": "ad0048d8-d23c-47f3-8124-eb533898d7fa",
   "metadata": {},
   "source": [
    "- 빈 튜플 & 리스트"
   ]
  },
  {
   "cell_type": "code",
   "execution_count": 18,
   "id": "e30d285e-8c48-4665-9463-deaa0c3bfdff",
   "metadata": {
    "tags": []
   },
   "outputs": [
    {
     "data": {
      "text/plain": [
       "((), [])"
      ]
     },
     "execution_count": 18,
     "metadata": {},
     "output_type": "execute_result"
    }
   ],
   "source": [
    "# 빈 튜플 생성\n",
    "empty = ()\n",
    "emptyT = tuple()\n",
    "\n",
    "# 빈 리스트 생성\n",
    "emptyL = []\n",
    "emptyL = list()\n",
    "\n",
    "emptyT, emptyL"
   ]
  },
  {
   "cell_type": "markdown",
   "id": "ac259ac7-8620-4bb0-b722-b1474e4f653e",
   "metadata": {},
   "source": [
    "- 요소 여러 개인 튜플 & 리스트"
   ]
  },
  {
   "cell_type": "code",
   "execution_count": 19,
   "id": "d7c07de6-02bd-43ee-b0eb-9ea88c4622e4",
   "metadata": {
    "tags": []
   },
   "outputs": [
    {
     "data": {
      "text/plain": [
       "(('a', 'b'), ['a', 'b'])"
      ]
     },
     "execution_count": 19,
     "metadata": {},
     "output_type": "execute_result"
    }
   ],
   "source": [
    "# 튜플: 요소 여러 개일 때\n",
    "alphabetT = ('a', 'b')\n",
    "alphabetT = 'a', 'b' #괄호 없이도 가능(선호)\n",
    "\n",
    "# 리스트: 요소 여러 개일 때\n",
    "alphabetL = ['a', 'b']\n",
    "\n",
    "\n",
    "alphabetT, alphabetL"
   ]
  },
  {
   "cell_type": "markdown",
   "id": "7c7d1a9b-8f55-42a3-b0a6-552f5ac04323",
   "metadata": {},
   "source": [
    "- 요소 한 개인 튜플(주의!)"
   ]
  },
  {
   "cell_type": "code",
   "execution_count": 20,
   "id": "1dac2539-d024-4fe8-af33-d413a8a8b516",
   "metadata": {},
   "outputs": [
    {
     "data": {
      "text/plain": [
       "(str, tuple)"
      ]
     },
     "execution_count": 20,
     "metadata": {},
     "output_type": "execute_result"
    }
   ],
   "source": [
    "# 요소 1개일 때\n",
    "\n",
    "## str: 그냥 괄호로만 감싸면 str이다.\n",
    "alpha = ('a') \n",
    "\n",
    "## 쉼표 추가하여 튜플임을 명시\n",
    "alphaT = ('b', )\n",
    "\n",
    "type(alpha), type(alphaT)"
   ]
  },
  {
   "cell_type": "markdown",
   "id": "aa6868ed-bd0c-428f-ab34-75d16df02602",
   "metadata": {
    "jupyter": {
     "outputs_hidden": true
    },
    "tags": []
   },
   "source": [
    "#### **8.1.2 할당**"
   ]
  },
  {
   "cell_type": "markdown",
   "id": "86843314-8b1d-444e-98ee-745723f48f27",
   "metadata": {},
   "source": [
    "- **`packing`**: 한 변수에 `여러` 데이터 할당하는 것.\n",
    "  - list, tuple 자체\n",
    "  - e.g. a = [1, 2, 3, 4]\n",
    "- **`unpacking`**: 한 변수에 여러 데이터가 들어 있을 때 `여러 변수에 나누는` 것\n",
    "  - a='k', b='i', c='m'"
   ]
  },
  {
   "cell_type": "code",
   "execution_count": 21,
   "id": "84181674-b034-4a77-bd7c-6091ad39654e",
   "metadata": {},
   "outputs": [
    {
     "data": {
      "text/plain": [
       "('k', 'i', 'm')"
      ]
     },
     "execution_count": 21,
     "metadata": {},
     "output_type": "execute_result"
    }
   ],
   "source": [
    "#unpacking\n",
    "a, b, c = 'kim' \n",
    "a, b, c"
   ]
  },
  {
   "cell_type": "markdown",
   "id": "dbad5123-f3fc-471a-979e-6e0ed1298de7",
   "metadata": {},
   "source": [
    "#### **8.1.3 교환**"
   ]
  },
  {
   "cell_type": "code",
   "execution_count": 22,
   "id": "5f9c1666-8d05-426f-9c35-44b0372083cf",
   "metadata": {
    "tags": []
   },
   "outputs": [
    {
     "data": {
      "text/plain": [
       "('abcd', 'sky')"
      ]
     },
     "execution_count": 22,
     "metadata": {},
     "output_type": "execute_result"
    }
   ],
   "source": [
    "pwd = 'abcd'\n",
    "userID = 'sky'\n",
    "\n",
    "#pwd = userID => 정보가 사라짐\n",
    "\n",
    "# 임시변수(객체) 마련해서 교환\n",
    "temp1 = userID\n",
    "temp2 = pwd\n",
    "pwd = temp1\n",
    "userID = temp2\n",
    "\n",
    "# 튜플 이용하여 교환\n",
    "pwd, userID = userID, pwd\n",
    "pwd, userID"
   ]
  },
  {
   "cell_type": "markdown",
   "id": "522af250-72ef-4e1f-9186-ada4d02db450",
   "metadata": {},
   "source": [
    "#### **8.1.4 연산**"
   ]
  },
  {
   "cell_type": "markdown",
   "id": "531ec4e3-068e-424e-b512-8d54907c982e",
   "metadata": {},
   "source": [
    "- 더하기"
   ]
  },
  {
   "cell_type": "code",
   "execution_count": 25,
   "id": "f8b0ad5e-5c08-4f54-bd20-d3032ddd394c",
   "metadata": {},
   "outputs": [
    {
     "data": {
      "text/plain": [
       "('a', 1, 2)"
      ]
     },
     "execution_count": 25,
     "metadata": {},
     "output_type": "execute_result"
    }
   ],
   "source": [
    "('a', ) + (1, 2)"
   ]
  },
  {
   "cell_type": "markdown",
   "id": "c6c4ca85-aca0-42d7-b216-631a5d749b0e",
   "metadata": {},
   "source": [
    "- 곱하기"
   ]
  },
  {
   "cell_type": "code",
   "execution_count": 26,
   "id": "3b0b31ad-943c-4bb9-bd50-e17e88332556",
   "metadata": {},
   "outputs": [
    {
     "data": {
      "text/plain": [
       "(1, 2, 1, 2, 1, 2)"
      ]
     },
     "execution_count": 26,
     "metadata": {},
     "output_type": "execute_result"
    }
   ],
   "source": [
    "(1, 2) * 3"
   ]
  },
  {
   "cell_type": "markdown",
   "id": "524a2c62-8702-42ad-9865-50d7eb31db36",
   "metadata": {},
   "source": [
    "- 주의!"
   ]
  },
  {
   "cell_type": "code",
   "execution_count": 28,
   "id": "52ddb90f-518f-4da3-86b1-7d48070bc5d5",
   "metadata": {},
   "outputs": [
    {
     "data": {
      "text/plain": [
       "(1994014729168, 1993992682752)"
      ]
     },
     "execution_count": 28,
     "metadata": {},
     "output_type": "execute_result"
    }
   ],
   "source": [
    "# 더했다고 x, y가 바뀌는 게 아님\n",
    "# x + y != x => 주솟값이 다름\n",
    "\n",
    "x = ('a', )\n",
    "y = (1, 2)\n",
    "id(x), id(x + y)"
   ]
  },
  {
   "cell_type": "markdown",
   "id": "df734d35-0cfa-4e31-bd11-81dad8961cbc",
   "metadata": {},
   "source": [
    "- 비교"
   ]
  },
  {
   "cell_type": "code",
   "execution_count": 30,
   "id": "5f43b559-0296-462b-8b44-2610b29fdc53",
   "metadata": {
    "tags": []
   },
   "outputs": [
    {
     "data": {
      "text/plain": [
       "True"
      ]
     },
     "execution_count": 30,
     "metadata": {},
     "output_type": "execute_result"
    }
   ],
   "source": [
    "# 첫 인자부터 비교\n",
    "\n",
    "x = 1, 2\n",
    "y = 1, 6\n",
    "x < y #두번째 인자에서 x = 2, y = 6이므로 True"
   ]
  },
  {
   "cell_type": "code",
   "execution_count": 26,
   "id": "009f54fe-4939-4b20-aea6-4585d51a74a9",
   "metadata": {},
   "outputs": [
    {
     "data": {
      "text/plain": [
       "True"
      ]
     },
     "execution_count": 26,
     "metadata": {},
     "output_type": "execute_result"
    }
   ],
   "source": [
    "# 원소 개수 다른 튜플의 비교\n",
    "p = 2,\n",
    "q = (2, 1, 0)\n",
    "p <= q\n",
    "\n",
    "#step1 : p[0], q[0] 비교 ▶ 5 == 5\n",
    "#step2 : p[1], q[1] 비교 ▶ but, p[1]은 out-of-range, b[1]은 1, 따라서 a < b"
   ]
  },
  {
   "cell_type": "markdown",
   "id": "cb934435-7ed8-4351-9cdb-5583160acfed",
   "metadata": {},
   "source": [
    "#### **8.1.5 순회**"
   ]
  },
  {
   "cell_type": "markdown",
   "id": "b5e2bdc5-2307-43a8-898f-95a9b9b86759",
   "metadata": {},
   "source": [
    "- 반복문"
   ]
  },
  {
   "cell_type": "code",
   "execution_count": 33,
   "id": "82eabaf6-49c8-4eec-8969-f645f4e07766",
   "metadata": {},
   "outputs": [
    {
     "name": "stdout",
     "output_type": "stream",
     "text": [
      "(1, 2)\n",
      "(1, 2)\n"
     ]
    }
   ],
   "source": [
    "# for문 사용하기\n",
    "x = (1, 2)\n",
    "for i in x:\n",
    "    print(x)"
   ]
  },
  {
   "cell_type": "markdown",
   "id": "897cb774-3189-4182-bb5b-f89e310af358",
   "metadata": {},
   "source": [
    "- list comprehension"
   ]
  },
  {
   "cell_type": "code",
   "execution_count": 34,
   "id": "ff84a67f-1200-4306-a7d2-46359387173f",
   "metadata": {},
   "outputs": [
    {
     "data": {
      "text/plain": [
       "[1, 2]"
      ]
     },
     "execution_count": 34,
     "metadata": {},
     "output_type": "execute_result"
    }
   ],
   "source": [
    "#list comprehension에서도 사용 가능 -> 제일 좋음\n",
    "[i for i in x] #리스트로 자료형이 바뀜"
   ]
  },
  {
   "cell_type": "markdown",
   "id": "be9a5919-ca98-42bb-a71f-ea771c0af66d",
   "metadata": {},
   "source": [
    "- tuple comprehension은 없다!\n",
    "  - list comprehension -> tuple 변환은 가능\n",
    "  - 정말 필요할 때만 튜플로 바꾸자"
   ]
  },
  {
   "cell_type": "code",
   "execution_count": 35,
   "id": "8199664b-079f-48d3-81b5-b9673a7d72ae",
   "metadata": {},
   "outputs": [
    {
     "data": {
      "text/plain": [
       "(1, 2)"
      ]
     },
     "execution_count": 35,
     "metadata": {},
     "output_type": "execute_result"
    }
   ],
   "source": [
    "# 1.\n",
    "tuple([i for i in x])\n",
    "\n",
    "#2.\n",
    "*[i for i in x], # 방법 1보다 느림"
   ]
  },
  {
   "cell_type": "markdown",
   "id": "b36ec3e0-ff68-42d2-aa82-96f5abb97b14",
   "metadata": {
    "tags": []
   },
   "source": [
    "#### **8.1.6 형 변환**"
   ]
  },
  {
   "cell_type": "markdown",
   "id": "71da1661-4e5a-43b7-bee7-18b4341a40e5",
   "metadata": {},
   "source": [
    "- 하나하나 각각 들어가는 경우(주의!)"
   ]
  },
  {
   "cell_type": "code",
   "execution_count": 37,
   "id": "4a493004-ceb6-489b-bf20-29d475533d07",
   "metadata": {
    "tags": []
   },
   "outputs": [
    {
     "data": {
      "text/plain": [
       "(('d', 'o', 'g'), ['d', 'o', 'g'])"
      ]
     },
     "execution_count": 37,
     "metadata": {},
     "output_type": "execute_result"
    }
   ],
   "source": [
    "# 튜플 & 리스트\n",
    "dog = 'dog'\n",
    "tuple(dog), list(dog)"
   ]
  },
  {
   "cell_type": "markdown",
   "id": "94782f5d-b405-4ceb-a15c-83b8d7d70f6c",
   "metadata": {},
   "source": [
    "- 통째로 형 변환하고 싶을 때"
   ]
  },
  {
   "cell_type": "code",
   "execution_count": 29,
   "id": "61443602-cc32-4899-8adf-1aaaca961d27",
   "metadata": {
    "tags": []
   },
   "outputs": [
    {
     "data": {
      "text/plain": [
       "(('dog',), ['dog'])"
      ]
     },
     "execution_count": 29,
     "metadata": {},
     "output_type": "execute_result"
    }
   ],
   "source": [
    "dog = 'dog'\n",
    "(dog, ), [dog]"
   ]
  },
  {
   "cell_type": "markdown",
   "id": "83d2073e-bec7-473a-8875-70b1f387adf8",
   "metadata": {},
   "source": [
    "#### **8.1.7 슬라이싱**"
   ]
  },
  {
   "cell_type": "code",
   "execution_count": 40,
   "id": "3b48be6b-1dbc-4e92-815f-c67d9bd7f392",
   "metadata": {},
   "outputs": [
    {
     "data": {
      "text/plain": [
       "'d'"
      ]
     },
     "execution_count": 40,
     "metadata": {},
     "output_type": "execute_result"
    }
   ],
   "source": [
    "# 튜플도 슬라이싱 가능!\n",
    "dog = 'dog'\n",
    "dogT = tuple(dog)\n",
    "dogT[0]"
   ]
  },
  {
   "cell_type": "markdown",
   "id": "d7946b7f-8dd8-42e7-93f9-70cd1474c40d",
   "metadata": {},
   "source": [
    "#### **8.1.8 정리**\n",
    "- `tuple` 장점\n",
    "  - 변하지 않는 데이터 시퀀스를 만들 수 있다. 타인의 접근 막음\n",
    "    - 코드 만들어 뒀을 때 바뀌면 안 되는 값들...\n",
    "  - 메모리 사용 적음\n",
    "  - 튜플도 중복 데이터 사용 가능\n",
    "- `list` 장점\n",
    "  - tuple 장점 필요 없을 때 전부 리스트 사용\n",
    "  - 데이터를 순차적으로 파악할 때\n",
    "  - 중복 데이터 사용 가능 vs. set"
   ]
  },
  {
   "cell_type": "markdown",
   "id": "20fd4d10-1c14-4fa2-acf4-a043dcf282e3",
   "metadata": {},
   "source": [
    "### **8.2 리스트의 유용한 함수들**\n",
    "- 변경, 삭제, 추가\n",
    "- 리스트 컴프리핸션 업그레이드"
   ]
  },
  {
   "cell_type": "code",
   "execution_count": 64,
   "id": "8a9b8a7d-5367-466a-b275-885c8b03d122",
   "metadata": {},
   "outputs": [
    {
     "data": {
      "text/plain": [
       "[0, 1, 2, 3, 4]"
      ]
     },
     "execution_count": 64,
     "metadata": {},
     "output_type": "execute_result"
    }
   ],
   "source": [
    "num = list(range(5)) # 1 ~ 5 원소 담은 리스트 한 번에 만드는 법 => range() 이용하기\n",
    "num"
   ]
  },
  {
   "cell_type": "markdown",
   "id": "a6026c19-cb69-485e-af18-2ed83385680a",
   "metadata": {},
   "source": [
    "#### **8.2.1 추가**"
   ]
  },
  {
   "cell_type": "markdown",
   "id": "c4a85c5b-ced9-4559-9c85-106cb7e9aed3",
   "metadata": {},
   "source": [
    "- **`append(item)`**: 값 반환 안 함, 마지막에 요소 하나씩만 추가 가능"
   ]
  },
  {
   "cell_type": "code",
   "execution_count": 65,
   "id": "0abd89ae-f8b4-4d75-b5d6-41f7ed7c640b",
   "metadata": {
    "tags": []
   },
   "outputs": [
    {
     "data": {
      "text/plain": [
       "[0, 1, 2, 3, 4, 6]"
      ]
     },
     "execution_count": 65,
     "metadata": {},
     "output_type": "execute_result"
    }
   ],
   "source": [
    "num.append(6) \n",
    "num"
   ]
  },
  {
   "cell_type": "markdown",
   "id": "edf0975a-eefb-49bc-bf9d-d7e9075758c1",
   "metadata": {},
   "source": [
    "- **`insert(index, item)`**: index 위치에 item 추가"
   ]
  },
  {
   "cell_type": "code",
   "execution_count": 66,
   "id": "b1102977-014a-4f68-879e-4bbc45b64248",
   "metadata": {},
   "outputs": [
    {
     "data": {
      "text/plain": [
       "[8, 0, 1, 2, 3, 4, 6]"
      ]
     },
     "execution_count": 66,
     "metadata": {},
     "output_type": "execute_result"
    }
   ],
   "source": [
    "num.insert(0, 8) # 0 위치에 8이라는 값 삽입하기\n",
    "num"
   ]
  },
  {
   "cell_type": "markdown",
   "id": "7a85d5a4-3fc1-4c34-913f-fc6918919356",
   "metadata": {},
   "source": [
    "- **`extend(list)`**: 여러 개 추가(리스트를 리스트로 확장), 마지막에 추가됨"
   ]
  },
  {
   "cell_type": "code",
   "execution_count": 67,
   "id": "b8c9985b-6b64-4ae3-8fff-cf7cf8bd42fa",
   "metadata": {},
   "outputs": [
    {
     "data": {
      "text/plain": [
       "[8, 0, 1, 2, 3, 4, 6, 6, 6, 6]"
      ]
     },
     "execution_count": 67,
     "metadata": {},
     "output_type": "execute_result"
    }
   ],
   "source": [
    "# 여러 개 추가(리스트를 리스트로 확장, 마지막에 추가) # 흡수(?)되는 것\n",
    "num.extend([6, 6, 6])\n",
    "\n",
    "k = [6, 6, 6]\n",
    "# num.extend(k)\n",
    "\n",
    "num"
   ]
  },
  {
   "cell_type": "code",
   "execution_count": 68,
   "id": "545ab5ae-c4e4-4bf7-80ee-a2e3c25001b8",
   "metadata": {},
   "outputs": [
    {
     "data": {
      "text/plain": [
       "[8, 0, 1, 2, 3, 4, 6, 6, 6, 6, [6, 6, 6]]"
      ]
     },
     "execution_count": 68,
     "metadata": {},
     "output_type": "execute_result"
    }
   ],
   "source": [
    "# 리스트가 원소로 들어감 extend와 구분 주의 #통째로 추가되는 것\n",
    "num.append(k) \n",
    "num"
   ]
  },
  {
   "cell_type": "code",
   "execution_count": 69,
   "id": "9897b6af-4645-4d43-b2f0-1b10d3e2683c",
   "metadata": {},
   "outputs": [
    {
     "data": {
      "text/plain": [
       "[8, 0, 1, 2, 3, 4, 6, 6, 6, 6, [6, 6, 6], 6, 6, 6]"
      ]
     },
     "execution_count": 69,
     "metadata": {},
     "output_type": "execute_result"
    }
   ],
   "source": [
    "# append와 구별!, extend()와 같은 효과(흡수)\n",
    "num += k\n",
    "num"
   ]
  },
  {
   "cell_type": "markdown",
   "id": "b43e0bfa-7235-4f0e-a165-19f4fa6086d6",
   "metadata": {},
   "source": [
    "#### **8.2.2 변경**"
   ]
  },
  {
   "cell_type": "markdown",
   "id": "f24f22a8-9314-4106-bea6-33a55f3c2c6c",
   "metadata": {},
   "source": [
    "- `오프셋`으로 변경하기"
   ]
  },
  {
   "cell_type": "code",
   "execution_count": 70,
   "id": "e215e9b2-925d-4b34-8f72-efc57419a381",
   "metadata": {},
   "outputs": [
    {
     "data": {
      "text/plain": [
       "[9, 0, 1, 2, 3, 4, 6, 6, 6, 6, [6, 6, 6], 6, 6, 6]"
      ]
     },
     "execution_count": 70,
     "metadata": {},
     "output_type": "execute_result"
    }
   ],
   "source": [
    "num[0] = 9\n",
    "num"
   ]
  },
  {
   "cell_type": "markdown",
   "id": "82f48fa1-406c-490e-83bd-47a94080ba2c",
   "metadata": {},
   "source": [
    "- 슬라이스"
   ]
  },
  {
   "cell_type": "code",
   "execution_count": 71,
   "id": "acb4da72-e651-41f4-b808-876c0925ad15",
   "metadata": {},
   "outputs": [
    {
     "data": {
      "text/plain": [
       "[2, 2, 2, 2, 3, 4, 6, 6, 6, 6, [6, 6, 6], 6, 6, 6]"
      ]
     },
     "execution_count": 71,
     "metadata": {},
     "output_type": "execute_result"
    }
   ],
   "source": [
    "num[:3] = 2, 2, 2\n",
    "num"
   ]
  },
  {
   "cell_type": "code",
   "execution_count": 72,
   "id": "efd519cc-e682-491f-a2e9-00ac00dbaadd",
   "metadata": {},
   "outputs": [
    {
     "data": {
      "text/plain": [
       "['c', 'a', 't', 2, 3, 4, 6, 6, 6, 6, [6, 6, 6], 6, 6, 6]"
      ]
     },
     "execution_count": 72,
     "metadata": {},
     "output_type": "execute_result"
    }
   ],
   "source": [
    "#string 넣었을 때, unpacking되어서 추가됨\n",
    "num[:3] = 'cat' # a, b, c = 'cat'이나 똑같음\n",
    "num "
   ]
  },
  {
   "cell_type": "markdown",
   "id": "3e114408-05bf-44bd-a697-bfcb7dcdaa52",
   "metadata": {},
   "source": [
    "#### **8.2.3 삭제**"
   ]
  },
  {
   "cell_type": "markdown",
   "id": "7270cee6-44eb-4425-b372-84d3b488081e",
   "metadata": {},
   "source": [
    "- **`del`**"
   ]
  },
  {
   "cell_type": "code",
   "execution_count": 73,
   "id": "e1b099b7-3e53-4f8d-8389-0422ef40d683",
   "metadata": {
    "tags": []
   },
   "outputs": [
    {
     "data": {
      "text/plain": [
       "[2, 3, 4, 6, 6, 6, 6, [6, 6, 6], 6, 6, 6]"
      ]
     },
     "execution_count": 73,
     "metadata": {},
     "output_type": "execute_result"
    }
   ],
   "source": [
    "del num[:3] #범위 정해서 삭제 가능\n",
    "num"
   ]
  },
  {
   "cell_type": "markdown",
   "id": "b3659d78-9803-4e00-8f0b-a8123a0c8536",
   "metadata": {},
   "source": [
    "- **`remove(value)`**: 특정 값 삭제"
   ]
  },
  {
   "cell_type": "code",
   "execution_count": 74,
   "id": "a9776df7-97e4-4c63-9dc5-449f2991d536",
   "metadata": {},
   "outputs": [
    {
     "data": {
      "text/plain": [
       "[3, 4, 6, 6, 6, 6, [6, 6, 6], 6, 6, 6]"
      ]
     },
     "execution_count": 74,
     "metadata": {},
     "output_type": "execute_result"
    }
   ],
   "source": [
    "num.remove(2) #2 삭제\n",
    "num"
   ]
  },
  {
   "cell_type": "code",
   "execution_count": 31,
   "id": "b7a53102-22dd-485a-9a20-4102af6a122c",
   "metadata": {},
   "outputs": [
    {
     "data": {
      "text/plain": [
       "[2, 5, 6, 7, 8, 2]"
      ]
     },
     "execution_count": 31,
     "metadata": {},
     "output_type": "execute_result"
    }
   ],
   "source": [
    "# 삭제할 값이 여러 개 있을 땐?\n",
    "test = [2, 2, 5, 6, 7, 8, 2]\n",
    "test.remove(2)\n",
    "test\n",
    "# 제일 먼저 탐지된 값만 삭제함"
   ]
  },
  {
   "cell_type": "markdown",
   "id": "bd9604fa-d0b3-4421-aa08-9dc5f0c4386c",
   "metadata": {},
   "source": [
    "- **`pop(index)`**: index 위치에 있는 항목 삭제\n",
    "  -  기본값 = -1(최후단에서 삭제)"
   ]
  },
  {
   "cell_type": "code",
   "execution_count": 75,
   "id": "666982e2-a509-4ffa-bf02-f0a43d00483d",
   "metadata": {},
   "outputs": [
    {
     "data": {
      "text/plain": [
       "[3, 6, 6, 6, 6, [6, 6, 6], 6, 6]"
      ]
     },
     "execution_count": 75,
     "metadata": {},
     "output_type": "execute_result"
    }
   ],
   "source": [
    "num.pop(1) #num[1] 위치에 있는 4 삭제됨\n",
    "num.pop() # 맨 끝(num[-1]) 요소 삭제됨\n",
    "num"
   ]
  },
  {
   "cell_type": "markdown",
   "id": "f2cdff7b-5a66-4804-8b93-8e554688b3ab",
   "metadata": {},
   "source": [
    "- **`clear()`**: 리스트 내 모든 요소 삭제. 빈 리스트 만듦"
   ]
  },
  {
   "cell_type": "code",
   "execution_count": 76,
   "id": "66929abf-06c6-4ce3-9033-90baddcbf608",
   "metadata": {},
   "outputs": [
    {
     "data": {
      "text/plain": [
       "[]"
      ]
     },
     "execution_count": 76,
     "metadata": {},
     "output_type": "execute_result"
    }
   ],
   "source": [
    "num.clear()  # num = []과 같음\n",
    "num"
   ]
  },
  {
   "cell_type": "markdown",
   "id": "b8550997-f303-4496-b8ce-51253076fad0",
   "metadata": {
    "tags": []
   },
   "source": [
    "#### **8.2.4 탐색**"
   ]
  },
  {
   "cell_type": "markdown",
   "id": "889d2894-89fc-423a-92ec-c8cca832dac6",
   "metadata": {},
   "source": [
    "- **`index(value)`**"
   ]
  },
  {
   "cell_type": "code",
   "execution_count": 1,
   "id": "e5f010db-8ef2-4ba4-8708-9ced050107e2",
   "metadata": {
    "tags": []
   },
   "outputs": [
    {
     "data": {
      "text/plain": [
       "4"
      ]
     },
     "execution_count": 1,
     "metadata": {},
     "output_type": "execute_result"
    }
   ],
   "source": [
    "num = list(range(5))\n",
    "num.index(4) # 못 찾으면 오류 발생"
   ]
  },
  {
   "cell_type": "markdown",
   "id": "5f8f18ce-96b0-409d-be3b-008df7c48b05",
   "metadata": {},
   "source": [
    "- 멤버십 연산자 **`in`**"
   ]
  },
  {
   "cell_type": "code",
   "execution_count": 2,
   "id": "1095c779-4d8d-4ba1-8385-5fd61918349a",
   "metadata": {
    "tags": []
   },
   "outputs": [
    {
     "data": {
      "text/plain": [
       "True"
      ]
     },
     "execution_count": 2,
     "metadata": {},
     "output_type": "execute_result"
    }
   ],
   "source": [
    "0 in num"
   ]
  },
  {
   "cell_type": "markdown",
   "id": "83aea1c8-8a0c-4b90-a839-2bcef25f2b9b",
   "metadata": {},
   "source": [
    "#### **8.2.5 정렬**"
   ]
  },
  {
   "cell_type": "markdown",
   "id": "f34bb907-9064-47d6-8b71-c06771fccd6f",
   "metadata": {},
   "source": [
    "- **`sort()`**  **`sorted()`**"
   ]
  },
  {
   "cell_type": "code",
   "execution_count": 3,
   "id": "79dafc8e-d633-462f-8d4c-ecc868f1cfd9",
   "metadata": {},
   "outputs": [
    {
     "data": {
      "text/plain": [
       "[4, 3, 2, 1, 0]"
      ]
     },
     "execution_count": 3,
     "metadata": {},
     "output_type": "execute_result"
    }
   ],
   "source": [
    "# sorted(list)\n",
    "sorted(num, reverse=True) #변한 값만 복사해서 출력"
   ]
  },
  {
   "cell_type": "code",
   "execution_count": 4,
   "id": "5265d9e2-0d17-4843-ba94-974e59fcd20f",
   "metadata": {},
   "outputs": [
    {
     "data": {
      "text/plain": [
       "[0, 1, 2, 3, 4]"
      ]
     },
     "execution_count": 4,
     "metadata": {},
     "output_type": "execute_result"
    }
   ],
   "source": [
    "num # 실제 리스트는 변하지 않음. 할당해야 비로소 변함"
   ]
  },
  {
   "cell_type": "code",
   "execution_count": 5,
   "id": "01ab3272-2189-45cc-b292-1eae9340f6ae",
   "metadata": {},
   "outputs": [],
   "source": [
    "# list.sort()\n",
    "num.sort(reverse=True) # 리스트 변함, 값을 할당하지 않아도 됨"
   ]
  },
  {
   "cell_type": "code",
   "execution_count": 6,
   "id": "d33b1c8c-485f-4dab-a0e7-de2f9671a0b8",
   "metadata": {},
   "outputs": [
    {
     "data": {
      "text/plain": [
       "[4, 3, 2, 1, 0]"
      ]
     },
     "execution_count": 6,
     "metadata": {},
     "output_type": "execute_result"
    }
   ],
   "source": [
    "num # 할당 안 했는데도 변했다!"
   ]
  },
  {
   "cell_type": "markdown",
   "id": "04d3ed85-1966-45d4-9b76-3ebac2cdf1a3",
   "metadata": {},
   "source": [
    "- **`reverse()`**  **`reversed()`**"
   ]
  },
  {
   "cell_type": "code",
   "execution_count": 9,
   "id": "838478bf-4447-473a-92b0-4d0386f36aca",
   "metadata": {},
   "outputs": [
    {
     "data": {
      "text/plain": [
       "[0, 1, 2, 3, 4]"
      ]
     },
     "execution_count": 9,
     "metadata": {},
     "output_type": "execute_result"
    }
   ],
   "source": [
    "# list.reverse()\n",
    "num.reverse()\n",
    "num"
   ]
  },
  {
   "cell_type": "code",
   "execution_count": 12,
   "id": "f38f7c63-ecbb-47f6-bdf0-97156c7bce0d",
   "metadata": {
    "tags": []
   },
   "outputs": [
    {
     "data": {
      "text/plain": [
       "[0, 1, 2, 3, 4]"
      ]
     },
     "execution_count": 12,
     "metadata": {},
     "output_type": "execute_result"
    }
   ],
   "source": [
    "# reversed(list)\n",
    "reversed(num)\n",
    "num # 원본 리스트는 변하지 않음"
   ]
  },
  {
   "cell_type": "markdown",
   "id": "9166eedf-dcdf-4e01-9b33-15bb88d8668f",
   "metadata": {
    "tags": []
   },
   "source": [
    "#### **8.2.6 복사**"
   ]
  },
  {
   "cell_type": "markdown",
   "id": "d48fb746-0d18-439e-9359-8e4d04f17561",
   "metadata": {},
   "source": [
    "- 할당"
   ]
  },
  {
   "cell_type": "code",
   "execution_count": 13,
   "id": "901f4e52-bf53-4f5a-99ae-8042db854205",
   "metadata": {},
   "outputs": [
    {
     "data": {
      "text/plain": [
       "([6, 2, 3, 4], [6, 2, 3, 4])"
      ]
     },
     "execution_count": 13,
     "metadata": {},
     "output_type": "execute_result"
    }
   ],
   "source": [
    "a = list(range(1, 5))\n",
    "b = a #같은 메모리 참조하므로 요소의 값 변경 시 같이 변함\n",
    "b[0] = 6\n",
    "a, b #둘 다 변함"
   ]
  },
  {
   "cell_type": "code",
   "execution_count": 14,
   "id": "f01fc4d1-11c1-4599-827c-4d7fee93f14f",
   "metadata": {},
   "outputs": [
    {
     "data": {
      "text/plain": [
       "(2049719915648, 2049719915648)"
      ]
     },
     "execution_count": 14,
     "metadata": {},
     "output_type": "execute_result"
    }
   ],
   "source": [
    "id(a), id(b) # 참조하는 곳이 같음"
   ]
  },
  {
   "cell_type": "markdown",
   "id": "5576f149-7a9d-441d-be3a-532c3b9da333",
   "metadata": {},
   "source": [
    "- **`shallow copy`** | 얕은 복사\n",
    "  - 참조하지 않고 새로운 객체에 할당"
   ]
  },
  {
   "cell_type": "code",
   "execution_count": 15,
   "id": "a5d526c1-a1c9-41cd-a0ba-5357fb9c045e",
   "metadata": {},
   "outputs": [
    {
     "data": {
      "text/plain": [
       "(2049719915648, 2049720673536, 2049720417920, 2049720683008)"
      ]
     },
     "execution_count": 15,
     "metadata": {},
     "output_type": "execute_result"
    }
   ],
   "source": [
    "# 1. lst.copy()\n",
    "c = a.copy()\n",
    "\n",
    "# 2. list(lst)\n",
    "d = list(a)\n",
    "\n",
    "# 3. lst[:]\n",
    "e = a[:]\n",
    "\n",
    "id(a), id(c), id(d), id(e) #모두 다른 객체"
   ]
  },
  {
   "cell_type": "code",
   "execution_count": 18,
   "id": "2a2f3d81-3c49-445b-ba08-a82c3ce07366",
   "metadata": {},
   "outputs": [
    {
     "data": {
      "text/plain": [
       "[6, 2, 3, 4, [1, 2, 3]]"
      ]
     },
     "execution_count": 18,
     "metadata": {},
     "output_type": "execute_result"
    }
   ],
   "source": [
    "#얕은 복사 문제점\n",
    "a.append([1, 2, 3])\n",
    "a #리스트 내 요소가 가변객체일 때, 얕은 복사 시 그 요소 변경하면 같이 변경됨"
   ]
  },
  {
   "cell_type": "code",
   "execution_count": 19,
   "id": "43bc9866-9ff7-4bed-abb3-53c964cdaf9e",
   "metadata": {},
   "outputs": [
    {
     "data": {
      "text/plain": [
       "(2049719915648, 2049721110336)"
      ]
     },
     "execution_count": 19,
     "metadata": {},
     "output_type": "execute_result"
    }
   ],
   "source": [
    "f = a.copy()\n",
    "id(a), id(f)  # 객체의 주소는 다르지만"
   ]
  },
  {
   "cell_type": "code",
   "execution_count": 20,
   "id": "a9f2d5b5-39f7-4e0c-84d4-dbfaea75618e",
   "metadata": {},
   "outputs": [
    {
     "data": {
      "text/plain": [
       "([6, 2, 3, 4, [9, 2, 3]], [6, 2, 3, 4, [9, 2, 3]])"
      ]
     },
     "execution_count": 20,
     "metadata": {},
     "output_type": "execute_result"
    }
   ],
   "source": [
    "f[-1][0] = 9\n",
    "a, f          #[[1, 2, 3]] -> [[9, 2, 3]] 가변객체 요소 변경하면 같이 변경됨"
   ]
  },
  {
   "cell_type": "markdown",
   "id": "53439a0b-42da-4d48-b8f5-9dae5bae62bf",
   "metadata": {},
   "source": [
    "- **`deep copy`** | 깊은 복사\n",
    "  - 하위에 중첩된 리스트 요소까지 바뀌지 않도록 복사"
   ]
  },
  {
   "cell_type": "code",
   "execution_count": 21,
   "id": "1b4bb5bb-a1d5-439c-ab75-c7197b9e5f0d",
   "metadata": {},
   "outputs": [
    {
     "data": {
      "text/plain": [
       "[6, 2, 3, 4, [9, 2, 3]]"
      ]
     },
     "execution_count": 21,
     "metadata": {},
     "output_type": "execute_result"
    }
   ],
   "source": [
    "import copy\n",
    "g = copy.deepcopy(a)\n",
    "g"
   ]
  },
  {
   "cell_type": "code",
   "execution_count": 22,
   "id": "15fa63a3-f547-49ec-8d05-e555511c0aeb",
   "metadata": {},
   "outputs": [
    {
     "data": {
      "text/plain": [
       "([6, 2, 3, 4, [9, 2, 3]], [6, 2, 3, 4, [10, 2, 3]])"
      ]
     },
     "execution_count": 22,
     "metadata": {},
     "output_type": "execute_result"
    }
   ],
   "source": [
    "g[-1][0] = 10\n",
    "a, g      #바뀌지 않는다!"
   ]
  },
  {
   "cell_type": "markdown",
   "id": "1b7fad3b-d8df-4cc1-95b9-6a0487a6cedf",
   "metadata": {},
   "source": [
    "#### **8.2.7 순회**"
   ]
  },
  {
   "cell_type": "markdown",
   "id": "a26fbda2-cb6f-44bb-a57d-53d4ffb944b8",
   "metadata": {},
   "source": [
    "- **`zip()`**"
   ]
  },
  {
   "cell_type": "code",
   "execution_count": 23,
   "id": "4b815c6f-8ef0-4462-a263-982bb9fb786c",
   "metadata": {},
   "outputs": [
    {
     "name": "stdout",
     "output_type": "stream",
     "text": [
      "('kate', 77)\n",
      "('royce', 44)\n",
      "('phill', 54)\n"
     ]
    }
   ],
   "source": [
    "name = ['kate', 'royce', 'phill']\n",
    "age = [77, 44, 54]\n",
    "#age = [77, 44, 54, 22] 한쪽 리스트 요소가 더 많을 경우, 짧은 걸 기준으로 끝남\n",
    "\n",
    "#(name, age)\n",
    "for i1, i2 in zip(name, age): #여러 리스트 동시 순회\n",
    "    print((i1, i2)) #두 개 리스트 요소를 묶음으로 만들어줌"
   ]
  },
  {
   "cell_type": "code",
   "execution_count": 24,
   "id": "fc74b89e-1be6-4b5b-b247-2228689cd758",
   "metadata": {},
   "outputs": [
    {
     "name": "stdout",
     "output_type": "stream",
     "text": [
      "('kate', 77)\n",
      "('kate', 44)\n",
      "('kate', 54)\n",
      "('royce', 77)\n",
      "('royce', 44)\n",
      "('royce', 54)\n",
      "('phill', 77)\n",
      "('phill', 44)\n",
      "('phill', 54)\n"
     ]
    }
   ],
   "source": [
    "# 중첩 for문과는 다름\n",
    "for i1 in name:\n",
    "    for i2 in age:\n",
    "        print((i1, i2))"
   ]
  },
  {
   "cell_type": "code",
   "execution_count": 25,
   "id": "ce87a0af-1493-42b1-9a11-9181558a398a",
   "metadata": {},
   "outputs": [
    {
     "data": {
      "text/plain": [
       "[('kate', 77), ('royce', 44), ('phill', 54)]"
      ]
     },
     "execution_count": 25,
     "metadata": {},
     "output_type": "execute_result"
    }
   ],
   "source": [
    "# list로 관리하기\n",
    "list(zip(name, age))"
   ]
  },
  {
   "cell_type": "markdown",
   "id": "9c901e7b-a942-4c4f-9268-8945f5227f28",
   "metadata": {},
   "source": [
    "- **`enumerate()`**: 인덱스가 필요할 때"
   ]
  },
  {
   "cell_type": "code",
   "execution_count": 26,
   "id": "bca38327-96f8-4c0a-a3e2-e81e20c1baec",
   "metadata": {},
   "outputs": [
    {
     "name": "stdout",
     "output_type": "stream",
     "text": [
      "kate 0\n",
      "royce 1\n",
      "phill 2\n"
     ]
    }
   ],
   "source": [
    "for idx, item in enumerate(name):\n",
    "    print(item, idx)"
   ]
  },
  {
   "cell_type": "markdown",
   "id": "94fb0ba1-2d77-4613-9a7e-a6c3c39221e8",
   "metadata": {},
   "source": [
    "### **8.3 리스트 컴프리핸션 업그레이드**"
   ]
  },
  {
   "cell_type": "code",
   "execution_count": 30,
   "id": "f459d47b-9352-4163-a3f5-ae935452fffb",
   "metadata": {},
   "outputs": [],
   "source": [
    "name = ['kate', 'royce', 'phill']\n",
    "age = [77, 44, 54]"
   ]
  },
  {
   "cell_type": "code",
   "execution_count": 31,
   "id": "0fc3479b-c7b7-46a0-98e0-e3517d58770b",
   "metadata": {},
   "outputs": [
    {
     "data": {
      "text/plain": [
       "[('kate', 77), ('royce', 44), ('phill', 54)]"
      ]
     },
     "execution_count": 31,
     "metadata": {},
     "output_type": "execute_result"
    }
   ],
   "source": [
    "#list(zip(name, age)) -> 리스트 컴프리핸션\n",
    "[(i, j) for i, j in zip(name, age)]"
   ]
  },
  {
   "cell_type": "code",
   "execution_count": 32,
   "id": "bfcd34a9-4347-49b6-a992-af08b40229df",
   "metadata": {},
   "outputs": [
    {
     "name": "stdout",
     "output_type": "stream",
     "text": [
      "[('kate', 77), ('royce', 44), ('phill', 54)]\n",
      "[('kate', 77), ('royce', 44), ('phill', 54)]\n"
     ]
    }
   ],
   "source": [
    "#name, age 이용해 새로운 리스트 생성, (이름, 나이) 형식, for문 사용\n",
    "\n",
    "#ver. 1\n",
    "new = []\n",
    "for i in range(len(list(zip(name, age)))):\n",
    "    elem = (name[i], age[i])\n",
    "    new.append(elem)\n",
    "print(new)\n",
    "\n",
    "#ver. 2\n",
    "new.clear()\n",
    "for i, j in zip(name, age):\n",
    "    new.append((i, j))\n",
    "print(new)"
   ]
  },
  {
   "cell_type": "code",
   "execution_count": 33,
   "id": "22b9c720-2fe4-4bf0-85ab-d9457669af81",
   "metadata": {
    "tags": []
   },
   "outputs": [
    {
     "data": {
      "text/plain": [
       "[('kate', 77),\n",
       " ('kate', 44),\n",
       " ('kate', 54),\n",
       " ('royce', 77),\n",
       " ('royce', 44),\n",
       " ('royce', 54),\n",
       " ('phill', 77),\n",
       " ('phill', 44),\n",
       " ('phill', 54)]"
      ]
     },
     "execution_count": 33,
     "metadata": {},
     "output_type": "execute_result"
    }
   ],
   "source": [
    "# 1. for문 -> 리스트 컴프리핸션으로 바꾸기\n",
    "\n",
    "''' \n",
    "for i in name:\n",
    "    for j in age:\n",
    "        print(i, j)\n",
    "'''\n",
    "'''예시 출력\n",
    " ('kate', 77),\n",
    " ('kate', 44),\n",
    " ('kate', 54),\n",
    "...\n",
    "'''\n",
    "\n",
    "[(i, j) for i in name for j in age]"
   ]
  },
  {
   "cell_type": "code",
   "execution_count": 35,
   "id": "6c910e49-5c3d-4bb5-a65e-0e969bb7b1c0",
   "metadata": {},
   "outputs": [
    {
     "name": "stdout",
     "output_type": "stream",
     "text": [
      "[[('kate', 77), ('kate', 44), ('kate', 54)], [('royce', 77), ('royce', 44), ('royce', 54)], [('phill', 77), ('phill', 44), ('phill', 54)]]\n",
      "[[('kate', 77), ('royce', 77), ('phill', 77)], [('kate', 44), ('royce', 44), ('phill', 44)], [('kate', 54), ('royce', 54), ('phill', 54)]]\n"
     ]
    }
   ],
   "source": [
    "#2. [i, j] 리스트의 리스트로 바꿔보기 (리스트 컴프리핸션 사용)\n",
    "\n",
    "'''\n",
    "result = []\n",
    "for j in age:\n",
    "    empty = []\n",
    "    for i in name:\n",
    "        empty.append((i ,j))\n",
    "    result.append(empty)\n",
    "'''\n",
    "\n",
    "'''예시 출력\n",
    "[[('kate', 77), ('royce', 77), ('phill', 77)],\n",
    " [('kate', 44), ('royce', 44), ('phill', 44)],\n",
    " [('kate', 54), ('royce', 54), ('phill', 54)]]\n",
    "'''\n",
    "\n",
    "# name 기준 출력\n",
    "print([[(i, j) for j in age] for i in name])\n",
    "\n",
    "# age 기준 출력\n",
    "print([[(i, j) for i in name] for j in age])"
   ]
  },
  {
   "cell_type": "code",
   "execution_count": 41,
   "id": "e6d64b1e-71fc-4546-9586-a28b2ec9fdd7",
   "metadata": {},
   "outputs": [
    {
     "data": {
      "text/plain": [
       "[('DO', 'Do', 2),\n",
       " ('NOT', 'Not', 3),\n",
       " ('JUDGE', 'Judge', 5),\n",
       " ('A', 'A', 1),\n",
       " ('BOOK', 'Book', 4),\n",
       " ('BY', 'By', 2),\n",
       " ('ITS', 'Its', 3),\n",
       " ('COVER', 'Cover', 5)]"
      ]
     },
     "execution_count": 41,
     "metadata": {},
     "output_type": "execute_result"
    }
   ],
   "source": [
    "# 각 단어별로 [(대문자, 첫글자 대문자, 글자수), ...] 리스트 만들기\n",
    "sentence = 'do not judge a book by its cover'\n",
    "\n",
    "[(word.upper(), word.capitalize(), len(word)) for word in sentence.split()]"
   ]
  },
  {
   "cell_type": "code",
   "execution_count": 46,
   "id": "f5d2e1ff-f8aa-46c3-953d-2217f96366c2",
   "metadata": {},
   "outputs": [
    {
     "name": "stdout",
     "output_type": "stream",
     "text": [
      "['Sunja said goodnight to her mother', 'Hansu was no no longer in busan']\n",
      "\n",
      "Sunja said goodnight to her mother Hansu was no no longer in busan\n",
      "\n",
      "['Sunja', 'said', 'goodnight', 'to', 'her', 'mother', 'Hansu', 'was', 'no', 'no', 'longer', 'in', 'busan']\n"
     ]
    }
   ],
   "source": [
    "text = [['Sunja', 'said', 'goodnight', 'to', 'her', 'mother'],\n",
    "       ['Hansu', 'was', 'no', 'no', 'longer', 'in', 'busan']]\n",
    "\n",
    "#1. 문장마다 스트링으로 변환해서 리스트로 반환\n",
    "print([' '.join(word) for word in text], end='\\n\\n')\n",
    "  # ' '.join(['Sunja', 'said', ..., 'mother'])\n",
    "    \n",
    "#2. 전체를 스트링으로 반환\n",
    "print(' '.join([' '.join(word) for word in text]), end='\\n\\n')\n",
    "\n",
    "#3. 전체 단어 리스트 가져오기\n",
    "print([word for sent in text \n",
    "            for word in sent])"
   ]
  },
  {
   "cell_type": "code",
   "execution_count": 48,
   "id": "a2223ad1-b4e3-4d8e-80a4-87ebf68793df",
   "metadata": {
    "tags": []
   },
   "outputs": [
    {
     "data": {
      "text/plain": [
       "[0, '홀수', 2, '홀수', 4, '홀수', 6, '홀수', 8, '홀수']"
      ]
     },
     "execution_count": 48,
     "metadata": {},
     "output_type": "execute_result"
    }
   ],
   "source": [
    "# if문 - else: 조건식을 앞으로 끌고 온다!\n",
    "\n",
    "## 짝수면 가져오고, 홀수면 '홀수'\n",
    "[i if i%2==0 else '홀수' for i in range(10)]"
   ]
  },
  {
   "cell_type": "markdown",
   "id": "2b5ec9ba-79e6-4c25-87d9-f90ccf8ca04a",
   "metadata": {},
   "source": [
    "---"
   ]
  },
  {
   "cell_type": "markdown",
   "id": "6f3a610a-b45f-4089-b77b-833b624a253a",
   "metadata": {
    "tags": []
   },
   "source": [
    "### **brown corpus - romance 정제하기**"
   ]
  },
  {
   "cell_type": "markdown",
   "id": "91f0871f-b32a-4886-808c-b4fc4293ba4b",
   "metadata": {
    "jupyter": {
     "outputs_hidden": true
    },
    "tags": []
   },
   "source": [
    "- 문장 분절 [[they, neither, ...], [], ...]\n",
    "- 문장 분절 -> 단어 분절\n",
    "- 불필요한 것들 제거\n",
    "    - 문장부호, POS 제거\n",
    "    -'(어포스트로피) 분절: she's => she, 's // don't => do, 'nt\n",
    "    - 하이픈 분절"
   ]
  },
  {
   "cell_type": "code",
   "execution_count": 32,
   "id": "1b63457a-56b9-4d8e-a68d-464913c6f796",
   "metadata": {
    "collapsed": true,
    "jupyter": {
     "outputs_hidden": true
    },
    "tags": []
   },
   "outputs": [
    {
     "name": "stderr",
     "output_type": "stream",
     "text": [
      "[nltk_data] Downloading package brown to\n",
      "[nltk_data]     C:\\Users\\여혜인\\AppData\\Roaming\\nltk_data...\n",
      "[nltk_data]   Package brown is already up-to-date!\n"
     ]
    },
    {
     "data": {
      "text/plain": [
       "\"\\n\\n\\tThey/ppss neither/cc liked/vbd nor/cc disliked/vbd the/at Old/jj-tl Man/nn-tl ./.\\nTo/in them/ppo he/pps could/md have/hv been/ben the/at broken/vbn bell/nn in/in the/at church/nn tower/nn which/wdt rang/vbd before/in and/cc after/in Mass/nn-tl ,/, and/cc at/in noon/nn ,/, and/cc at/in six/cd each/dt evening/nn --/-- its/pp$ tone/nn ,/, repetitive/jj ,/, monotonous/jj ,/, never/rb breaking/vbg the/at boredom/nn of/in the/at streets/nns ./.\\nThe/at Old/jj-tl Man/nn-tl was/bedz unimportant/jj ./.\\n\\n\\n\\tYet/rb if/cs he/pps were/bed not/* there/rb ,/, they/ppss would/md have/hv missed/vbn him/ppo ,/, as/cs they/ppss would/md have/hv missed/vbn the/at sounds/nns of/in bees/nns buzzing/vbg against/in the/at screen/nn door/nn in/in early/jj June/np ;/. ;/.\\nor/cc the/at smell/nn of/in thick/jj tomato/nn paste/nn --/-- the/at ripe/jj smell/nn that/wps was/bedz both/abx sweet/jj and/cc sour/jj --/-- rising/vbg up/rp from/in aluminum/nn trays/nns wrapped/vbn in/in fly-dotted/jj cheesecloth/nn ./.\\nOr/cc the/at surging/vbg whirling/vbg sounds/nns of/in bats/nns at/in night/nn ,/, when/wrb their/pp$ black/jj bodies/nns dived/vbd into/in the/at blackness/nn above/in and/cc below/in the/at amber/jj street/nn lights/nns ./.\\nOr/cc the/at bay/nn of/in female/nn dogs/nns in/in heat/nn ./.\\n\\n\\n\\tThey/ppss never/rb called/vbd him/ppo by/in name/nn ,/, although/cs he/pps had/hvd one/pn ./.\\nFilippo/np Rossi/np ,/, that's/dt+bez what/wdt he/pps was/bedz called/vbn in/in the/at old/jj country/nn ;/. ;/.\\nbut/cc here/rb he/pps was/bedz just/rb Signore/np or/cc the/at Old/jj-tl Man/nn-tl ./.\\nBut/cc this/dt was/bedz not/* unusual/jj ,/, because/cs youth/nn in/in these/dts quarters/nns was/bedz always/rb pushed/vbn at/in a/at distance/nn from/in its/pp$ elders/nns ./.\\nYouth/nn obeyed/vbd when/wrb commanded/vbn ./.\\nIt/pps went/vbd to/in church/nn on/in Sunday/nr and/cc one/cd Saturday/nr a/at month/nn went/vbd to/in confession/nn ./.\\nBut/cc youth/nn asked/vbd nothing/pn of/in its/pp$ parents/nns --/-- not/* a/at touch/nn of/in the/at hand/nn or/cc a/at kiss/nn given/vbn in/in passing/vbg ./.\\n\\n\\n\\tThe/at only/ap thing/nn unusual/jj about/in the/at Old/jj-tl Man/nn-tl had/hvd long/jj since/rb happened/vbn ./.\\nBut/cc the/at past/nn was/bedz dead/jj here/rb as/cs the/at present/jj was/bedz dead/jj ./.\\nOnce/cs the/at Old/jj-tl Man/nn-tl had/hvd had/hvn a/at wife/nn ./.\\nAnd/cc once/cs she/pps ,/, too/rb ,/, ignored/vbd him/ppo ./.\\nWith/in a/at tiny/jj fur-piece/nn wrapped/vbd around/in her/pp$ shoulders/nns ,/, she/pps wiggled/vbd her/pp$ satin-covered/jj buttocks/nns down/in the/at street/nn before/in him/ppo and/cc didn't/dod* stop/vb ./.\\nIn/in one/cd hand/nn she/pps clutched/vbd a/at hundred/cd dollar/nn bill/nn and/cc in/in the/at other/ap a/at straw/nn suitcase/nn ./.\\nThe/at way/nn she/pps strutted/vbd down/in the/at street/nn ,/, the/at Old/jj-tl Man/nn-tl would/md have/hv been/ben blind/jj not/* to/to have/hv noticed/vbn both/abx ./.\\nWithout/in looking/vbg at/in him/ppo ,/, without/in looking/vbg at/in anything/pn except/in Drexel/np-tl Street/nn-tl directly/rb in/in front/nn of/in her/ppo ,/, she/pps climbed/vbd up/rp into/in one/cd of/in those/dts orange/jj streetcars/nns ,/, rode/vbd away/rb in/in it/ppo ,/, and/cc never/rb came/vbd back/rb ./.\\n\\n\\n\\t``/`` But/cc she/pps shouldn't/md* have/hv come/vbn here/rb in/in the/at first/od place/nn ''/'' ,/, the/at women/nns had/hvd said/vbn ./.\\n\\n\\n\\t``/`` No/rb ,/, no/rb ./.\\nNot/* that/dt one/pn ./.\\nShe/pps thought/vbd she/pps was/bedz bigger/jjr than/cs we/ppss are/ber because/cs she/pps came/vbd from/in Torino/np ''/'' ./.\\n\\n\\n\\t``/`` Eh/uh ,/, Torino/np !/. !/.\\nShe/pps gave/vbd herself/ppl fancy/jj airs/nns !/. !/.\\nJust/rb because/cs she/pps had/hvd a/at part/nn on/in the/at stage/nn in/in the/at old/jj country/nn ,/, she/pps thought/vbd she/pps could/md carry/vb her/pp$ head/nn higher/rbr than/cs ours/pp$$ ''/'' ./.\\nThey/ppss had/hvd slapped/vbn their/pp$ thighs/nns ./.\\n\\n\\n\\t``/`` It's/pps+bez not/* for/in making/vbg pretty/jj speeches/nns about/in Dante/np those/dts actresses/nns get/vb paid/vbn so/ql good/rb ''/'' ./.\\n\\n\\n\\t``/`` Henh/uh ''/'' !/. !/.\\nCalloused/vbn fingers/nns ,/, caressed/vbn only/rb by/in the/at smoothness/nn of/in polished/vbn rosaries/nns ,/, had/hvd swayed/vbn excitedly/rb beneath/in puckered/vbn chins/nns where/wrb tiny/jj black/jj hairs/nns sprouted/vbd ,/, never/rb to/to be/be tweezed/vbn away/rb ./.\\nMauve-colored/jj mouths/nns that/wps had/hvd never/rb known/vbn anything/pn sweeter/jjr than/cs the/at taste/nn of/in new/jj wine/nn and/cc the/at passion/nn of/in man's/nn$ tongue/nn had/hvd not/* smiled/vbn ,/, but/cc had/hvd condemned/vbn again/rb and/cc again/rb ./.\\n``/`` Puttana/fw-nn ''/'' !/. !/.\\n\\n\\n\\tBut/cc if/cs the/at Old/jj-tl Man/nn-tl even/rb thought/vbd about/in his/pp$ wife/nn now/rb ,/, nobody/pn cared/vbd a/at fig/nn ./.\\nIt/pps was/bedz enough/ap for/in people/nns to/to know/vb that/cs at/in one/cd time/nn he/pps had/hvd looked/vbn down/in the/at street/nn at/in the/at f\""
      ]
     },
     "execution_count": 32,
     "metadata": {},
     "output_type": "execute_result"
    }
   ],
   "source": [
    "import nltk\n",
    "nltk.download('brown')\n",
    "brown = nltk.corpus.brown\n",
    "brown.raw(categories='romance')[:5000]\n",
    "### 과제 제출 완료 ###"
   ]
  },
  {
   "cell_type": "markdown",
   "id": "d85a58d2-fe9f-46a0-ae13-0975f899b12b",
   "metadata": {},
   "source": [
    "---"
   ]
  },
  {
   "cell_type": "markdown",
   "id": "94f2cc23-b664-447e-9fab-05066ad755ee",
   "metadata": {},
   "source": [
    "## **Review**\n",
    "\n",
    "### **새롭게 알게 된 내용**\n",
    "\n",
    "- 특정 단어들의 cfd 만들기\n",
    "- tabulate() 사용법\n",
    "- 튜플, 리스트 uncasing\n",
    "- zip(), enumerate()\n",
    "- 리스트 컴프리핸션 if-else 사용법(앞쪽으로 빼기)"
   ]
  },
  {
   "cell_type": "code",
   "execution_count": null,
   "id": "c013f354-f3ce-4e42-9240-fc63a03e27eb",
   "metadata": {},
   "outputs": [],
   "source": []
  }
 ],
 "metadata": {
  "kernelspec": {
   "display_name": "Python 3 (ipykernel)",
   "language": "python",
   "name": "python3"
  },
  "language_info": {
   "codemirror_mode": {
    "name": "ipython",
    "version": 3
   },
   "file_extension": ".py",
   "mimetype": "text/x-python",
   "name": "python",
   "nbconvert_exporter": "python",
   "pygments_lexer": "ipython3",
   "version": "3.9.7"
  }
 },
 "nbformat": 4,
 "nbformat_minor": 5
}
