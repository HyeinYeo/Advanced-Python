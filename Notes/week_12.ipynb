{
 "cells": [
  {
   "cell_type": "markdown",
   "id": "1ce367e5-4320-4352-9975-12de7ee3f3f1",
   "metadata": {},
   "source": [
    "# **Week 12 - 2022/05/20**\n",
    "---"
   ]
  },
  {
   "cell_type": "markdown",
   "id": "a8a0d57d-23f7-403a-ace9-e09985d5fcfb",
   "metadata": {},
   "source": [
    "## **Project 3 feedback**"
   ]
  },
  {
   "cell_type": "code",
   "execution_count": null,
   "id": "1d7c2150-0b60-468b-b92a-b02e27ca56bf",
   "metadata": {},
   "outputs": [],
   "source": [
    "Store, Item, Customer\n",
    "\n",
    "# AbstractCustomer(추상클래스) -> Customer(상속)\n",
    "# Person <- Customer(Person)"
   ]
  },
  {
   "cell_type": "code",
   "execution_count": null,
   "id": "b09aef5a-e7b9-4799-9b69-7cdb0c64028a",
   "metadata": {},
   "outputs": [],
   "source": [
    "class Customer(Person): # is-a 관계(상속 관계)\n",
    "    pass\n",
    "\n",
    "class Store:\n",
    "    def __init__(customer):\n",
    "        self.customer = customer # Customer 타입, has-a 관계\n",
    "        self.item = item\n",
    "        self.item_list = self.item.name, self.item.price\n",
    "\n",
    "class Item:\n",
    "    name\n",
    "    cnt\n",
    "    price\n",
    "    pass"
   ]
  },
  {
   "cell_type": "markdown",
   "id": "dbe5c583-b3dc-451d-959e-d65eb91a4a0d",
   "metadata": {},
   "source": [
    "---"
   ]
  },
  {
   "cell_type": "markdown",
   "id": "177b8b59-62b4-477c-a1bc-a0b625b741da",
   "metadata": {},
   "source": [
    "## **Ch10. 객체와 클래스**"
   ]
  },
  {
   "cell_type": "markdown",
   "id": "9e23626f-dd5b-4b40-8c19-29aff6b4d09d",
   "metadata": {},
   "source": [
    "### **10.7. 매직 메소드**\n",
    "- special method\n",
    "- \\_\\_\\<name>\\_\\_ : 특별한 용도\n",
    "- __str__, __repr__"
   ]
  },
  {
   "cell_type": "code",
   "execution_count": 22,
   "id": "0865cefe-8584-49ea-81e0-55f22dde4ac8",
   "metadata": {},
   "outputs": [],
   "source": [
    "class Customer(object): # 모든 클래스는 오브젝트 상속\n",
    "    def __init__(self, name):\n",
    "        self.name = name\n",
    "        \n",
    "c = Customer('kim')"
   ]
  },
  {
   "cell_type": "code",
   "execution_count": 23,
   "id": "0f18d0dc-8c01-45c0-b1a5-e8cae23f13a7",
   "metadata": {},
   "outputs": [
    {
     "data": {
      "text/plain": [
       "<__main__.Customer at 0x2d35cf38640>"
      ]
     },
     "execution_count": 23,
     "metadata": {},
     "output_type": "execute_result"
    }
   ],
   "source": [
    "c"
   ]
  },
  {
   "cell_type": "code",
   "execution_count": 24,
   "id": "bbaf9428-dc14-4d1d-8a4a-f716b9252d7f",
   "metadata": {},
   "outputs": [
    {
     "name": "stdout",
     "output_type": "stream",
     "text": [
      "<__main__.Customer object at 0x000002D35CF38640>\n"
     ]
    }
   ],
   "source": [
    "print(c) # 객체 정보 출력"
   ]
  },
  {
   "cell_type": "code",
   "execution_count": 25,
   "id": "4f139b12-6a71-41fd-8e98-d38932a2f60c",
   "metadata": {},
   "outputs": [],
   "source": [
    "# 오버라이딩\n",
    "class Customer:\n",
    "    def __init__(self, name):\n",
    "        self.name = name\n",
    "    \n",
    "    def __str__(self):\n",
    "        # print() 함수로 나온 출력값을 변경하는 것\n",
    "        return self.name\n",
    "    \n",
    "    def __repr__(self):\n",
    "        # 설정 안 하면 __str__과 동일\n",
    "        # 인스턴스를 출력하는 방식 => 사용자가 이해하는 객체의 모습을 표현\n",
    "        return f'Customer({self.name})'\n",
    "    \n",
    "c = Customer('kim')"
   ]
  },
  {
   "cell_type": "code",
   "execution_count": 26,
   "id": "91981722-5569-4378-8785-b795a18c73df",
   "metadata": {},
   "outputs": [
    {
     "data": {
      "text/plain": [
       "Customer(kim)"
      ]
     },
     "execution_count": 26,
     "metadata": {},
     "output_type": "execute_result"
    }
   ],
   "source": [
    "c"
   ]
  },
  {
   "cell_type": "code",
   "execution_count": 27,
   "id": "74671548-e51d-4b6b-9e13-f1efff7f3524",
   "metadata": {},
   "outputs": [
    {
     "data": {
      "text/plain": [
       "'kim'"
      ]
     },
     "execution_count": 27,
     "metadata": {},
     "output_type": "execute_result"
    }
   ],
   "source": [
    "str(c)"
   ]
  },
  {
   "cell_type": "code",
   "execution_count": 28,
   "id": "79e91991-58c6-4c41-b90c-a7bfa735bc0d",
   "metadata": {},
   "outputs": [
    {
     "data": {
      "text/plain": [
       "'Customer(kim)'"
      ]
     },
     "execution_count": 28,
     "metadata": {},
     "output_type": "execute_result"
    }
   ],
   "source": [
    "repr(c)"
   ]
  },
  {
   "cell_type": "markdown",
   "id": "f306e91d-de81-42c0-82c1-f7d86752a5df",
   "metadata": {},
   "source": [
    "---"
   ]
  },
  {
   "cell_type": "markdown",
   "id": "f4ef9f17-5367-4e2d-8a4c-be3ab1a64f7b",
   "metadata": {
    "tags": []
   },
   "source": [
    "## **NamedTuple, DataClass**\n",
    "- 객체보다 효율적임(간단한 속성만 가진 클래스일 경우 활용)\n",
    "- 딕셔너리의 키처럼 사용 가능하다.\n",
    "- 불변 객체"
   ]
  },
  {
   "cell_type": "markdown",
   "id": "e91edc81-e984-4204-9655-d62c95dbd4f4",
   "metadata": {},
   "source": [
    "#### **NamedTuple**"
   ]
  },
  {
   "cell_type": "code",
   "execution_count": 29,
   "id": "74ca4e97-4fb0-4778-b342-3ce976aade35",
   "metadata": {},
   "outputs": [
    {
     "data": {
      "text/plain": [
       "('lee', 44)"
      ]
     },
     "execution_count": 29,
     "metadata": {},
     "output_type": "execute_result"
    }
   ],
   "source": [
    "# 메서드 없을 때 단순화하기\n",
    "from collections import namedtuple\n",
    "\n",
    "Customer = namedtuple('Customer', 'name age') # 클래스명, 들어갈 변수(공백으로 구분)\n",
    "a = Customer('lee', 44)\n",
    "\n",
    "a.name, a.age"
   ]
  },
  {
   "cell_type": "code",
   "execution_count": 30,
   "id": "6c33c7a2-8341-4269-bbb5-73aeaaf40d05",
   "metadata": {},
   "outputs": [],
   "source": [
    "# 개인 실습\n",
    "class Book:\n",
    "    def __init__(self, title, price):\n",
    "        self.title = title\n",
    "        self.price = price "
   ]
  },
  {
   "cell_type": "code",
   "execution_count": 31,
   "id": "90f30877-6c56-460c-a3dc-3eace8817d29",
   "metadata": {},
   "outputs": [
    {
     "name": "stdout",
     "output_type": "stream",
     "text": [
      "고파썬 27000\n",
      "고파썬 27000\n"
     ]
    }
   ],
   "source": [
    "mybook = Book(\"고파썬\", 27000)\n",
    "print(mybook.title, mybook.price)\n",
    "\n",
    "mybook2 = (\"고파썬\", 27000)\n",
    "print(mybook2[0], mybook2[1])"
   ]
  },
  {
   "cell_type": "code",
   "execution_count": 32,
   "id": "58df8518-6401-425b-a535-d92192141505",
   "metadata": {},
   "outputs": [
    {
     "name": "stdout",
     "output_type": "stream",
     "text": [
      "고파썬 27000\n"
     ]
    }
   ],
   "source": [
    "from collections import namedtuple\n",
    "\n",
    "Book = namedtuple('Book', ['title', 'price'])\n",
    "mybook3 = Book(\"고파썬\", 27000)\n",
    "print(mybook3.title, mybook3.price)"
   ]
  },
  {
   "cell_type": "code",
   "execution_count": 33,
   "id": "a2e10286-388f-46f4-8413-c2e4eda21706",
   "metadata": {},
   "outputs": [
    {
     "name": "stdout",
     "output_type": "stream",
     "text": [
      "고파썬 27000\n"
     ]
    },
    {
     "ename": "AttributeError",
     "evalue": "can't set attribute",
     "output_type": "error",
     "traceback": [
      "\u001b[1;31m---------------------------------------------------------------------------\u001b[0m",
      "\u001b[1;31mAttributeError\u001b[0m                            Traceback (most recent call last)",
      "\u001b[1;32mC:\\Temp/ipykernel_20996/4107474965.py\u001b[0m in \u001b[0;36m<module>\u001b[1;34m\u001b[0m\n\u001b[0;32m      1\u001b[0m \u001b[0mprint\u001b[0m\u001b[1;33m(\u001b[0m\u001b[0mmybook3\u001b[0m\u001b[1;33m[\u001b[0m\u001b[1;36m0\u001b[0m\u001b[1;33m]\u001b[0m\u001b[1;33m,\u001b[0m \u001b[0mmybook3\u001b[0m\u001b[1;33m[\u001b[0m\u001b[1;36m1\u001b[0m\u001b[1;33m]\u001b[0m\u001b[1;33m)\u001b[0m\u001b[1;33m\u001b[0m\u001b[1;33m\u001b[0m\u001b[0m\n\u001b[1;32m----> 2\u001b[1;33m \u001b[0mmybook3\u001b[0m\u001b[1;33m.\u001b[0m\u001b[0mprice\u001b[0m \u001b[1;33m=\u001b[0m \u001b[1;36m25000\u001b[0m  \u001b[1;31m# 수정 불가능\u001b[0m\u001b[1;33m\u001b[0m\u001b[1;33m\u001b[0m\u001b[0m\n\u001b[0m",
      "\u001b[1;31mAttributeError\u001b[0m: can't set attribute"
     ]
    }
   ],
   "source": [
    "print(mybook3[0], mybook3[1])\n",
    "mybook3.price = 25000  # 수정 불가능"
   ]
  },
  {
   "cell_type": "markdown",
   "id": "53a10a4c-3d96-4f4c-b824-16a805fbe34a",
   "metadata": {},
   "source": [
    "#### **DataClass**"
   ]
  },
  {
   "cell_type": "code",
   "execution_count": 34,
   "id": "38dbf393-9127-4399-9448-62f6fcf4c054",
   "metadata": {},
   "outputs": [
    {
     "data": {
      "text/plain": [
       "('hong', 88)"
      ]
     },
     "execution_count": 34,
     "metadata": {},
     "output_type": "execute_result"
    }
   ],
   "source": [
    "from dataclasses import dataclass # 3.7 이상에서만 가능\n",
    "\n",
    "@dataclass #데코레이터 사용\n",
    "class Customer2:\n",
    "    name: str\n",
    "    age: int\n",
    "    \n",
    "b = Customer2('hong', 88)\n",
    "b.name, b.age"
   ]
  },
  {
   "cell_type": "code",
   "execution_count": 35,
   "id": "7c4ff4ba-1483-4109-82e6-e4c03773183d",
   "metadata": {},
   "outputs": [
    {
     "name": "stdout",
     "output_type": "stream",
     "text": [
      "감자 5000 2\n",
      "10000\n"
     ]
    }
   ],
   "source": [
    "# 개인 실습\n",
    "from dataclasses import dataclass\n",
    "\n",
    "@dataclass\n",
    "class InventoryItem:\n",
    "    name: str\n",
    "    unit_price: float\n",
    "    quantity_on_hand: int = 0\n",
    "\n",
    "    def total_cost(self) -> float:\n",
    "        return self.unit_price * self.quantity_on_hand\n",
    "\n",
    "temp = InventoryItem('감자', 5000, 2)\n",
    "print(temp.name, temp.unit_price, temp.quantity_on_hand)\n",
    "print(temp.total_cost())"
   ]
  },
  {
   "cell_type": "markdown",
   "id": "df8bf889-9625-4591-a509-b41c1203021c",
   "metadata": {},
   "source": [
    "---"
   ]
  },
  {
   "cell_type": "markdown",
   "id": "3ff805d9-2b7c-40a7-a0d3-df2ac89c4190",
   "metadata": {},
   "source": [
    "## **함수 II**\n",
    "- *, **\n",
    "- 일급객체\n",
    "- 내부함수, 클로저\n",
    "- 익명함수\n",
    "- 제너레이터\n",
    "- 재귀함수"
   ]
  },
  {
   "cell_type": "markdown",
   "id": "dc5a5276-4710-467c-857c-54b98da8c5ed",
   "metadata": {},
   "source": [
    "### aesterisk: `*`"
   ]
  },
  {
   "cell_type": "code",
   "execution_count": 36,
   "id": "c714b5cb-aeed-4fc7-95f7-c2439f33959a",
   "metadata": {},
   "outputs": [
    {
     "name": "stdout",
     "output_type": "stream",
     "text": [
      "(1, 2, 3, 4, 5, 6)\n"
     ]
    }
   ],
   "source": [
    "def print_arg(*args): # 여러 개의 인자(무한개 받을 수 있음) => 패킹\n",
    "    print(args)\n",
    "    \n",
    "\n",
    "print_arg(1, 2, 3, 4, 5, 6) # 튜플 안에 하나"
   ]
  },
  {
   "cell_type": "code",
   "execution_count": 37,
   "id": "28c2d2d7-49b4-44b1-9933-f7eb1b895ceb",
   "metadata": {},
   "outputs": [
    {
     "name": "stdout",
     "output_type": "stream",
     "text": [
      "1 2 3 4 5 6\n"
     ]
    }
   ],
   "source": [
    "def print_arg(*args): # 여러 개의 인자 => 패킹\n",
    "    print(*args) # 언패킹\n",
    "    \n",
    "\n",
    "print_arg(1, 2, 3, 4, 5, 6)"
   ]
  },
  {
   "cell_type": "code",
   "execution_count": 38,
   "id": "156d8ea5-45fe-4c6d-b665-605cbcbec462",
   "metadata": {},
   "outputs": [
    {
     "name": "stdout",
     "output_type": "stream",
     "text": [
      "1 2\n",
      "optional\n"
     ]
    }
   ],
   "source": [
    "def print_more(num1, num2, *args): # num1, num2는 필수\n",
    "    print(num1, num2)\n",
    "    print(*args, 'optional')\n",
    "    \n",
    "print_more(1, 2) # *args 인자는 옵션, 안 들어가도 됨"
   ]
  },
  {
   "cell_type": "code",
   "execution_count": 39,
   "id": "09f699fc-a417-4b44-8a53-f949c924ae93",
   "metadata": {},
   "outputs": [
    {
     "name": "stdout",
     "output_type": "stream",
     "text": [
      "0 1 2 3 4 5 6 7 8 9\n"
     ]
    }
   ],
   "source": [
    "# 언패킹 기능, 함수 외에서도 사용 가능\n",
    "empty = list(range(10))\n",
    "print(*empty)"
   ]
  },
  {
   "cell_type": "code",
   "execution_count": 40,
   "id": "5acbb982-d009-42e4-ae81-4c08317203da",
   "metadata": {},
   "outputs": [
    {
     "name": "stdout",
     "output_type": "stream",
     "text": [
      "(1, 3, 5)\n",
      "(2, 4, 6)\n"
     ]
    }
   ],
   "source": [
    "# 행렬, 테이블 데이터\n",
    "matrix = [\n",
    "    [1, 2],\n",
    "    [3, 4],\n",
    "    [5, 6]\n",
    "]\n",
    "\n",
    "# 1, 3, 5, 2, 4, 6 (열만 타고 싶다)\n",
    "for item in zip(*matrix):\n",
    "    print(item)"
   ]
  },
  {
   "cell_type": "code",
   "execution_count": 41,
   "id": "b21c7864-9df3-4a7e-99a4-f9ad5fa708b7",
   "metadata": {},
   "outputs": [
    {
     "name": "stdout",
     "output_type": "stream",
     "text": [
      "(1, 3, 5)\n",
      "(2, 4, 6)\n"
     ]
    }
   ],
   "source": [
    "# zip: 여러 개 리스트 있을 때 묶는 기능\n",
    "for item in zip([1, 2], [3, 4], [5, 6]):\n",
    "    print(item)"
   ]
  },
  {
   "cell_type": "code",
   "execution_count": 42,
   "id": "04215b99-f597-41f1-ba54-16a4f35959a6",
   "metadata": {},
   "outputs": [
    {
     "name": "stdout",
     "output_type": "stream",
     "text": [
      "0\n",
      "1\n",
      "2\n",
      "3\n"
     ]
    }
   ],
   "source": [
    "# 키워드 전용 인수 선언 시 사용\n",
    "def print_data(data, *, start, end):\n",
    "    for item in data[start:end]:\n",
    "        print(item)\n",
    "        \n",
    "print_data(empty, start=0, end=4)"
   ]
  },
  {
   "cell_type": "markdown",
   "id": "5cfc0e33-6a05-41db-9d80-68d5b8deb1c5",
   "metadata": {},
   "source": [
    "### kargs: `**`"
   ]
  },
  {
   "cell_type": "code",
   "execution_count": 43,
   "id": "4fdae5c1-b76a-4d82-9c39-66d97d586f48",
   "metadata": {},
   "outputs": [
    {
     "name": "stdout",
     "output_type": "stream",
     "text": [
      "{'wine': 'crianza', 'drink': 'water'}\n"
     ]
    }
   ],
   "source": [
    "def print_kargs(**kargs): # 키:값 => 딕셔너리로 반환\n",
    "    print(kargs)\n",
    "    # print(**kargs) # 언패킹 불가\n",
    "    \n",
    "print_kargs(wine='crianza', drink='water')"
   ]
  },
  {
   "cell_type": "code",
   "execution_count": 44,
   "id": "839ce7eb-30eb-42c0-a1fd-a85ab7ecd96f",
   "metadata": {},
   "outputs": [
    {
     "name": "stdout",
     "output_type": "stream",
     "text": [
      "{'wine': 'cabernet', 'drink': 'water'}\n",
      "{'wine': 'crianza', 'drink': 'water'}\n",
      "{'wine': 'shiraz', 'drink': 'water'}\n"
     ]
    }
   ],
   "source": [
    "# 키가 정해졌을 때 활용\n",
    "for wine in ['cabernet', 'crianza', 'shiraz']:\n",
    "    print_kargs(wine=wine, drink='water')"
   ]
  },
  {
   "cell_type": "code",
   "execution_count": 45,
   "id": "71ad5e3a-cb3a-46d2-80fb-28cb8924bb91",
   "metadata": {},
   "outputs": [
    {
     "name": "stdout",
     "output_type": "stream",
     "text": [
      "{'wine': 'crianza', 'drink': 'water'}\n"
     ]
    }
   ],
   "source": [
    "def print_kargs(**kargs):\n",
    "    kargs['wine'] = 'crianza' # 원하는 것 설정 가능\n",
    "                              # 키가 없으면 에러 발생 -> get() 이용!\n",
    "    print(kargs)\n",
    "    \n",
    "print_kargs(wine='crianza', drink='water')"
   ]
  },
  {
   "cell_type": "code",
   "execution_count": 46,
   "id": "03a19e1e-42ec-4ea9-9669-ba5595b64560",
   "metadata": {},
   "outputs": [
    {
     "name": "stdout",
     "output_type": "stream",
     "text": [
      "1 2\n",
      "18\n",
      "{'num': 4}\n"
     ]
    }
   ],
   "source": [
    "# *, ** 둘 다 사용 가능\n",
    "# 키워드 전용 인수의 필요성\n",
    "def print_all(num1, num2, *args, **kargs):\n",
    "    print(num1, num2)\n",
    "    print(sum(args))\n",
    "    print(kargs)\n",
    "\n",
    "# print_all(1, 2, 3, 4, 5, 6, num1=4, num2=4) : 키워드 인수와 위치인수 이름이 같을 경우 \n",
    "#                                               -> 오류 방지 위해 키워드 전용 인수 사용\n",
    "print_all(1, 2, 3, 4, 5, 6, num=4)"
   ]
  },
  {
   "cell_type": "code",
   "execution_count": 47,
   "id": "9994add8-aaf6-442f-94d5-23373f788572",
   "metadata": {},
   "outputs": [
    {
     "data": {
      "text/plain": [
       "{1: 'a', 2: 'c', 3: 'd'}"
      ]
     },
     "execution_count": 47,
     "metadata": {},
     "output_type": "execute_result"
    }
   ],
   "source": [
    "# 딕셔너리 조인\n",
    "a = {1:'a', 2:'b'}\n",
    "b = {2:'c', 3:'d'}\n",
    "c = {**a, **b}\n",
    "c"
   ]
  },
  {
   "cell_type": "markdown",
   "id": "ddab4f3b-56fa-4916-ae8e-4b71f140ba85",
   "metadata": {},
   "source": [
    "---\n",
    "## **Review**\n",
    "\n",
    "### **새롭게 알게 된 내용**\n",
    "- 매직 메소드\n",
    "  - \\__str__과 \\__repr__의 차이\n",
    "- NamedTuple\n",
    "- DataClass\n",
    "- **kargs\n",
    "  - 키워드 전용 인수"
   ]
  }
 ],
 "metadata": {
  "kernelspec": {
   "display_name": "Python 3 (ipykernel)",
   "language": "python",
   "name": "python3"
  },
  "language_info": {
   "codemirror_mode": {
    "name": "ipython",
    "version": 3
   },
   "file_extension": ".py",
   "mimetype": "text/x-python",
   "name": "python",
   "nbconvert_exporter": "python",
   "pygments_lexer": "ipython3",
   "version": "3.9.7"
  }
 },
 "nbformat": 4,
 "nbformat_minor": 5
}
