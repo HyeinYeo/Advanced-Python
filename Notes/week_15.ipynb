{
 "cells": [
  {
   "cell_type": "markdown",
   "id": "6bf0435e-2ced-4bc4-b7c5-670219f67884",
   "metadata": {},
   "source": [
    "# **Week 15 - 2022/06/10**\n",
    "---"
   ]
  },
  {
   "cell_type": "markdown",
   "id": "c254816a-e23e-4137-bd9e-84452c8ba858",
   "metadata": {
    "tags": []
   },
   "source": [
    "## **파일과 디렉터리**\n",
    "- `디렉터리`: 폴더의 다른 말. 파일이 논리적으로 묶인 단위\n",
    "- `파일`: 컴퓨터를 실행하는 기본 단위\n",
    "    - 파일명 + 확장자\n",
    "    - 확장자: 파일의 쓰임을 구분하는 글자\n",
    "        - .pdf, .xlsx, .txt, ...\n",
    "    - 종류: 바이너리 파일, 텍스트 파일\n",
    "        - 바이너리: `이진 정보`로 저장됨\n",
    "            - 내용을 확인 못 함.\n",
    "            - 해당 확장자를 열 수 있는 프로그램이 필요함.\n",
    "        - 텍스트: 사람이 이해할 수 있는 문자열로 저장됨\n",
    "            - 메모장, html, py\n",
    "            - 변경 기준: 아스키코드, 유니코드\n",
    "            - 인코딩 (encoding): 표준에 맞추어 저장하는 행위\n",
    "            - utf-8\n",
    "            - cp949"
   ]
  },
  {
   "cell_type": "markdown",
   "id": "99b840d2-60f1-4951-be7f-d5d4f5e77ff5",
   "metadata": {},
   "source": [
    "### **파일 열기**\n",
    "- `open(파일명, 모드)`\n",
    "- 모드 <br>\n",
    "    <읽기>\n",
    "    - `r`: read (default)\n",
    "    \n",
    "    <쓰기>\n",
    "    - `w`: 파일이 있으면 덮어쓰고, 없으면 생성\n",
    "    - `x`: 파일이 없을 때만 생성\n",
    "    - `a`: 파일이 있을 때 마지막 라인에 추가\n",
    "    \n",
    "- 추가 모드\n",
    "    - `b`: binary\n",
    "    - `t`: text (default)\n",
    "    \n",
    "- 모드 사용 예시\n",
    "    - 'rb'(바이너리), 'rt'(텍스트) "
   ]
  },
  {
   "cell_type": "code",
   "execution_count": 58,
   "id": "2b80f098-b1a1-416b-a926-ccab74df9b29",
   "metadata": {},
   "outputs": [],
   "source": [
    "# 파일 열기\n",
    "file = 'test.txt' # 같은 폴더 내 위치\n",
    "f = open(file, 'r')"
   ]
  },
  {
   "cell_type": "code",
   "execution_count": 24,
   "id": "1ae9c69d-59bb-4b61-8ff5-5a468f88a624",
   "metadata": {},
   "outputs": [
    {
     "data": {
      "text/plain": [
       "<_io.TextIOWrapper name='test.txt' mode='r' encoding='cp949'>"
      ]
     },
     "execution_count": 24,
     "metadata": {},
     "output_type": "execute_result"
    }
   ],
   "source": [
    "f"
   ]
  },
  {
   "cell_type": "code",
   "execution_count": 21,
   "id": "fbfb8a1b-8596-403b-a504-60adb316d5b6",
   "metadata": {},
   "outputs": [],
   "source": [
    "f.close()"
   ]
  },
  {
   "cell_type": "markdown",
   "id": "9de217bf-6c3f-4c51-9bc9-4c02f6bc8695",
   "metadata": {},
   "source": [
    "### **파일 읽기**\n",
    "- `read(n)`: 전체를 하나의 str\n",
    "    - 포인터\n",
    "    - n: 개수\n",
    "        - 파일이 클 때 용이\n",
    "- `readline()`: 한줄만 str, 개행 기준\n",
    "- `readlines()`: 전체를 list, 각 줄이 한 str"
   ]
  },
  {
   "cell_type": "code",
   "execution_count": 25,
   "id": "d3376521-a1b4-445d-9849-d7cd8c196c57",
   "metadata": {},
   "outputs": [
    {
     "data": {
      "text/plain": [
       "\"hello world\\nI'm reading a book\\nI'm reading a book\\nI'm reading a book\""
      ]
     },
     "execution_count": 25,
     "metadata": {},
     "output_type": "execute_result"
    }
   ],
   "source": [
    "# 파일 읽기\n",
    "f.read()"
   ]
  },
  {
   "cell_type": "code",
   "execution_count": 27,
   "id": "99004a69-e2fc-4734-924a-b80eba7b567f",
   "metadata": {},
   "outputs": [
    {
     "data": {
      "text/plain": [
       "'hel'"
      ]
     },
     "execution_count": 27,
     "metadata": {},
     "output_type": "execute_result"
    }
   ],
   "source": [
    "# 3개만 읽기\n",
    "f.read(3)"
   ]
  },
  {
   "cell_type": "code",
   "execution_count": 32,
   "id": "d3ea8e92-5934-4ea1-9a8d-e390a1d4aca4",
   "metadata": {},
   "outputs": [
    {
     "data": {
      "text/plain": [
       "'hello world\\n'"
      ]
     },
     "execution_count": 32,
     "metadata": {},
     "output_type": "execute_result"
    }
   ],
   "source": [
    "f.readline()"
   ]
  },
  {
   "cell_type": "code",
   "execution_count": 43,
   "id": "f151d405-83eb-4642-8726-c115f85a9d0e",
   "metadata": {},
   "outputs": [
    {
     "data": {
      "text/plain": [
       "'hello'"
      ]
     },
     "execution_count": 43,
     "metadata": {},
     "output_type": "execute_result"
    }
   ],
   "source": [
    "# 개인 실습\n",
    "f.readline(5) # readline(n)도 n개만큼 출력"
   ]
  },
  {
   "cell_type": "code",
   "execution_count": 39,
   "id": "06d1a662-7a09-4a7c-8feb-391924247fe7",
   "metadata": {
    "tags": []
   },
   "outputs": [
    {
     "data": {
      "text/plain": [
       "['eading a book\\n', \"I'm reading a book\\n\", \"I'm reading a book\"]"
      ]
     },
     "execution_count": 39,
     "metadata": {},
     "output_type": "execute_result"
    }
   ],
   "source": [
    "f.readlines()"
   ]
  },
  {
   "cell_type": "code",
   "execution_count": 59,
   "id": "5375eee3-d90f-46de-a5e4-64eee8032048",
   "metadata": {},
   "outputs": [
    {
     "data": {
      "text/plain": [
       "['hello world\\n', \"I'm reading a book1\\n\", \"I'm reading a book2\\n\"]"
      ]
     },
     "execution_count": 59,
     "metadata": {},
     "output_type": "execute_result"
    }
   ],
   "source": [
    "# 개인실습\n",
    "f.readlines(33) "
   ]
  },
  {
   "cell_type": "markdown",
   "id": "b4e7252c-c3e9-4379-b971-dc2eee4c3cdc",
   "metadata": {},
   "source": [
    "##### readlines의 parameter 기능\n",
    "- Syntax\n",
    "    - file.readlines(hint)\n",
    "- Parameter: *hint*\n",
    "    - Optional. If the `number of bytes returned exceed the hint number`, `no more lines will be returned`. Default value is  -1, which means all lines will be returned."
   ]
  },
  {
   "cell_type": "code",
   "execution_count": 62,
   "id": "3a860cb8-b06c-4b4c-9a9a-2b6dde47b0f6",
   "metadata": {},
   "outputs": [],
   "source": [
    "# 개행 문자 제거 방법\n",
    "g = open(file, 'r')\n",
    "sents = g.readlines()\n",
    "sents = [s.strip() for s in sents] # 텍스트 정제\n",
    "g.close()"
   ]
  },
  {
   "cell_type": "code",
   "execution_count": 63,
   "id": "aaa547f6-3eb2-4ba5-9ffb-fc3300df181f",
   "metadata": {},
   "outputs": [
    {
     "data": {
      "text/plain": [
       "['hello world',\n",
       " \"I'm reading a book1\",\n",
       " \"I'm reading a book2\",\n",
       " \"I'm reading a book3\"]"
      ]
     },
     "execution_count": 63,
     "metadata": {},
     "output_type": "execute_result"
    }
   ],
   "source": [
    "sents"
   ]
  },
  {
   "cell_type": "markdown",
   "id": "5e28ff1d-3a8e-420d-b5b6-b9dda24978bd",
   "metadata": {},
   "source": [
    "### **파일 닫기**\n",
    "- 자원 해제\n",
    "- 파일 여는 즉시 닫기\n",
    "    - 변수에 담아 놓기\n",
    "- 자원 해제\n",
    "    - 메모리, 에러 문제"
   ]
  },
  {
   "cell_type": "code",
   "execution_count": 64,
   "id": "71edb657-89c8-4736-8aac-d9f28eaa610b",
   "metadata": {},
   "outputs": [],
   "source": [
    "with open(file, 'r') as h: # file\n",
    "    # open()이 적용되는 블록\n",
    "    content = h.read()\n",
    "# 파일이 자동으로 닫힘"
   ]
  },
  {
   "cell_type": "code",
   "execution_count": 65,
   "id": "1f21a0bc-371e-4d20-b8fa-4d9984aaebe0",
   "metadata": {},
   "outputs": [
    {
     "data": {
      "text/plain": [
       "\"hello world\\nI'm reading a book1\\nI'm reading a book2\\nI'm reading a book3\""
      ]
     },
     "execution_count": 65,
     "metadata": {},
     "output_type": "execute_result"
    }
   ],
   "source": [
    "content"
   ]
  },
  {
   "cell_type": "markdown",
   "id": "855edb12-f6c1-41b5-b369-929e430d315f",
   "metadata": {},
   "source": [
    "#### **[실습 1] readline 파일 읽는데, while 사용해서 한 줄씩 읽고 strip()해서 리스트에 반환하는 함수 만들기**"
   ]
  },
  {
   "cell_type": "code",
   "execution_count": 66,
   "id": "3be81579-065f-4cd2-aa29-b46c47347966",
   "metadata": {},
   "outputs": [
    {
     "data": {
      "text/plain": [
       "['hello world',\n",
       " \"I'm reading a book1\",\n",
       " \"I'm reading a book2\",\n",
       " \"I'm reading a book3\"]"
      ]
     },
     "execution_count": 66,
     "metadata": {},
     "output_type": "execute_result"
    }
   ],
   "source": [
    "file = 'test.txt'\n",
    "sents = []\n",
    "\n",
    "with open(file, 'r') as f:\n",
    "    while True:\n",
    "        line = f.readline()\n",
    "        if not line: # 빈 줄('')의 길이는 1, 콘텐츠가 없을 때는 0\n",
    "            break\n",
    "        sent = line.strip()\n",
    "        sents.append(sent)\n",
    "        \n",
    "# -------- sents 리스트---------- #\n",
    "sents"
   ]
  },
  {
   "cell_type": "code",
   "execution_count": 68,
   "id": "439e723a-1004-47ae-b27f-f45bed7b8bde",
   "metadata": {},
   "outputs": [
    {
     "data": {
      "text/plain": [
       "['hello world',\n",
       " \"I'm reading a book1\",\n",
       " \"I'm reading a book2\",\n",
       " \"I'm reading a book3\"]"
      ]
     },
     "execution_count": 68,
     "metadata": {},
     "output_type": "execute_result"
    }
   ],
   "source": [
    "def make_readlines(file):\n",
    "    sents = []\n",
    "    with open(file, 'r') as f:\n",
    "        while line := f.readline().strip():\n",
    "            sents.append(line)\n",
    "    return sents\n",
    "\n",
    "file = 'test.txt'\n",
    "make_readlines(file)"
   ]
  },
  {
   "cell_type": "markdown",
   "id": "924214d8-c949-422f-94f6-b1917e17ed42",
   "metadata": {},
   "source": [
    "### **경로가 달라질 때**\n",
    "- `.` : 현재 경로\n",
    "- `..` : 상위 경로"
   ]
  },
  {
   "cell_type": "code",
   "execution_count": 27,
   "id": "0075cb22-355a-4007-a849-6a7a2e1f7250",
   "metadata": {},
   "outputs": [
    {
     "name": "stdout",
     "output_type": "stream",
     "text": [
      "hello world\n",
      "I'm reading a book\n",
      "I'm reading a book\n",
      "I'm reading a book\n"
     ]
    }
   ],
   "source": [
    "# file = '../folder' -> 상위 경로\n",
    "file = './etc/test.txt'\n",
    "with open(file) as f:\n",
    "    print(f.read())"
   ]
  },
  {
   "cell_type": "markdown",
   "id": "79d7ad51-71be-43c3-82dd-2812a107bf02",
   "metadata": {},
   "source": [
    "### **쓰기**\n",
    "- 인코딩 유의"
   ]
  },
  {
   "cell_type": "code",
   "execution_count": 77,
   "id": "05cdb792-b12c-459b-bdcd-dfa88b279bac",
   "metadata": {},
   "outputs": [],
   "source": [
    "with open('test2.txt', 'w', encoding='utf-8') as f:\n",
    "    for i in range(10):\n",
    "        data = f'{i}번째 줄입니다.\\n'\n",
    "        f.write(data)"
   ]
  },
  {
   "attachments": {
    "74faa4e1-d13e-4cb3-b070-1c9631cb73ff.png": {
     "image/png": "[encoded data removed]"
    }
   },
   "cell_type": "markdown",
   "id": "49d7c099-1d3f-4374-ac46-bd04c03dad36",
   "metadata": {},
   "source": [
    "- 실행 결과\n",
    "\n",
    "![image.png](attachment:74faa4e1-d13e-4cb3-b070-1c9631cb73ff.png)"
   ]
  },
  {
   "cell_type": "markdown",
   "id": "dce0bed2-cdfb-4514-ab86-b1bc4101107b",
   "metadata": {},
   "source": [
    "#### **print()로 쓰기**\n",
    "- print('문자열', `file=<쓰기 할 파일(open 상태)>`)"
   ]
  },
  {
   "cell_type": "code",
   "execution_count": 72,
   "id": "a5efc79e-aa0b-4201-8a72-12b53948c25a",
   "metadata": {},
   "outputs": [],
   "source": [
    "# print로 쓰기\n",
    "file_out = open('test2.txt', 'a', encoding='utf-8')\n",
    "print('한 줄 추가했습니다.', file=file_out)\n",
    "file_out.close()"
   ]
  },
  {
   "attachments": {
    "d100adf1-c564-4fec-a20b-22d3c60bb78c.png": {
     "image/png": "[encoded data removed]"
    }
   },
   "cell_type": "markdown",
   "id": "61a29cd1-9be8-43bb-bd96-4aee66b0fef0",
   "metadata": {},
   "source": [
    "- 실행 결과\n",
    "\n",
    "![image.png](attachment:d100adf1-c564-4fec-a20b-22d3c60bb78c.png)"
   ]
  },
  {
   "cell_type": "markdown",
   "id": "4ada5b22-2c55-4fbf-b37c-f093dc69719e",
   "metadata": {},
   "source": [
    "#### **디렉터리(폴더) 만들어서 쓰기**\n",
    "- 폴더 만들기\n",
    "    - `import os`\n",
    "    - os.`mkdir('생성할 디렉터리명')`\n",
    "- 접근"
   ]
  },
  {
   "cell_type": "code",
   "execution_count": 79,
   "id": "11230c09-2155-4956-9856-20235273a5d4",
   "metadata": {},
   "outputs": [
    {
     "ename": "FileNotFoundError",
     "evalue": "[Errno 2] No such file or directory: './example/test2.txt'",
     "output_type": "error",
     "traceback": [
      "\u001b[1;31m---------------------------------------------------------------------------\u001b[0m",
      "\u001b[1;31mFileNotFoundError\u001b[0m                         Traceback (most recent call last)",
      "\u001b[1;32mC:\\Temp/ipykernel_25772/3717405915.py\u001b[0m in \u001b[0;36m<module>\u001b[1;34m\u001b[0m\n\u001b[0;32m      1\u001b[0m \u001b[1;31m# 디렉터리가 존재하지 않기 때문에 오류 발생\u001b[0m\u001b[1;33m\u001b[0m\u001b[1;33m\u001b[0m\u001b[0m\n\u001b[1;32m----> 2\u001b[1;33m \u001b[1;32mwith\u001b[0m \u001b[0mopen\u001b[0m\u001b[1;33m(\u001b[0m\u001b[1;34m'./example/test2.txt'\u001b[0m\u001b[1;33m,\u001b[0m \u001b[1;34m'w'\u001b[0m\u001b[1;33m,\u001b[0m \u001b[0mencoding\u001b[0m\u001b[1;33m=\u001b[0m\u001b[1;34m'utf-8'\u001b[0m\u001b[1;33m)\u001b[0m \u001b[1;32mas\u001b[0m \u001b[0mf\u001b[0m\u001b[1;33m:\u001b[0m\u001b[1;33m\u001b[0m\u001b[1;33m\u001b[0m\u001b[0m\n\u001b[0m\u001b[0;32m      3\u001b[0m     \u001b[1;32mfor\u001b[0m \u001b[0mi\u001b[0m \u001b[1;32min\u001b[0m \u001b[0mrange\u001b[0m\u001b[1;33m(\u001b[0m\u001b[1;36m10\u001b[0m\u001b[1;33m)\u001b[0m\u001b[1;33m:\u001b[0m\u001b[1;33m\u001b[0m\u001b[1;33m\u001b[0m\u001b[0m\n\u001b[0;32m      4\u001b[0m         \u001b[0mdata\u001b[0m \u001b[1;33m=\u001b[0m \u001b[1;34mf'{i}번째 줄입니다.\\n'\u001b[0m\u001b[1;33m\u001b[0m\u001b[1;33m\u001b[0m\u001b[0m\n\u001b[0;32m      5\u001b[0m         \u001b[0mf\u001b[0m\u001b[1;33m.\u001b[0m\u001b[0mwrite\u001b[0m\u001b[1;33m(\u001b[0m\u001b[0mdata\u001b[0m\u001b[1;33m)\u001b[0m\u001b[1;33m\u001b[0m\u001b[1;33m\u001b[0m\u001b[0m\n",
      "\u001b[1;31mFileNotFoundError\u001b[0m: [Errno 2] No such file or directory: './example/test2.txt'"
     ]
    }
   ],
   "source": [
    "# 디렉터리가 존재하지 않기 때문에 오류 발생\n",
    "with open('./example/test2.txt', 'w', encoding='utf-8') as f:\n",
    "    for i in range(10):\n",
    "        data = f'{i}번째 줄입니다.\\n'\n",
    "        f.write(data)"
   ]
  },
  {
   "cell_type": "code",
   "execution_count": 82,
   "id": "91d4063c-d3d2-4b18-93df-21bd2a8d00db",
   "metadata": {},
   "outputs": [],
   "source": [
    "# 폴더 만들어서 추가하기\n",
    "import os\n",
    "os.mkdir('example') #폴더 생성"
   ]
  },
  {
   "attachments": {
    "e4740a0d-e84b-4747-8efe-b49e112d6bcf.png": {
     "image/png": "[encoded data removed]"
    }
   },
   "cell_type": "markdown",
   "id": "e9508883-6a48-42ff-a61d-e09664f7f364",
   "metadata": {},
   "source": [
    "- 실행 결과\n",
    "\n",
    "![image.png](attachment:e4740a0d-e84b-4747-8efe-b49e112d6bcf.png)"
   ]
  },
  {
   "cell_type": "markdown",
   "id": "2d4ba1a2-6a6b-46f7-8a42-32fb9e9b8553",
   "metadata": {},
   "source": [
    "- **디렉터리가 있으면 추가 X, 없으면 새로 생성**\n",
    "    - os.path`.isdir('디렉터리 경로')`\n",
    "        - '디렉터리 경로'를 가진 디렉터리가 존재하는지 검사\n",
    "        - 어떤 경로가 존재하고, 폴더일 때 True 반환\n",
    "        - 파일이거나, 존재하지 않으면 False 반환\n",
    "    - os.path`.exists('경로명')`\n",
    "        - 파일이나 폴더의 존재 여부 검사\n",
    "        - 파일, 폴더 존재하면 True 반환\n",
    "        - 해당 파일, 폴더가 없을때 False 반환\n",
    "    - os.path`.isfile('파일 경로')`\n",
    "        - '파일 경로'를 가진 파일이 존재하는지 검사\n",
    "        - 어떤 경로가 존재하고, 파일일 때 True 리턴\n",
    "        - 폴더이거나, 존재하지 않으면 False 리턴\n",
    "    - 경로 생성하기\n",
    "        - os.path`.join(생성하고 싶은 경로의 문자열)`\n",
    "            - 운영체제에 맞게 폴더 구분자를 다뤄서 경로 생성"
   ]
  },
  {
   "cell_type": "code",
   "execution_count": 86,
   "id": "0c6e211d-76ab-41cd-a2ed-8e01b7f37c66",
   "metadata": {},
   "outputs": [
    {
     "name": "stdout",
     "output_type": "stream",
     "text": [
      "True\n"
     ]
    }
   ],
   "source": [
    "dir_path = './example'\n",
    "\n",
    "# 디렉터리 있는지 검사해보기\n",
    "print(os.path.isdir(dir_path))"
   ]
  },
  {
   "cell_type": "code",
   "execution_count": 87,
   "id": "9e62e3d3-6b37-4fae-9e48-643eb57aed4e",
   "metadata": {},
   "outputs": [],
   "source": [
    "# 디렉터리 경로 생성하기\n",
    "path = './'\n",
    "dir_name = 'example'\n",
    "dir_path = os.path.join(path, dir_name)"
   ]
  },
  {
   "cell_type": "code",
   "execution_count": 88,
   "id": "18817075-05b1-4eae-a3d5-a3f7b152a9f9",
   "metadata": {},
   "outputs": [],
   "source": [
    "# 디렉터리가 있으면 추가 X, 없으면 새로 생성\n",
    "if not os.path.isdir(dir_path):\n",
    "    os.mkdir(dir_name) # 이미 존재하기 때문에 생성되지 않음"
   ]
  },
  {
   "cell_type": "code",
   "execution_count": 90,
   "id": "a2b9c431-0122-4e3e-8f2e-068706930378",
   "metadata": {},
   "outputs": [
    {
     "data": {
      "text/plain": [
       "'./example\\\\text2.txt'"
      ]
     },
     "execution_count": 90,
     "metadata": {},
     "output_type": "execute_result"
    }
   ],
   "source": [
    "# 파일 경로 생성하기\n",
    "file_name = 'text2.txt'\n",
    "file_path = os.path.join(dir_path, file_name)\n",
    "file_path"
   ]
  },
  {
   "cell_type": "code",
   "execution_count": 94,
   "id": "01556293-0b61-43f0-bee7-57b419e8bfef",
   "metadata": {},
   "outputs": [
    {
     "name": "stdout",
     "output_type": "stream",
     "text": [
      "False\n",
      "False\n"
     ]
    }
   ],
   "source": [
    "# 파일 있는지 검사해보기\n",
    "print(os.path.isfile(file_path))\n",
    "print(os.path.exists(file_path))"
   ]
  },
  {
   "cell_type": "code",
   "execution_count": 105,
   "id": "cbc9b1eb-061d-49a8-95ee-ccaac8e8f1af",
   "metadata": {},
   "outputs": [],
   "source": [
    "# 재확인: 해당 경로에 해당 파일이 없으면 write 하여라\n",
    "if not os.path.exists(file_path):\n",
    "    with open(file_path, 'w', encoding='utf-8') as f: # 덮어 쓸 가능성 배제\n",
    "        msg = '새로 생성된 파일입니다.'\n",
    "        f.write(msg)"
   ]
  },
  {
   "attachments": {
    "652a5712-d1fd-4914-9116-319d59e70c12.png": {
     "image/png": "[encoded data removed]"
    },
    "b8acc43f-222a-4c95-a8a8-769432afd7e3.png": {
     "image/png": "[encoded data removed]"
    }
   },
   "cell_type": "markdown",
   "id": "055edd86-1203-4ffb-a9c1-d19da7ea676e",
   "metadata": {},
   "source": [
    "- 실행 결과 1(새로 생성 & 쓰기)\n",
    "\n",
    "![image.png](attachment:652a5712-d1fd-4914-9116-319d59e70c12.png)\n",
    "![image.png](attachment:b8acc43f-222a-4c95-a8a8-769432afd7e3.png)"
   ]
  },
  {
   "cell_type": "markdown",
   "id": "3b89dc6a-099f-4024-a938-ab59c398a13b",
   "metadata": {},
   "source": [
    "- 실행 결과 2(이미 존재하므로 쓰기 X)"
   ]
  },
  {
   "cell_type": "markdown",
   "id": "dcd0f6b4-b3a1-4b37-aa90-35650a263179",
   "metadata": {},
   "source": [
    "#### **디렉터리(폴더) 지우기**\n",
    "- os`.remove('파일 경로')`\n",
    "    - 파일 삭제\n",
    "- os`.rmdir('디렉터리 경로')`\n",
    "    - 빈 폴더 삭제(가장 하위 폴더만)\n",
    "    - 빈 폴더만을 삭제해주며, 비어있지 않을 경우(폴더 내 파일 존재 시) 에러 발생"
   ]
  },
  {
   "cell_type": "code",
   "execution_count": 98,
   "id": "0aa59230-fed7-4623-b254-07eda4449304",
   "metadata": {
    "tags": []
   },
   "outputs": [],
   "source": [
    "os.remove(file_path)"
   ]
  },
  {
   "attachments": {
    "96e667c7-8335-4698-bf8e-304ab9bb25b1.png": {
     "image/png": "[encoded data removed]"
    }
   },
   "cell_type": "markdown",
   "id": "a227ea39-a08a-4a3e-ae75-5879bcfe63b5",
   "metadata": {},
   "source": [
    "- 실행 결과\n",
    "\n",
    "![image.png](attachment:96e667c7-8335-4698-bf8e-304ab9bb25b1.png)"
   ]
  },
  {
   "cell_type": "code",
   "execution_count": 100,
   "id": "69425b11-7dc7-4d52-8f4e-7d7016f49cae",
   "metadata": {},
   "outputs": [
    {
     "ename": "OSError",
     "evalue": "[WinError 145] 디렉터리가 비어 있지 않습니다: 'example'",
     "output_type": "error",
     "traceback": [
      "\u001b[1;31m---------------------------------------------------------------------------\u001b[0m",
      "\u001b[1;31mOSError\u001b[0m                                   Traceback (most recent call last)",
      "\u001b[1;32mC:\\Temp/ipykernel_25772/1940042561.py\u001b[0m in \u001b[0;36m<module>\u001b[1;34m\u001b[0m\n\u001b[1;32m----> 1\u001b[1;33m \u001b[0mos\u001b[0m\u001b[1;33m.\u001b[0m\u001b[0mrmdir\u001b[0m\u001b[1;33m(\u001b[0m\u001b[0mdir_name\u001b[0m\u001b[1;33m)\u001b[0m \u001b[1;31m# 폴더 안에 파일이 있으면 삭제 못함\u001b[0m\u001b[1;33m\u001b[0m\u001b[1;33m\u001b[0m\u001b[0m\n\u001b[0m",
      "\u001b[1;31mOSError\u001b[0m: [WinError 145] 디렉터리가 비어 있지 않습니다: 'example'"
     ]
    }
   ],
   "source": [
    "os.rmdir(dir_name) # 폴더 안에 파일이 있으면 삭제 못함"
   ]
  },
  {
   "cell_type": "code",
   "execution_count": 104,
   "id": "4f39b15b-7f63-4c9d-9382-362b91585a36",
   "metadata": {},
   "outputs": [
    {
     "name": "stdout",
     "output_type": "stream",
     "text": [
      "삭제 완료\n",
      "['.ipynb_checkpoints']\n"
     ]
    }
   ],
   "source": [
    "# 개인실습\n",
    "\"\"\"\n",
    "파일 삭제 시,\n",
    "    # 1. 파일의 유무를 우선적으로 확인\n",
    "    # 2. 파일이 있는 경우 파일을 삭제\n",
    "    # 3. 삭제 결과 출력\n",
    "\"\"\"\n",
    "# 0. 경로 설정 작업\n",
    "path = './'\n",
    "dir_name = 'example'\n",
    "dir_path = os.path.join(path, dir_name)\n",
    "file_name = 'text2.txt'\n",
    "file_path = os.path.join(dir_path, file_name)\n",
    "\n",
    "if os.path.exists(file_path): # 1.\n",
    "    os.remove(file_path) # 2.\n",
    "    print('삭제 완료') # 3.\n",
    "    \n",
    "    # 디렉터리 내 항목 조회\n",
    "    print(os.listdir(dir_path))\n",
    "else:\n",
    "    print('해당 파일이 없습니다.')"
   ]
  },
  {
   "cell_type": "markdown",
   "id": "03e9182c-96d1-48c7-b668-a10c281e4086",
   "metadata": {},
   "source": [
    "- shutil`.rmtree('디렉터리 경로명')`\n",
    "    - 디렉터리 내 항목 존재하여도 강제로 전부 삭제\n",
    "    - import shutil"
   ]
  },
  {
   "cell_type": "code",
   "execution_count": 106,
   "id": "ba8a3942-9801-4b47-9153-f899a9969fed",
   "metadata": {},
   "outputs": [],
   "source": [
    "import shutil\n",
    "shutil.rmtree(dir_path) # 강제로 전부 삭제\n",
    "\n",
    "# 실행 결과: example 폴더 사라짐"
   ]
  },
  {
   "cell_type": "markdown",
   "id": "df792767-95db-4b81-bbe2-afbb7e7a0593",
   "metadata": {},
   "source": [
    "#### **[실습 2] 폴더 생성, 파일에 쓰기, 파일 열기**\n",
    "- folder 새로 만들기\n",
    "- 파일에 내용 쓰기\n",
    "- 파일 열기"
   ]
  },
  {
   "cell_type": "code",
   "execution_count": 108,
   "id": "97fcd644-7f10-42e1-a15f-30668069e62e",
   "metadata": {},
   "outputs": [
    {
     "data": {
      "text/plain": [
       "['./pigeon\\\\new_text.txt 새로 생성됨!',\n",
       " '2번째 줄입니다.',\n",
       " '3번째 줄입니다.',\n",
       " '4번째 줄입니다.',\n",
       " '5번째 줄입니다.',\n",
       " '6번째 줄입니다.',\n",
       " '7번째 줄입니다.',\n",
       " '8번째 줄입니다.',\n",
       " '9번째 줄입니다.']"
      ]
     },
     "execution_count": 108,
     "metadata": {},
     "output_type": "execute_result"
    }
   ],
   "source": [
    "import os\n",
    "path = './'\n",
    "dir_name = 'pigeon'\n",
    "dir_path = os.path.join(path, dir_name)\n",
    "\n",
    "# 폴더 새로 만들기\n",
    "if not os.path.isdir(dir_path):\n",
    "    os.mkdir(dir_name)\n",
    "\n",
    "# 파일에 내용 쓰기\n",
    "file_name = 'new_text.txt'\n",
    "file_path = os.path.join(dir_path, file_name)\n",
    "if not os.path.exists(file_path):\n",
    "    with open(file_path, 'w', encoding='utf-8') as f:\n",
    "        content = f'{file_path} 새로 생성됨!\\n'\n",
    "        f.write(content)\n",
    "        for i in range(1, 9):\n",
    "            line = f'{i+1}번째 줄입니다.\\n'\n",
    "            f.write(line)\n",
    "\n",
    "# 파일 열기\n",
    "if os.path.exists(file_path):\n",
    "    with open(file_path, 'r', encoding='utf-8') as f:\n",
    "        contents = []\n",
    "        while line := f.readline().strip():\n",
    "            contents.append(line)\n",
    "\n",
    "contents"
   ]
  },
  {
   "cell_type": "markdown",
   "id": "d8ce0f41-c2b3-46c7-afc6-4171f3547c1a",
   "metadata": {},
   "source": [
    "#### **디렉터리(폴더) 위치 확인/이동**\n",
    "- os`.getcwd()`\n",
    "    - 현재 디렉터리 위치 반환\n",
    "- os`.chdir()`\n",
    "    - 디렉터리 위치 변경(이동)"
   ]
  },
  {
   "cell_type": "code",
   "execution_count": 109,
   "id": "2a306348-4e7e-4f3b-83ad-49d61b74fe5e",
   "metadata": {},
   "outputs": [
    {
     "data": {
      "text/plain": [
       "'D:\\\\Hyein_202002086'"
      ]
     },
     "execution_count": 109,
     "metadata": {},
     "output_type": "execute_result"
    }
   ],
   "source": [
    "os.getcwd()"
   ]
  },
  {
   "cell_type": "code",
   "execution_count": 110,
   "id": "21f3f624-c0ff-4d9c-9cf9-70873d5987bf",
   "metadata": {},
   "outputs": [
    {
     "data": {
      "text/plain": [
       "'D:\\\\'"
      ]
     },
     "execution_count": 110,
     "metadata": {},
     "output_type": "execute_result"
    }
   ],
   "source": [
    "os.chdir('../') # 상위로 이동\n",
    "os.getcwd()"
   ]
  },
  {
   "cell_type": "code",
   "execution_count": 118,
   "id": "460f1ada-7d55-47ba-92e3-ff2d4df06469",
   "metadata": {},
   "outputs": [
    {
     "data": {
      "text/plain": [
       "'D:\\\\Hyein_202002086'"
      ]
     },
     "execution_count": 118,
     "metadata": {},
     "output_type": "execute_result"
    }
   ],
   "source": [
    "os.chdir('Hyein_202002086/') # 'Hyein_202002086/'이라는 하위 폴더로 이동\n",
    "os.getcwd()"
   ]
  },
  {
   "cell_type": "code",
   "execution_count": 112,
   "id": "fc14cedf-c0d3-4dd3-8cf8-81045a9b558b",
   "metadata": {},
   "outputs": [
    {
     "data": {
      "text/plain": [
       "['!$huqXh',\n",
       " '$RECYCLE.BIN',\n",
       " '2020 하계 수몰',\n",
       " 'DumpStack.log',\n",
       " 'DumpStack.log.tmp',\n",
       " 'eclips',\n",
       " 'FONT',\n",
       " 'G4 SD',\n",
       " 'Git 자료',\n",
       " 'Google Drive',\n",
       " 'Hyein_202002086',\n",
       " 'OneDrive - 한국외국어대학교',\n",
       " 'OneDriveTemp',\n",
       " 'Programing Practice',\n",
       " 'PythonWorkspace',\n",
       " 'System Volume Information',\n",
       " 'tAdvanced_py',\n",
       " 'task1.py',\n",
       " 'task2.py',\n",
       " 'TestGit',\n",
       " 'tmp',\n",
       " '영상 제작']"
      ]
     },
     "execution_count": 112,
     "metadata": {},
     "output_type": "execute_result"
    }
   ],
   "source": [
    "# 개인 실습\n",
    "os.chdir('../') # 상위로 이동\n",
    "os.listdir(os.getcwd()) # 상위 디렉터리의 항목 조회"
   ]
  },
  {
   "cell_type": "markdown",
   "id": "40133887-37ff-4fa4-a62a-317050b5ec7d",
   "metadata": {},
   "source": [
    "### **pickle**\n",
    "- 객체를 파일로 저장하는 기능 제공\n",
    "- import pickle\n",
    "- binary로 write 해야 함: `wb`\n",
    "    - `pickle.dump(write할 객체, 파일)`\n",
    "- binary로 read 해야 함: `rb`\n",
    "    - `pickle.load(파일)`"
   ]
  },
  {
   "cell_type": "code",
   "execution_count": 114,
   "id": "98b222f5-407f-40df-b240-46fa00326a7c",
   "metadata": {},
   "outputs": [],
   "source": [
    "import pickle"
   ]
  },
  {
   "cell_type": "code",
   "execution_count": 115,
   "id": "3e623e0b-a280-491b-a8d7-ceb280f0ef20",
   "metadata": {},
   "outputs": [
    {
     "data": {
      "text/plain": [
       "[0, 1, 2, 3, 4, 5, 6, 7, 8, 9]"
      ]
     },
     "execution_count": 115,
     "metadata": {},
     "output_type": "execute_result"
    }
   ],
   "source": [
    "nums = list(range(10))\n",
    "nums # 리스트 객체"
   ]
  },
  {
   "cell_type": "code",
   "execution_count": 119,
   "id": "bef10372-e49b-4584-95a0-f373935dfdf7",
   "metadata": {},
   "outputs": [],
   "source": [
    "with open('test.pickle', 'wb') as f:\n",
    "    pickle.dump(nums, f)"
   ]
  },
  {
   "attachments": {
    "0982a19c-fe91-4ee6-a1da-0d9169365b6b.png": {
     "image/png": "[encoded data removed]"
    }
   },
   "cell_type": "markdown",
   "id": "eeaa996a-043d-4b8a-95be-e7f5e35534f8",
   "metadata": {},
   "source": [
    "- 실행 결과\n",
    "\n",
    "![image.png](attachment:0982a19c-fe91-4ee6-a1da-0d9169365b6b.png)"
   ]
  },
  {
   "cell_type": "code",
   "execution_count": 120,
   "id": "ceede5d6-62aa-4e04-a820-2acefc7cf7b3",
   "metadata": {},
   "outputs": [],
   "source": [
    "with open('test.pickle', 'rb') as f:\n",
    "    number = pickle.load(f)"
   ]
  },
  {
   "cell_type": "code",
   "execution_count": 121,
   "id": "d5661e10-86b3-4537-9b32-d9b0789e24fc",
   "metadata": {},
   "outputs": [
    {
     "data": {
      "text/plain": [
       "[0, 1, 2, 3, 4, 5, 6, 7, 8, 9]"
      ]
     },
     "execution_count": 121,
     "metadata": {},
     "output_type": "execute_result"
    }
   ],
   "source": [
    "number"
   ]
  },
  {
   "cell_type": "markdown",
   "id": "bc61a855-9a55-4d4a-8a5a-3b93c424a13b",
   "metadata": {},
   "source": [
    "---\n",
    "## **Review**\n",
    "\n",
    "### **새롭게 알게 된 내용**\n",
    "- print()로 write하기\n",
    "    - print(file='파일경로')\n",
    "- os 모듈\n",
    "- pickle 모듈"
   ]
  }
 ],
 "metadata": {
  "kernelspec": {
   "display_name": "Python 3 (ipykernel)",
   "language": "python",
   "name": "python3"
  },
  "language_info": {
   "codemirror_mode": {
    "name": "ipython",
    "version": 3
   },
   "file_extension": ".py",
   "mimetype": "text/x-python",
   "name": "python",
   "nbconvert_exporter": "python",
   "pygments_lexer": "ipython3",
   "version": "3.9.7"
  }
 },
 "nbformat": 4,
 "nbformat_minor": 5
}
