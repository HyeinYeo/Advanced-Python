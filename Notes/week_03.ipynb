{
 "cells": [
  {
   "cell_type": "markdown",
   "id": "6bf24eb2-6cfe-44be-9e45-a0294726e818",
   "metadata": {},
   "source": [
    "# **Week 03 - 2022/03/18**"
   ]
  },
  {
   "cell_type": "markdown",
   "id": "8252781b-7af1-42ac-b57c-332c8f3d6db8",
   "metadata": {},
   "source": [
    "##### 처음 시작하는 파이썬 p. 95-176 / p. 193-202\n",
    "---"
   ]
  },
  {
   "cell_type": "markdown",
   "id": "d2c9a1c1-b8c2-4daa-8687-6ea0a9d0252f",
   "metadata": {},
   "source": [
    "## **Ch04. 조건문, If**"
   ]
  },
  {
   "cell_type": "markdown",
   "id": "78594474-9eaa-4dc4-b3c6-d2ffd1be928c",
   "metadata": {},
   "source": [
    "### **4.4 논리연산자**\n",
    "- 비교연산 조건을 여러 번 사용하는 경우\n",
    "  - x > 0, x < 10\n",
    "- and, or, not\n",
    "  - `A and B`: A 그리고 B. A, B `둘 다 참`일 때 True(`&`)\n",
    "  - `A or B`: A 또는 B. 둘 중 `하나라도 참`일 때 True(`|`)\n",
    "  - `not` A: A 참이면 False, 거짓이면 True (`~`)"
   ]
  },
  {
   "cell_type": "markdown",
   "id": "673cbbd5-d9c0-4e1b-b124-132d59be3deb",
   "metadata": {},
   "source": [
    "### **4.5 중첩조건문 | nested conditional**\n",
    "- if  블록 안에 또 if 블록이 만들어지는 경우\n",
    "  - e.g: if ...\n",
    "             if ...\n",
    "                 if ...\n",
    "  - 구분은 들여쓰기로 한다.\n",
    "  - 조건이 여러 개일 경우 사용한다.\n",
    "  - 지양하고 더 깔끔한 방법을 찾아본다."
   ]
  },
  {
   "cell_type": "code",
   "execution_count": 1,
   "id": "51c0901e-77ef-4650-a0bd-e57fbc6a1aac",
   "metadata": {},
   "outputs": [
    {
     "name": "stdout",
     "output_type": "stream",
     "text": [
      "Block B\n"
     ]
    }
   ],
   "source": [
    "x = 0\n",
    "y = 4\n",
    "\n",
    "#가독성 안 좋은 경우 1\n",
    "if x == y:\n",
    "    print(\"Block A\")\n",
    "else: \n",
    "    if x < y:  # elif로 바꿀 수 있다.\n",
    "        print('Block B')\n",
    "    else:\n",
    "         print()"
   ]
  },
  {
   "cell_type": "code",
   "execution_count": 2,
   "id": "b9765942-3e1f-4544-9d98-73e06a7a02a6",
   "metadata": {
    "collapsed": true,
    "jupyter": {
     "outputs_hidden": true
    },
    "tags": []
   },
   "outputs": [
    {
     "ename": "IndentationError",
     "evalue": "expected an indented block (Temp/ipykernel_6296/1065155884.py, line 4)",
     "output_type": "error",
     "traceback": [
      "\u001b[1;36m  File \u001b[1;32m\"C:\\Temp/ipykernel_6296/1065155884.py\"\u001b[1;36m, line \u001b[1;32m4\u001b[0m\n\u001b[1;33m    else:\u001b[0m\n\u001b[1;37m    ^\u001b[0m\n\u001b[1;31mIndentationError\u001b[0m\u001b[1;31m:\u001b[0m expected an indented block\n"
     ]
    }
   ],
   "source": [
    "# case 1 해결\n",
    "if x == y: \n",
    "    #A\n",
    "elif x < y:\n",
    "    #B\n",
    "else:\n",
    "    #C"
   ]
  },
  {
   "cell_type": "code",
   "execution_count": null,
   "id": "0b223361-7e3d-4a0f-9782-38265669bb48",
   "metadata": {},
   "outputs": [],
   "source": [
    "#가독성 안 좋은 경우 2\n",
    "#0 < x <10\n",
    "\n",
    "if x > 0: \n",
    "    #A\n",
    "    if x < 10:\n",
    "        #B\n",
    "    else:\n",
    "        #C\n",
    "else:\n",
    "    #D"
   ]
  },
  {
   "cell_type": "code",
   "execution_count": null,
   "id": "4c8049cf-c053-4fea-a7b0-5b561e8dd0fe",
   "metadata": {},
   "outputs": [],
   "source": [
    "# case 2 - 방법 1\n",
    "#논리연산자 사용하는 방법\n",
    "if x > 0 and x <10: #괄호 없어도 인식은 됨. 명확화하기 위해 괄호 사용\n",
    "    #A\n",
    "else: \n",
    "    #B\n",
    "\n",
    "# case 2 - 방법 2\n",
    "#파이썬에서만 가능\n",
    "if 0 < x < 10: \n",
    "    #A\n",
    "else: #B"
   ]
  },
  {
   "cell_type": "markdown",
   "id": "906fd0f1-27b9-4273-8596-0e8714d5ee01",
   "metadata": {},
   "source": [
    "### **4.6 True/False**\n",
    "- A = True\n",
    "- \"만약 A가 참이면, ...\""
   ]
  },
  {
   "cell_type": "code",
   "execution_count": null,
   "id": "cc3289f9-ce89-4645-9dbc-f3e27b51789e",
   "metadata": {},
   "outputs": [],
   "source": [
    "if a == True: # 이거 아님\n",
    "    print()\n",
    "    \n",
    "if a: print()"
   ]
  },
  {
   "cell_type": "markdown",
   "id": "4c973c48-836b-4c0f-bdf8-900fe3c403b4",
   "metadata": {},
   "source": [
    "### **4.7 in**\n",
    "- membership operator\n",
    "- 요소가 안에 포함되어 있는가\n",
    "- A in B = A가 B에 포함되어 있나"
   ]
  },
  {
   "cell_type": "code",
   "execution_count": null,
   "id": "d81d63f9-d6e2-4958-90c7-a8b91b091ceb",
   "metadata": {},
   "outputs": [],
   "source": [
    "# ex1. 모음인지 아닌지 판별하라(a, e, i, o, u)\n",
    "\n",
    "letter = 'k'\n",
    "#if letter == 'a' or letter == 'e' or ... => 지양\n",
    "\n",
    "if letter in ['a', 'e', 'i', 'o', 'u']:\n",
    "    print(\"모음\")\n",
    "else: print('자음')"
   ]
  },
  {
   "cell_type": "code",
   "execution_count": null,
   "id": "d7744765-a285-40b3-a20d-f4286692dee4",
   "metadata": {},
   "outputs": [],
   "source": [
    "# 단어에 모음이 있나 없나\n",
    "word = 'apple'\n",
    "if 'a' or 'e' or 'i' or 'o' or 'u' in word:\n",
    "    print(\"yes\")\n",
    "else: print(\"nope\")"
   ]
  },
  {
   "cell_type": "markdown",
   "id": "7b0d3ffe-074c-4656-8d93-a2397e7ed41b",
   "metadata": {},
   "source": [
    "### **4.8 코끼리 연산자 :=**\n",
    "- walrus operator\n",
    "- :=\n",
    "- 할당 + 테스트 동시에 하는 기능\n",
    "- **코드 블럭은 깔끔하고 가독성이 좋아야 한다!**"
   ]
  },
  {
   "cell_type": "code",
   "execution_count": 30,
   "id": "20f87434-2e5f-4f7c-83d9-fa059aa6775c",
   "metadata": {},
   "outputs": [
    {
     "name": "stdout",
     "output_type": "stream",
     "text": [
      "blahblahblahblahblahblahblahblahblahblahblahblahblahblahblahblahblahblahblahblahblahblahblahblahblahblahblahblahblahblahblahblahblahblahblahblahblahblahblahblahblahblahblahblahblahblahblahblahblahblah\n"
     ]
    },
    {
     "data": {
      "text/plain": [
       "200"
      ]
     },
     "execution_count": 30,
     "metadata": {},
     "output_type": "execute_result"
    }
   ],
   "source": [
    "tweet_limit = 200\n",
    "tweet_string = 'blah' * 50\n",
    "print(tweet_string)\n",
    "len(tweet_string)"
   ]
  },
  {
   "cell_type": "code",
   "execution_count": null,
   "id": "f6cd5e27-c48c-4918-a0ac-5358def144b8",
   "metadata": {},
   "outputs": [],
   "source": [
    "diff = tweek_limit - len(tweet_string)\n",
    "if diff > 0:\n",
    "    print('가능')\n",
    "else: \n",
    "    print('불가능')"
   ]
  },
  {
   "cell_type": "code",
   "execution_count": 32,
   "id": "927fefd4-3948-424f-9db5-d61db55a2291",
   "metadata": {},
   "outputs": [
    {
     "name": "stdout",
     "output_type": "stream",
     "text": [
      "불가능\n"
     ]
    }
   ],
   "source": [
    "#할당하고 바로 테스트 가능\n",
    "\n",
    "if diff := tweet_limit - len(tweet_string) > 0:\n",
    "    print('가능')\n",
    "else: \n",
    "    print('불가능')"
   ]
  },
  {
   "cell_type": "markdown",
   "id": "78b92402-4f8e-45d7-ba15-99ab7fe81a59",
   "metadata": {},
   "source": [
    "### **`Quiz 1.`**\n",
    "- 윤년을 구해봅시다.\n",
    "  - 연도 입력받기\n",
    "  - 4로 나누어지면 윤년\n",
    "  - 100으로 나누어지면 안 된다.\n",
    "  - 400으로 나누어지면 윤년\n",
    "- 출력: '{}년은 윤년입니다.'/'- 아닙니다.'"
   ]
  },
  {
   "cell_type": "code",
   "execution_count": 27,
   "id": "9404c4c4-4a14-4708-91ce-adec1bc52d50",
   "metadata": {},
   "outputs": [
    {
     "name": "stdin",
     "output_type": "stream",
     "text": [
      "연도를 입력하세요:  1988\n"
     ]
    },
    {
     "name": "stdout",
     "output_type": "stream",
     "text": [
      "1988년은 윤년입니다.\n"
     ]
    }
   ],
   "source": [
    "year = int(input('연도를 입력하세요: '))\n",
    "\n",
    "if ((year % 4 == 0) and (year % 100 != 0)) or (year % 400 == 0):\n",
    "    print(f'{year}년은 윤년입니다.')\n",
    "else: print(f'{year}년은 윤년이 아닙니다.')"
   ]
  },
  {
   "cell_type": "markdown",
   "id": "afdf304d-c5ae-4151-95b0-af36bb9736c4",
   "metadata": {},
   "source": [
    "---\n",
    "## **Ch05. String**\n",
    "### **5.1 String | 문자열**\n",
    "- 시스템에서 가장 작은 단위\n",
    "- 하나의 char가 차지하는 바이트가 가장 작다\n",
    "- `불변적인(immutable)` 성격을 가진다. \n",
    "  - e.g. jack -> jeck 문자열 중간만 swap 불가능\n",
    "- '\\<data\\>', \"\\<data\\>\"으로 선언한다.\n",
    "  - 예: \"25.5\" type\\<string\\>\n",
    "  - ''', \"\"\" 주석이다.\n",
    "- string으로의 형 변환은 `str()`\n",
    "\n",
    "### **5.2 escape character | 이스케이프 문자**\n",
    "- 특수한 형태의 문자열. 눈에 보이는 대로 인식되지 않는 문자\n",
    "- \\ + ch\n",
    "- e.g. : \\n, \\t, \\b, \\', \\\", ...\n",
    "  - \\n 출력하고 싶다? \n",
    "    - \\\\n : 백슬래시를 앞에 하나 더 붙여줌\n",
    "    - r'' : raw string\n",
    "- 다른 스트링을 만드는 것이 아닌, `출력의 문제`"
   ]
  },
  {
   "cell_type": "markdown",
   "id": "dffd7f21-9a85-4bd4-aff2-3febf5af89b4",
   "metadata": {},
   "source": [
    "##### **이스케이프 문자 사용하기**"
   ]
  },
  {
   "cell_type": "code",
   "execution_count": 11,
   "id": "0fdc10de-f378-4c13-b21c-ffe30ed5e854",
   "metadata": {},
   "outputs": [
    {
     "name": "stdout",
     "output_type": "stream",
     "text": [
      "hello\n",
      "world\n"
     ]
    }
   ],
   "source": [
    "sent = \"hello\\nworld\"\n",
    "sent\n",
    "print(sent) #print하면 이스케이프 문자 적용돼서 보이지 않음"
   ]
  },
  {
   "cell_type": "markdown",
   "id": "52a2a65b-5373-4528-aaeb-870421bb6a12",
   "metadata": {},
   "source": [
    "##### **이스케이프 문자 출력하기(\\추가)**"
   ]
  },
  {
   "cell_type": "code",
   "execution_count": 36,
   "id": "1e762db6-2be1-447f-b683-9422da6355ab",
   "metadata": {},
   "outputs": [
    {
     "data": {
      "text/plain": [
       "\"I'm a student\""
      ]
     },
     "execution_count": 36,
     "metadata": {},
     "output_type": "execute_result"
    }
   ],
   "source": [
    "'I\\'m a student'"
   ]
  },
  {
   "cell_type": "markdown",
   "id": "a1b6bc25-1c3d-47f2-a4c8-0871495eac92",
   "metadata": {},
   "source": [
    "##### **이스케이프 문자 출력하기(r'')**"
   ]
  },
  {
   "cell_type": "code",
   "execution_count": 37,
   "id": "26690c5f-1ed1-40db-bbdb-9decddfee8ee",
   "metadata": {},
   "outputs": [
    {
     "name": "stdout",
     "output_type": "stream",
     "text": [
      "hello\\nworld\n"
     ]
    }
   ],
   "source": [
    "sent = r\"hello\\nworld\"\n",
    "print(sent) "
   ]
  },
  {
   "cell_type": "markdown",
   "id": "bafcbc18-9ce1-4126-8cdb-1503534a6f8b",
   "metadata": {},
   "source": [
    "### **5.3 문자열 연산**\n",
    "- concatenatation\n",
    "  - '' + '' => 공백 없이 결합하는 방법\n",
    "- 곱하기\n",
    "  - ''*5 => 복제"
   ]
  },
  {
   "cell_type": "markdown",
   "id": "def34231-df3e-4795-b736-2e5bd12c41c6",
   "metadata": {},
   "source": [
    "##### **공백 없이 결합**"
   ]
  },
  {
   "cell_type": "code",
   "execution_count": null,
   "id": "a69d24fd-0a80-4087-bb6b-5724628df1dc",
   "metadata": {},
   "outputs": [],
   "source": [
    "name = 'jack'\n",
    "name + name"
   ]
  },
  {
   "cell_type": "markdown",
   "id": "16bea959-3da2-4069-a115-0feb7522db93",
   "metadata": {},
   "source": [
    "##### **복제하기(곱하기)**"
   ]
  },
  {
   "cell_type": "code",
   "execution_count": null,
   "id": "ead1e659-5767-414d-b73c-e17ca8d6beb7",
   "metadata": {},
   "outputs": [],
   "source": [
    "name * 4"
   ]
  },
  {
   "cell_type": "markdown",
   "id": "3b55588d-bdb5-4d1d-8fdf-ee309f562545",
   "metadata": {},
   "source": [
    "##### **불변적 성격**"
   ]
  },
  {
   "cell_type": "code",
   "execution_count": null,
   "id": "6639d5a5-b039-4e33-8b54-e5145f1df5f3",
   "metadata": {},
   "outputs": [],
   "source": [
    "#immutable\n",
    "name[1] = 'e' #일부 바꾸기 불가능"
   ]
  },
  {
   "cell_type": "markdown",
   "id": "43bf56a1-f7ed-4dde-8f9a-4651bac8ac74",
   "metadata": {},
   "source": [
    "### **5.4 슬라이싱 추출**\n",
    "- 문자열의 일부분을 떼어내는 작업\n",
    "- 대괄호 사용, 그 안에 오프셋 지정: [오프셋]\n",
    "- `오프셋`은 `0부터 시작`한다.\n",
    "|   0   |   1   |   2   |   3   |\n",
    "|:-----:|:-----:|:-----:|:-----:|\n",
    "| **j** | **a** | **c** | **k** |\n",
    "|   -4  |   -3  |   -2  |   -1  |\n",
    "- 음수도 가능함. -1부터 시작\n",
    "- 오프셋은 [시작:끝:스텝] #step=1(기본값)\n",
    "- 시작은 포함, 끝은 포함하지 않음 (이상-미만) [a, b)"
   ]
  },
  {
   "cell_type": "markdown",
   "id": "242de63f-dfda-4900-a984-350b88f77141",
   "metadata": {},
   "source": [
    "##### **문자 추출**"
   ]
  },
  {
   "cell_type": "code",
   "execution_count": 12,
   "id": "0dfe85a7-0393-48b3-bc73-c02f664095d8",
   "metadata": {
    "tags": []
   },
   "outputs": [
    {
     "name": "stdout",
     "output_type": "stream",
     "text": [
      "j\n",
      "k\n"
     ]
    }
   ],
   "source": [
    "name = 'jack'\n",
    "print(name[0]) #j\n",
    "print(name[-1]) #k"
   ]
  },
  {
   "cell_type": "markdown",
   "id": "97542277-2362-4ce2-bbf5-f1cf8e626fee",
   "metadata": {},
   "source": [
    "##### **슬라이스로 부분 문자열 추출**"
   ]
  },
  {
   "cell_type": "code",
   "execution_count": null,
   "id": "eeb377eb-5e88-485f-b071-aee2811e6845",
   "metadata": {},
   "outputs": [],
   "source": [
    "sent = \"hello\\nworld\"\n",
    "sent\n",
    "sent[3:4] # == sent[3]"
   ]
  },
  {
   "cell_type": "code",
   "execution_count": 39,
   "id": "a2a979e5-2d5f-48e2-9d12-3039fb97056e",
   "metadata": {},
   "outputs": [
    {
     "data": {
      "text/plain": [
       "'hello\\n'"
      ]
     },
     "execution_count": 39,
     "metadata": {},
     "output_type": "execute_result"
    }
   ],
   "source": [
    "# 처음부터 5까지 출력\n",
    "sent[0:6] #0은 쓰지 않는다\n",
    "sent[:6]"
   ]
  },
  {
   "cell_type": "code",
   "execution_count": 40,
   "id": "248018ab-a182-4b6a-a843-4ba212446c82",
   "metadata": {},
   "outputs": [
    {
     "data": {
      "text/plain": [
       "('hlowr', 'hlowrd')"
      ]
     },
     "execution_count": 40,
     "metadata": {},
     "output_type": "execute_result"
    }
   ],
   "source": [
    "# 처음부터 끝까지 2스텝씩 출력\n",
    "sent[:-1:2], sent[::2]"
   ]
  },
  {
   "cell_type": "code",
   "execution_count": 41,
   "id": "61d93ed2-b88a-4157-935b-a4c66a7a5200",
   "metadata": {
    "tags": []
   },
   "outputs": [
    {
     "data": {
      "text/plain": [
       "'dlrow\\nolleh'"
      ]
     },
     "execution_count": 41,
     "metadata": {},
     "output_type": "execute_result"
    }
   ],
   "source": [
    "# 모든 글자를 거꾸로 출력하세요\n",
    "sent[::-1]"
   ]
  },
  {
   "cell_type": "code",
   "execution_count": 15,
   "id": "e2ed812c-ba11-4bc9-946d-5bc7880ffc11",
   "metadata": {},
   "outputs": [
    {
     "name": "stdout",
     "output_type": "stream",
     "text": [
      "bentley\n",
      "porsche\n",
      "['lamborghini', 'bentley']\n",
      "['porsche', 'bentley', 'honda', 'lamborghini']\n"
     ]
    }
   ],
   "source": [
    "# 리스트에서도 사용 가능\n",
    "cars = ['lamborghini', 'honda', 'bentley', 'porsche']\n",
    "print(cars[2])\n",
    "print(cars[-1])\n",
    "print(cars[::2])\n",
    "print(cars[::-1])"
   ]
  },
  {
   "cell_type": "markdown",
   "id": "f17cc009-3b3f-4349-aa80-b9d5febf3425",
   "metadata": {},
   "source": [
    "### **5.5 문자열 내장함수**\n",
    "##### **문자열 길이 `len()`**"
   ]
  },
  {
   "cell_type": "code",
   "execution_count": 45,
   "id": "3d4eeefe-ee13-407f-9fcf-88067f62aeaa",
   "metadata": {
    "tags": []
   },
   "outputs": [
    {
     "data": {
      "text/plain": [
       "13"
      ]
     },
     "execution_count": 45,
     "metadata": {},
     "output_type": "execute_result"
    }
   ],
   "source": [
    "letters = 'HappyBirthday'\n",
    "len(letters)"
   ]
  },
  {
   "cell_type": "markdown",
   "id": "706c797a-e8fe-4098-822c-74664e1a8d4d",
   "metadata": {},
   "source": [
    "##### **문자열 나누기 `.split()` `.splitlines()`**\n",
    "- \\<str\\>.split()"
   ]
  },
  {
   "cell_type": "markdown",
   "id": "ef03d8d7-f5ef-4cc2-a134-6457916b9cb5",
   "metadata": {},
   "source": [
    "##### **문자열 결합 `.join()`**\n",
    "- \\<str1\\>.join(\\<str2\\>)"
   ]
  },
  {
   "cell_type": "markdown",
   "id": "f7af6630-3ec8-4c4f-9ee9-c81eadcaca6e",
   "metadata": {},
   "source": [
    "##### **문자열 대체 `.replace()`**\n",
    "- \\<str1\\>.replace('x', 'y')\n",
    "- 문자열 내에 있는 'x'를 'y'로 대체"
   ]
  },
  {
   "cell_type": "markdown",
   "id": "442a833b-3a03-4cff-a18e-f9bc59cc4721",
   "metadata": {},
   "source": [
    "##### **문자열 양쪽 끝 제거 `.strip()`**\n",
    "- \\<str1\\>.strip('x')\n",
    "- 문자열 양쪽 끝에서 'x'를 제거한다. 인수 없을 경우 공백 제거\n",
    "- .lstrip() / .rstrip()"
   ]
  },
  {
   "cell_type": "markdown",
   "id": "fe94d455-b4b5-42b3-bdad-b332523095c9",
   "metadata": {},
   "source": [
    "##### **문자열 시작/끝 검사 `.startswith()` `.endswith()`**\n",
    "- .startswith('x') : 문자열이 x로 시작하는지 검사\n",
    "- .endswith('x') : 문자열이 x로 끝나는지 검사"
   ]
  },
  {
   "cell_type": "markdown",
   "id": "fe8deb6f-4b35-476a-b742-a15789e5d6db",
   "metadata": {
    "tags": []
   },
   "source": [
    "##### **부분 문자열 오프셋 탐색`.find()` `.index()`**\n",
    "- .find('str') : 문자열에서 부분 문자열 str의 오프셋(위치) 반환, **탐색 실패 시 -1 반환**\n",
    "  - .rfind() : 부분 문자열이 마지막 나타나는 위치 반환\n",
    "- .index('str') : 문자열에서 부분 문자열 str의 오프셋(위치) 반환, **탐색 실패 시 예외 발생**\n",
    "  - . rindex() : 부분 문자열이 마지막 나타나는 위치 반환"
   ]
  },
  {
   "cell_type": "markdown",
   "id": "3529cec8-5cd9-4ec2-9906-4d1df7d0fd95",
   "metadata": {},
   "source": [
    "##### **부분 문자열 개수 탐색`.count()`**\n",
    "- .count('str') : 부분 문자열의 개수"
   ]
  },
  {
   "cell_type": "markdown",
   "id": "e3605f5a-f1db-461d-92c0-f540a04830c4",
   "metadata": {
    "tags": []
   },
   "source": [
    "##### **문자열 검사 메서드**\n",
    "- isalnum() / isdigit() / isalpha()\n",
    "- islower() / isupper()\n",
    "- isspace()"
   ]
  },
  {
   "cell_type": "markdown",
   "id": "8f3d100c-14d3-4167-88c7-e4cb2414c754",
   "metadata": {},
   "source": [
    "##### **대소문자**\n",
    "- upper() / lower()\n",
    "- capitalize()\n",
    "- swapcase()"
   ]
  },
  {
   "cell_type": "markdown",
   "id": "eda35492-6389-4195-9c43-2b8fa6c1f43c",
   "metadata": {},
   "source": [
    "##### **정렬**\n",
    "- center()\n",
    "- ljust() / rjust()\n",
    "- zfill()"
   ]
  },
  {
   "cell_type": "markdown",
   "id": "839a12f6-be74-4c3b-8d4c-91c5a1570f22",
   "metadata": {
    "tags": []
   },
   "source": [
    "---\n",
    "## **Ch06. List, Set**\n"
   ]
  },
  {
   "cell_type": "markdown",
   "id": "ba1b9539-0cff-44f2-b3b7-8e6f4f464ee7",
   "metadata": {},
   "source": [
    "### **6.1 NLTK**\n",
    "- natural language toolkit\n",
    "- 자연어 분석을 위해 교육용으로 배포된 패키지\n",
    "- 내장함수, 기능들이 추가됨\n",
    "  - 토크나이즈, 파싱, 태깅, ...\n",
    "    "
   ]
  },
  {
   "cell_type": "code",
   "execution_count": null,
   "id": "814181f3-ddbc-44b6-9850-5753589c2371",
   "metadata": {
    "tags": []
   },
   "outputs": [],
   "source": [
    "#!pip install nltk"
   ]
  },
  {
   "cell_type": "code",
   "execution_count": null,
   "id": "c800e678-5546-4bff-99ef-9b16eb198811",
   "metadata": {},
   "outputs": [],
   "source": [
    "import nltk\n",
    "nltk.download('book')"
   ]
  },
  {
   "cell_type": "code",
   "execution_count": 4,
   "id": "7e5d8e4c-5d43-4698-9ec8-7177c2e284b4",
   "metadata": {
    "tags": []
   },
   "outputs": [
    {
     "name": "stdout",
     "output_type": "stream",
     "text": [
      "*** Introductory Examples for the NLTK Book ***\n",
      "Loading text1, ..., text9 and sent1, ..., sent9\n",
      "Type the name of the text or sentence to view it.\n",
      "Type: 'texts()' or 'sents()' to list the materials.\n",
      "text1: Moby Dick by Herman Melville 1851\n",
      "text2: Sense and Sensibility by Jane Austen 1811\n",
      "text3: The Book of Genesis\n",
      "text4: Inaugural Address Corpus\n",
      "text5: Chat Corpus\n",
      "text6: Monty Python and the Holy Grail\n",
      "text7: Wall Street Journal\n",
      "text8: Personals Corpus\n",
      "text9: The Man Who Was Thursday by G . K . Chesterton 1908\n"
     ]
    }
   ],
   "source": [
    "from nltk import book"
   ]
  },
  {
   "cell_type": "code",
   "execution_count": 6,
   "id": "e9c41124-6dd0-42ae-9069-2cab7f95efcb",
   "metadata": {},
   "outputs": [
    {
     "data": {
      "text/plain": [
       "['[',\n",
       " 'Moby',\n",
       " 'Dick',\n",
       " 'by',\n",
       " 'Herman',\n",
       " 'Melville',\n",
       " '1851',\n",
       " ']',\n",
       " 'ETYMOLOGY',\n",
       " '.']"
      ]
     },
     "execution_count": 6,
     "metadata": {},
     "output_type": "execute_result"
    }
   ],
   "source": [
    "moby = book.text1\n",
    "moby.tokens[:10] #토큰에 접근하는 방법\n",
    "\n",
    "#토큰: 프로그래밍에서 사용하는 단어의 단위 \n",
    "  # hello world, I'm not a coward.\n",
    "  # I'm / I, 'm / I, am => 단위는 알아서 정함"
   ]
  },
  {
   "cell_type": "code",
   "execution_count": 7,
   "id": "ab343c50-1818-4de9-ad9c-9a3c51880dba",
   "metadata": {},
   "outputs": [
    {
     "data": {
      "text/plain": [
       "260819"
      ]
     },
     "execution_count": 7,
     "metadata": {},
     "output_type": "execute_result"
    }
   ],
   "source": [
    "# 1. 길이 세기\n",
    "len(moby) #26만자"
   ]
  },
  {
   "cell_type": "code",
   "execution_count": 9,
   "id": "00cc313e-eb2c-40cf-a355-c75c55c125ae",
   "metadata": {},
   "outputs": [
    {
     "data": {
      "text/plain": [
       "19317"
      ]
     },
     "execution_count": 9,
     "metadata": {},
     "output_type": "execute_result"
    }
   ],
   "source": [
    "# 2. 중복 없이 단어 몇 개?\n",
    "len(set(moby)) #1.9만 자 list -> set (형 변환)"
   ]
  },
  {
   "cell_type": "markdown",
   "id": "b1a4e428-fea1-4ad9-99ae-c0b5f328a75f",
   "metadata": {},
   "source": [
    "### **6.2 list**\n",
    "  - ['a', 1, True]\n",
    "  - 순서 **`있음`**\n",
    "  - 중복 **`허용`**\n",
    "  - 인덱싱 **`가능`**\n",
    "  - `list()`"
   ]
  },
  {
   "cell_type": "markdown",
   "id": "1ef08771-8217-4080-8517-326f238e1e41",
   "metadata": {},
   "source": [
    "### **6.3 set**\n",
    "  - {'a' , 2, True}\n",
    "  - 순서 **`없음`**\n",
    "  - 중복 **`불허`**\n",
    "  - 인덱싱 **`불가`**\n",
    "  - `set()`\n",
    "  - 수학의 집합 개념"
   ]
  },
  {
   "cell_type": "code",
   "execution_count": 17,
   "id": "b0c1d3a7-2a04-47d5-b15a-1aef973f1e93",
   "metadata": {},
   "outputs": [
    {
     "data": {
      "text/plain": [
       "['kia', 'hyundai', 'kia', 'benz']"
      ]
     },
     "execution_count": 17,
     "metadata": {},
     "output_type": "execute_result"
    }
   ],
   "source": [
    "cars = ['kia', 'hyundai', 'kia', 'benz']\n",
    "cars"
   ]
  },
  {
   "cell_type": "code",
   "execution_count": 12,
   "id": "e144d241-0d3f-452c-8c18-31d751878b83",
   "metadata": {},
   "outputs": [
    {
     "data": {
      "text/plain": [
       "{'benz', 'hyundai', 'kia'}"
      ]
     },
     "execution_count": 12,
     "metadata": {},
     "output_type": "execute_result"
    }
   ],
   "source": [
    "set(cars) #중복 사라짐('kia')"
   ]
  },
  {
   "cell_type": "code",
   "execution_count": 13,
   "id": "cbd08582-14e6-480c-babc-1e317abd6cb7",
   "metadata": {},
   "outputs": [
    {
     "data": {
      "text/plain": [
       "0.07406285585022564"
      ]
     },
     "execution_count": 13,
     "metadata": {},
     "output_type": "execute_result"
    }
   ],
   "source": [
    "# lexical diversity: 서로 다른 단어 개수 비율\n",
    "len(set(moby)) / len(moby)"
   ]
  },
  {
   "cell_type": "code",
   "execution_count": 18,
   "id": "c4da26c6-4fc7-4af1-91d8-234e182ed7ad",
   "metadata": {
    "tags": []
   },
   "outputs": [
    {
     "name": "stdout",
     "output_type": "stream",
     "text": [
      "['benz', 'hyundai', 'kia', 'kia']\n",
      "['kia', 'kia', 'hyundai', 'benz']\n"
     ]
    }
   ],
   "source": [
    "# 정렬\n",
    "print(sorted(cars)) #오름차순 정렬\n",
    "print(sorted(cars, reverse=True)) #반대로 정렬(내림차순)"
   ]
  },
  {
   "cell_type": "code",
   "execution_count": null,
   "id": "7d0e7522-06ac-4581-b43c-be4cdf5c8f32",
   "metadata": {},
   "outputs": [],
   "source": [
    "#뽑고 정렬\n",
    "sorted(moby[:10])\n",
    "\n",
    "#정렬 후 뽑기 \n",
    "sorted(moby)[:10]\n",
    "\n",
    "# ==> 위치 주의!"
   ]
  },
  {
   "cell_type": "code",
   "execution_count": 16,
   "id": "ee95cbea-0de0-471a-8728-7381957f48b6",
   "metadata": {
    "tags": []
   },
   "outputs": [
    {
     "data": {
      "text/plain": [
       "['.',\n",
       " '1851',\n",
       " 'Dick',\n",
       " 'ETYMOLOGY',\n",
       " 'Herman',\n",
       " 'Melville',\n",
       " 'Moby',\n",
       " '[',\n",
       " ']',\n",
       " 'by']"
      ]
     },
     "execution_count": 16,
     "metadata": {},
     "output_type": "execute_result"
    }
   ],
   "source": [
    "#sorted(set(moby)) #정렬 순서: 문장부호 -> 숫자 -> 대문자 -> 소문자\n",
    "sorted(moby[:10])"
   ]
  },
  {
   "cell_type": "markdown",
   "id": "19093993-3fc5-4ec9-8a28-6d98f83b2dad",
   "metadata": {},
   "source": [
    "### **`Quiz 1.`**\n",
    "- text6 가져와서 토큰을 변수에 담고\n",
    "- 중복 없는 set으로 저장하고 내림차순\n",
    "  - 앞에서 10개 단어 출력\n",
    "  - 단어에 z가 있으면 z를 대문자로 바꾸시오\n",
    "  - z가 없는데 4자 이상이면 끝 글자를 대문자로 바꾸시오."
   ]
  },
  {
   "cell_type": "code",
   "execution_count": 2,
   "id": "73410a0b-5d2a-4f75-8bad-c743317b81e2",
   "metadata": {},
   "outputs": [
    {
     "name": "stdout",
     "output_type": "stream",
     "text": [
      "*** Introductory Examples for the NLTK Book ***\n",
      "Loading text1, ..., text9 and sent1, ..., sent9\n",
      "Type the name of the text or sentence to view it.\n",
      "Type: 'texts()' or 'sents()' to list the materials.\n",
      "text1: Moby Dick by Herman Melville 1851\n",
      "text2: Sense and Sensibility by Jane Austen 1811\n",
      "text3: The Book of Genesis\n",
      "text4: Inaugural Address Corpus\n",
      "text5: Chat Corpus\n",
      "text6: Monty Python and the Holy Grail\n",
      "text7: Wall Street Journal\n",
      "text8: Personals Corpus\n",
      "text9: The Man Who Was Thursday by G . K . Chesterton 1908\n"
     ]
    }
   ],
   "source": [
    "from nltk import book"
   ]
  },
  {
   "cell_type": "code",
   "execution_count": 10,
   "id": "ec5f80f8-209e-4bab-8b15-870e4a7ea2ca",
   "metadata": {
    "tags": []
   },
   "outputs": [
    {
     "name": "stdout",
     "output_type": "stream",
     "text": [
      "['zoosh', 'zoop', 'zoo', 'zone', 'zhiv', 'yourself', 'yours', 'your', 'young', 'you']\n",
      "['Zoosh', 'Zoop', 'Zoo', 'Zone', 'Zhiv', 'yourselF', 'yourS', 'youR', 'younG', 'you']\n"
     ]
    }
   ],
   "source": [
    "#Quiz 1\n",
    "monty = sorted(set(book.text6), reverse=True)[:10]\n",
    "print(monty)\n",
    "\n",
    "for i in range(len(monty)):\n",
    "    if 'z' in monty[i]:\n",
    "        monty[i] = monty[i].replace('z', 'Z')\n",
    "\n",
    "    elif len(monty[i]) >= 4:\n",
    "        monty[i] = monty[i][:-1] + monty[i][-1].upper()\n",
    "\n",
    "print(monty)"
   ]
  },
  {
   "cell_type": "markdown",
   "id": "8c4e90ba-4764-4969-9f4e-5d49555e7dd5",
   "metadata": {},
   "source": [
    "### **`Quiz 2.`**\n",
    "- 주민번호, 휴대폰 번호, 이메일 주소 입력받는다.\n",
    "- 주민번호, 휴대폰 번호는 숫자만 입력받는다 (-없이)\n",
    "- 이메일 주소는 아이디만 입력받는다. (@xx 없이)\n",
    "  - 1. \"당신은 {}년 {}월 {}일 출생의 {남성/여성}입니다.\"\n",
    "  - 2. 휴대폰 번호: 000-0000-0000\n",
    "  - 3. 이메일 주소: xxx@gmail.com"
   ]
  },
  {
   "cell_type": "code",
   "execution_count": 22,
   "id": "e47b75ca-8691-4833-a5a9-b01ecb925a15",
   "metadata": {
    "tags": []
   },
   "outputs": [
    {
     "name": "stdin",
     "output_type": "stream",
     "text": [
      "주민번호 입력(-제외):  0204014053616\n",
      "휴대폰 번호 입력(-제외):  01042260160\n",
      "이메일 주소 입력(아이디):  gamza\n"
     ]
    },
    {
     "name": "stdout",
     "output_type": "stream",
     "text": [
      "당신은 2002년 04월 01일 출생의 여성입니다.         \n",
      "휴대폰 번호: 010-4226-0160         \n",
      "이메일 주소: gamza@gmail.com\n"
     ]
    }
   ],
   "source": [
    "#Quiz 2\n",
    "id_num = input('주민번호 입력(-제외): ')\n",
    "phone_num = input('휴대폰 번호 입력(-제외): ')\n",
    "email = input('이메일 주소 입력(아이디): ')\n",
    "\n",
    "# 주민번호 뒷자리 첫번째 수(성별)로 남성/여성, 세기별 출생자 구분\n",
    "sex_num = id_num[6]\n",
    "\n",
    "#성별 구분\n",
    "if int(sex_num) % 2 == 1: sex = '남성'\n",
    "else: sex = '여성'\n",
    "\n",
    "#생년(세기별)\n",
    "year = id_num[:2]\n",
    "if sex_num in '12': year = '19' + year\n",
    "elif sex_num in '34': year = '20' + year\n",
    "else: year = '18' + year              #9, 0: 1800~1899년생 남성, 여성\n",
    "\n",
    "# 생월일\n",
    "month = id_num[2:4]\n",
    "date = id_num[4:6]\n",
    "\n",
    "# 출력\n",
    "print(f\"당신은 {year}년 {month}월 {date}일 출생의 {sex}입니다. \\\n",
    "        \\n휴대폰 번호: {phone_num[:3]}-{phone_num[3:7]}-{phone_num[7:]} \\\n",
    "        \\n이메일 주소: {email}@gmail.com\")"
   ]
  },
  {
   "cell_type": "markdown",
   "id": "ddb6a018-7d68-40e6-9842-6f8be3f3a3e0",
   "metadata": {},
   "source": [
    "---\n",
    "## **Review**\n",
    "\n",
    "### **새롭게 알게 된 내용**\n",
    "\n",
    "- NLTK 개념, 사용법"
   ]
  },
  {
   "cell_type": "markdown",
   "id": "48f554e1-6e37-432a-8451-585f2ab4e046",
   "metadata": {},
   "source": [
    "### **이번주 학습 자기평가**\n",
    "- NLTK는 처음 접해보는 거라 생소했으나 나머지는 따라갈 만했다.\n",
    "- 문자열 메서드와 슬라이싱 일부가 살짝 헷갈리는 부분이 있다.\n",
    "- 퀴즈에 안 배운 내용을 활용해도 되는지 의문이 들어서 시간관리를 잘 못했다.\n",
    "\n",
    "##### **학습 문제 해결책**\n",
    "- 교재 연습문제, 코드업 파이썬 기초 100제 풀어보며 파이썬 문법 확실히 하기\n",
    "- 타인의 코드 참조하여 코드 발전시키기\n",
    "- 아는 내용 활용하여 퀴즈 모두 푸는 데 초점 맞추기\n",
    "- NLTK에 대해 더 알아보기\n",
    "- 문자열 메서드, 슬라이싱 활용하는 문제, 예제 풀어보기"
   ]
  },
  {
   "cell_type": "code",
   "execution_count": null,
   "id": "06d22f6c-df30-4508-92bb-07e03c1f3adf",
   "metadata": {},
   "outputs": [],
   "source": []
  }
 ],
 "metadata": {
  "kernelspec": {
   "display_name": "Python 3 (ipykernel)",
   "language": "python",
   "name": "python3"
  },
  "language_info": {
   "codemirror_mode": {
    "name": "ipython",
    "version": 3
   },
   "file_extension": ".py",
   "mimetype": "text/x-python",
   "name": "python",
   "nbconvert_exporter": "python",
   "pygments_lexer": "ipython3",
   "version": "3.9.7"
  }
 },
 "nbformat": 4,
 "nbformat_minor": 5
}
