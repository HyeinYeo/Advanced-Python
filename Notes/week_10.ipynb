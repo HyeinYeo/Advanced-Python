{
 "cells": [
  {
   "cell_type": "markdown",
   "id": "0ba9c018-8133-401e-8fa8-92173c995b9c",
   "metadata": {},
   "source": [
    "# **Week 10 - 2022/05/06**\n",
    "---"
   ]
  },
  {
   "cell_type": "markdown",
   "id": "1ff8aaff-7f3f-4ac9-b11b-a27ef7a53c49",
   "metadata": {
    "tags": []
   },
   "source": [
    "## **Ch10. 객체와 클래스**\n",
    "- 객체 | object\n",
    "- 객체지향프로그래밍\n",
    "- `속성`과 `행동`을 가지는 개념, 실존하는 물체?\n",
    "    - 예: 자동차, 강아지, 꽃, ...thing\n",
    "    - `속성 => 변수`\n",
    "        - 브랜드, 색, 속도, 모델, ...\n",
    "        - 이름, 종, 색, 몸무게, ...\n",
    "    - `행동 => 메소드(함수)`\n",
    "        - 가다, 서다, 회전, 주차, ...\n",
    "        - 뛰다, 짖다, 자다, 핥다, ...\n",
    "- 편의점 => \"고객이 편의점에서 과자를 샀다\"\n",
    "    => 객체: 고객->사람 / 편의점 / 과자->물건\n",
    "        - 이름, 돈 / 재고, 수익 / 이름, 브랜드, 가격\n",
    "        - 물건 사다, 돈 내다 / 팔다, 수익 남기다, 물건 등록 / X\n",
    "        \n",
    "    => 상호작용으로 코드를 구성하는 것\n",
    "- 내가 필요한 속성으로 구성"
   ]
  },
  {
   "cell_type": "markdown",
   "id": "c71a8420-ba45-4949-8bab-b06f56e792f8",
   "metadata": {},
   "source": [
    "### **10.1. 객체 생성**"
   ]
  },
  {
   "cell_type": "markdown",
   "id": "3cd7cc03-e45a-4a8c-8c34-a307412ee2d8",
   "metadata": {},
   "source": [
    "#### **10.1.0. 클래스 이름 짓기**\n",
    "- 첫글자 대문자\n",
    "- `camel 표기법` 사용\n",
    "  - nice car -> Nice_car(X)\n",
    "  - NiceCar(O)\n",
    "\n",
    "- `정의부`와 `선언부`가 있다.\n",
    "    - `정의부` = 붕어빵 틀\n",
    "    - `선언부` = 붕어빵"
   ]
  },
  {
   "cell_type": "code",
   "execution_count": 84,
   "id": "82057ba4-52ce-42ea-9d2a-fcb76a2061ad",
   "metadata": {},
   "outputs": [
    {
     "data": {
      "text/plain": [
       "<__main__.Car at 0x2d431612190>"
      ]
     },
     "execution_count": 84,
     "metadata": {},
     "output_type": "execute_result"
    }
   ],
   "source": [
    "# 정의부\n",
    "class Car: # 객체\n",
    "    pass\n",
    "\n",
    "# 선언부\n",
    "Car() # 객체가 이 메모리에 저장됨\n",
    "my_car = Car()\n",
    "my_car # 인스턴스 = 붕어빵 (정의의 틀이 바뀌면 이것도 변함)"
   ]
  },
  {
   "cell_type": "code",
   "execution_count": 85,
   "id": "3bf0f24b-e298-41c7-8668-f7a03dda6b44",
   "metadata": {},
   "outputs": [],
   "source": [
    "my_car.name = 'bmw'\n",
    "my_car.color = 'white'"
   ]
  },
  {
   "cell_type": "code",
   "execution_count": 86,
   "id": "6375262c-37b1-49ac-bfdb-cfad65d8d03d",
   "metadata": {},
   "outputs": [
    {
     "data": {
      "text/plain": [
       "'bmw'"
      ]
     },
     "execution_count": 86,
     "metadata": {},
     "output_type": "execute_result"
    }
   ],
   "source": [
    "my_car.name"
   ]
  },
  {
   "cell_type": "code",
   "execution_count": 87,
   "id": "fe38a78e-6e0a-4c57-be63-98502ee18976",
   "metadata": {
    "tags": []
   },
   "outputs": [
    {
     "data": {
      "text/plain": [
       "'X4'"
      ]
     },
     "execution_count": 87,
     "metadata": {},
     "output_type": "execute_result"
    }
   ],
   "source": [
    "# 개인 실습\n",
    "my_car.model = 'X4'\n",
    "my_car.model"
   ]
  },
  {
   "cell_type": "markdown",
   "id": "72179493-7d92-41a0-bfb5-010c1d1df27c",
   "metadata": {},
   "source": [
    "- 객체 vs. 인스턴스\n",
    "  - 클래스로 만든 객체를 인스턴스라고도 한다. \n",
    "  - a = Cookie()\n",
    "    - a는 객체\n",
    "    - a 객체는 Cookie의 인스턴스\n",
    "  - 즉 인스턴스라는 말은 특정 객체(a)가 어떤 클래스(Cookie)의 객체인지를 관계 위주로 설명할 때 사용한다. \n",
    "  - \"a는 인스턴스\"보다는 \"a는 객체\"라는 표현이 어울리며 \"a는 Cookie의 객체\"보다는 \"a는 Cookie의 인스턴스\"라는 표현이 훨씬 잘 어울린다."
   ]
  },
  {
   "cell_type": "markdown",
   "id": "9f6fefca-ddf4-4599-b640-c788b18b5a29",
   "metadata": {},
   "source": [
    "#### **10.1.1. 클래스 내에서 정의**"
   ]
  },
  {
   "cell_type": "code",
   "execution_count": 88,
   "id": "a3cd8c1d-0622-4434-909a-80aed16efe91",
   "metadata": {},
   "outputs": [],
   "source": [
    "class Car:\n",
    "    name = 'BMW' "
   ]
  },
  {
   "cell_type": "code",
   "execution_count": 89,
   "id": "c50f7855-bdd1-4014-88a3-d703e3f01789",
   "metadata": {},
   "outputs": [],
   "source": [
    "car1 = Car()"
   ]
  },
  {
   "cell_type": "code",
   "execution_count": 90,
   "id": "b30c7735-a804-442c-b760-1652b9022dc8",
   "metadata": {},
   "outputs": [
    {
     "data": {
      "text/plain": [
       "'BMW'"
      ]
     },
     "execution_count": 90,
     "metadata": {},
     "output_type": "execute_result"
    }
   ],
   "source": [
    "car1.name"
   ]
  },
  {
   "cell_type": "code",
   "execution_count": 91,
   "id": "9f73d237-ef52-4172-bc56-ad27741bfbe7",
   "metadata": {},
   "outputs": [
    {
     "data": {
      "text/plain": [
       "'Kia'"
      ]
     },
     "execution_count": 91,
     "metadata": {},
     "output_type": "execute_result"
    }
   ],
   "source": [
    "# 바꿔야 하는 번거로움\n",
    "car1.name = 'Kia'\n",
    "car1.name"
   ]
  },
  {
   "cell_type": "markdown",
   "id": "25c7a883-c837-4f0a-9f0f-02012677cf38",
   "metadata": {},
   "source": [
    "#### **10.1.2. 커스터마이징**\n",
    "- 속성 초기화 함수"
   ]
  },
  {
   "cell_type": "code",
   "execution_count": 92,
   "id": "c63394b5-6f03-4317-a76f-912203335236",
   "metadata": {},
   "outputs": [],
   "source": [
    "class Car:\n",
    "    def __init__(self, input_name): # 속성 초기화 함수\n",
    "        # 객체 만들 때 들어오는 값으로 이름을 설정하고 싶다.\n",
    "        self.name = input_name\n",
    "        # self == 인스턴스: 나 자신(인스턴스 자신)"
   ]
  },
  {
   "cell_type": "code",
   "execution_count": 93,
   "id": "acd127ca-2611-4fc9-9924-b31940832ebf",
   "metadata": {},
   "outputs": [
    {
     "data": {
      "text/plain": [
       "'Hyundai'"
      ]
     },
     "execution_count": 93,
     "metadata": {},
     "output_type": "execute_result"
    }
   ],
   "source": [
    "car2 = Car(input_name='Hyundai')\n",
    "car2.name"
   ]
  },
  {
   "cell_type": "code",
   "execution_count": 94,
   "id": "dd578e35-5f81-4d1d-b76b-aff5713838e5",
   "metadata": {},
   "outputs": [
    {
     "data": {
      "text/plain": [
       "'Toyota'"
      ]
     },
     "execution_count": 94,
     "metadata": {},
     "output_type": "execute_result"
    }
   ],
   "source": [
    "car3 = Car('Toyota')\n",
    "car3.name"
   ]
  },
  {
   "cell_type": "markdown",
   "id": "b62aeaf4-1c30-439d-afcd-faaa1fb660bf",
   "metadata": {},
   "source": [
    "#### **[실습 1] 이름, 모델, 색 속성**"
   ]
  },
  {
   "cell_type": "code",
   "execution_count": 95,
   "id": "db0dfd08-9ad3-43df-aae0-a47cf2e95913",
   "metadata": {},
   "outputs": [
    {
     "data": {
      "text/plain": [
       "('Lamborghini', 'Reventón', 'Silver')"
      ]
     },
     "execution_count": 95,
     "metadata": {},
     "output_type": "execute_result"
    }
   ],
   "source": [
    "class Car:\n",
    "    def __init__(self, name, model, color): # 속성 초기화 함수\n",
    "        self.name = name\n",
    "        self.model = model\n",
    "        self.color = color\n",
    "tmp1 = Car('Lamborghini', 'Reventón', 'Silver')\n",
    "tmp1.name, tmp1.model, tmp1.color"
   ]
  },
  {
   "cell_type": "markdown",
   "id": "60bce48b-4f19-408c-8084-291d94f60331",
   "metadata": {},
   "source": [
    "#### **10.1.3. 메서드**\n",
    "- 동작 함수 추가"
   ]
  },
  {
   "cell_type": "code",
   "execution_count": 96,
   "id": "fdcad3c8-dcf8-47a2-b499-bebb19a7eafd",
   "metadata": {},
   "outputs": [
    {
     "name": "stdout",
     "output_type": "stream",
     "text": [
      "차가 갑니다.\n",
      "차가 섭니다.\n"
     ]
    }
   ],
   "source": [
    "class Car:\n",
    "    def __init__(self, name, model, colour):\n",
    "        self.name = name\n",
    "        self.model = model\n",
    "        self.colour = colour\n",
    "    \n",
    "    def drive(self):\n",
    "        print('차가 갑니다.')\n",
    "    \n",
    "    def stop(self):\n",
    "        print('차가 섭니다.')\n",
    "car4 = Car('Lamborghini', 'Reventón', 'Black')\n",
    "car4.drive()\n",
    "car4.stop()"
   ]
  },
  {
   "cell_type": "code",
   "execution_count": 97,
   "id": "5ccbd8e4-441e-425c-9ad9-285f748b18ca",
   "metadata": {},
   "outputs": [
    {
     "name": "stdout",
     "output_type": "stream",
     "text": [
      "3\n",
      "7\n",
      "3\n",
      "10\n"
     ]
    }
   ],
   "source": [
    "# 개인 실습\n",
    "class Calculator:\n",
    "    def __init__(self):\n",
    "        self.result = 0\n",
    "\n",
    "    def add(self, num):\n",
    "        self.result += num\n",
    "        print(self.result)\n",
    "\n",
    "calc1 = Calculator()\n",
    "calc2 = Calculator()\n",
    "\n",
    "calc1.add(3)\n",
    "calc1.add(4)\n",
    "calc2.add(3)\n",
    "calc2.add(7)"
   ]
  },
  {
   "cell_type": "markdown",
   "id": "329926b4-5238-47c4-a49a-93323b12a0e6",
   "metadata": {},
   "source": [
    "#### **[실습 2] 메서드 변형, 추가**\n",
    "- drive()\n",
    "  - '{차 이름}가 출발합니다.'로 출력하기\n",
    "- change_colour()\n",
    "  - colour를 grey로 바꾼다."
   ]
  },
  {
   "cell_type": "code",
   "execution_count": 98,
   "id": "d0d5b501-3367-4e49-bbe8-8fd0f6d9b573",
   "metadata": {},
   "outputs": [],
   "source": [
    "class Car:\n",
    "    def __init__(self, name, model, colour):\n",
    "        self.name = name\n",
    "        self.model = model\n",
    "        self.colour = colour\n",
    "    \n",
    "    def drive(self):\n",
    "        # {차 이름}가 출발합니다.\n",
    "        print(f'{self.name}가 출발합니다.')\n",
    "    \n",
    "    def stop(self):\n",
    "        print('차가 섭니다.')\n",
    "    \n",
    "    def change_colour(self):\n",
    "        # grey로 바꾼다.\n",
    "        self.colour = 'grey'"
   ]
  },
  {
   "cell_type": "code",
   "execution_count": 99,
   "id": "40229fa1-b935-4f89-b3b8-a1f7fddf6af7",
   "metadata": {},
   "outputs": [
    {
     "name": "stdout",
     "output_type": "stream",
     "text": [
      "Lamborghini가 출발합니다.\n"
     ]
    },
    {
     "data": {
      "text/plain": [
       "'grey'"
      ]
     },
     "execution_count": 99,
     "metadata": {},
     "output_type": "execute_result"
    }
   ],
   "source": [
    "tmp2 = Car('Lamborghini', 'Reventón', 'Silver')\n",
    "tmp2.drive()\n",
    "tmp2.change_colour()\n",
    "tmp2.colour"
   ]
  },
  {
   "cell_type": "markdown",
   "id": "82079c9f-4bc2-4401-88d8-940b60aac4a9",
   "metadata": {},
   "source": [
    "#### **[실습 3] 메서드 변형, 추가**\n",
    "- change_colour()\n",
    "  - colour을 받아서 그 색으로 colour 지정"
   ]
  },
  {
   "cell_type": "code",
   "execution_count": 100,
   "id": "7eab9cb4-72bb-423d-9073-6928b0f1cee0",
   "metadata": {},
   "outputs": [],
   "source": [
    "# 3, 4, 5.\n",
    "class Car:\n",
    "    def __init__(self, name, model, colour):\n",
    "        self.name = name\n",
    "        self.model = model\n",
    "        self.colour = colour\n",
    "    \n",
    "    def drive(self):\n",
    "        print(f'{self.name}가 출발합니다.')\n",
    "    \n",
    "    def stop(self):\n",
    "        print('차가 섭니다.')\n",
    "    \n",
    "    def change_colour(self, colour):\n",
    "        self.colour = colour"
   ]
  },
  {
   "cell_type": "code",
   "execution_count": 101,
   "id": "ba81ac35-e3fa-48d2-a94d-deabe59f1e59",
   "metadata": {},
   "outputs": [
    {
     "data": {
      "text/plain": [
       "'Blue'"
      ]
     },
     "execution_count": 101,
     "metadata": {},
     "output_type": "execute_result"
    }
   ],
   "source": [
    "tmp3 = Car('Lamborghini', 'Reventón', 'Yellow')\n",
    "tmp3.change_colour('Blue')\n",
    "tmp3.colour"
   ]
  },
  {
   "cell_type": "markdown",
   "id": "83a335c0-be39-49d3-b002-6c7a59dd6bc4",
   "metadata": {
    "tags": []
   },
   "source": [
    "#### **[실습 4] 메서드 변형, 추가**\n",
    "- colour 값이 들어오면 그 값으로 설정, 아니면 'Black'으로 지정"
   ]
  },
  {
   "cell_type": "code",
   "execution_count": 102,
   "id": "dd121201-7925-4f97-988b-f09dda64172c",
   "metadata": {
    "tags": []
   },
   "outputs": [],
   "source": [
    "class Car:\n",
    "    def __init__(self, name, model, colour='Black'):\n",
    "        self.name = name\n",
    "        self.model = model\n",
    "        self.colour = colour\n",
    "    \n",
    "    def drive(self):\n",
    "        print(f'{self.name}가 출발합니다.')\n",
    "    \n",
    "    def stop(self):\n",
    "        print('차가 섭니다.')\n",
    "    \n",
    "    def change_colour(self, colour):\n",
    "        self.colour = colour"
   ]
  },
  {
   "cell_type": "code",
   "execution_count": 103,
   "id": "fee40854-627c-4cd2-9fb6-c9c7850df0ed",
   "metadata": {},
   "outputs": [
    {
     "data": {
      "text/plain": [
       "'Black'"
      ]
     },
     "execution_count": 103,
     "metadata": {},
     "output_type": "execute_result"
    }
   ],
   "source": [
    "tmp4 = Car('Lamborghini', 'Reventón')\n",
    "tmp4.colour"
   ]
  },
  {
   "cell_type": "markdown",
   "id": "91e41067-a3f7-4f46-9a7e-73d504a7ec33",
   "metadata": {},
   "source": [
    "#### **[실습 5] 메서드 변형, 추가**\n",
    "- 처음에 model 속성 값을 구체화 하고 싶지 않을 때"
   ]
  },
  {
   "cell_type": "code",
   "execution_count": 104,
   "id": "bff4d0b9-6a9a-4be1-a902-d958b26b2f01",
   "metadata": {},
   "outputs": [],
   "source": [
    "class Car:\n",
    "    def __init__(self, name, model=None, colour='Black'): # None 타입으로 설정\n",
    "        self.name = name\n",
    "        self.model = model\n",
    "        self.colour = colour\n",
    "    \n",
    "    def drive(self):\n",
    "        print(f'{self.name}가 출발합니다.')\n",
    "    \n",
    "    def stop(self):\n",
    "        print('차가 섭니다.')\n",
    "    \n",
    "    def change_colour(self, colour):\n",
    "        self.colour = colour"
   ]
  },
  {
   "cell_type": "code",
   "execution_count": 105,
   "id": "28cb9605-7377-4a3c-8f8a-5cbf9da73c1e",
   "metadata": {},
   "outputs": [
    {
     "name": "stdout",
     "output_type": "stream",
     "text": [
      "None\n"
     ]
    }
   ],
   "source": [
    "tmp5 = Car('Lamborghini')\n",
    "print(tmp5.model)"
   ]
  },
  {
   "cell_type": "markdown",
   "id": "f2e347ee-1732-4593-b2f3-9987dc273abf",
   "metadata": {},
   "source": [
    "### **10.2. 캡슐화, 정보은닉**\n",
    "- public -> private\n",
    "- getter, setter"
   ]
  },
  {
   "cell_type": "markdown",
   "id": "b6194bc4-205d-4471-bbfc-f4e2787ce845",
   "metadata": {},
   "source": [
    "##### **\\**외부에서 속성 값(colour)이 바뀌는 문제**"
   ]
  },
  {
   "cell_type": "code",
   "execution_count": 106,
   "id": "3c568bad-bc66-4552-9ef0-da3a3fe4f337",
   "metadata": {},
   "outputs": [
    {
     "data": {
      "text/plain": [
       "'red'"
      ]
     },
     "execution_count": 106,
     "metadata": {},
     "output_type": "execute_result"
    }
   ],
   "source": [
    "class Fruit:\n",
    "    colour = 'red'\n",
    "\n",
    "kiwi = Fruit()\n",
    "kiwi.colour"
   ]
  },
  {
   "cell_type": "code",
   "execution_count": 107,
   "id": "2131005b-f6b1-4825-a33a-22c23e82bccb",
   "metadata": {
    "tags": []
   },
   "outputs": [],
   "source": [
    "Fruit.colour = 'black'"
   ]
  },
  {
   "cell_type": "code",
   "execution_count": 108,
   "id": "43fd2509-f132-4ca5-848e-4579fec4e894",
   "metadata": {},
   "outputs": [
    {
     "data": {
      "text/plain": [
       "'black'"
      ]
     },
     "execution_count": 108,
     "metadata": {},
     "output_type": "execute_result"
    }
   ],
   "source": [
    "apple = Fruit()\n",
    "apple.colour # black이 된다!"
   ]
  },
  {
   "cell_type": "markdown",
   "id": "1d27183e-e992-40bd-a441-eb407ce9df75",
   "metadata": {},
   "source": [
    "#### **10.2.1. get, set**\n",
    "- `getter`: 클래스 내 객체 변수 반환(값을 읽을 때)\n",
    "- `setter`: == 변수 설정(값을 쓸(write) 때)"
   ]
  },
  {
   "cell_type": "code",
   "execution_count": 109,
   "id": "d04d3544-bc82-4e36-9aa1-81f6691f0ccf",
   "metadata": {},
   "outputs": [],
   "source": [
    "class Car:\n",
    "    def __init__(self, input_name):\n",
    "        self.name = input_name\n",
    "    \n",
    "    def get_name(self):\n",
    "        # 변수 반환\n",
    "        return self.name\n",
    "    \n",
    "    def set_name(self, input_name): #set 이용해서 name 변경\n",
    "        self.name = input_name\n",
    "        \n",
    "car5 = Car('name1')"
   ]
  },
  {
   "cell_type": "code",
   "execution_count": 110,
   "id": "63be4098-975e-47d5-8e10-b3de1bd13855",
   "metadata": {},
   "outputs": [
    {
     "data": {
      "text/plain": [
       "'name1'"
      ]
     },
     "execution_count": 110,
     "metadata": {},
     "output_type": "execute_result"
    }
   ],
   "source": [
    "car5.get_name()"
   ]
  },
  {
   "cell_type": "code",
   "execution_count": 111,
   "id": "d982f1ff-3fde-4d10-9bb7-fef1f4f20c40",
   "metadata": {},
   "outputs": [
    {
     "data": {
      "text/plain": [
       "'name2'"
      ]
     },
     "execution_count": 111,
     "metadata": {},
     "output_type": "execute_result"
    }
   ],
   "source": [
    "car5.set_name('name2')\n",
    "car5.name"
   ]
  },
  {
   "cell_type": "code",
   "execution_count": 112,
   "id": "feb64a70-fa41-4611-af79-582f559adeb5",
   "metadata": {},
   "outputs": [
    {
     "data": {
      "text/plain": [
       "'name3'"
      ]
     },
     "execution_count": 112,
     "metadata": {},
     "output_type": "execute_result"
    }
   ],
   "source": [
    "car5.name = 'name3'\n",
    "car5.name"
   ]
  },
  {
   "cell_type": "markdown",
   "id": "cbfc0771-1dc2-42e7-995b-07c283c7418a",
   "metadata": {},
   "source": [
    "#### **10.2.2. property()**"
   ]
  },
  {
   "cell_type": "markdown",
   "id": "f8b741c4-0e41-4e81-806d-61665a7967e6",
   "metadata": {},
   "source": [
    "- property()를 사용하면 마치 필드명을 사용하는 것처럼 깔끔하게 getter/setter 메서드가 호출되게 할 수 있다.\n",
    "- property() 함수의 첫 번째 인자로 getter 메서드를 두 번째 인자로 setter 메서드를 넘겨주면 age라는 필드명을 이용해서 다시 나이 데이터에 접근할 수 있다."
   ]
  },
  {
   "cell_type": "code",
   "execution_count": 113,
   "id": "2cd4039f-2f21-431d-9de8-6270f580ab3a",
   "metadata": {},
   "outputs": [
    {
     "data": {
      "text/plain": [
       "'name1'"
      ]
     },
     "execution_count": 113,
     "metadata": {},
     "output_type": "execute_result"
    }
   ],
   "source": [
    "class Car:\n",
    "    def __init__(self, input_name):\n",
    "        self.hidden_name = input_name\n",
    "    \n",
    "    def get_name(self):\n",
    "        return self.hidden_name\n",
    "    \n",
    "    def set_name(self, input_name):\n",
    "        self.hidden_name = input_name\n",
    "    \n",
    "    name = property(get_name, set_name)\n",
    "\n",
    "car6 = Car('name1')\n",
    "car6.name"
   ]
  },
  {
   "cell_type": "code",
   "execution_count": 114,
   "id": "413aaaa6-4d6c-498d-b07a-bf532bbf93cf",
   "metadata": {},
   "outputs": [
    {
     "data": {
      "text/plain": [
       "'name2'"
      ]
     },
     "execution_count": 114,
     "metadata": {},
     "output_type": "execute_result"
    }
   ],
   "source": [
    "# 개인 실습\n",
    "car6.name = 'name2'\n",
    "car6.name"
   ]
  },
  {
   "cell_type": "markdown",
   "id": "e6888482-5c64-4be0-ba05-1e1f0c49c747",
   "metadata": {},
   "source": [
    "#### **10.2.3. decorator**\n",
    "- property()를 간결하고 가독성 좋게 작성하기 위한 방법\n",
    "- `getter`\n",
    "  - 메서드 위에 `@property` 데코레이터 선언\n",
    "  - 메서드 이름으로부터 `get_ 삭제`\n",
    "- `setter`\n",
    "  - 메서드 위에 `@<필드명>.setter` 데코레이터 선언\n",
    "  - 메서드 이름으로부터 `set_ 삭제`"
   ]
  },
  {
   "cell_type": "code",
   "execution_count": 115,
   "id": "01f3af74-3b22-4ced-9a7f-51a2a7a8208e",
   "metadata": {},
   "outputs": [
    {
     "name": "stdout",
     "output_type": "stream",
     "text": [
      "변경 전: name1\n"
     ]
    },
    {
     "data": {
      "text/plain": [
       "'name1'"
      ]
     },
     "execution_count": 115,
     "metadata": {},
     "output_type": "execute_result"
    }
   ],
   "source": [
    "class Car:\n",
    "    def __init__(self, input_name):\n",
    "        self.hidden_name = input_name\n",
    "    \n",
    "    # decorator\n",
    "    @property\n",
    "    def name(self):\n",
    "        return self.hidden_name\n",
    "    \n",
    "    @name.setter\n",
    "    def name(self, input_name):\n",
    "        self.hidden_name = input_name\n",
    "\n",
    "car7 = Car('name1')\n",
    "print('변경 전:', car7.name) # 변수 사용하듯 함수 사용 가능\n",
    "\n",
    "car7.hidden_name # 완벽하게 가리지 못함"
   ]
  },
  {
   "cell_type": "code",
   "execution_count": 116,
   "id": "3e9032d0-2446-4139-baab-d8c6e932dd6a",
   "metadata": {},
   "outputs": [
    {
     "name": "stdout",
     "output_type": "stream",
     "text": [
      "변경 후: name2\n"
     ]
    }
   ],
   "source": [
    "# 개인 실습\n",
    "car7.name = 'name2' # 변수 사용하듯 함수 사용 가능\n",
    "print('변경 후:', car7.name)"
   ]
  },
  {
   "cell_type": "markdown",
   "id": "5f01de38-83be-4801-9554-9c7a40c7da68",
   "metadata": {},
   "source": [
    "#### **10.2.4. __변수**"
   ]
  },
  {
   "cell_type": "code",
   "execution_count": 117,
   "id": "1f4a3c07-b2b7-4f05-8898-7ce5585c719e",
   "metadata": {},
   "outputs": [],
   "source": [
    "#__변수 : 클래스에 접근 불가능한 변수\n",
    "class Car:\n",
    "    def __init__(self, input_name):\n",
    "        self.__name = input_name\n",
    "    \n",
    "    # decorator\n",
    "    @property\n",
    "    def name(self):\n",
    "        return self.__name\n",
    "    \n",
    "    @name.setter\n",
    "    def name(self, input_name):\n",
    "        self.__name = input_name\n",
    "\n",
    "car8 = Car('name1')"
   ]
  },
  {
   "cell_type": "code",
   "execution_count": 118,
   "id": "7ac0539e-ec10-4c0e-a50b-d2e94c7d6dae",
   "metadata": {},
   "outputs": [
    {
     "ename": "AttributeError",
     "evalue": "'Car' object has no attribute '__name'",
     "output_type": "error",
     "traceback": [
      "\u001b[1;31m---------------------------------------------------------------------------\u001b[0m",
      "\u001b[1;31mAttributeError\u001b[0m                            Traceback (most recent call last)",
      "\u001b[1;32mC:\\Temp/ipykernel_15732/2640363211.py\u001b[0m in \u001b[0;36m<module>\u001b[1;34m\u001b[0m\n\u001b[1;32m----> 1\u001b[1;33m \u001b[0mcar8\u001b[0m\u001b[1;33m.\u001b[0m\u001b[0m__name\u001b[0m \u001b[1;31m# 접근 불가능(완벽하게 가려짐)\u001b[0m\u001b[1;33m\u001b[0m\u001b[1;33m\u001b[0m\u001b[0m\n\u001b[0m",
      "\u001b[1;31mAttributeError\u001b[0m: 'Car' object has no attribute '__name'"
     ]
    }
   ],
   "source": [
    "car8.__name # 접근 불가능(완벽하게 가려짐)"
   ]
  },
  {
   "cell_type": "code",
   "execution_count": 119,
   "id": "2546b304-b09d-4a28-8b0c-325f02b510cd",
   "metadata": {},
   "outputs": [
    {
     "data": {
      "text/plain": [
       "'name1'"
      ]
     },
     "execution_count": 119,
     "metadata": {},
     "output_type": "execute_result"
    }
   ],
   "source": [
    "# 개인 실습 1\n",
    "car8.name"
   ]
  },
  {
   "cell_type": "code",
   "execution_count": 120,
   "id": "4a9a7bf0-9f34-4e63-b19c-83d0b33d7cb5",
   "metadata": {},
   "outputs": [
    {
     "ename": "AttributeError",
     "evalue": "'Person' object has no attribute '__age'",
     "output_type": "error",
     "traceback": [
      "\u001b[1;31m---------------------------------------------------------------------------\u001b[0m",
      "\u001b[1;31mAttributeError\u001b[0m                            Traceback (most recent call last)",
      "\u001b[1;32mC:\\Temp/ipykernel_15732/3325320266.py\u001b[0m in \u001b[0;36m<module>\u001b[1;34m\u001b[0m\n\u001b[0;32m     14\u001b[0m \u001b[1;33m\u001b[0m\u001b[0m\n\u001b[0;32m     15\u001b[0m \u001b[0mprofile\u001b[0m \u001b[1;33m=\u001b[0m \u001b[0mPerson\u001b[0m\u001b[1;33m(\u001b[0m\u001b[1;36m21\u001b[0m\u001b[1;33m)\u001b[0m\u001b[1;33m\u001b[0m\u001b[1;33m\u001b[0m\u001b[0m\n\u001b[1;32m---> 16\u001b[1;33m \u001b[0mprofile\u001b[0m\u001b[1;33m.\u001b[0m\u001b[0m__age\u001b[0m\u001b[1;33m\u001b[0m\u001b[1;33m\u001b[0m\u001b[0m\n\u001b[0m",
      "\u001b[1;31mAttributeError\u001b[0m: 'Person' object has no attribute '__age'"
     ]
    }
   ],
   "source": [
    "# 개인 실습 2\n",
    "# __ (언더바 두 개)에 특별한 기능이 있군\n",
    "class Person:\n",
    "    def __init__(self, input_age):\n",
    "        self.__age = input_age\n",
    "        \n",
    "    @property\n",
    "    def age(self):\n",
    "        return self.__age\n",
    "    \n",
    "    @age.setter\n",
    "    def age(self, input_age):\n",
    "        self.__age = input_age\n",
    "\n",
    "profile = Person(21)\n",
    "profile.__age"
   ]
  },
  {
   "cell_type": "markdown",
   "id": "0fd27aea-e9a5-4028-8150-6115aaa58611",
   "metadata": {},
   "source": [
    "#### **[예제 1]**"
   ]
  },
  {
   "cell_type": "code",
   "execution_count": 121,
   "id": "bbd07833-2c96-4e3f-bf75-9c119bc1d807",
   "metadata": {},
   "outputs": [
    {
     "data": {
      "text/plain": [
       "10"
      ]
     },
     "execution_count": 121,
     "metadata": {},
     "output_type": "execute_result"
    }
   ],
   "source": [
    "class Circle:\n",
    "    def __init__(self, radius):\n",
    "        self.radius = radius\n",
    "    \n",
    "    @property\n",
    "    def parameter(self):\n",
    "        return self.radius * 2\n",
    "    \n",
    "ex = Circle(5)\n",
    "ex.parameter"
   ]
  },
  {
   "cell_type": "code",
   "execution_count": 122,
   "id": "df3ecb01-d02a-4dc0-9e15-a991b4873d44",
   "metadata": {},
   "outputs": [
    {
     "data": {
      "text/plain": [
       "38"
      ]
     },
     "execution_count": 122,
     "metadata": {},
     "output_type": "execute_result"
    }
   ],
   "source": [
    "ex.radius = 19\n",
    "ex.parameter"
   ]
  },
  {
   "cell_type": "markdown",
   "id": "2795ee3c-de32-46c4-bd56-a98f0d8f0f35",
   "metadata": {},
   "source": [
    "#### **[실습 6] 메모장, 메모 구현하기**\n",
    "- 메모장\n",
    "    - 속성: 제목, 페이지번호, 메모\n",
    "    - 메모 추가, 메모 삭제, 페이지 번호 확인\n",
    "- 메모\n",
    "    - 속성: 글귀\n",
    "    - 행동: 쓰다, 지우다\n",
    "- 사용:\n",
    "    - 메모 쓴다\n",
    "    - 메모장에 추가\n",
    "    - 페이지 번호 늘어난다\n",
    "    - 메모 삭제\n",
    "    - 페이지 번호 줄어든다\n",
    "    - 메모장 > 제목만 은닉시킨다"
   ]
  },
  {
   "cell_type": "code",
   "execution_count": 123,
   "id": "a77b6e6a-3bf7-4657-a282-114ab9c13921",
   "metadata": {},
   "outputs": [
    {
     "data": {
      "text/plain": [
       "(1, '대한민국 헌법')"
      ]
     },
     "execution_count": 123,
     "metadata": {},
     "output_type": "execute_result"
    }
   ],
   "source": [
    "class Notebook:\n",
    "    def __init__(self, title=None):\n",
    "        self.__title = title\n",
    "        self.page = 0\n",
    "        self.note = []\n",
    "    \n",
    "    @property\n",
    "    def title(self):\n",
    "        return self.__title\n",
    "    \n",
    "    @title.setter\n",
    "    def title(self, title):\n",
    "        self.__title = title\n",
    "    \n",
    "    def add_note(self, note):\n",
    "        self.note.append(note)\n",
    "        self.page += 1\n",
    "    \n",
    "    def del_note(self):\n",
    "        self.note.pop(self.page)\n",
    "        self.page -= 1\n",
    "    \n",
    "    def get_page_num(self):\n",
    "        return self.page\n",
    "    \n",
    "    def __str__(self):\n",
    "        return str(self.note)\n",
    "\n",
    "class Note:\n",
    "    def __init__(self):\n",
    "        self.note = []\n",
    "    \n",
    "    def write(self, sent):\n",
    "        self.note.append(sent)\n",
    "    \n",
    "    def delete(self, sent):\n",
    "        self.note.remove(sent)\n",
    "    \n",
    "    '''def display(self):\n",
    "        print(self.note)'''\n",
    "\n",
    "line1 = '제1조'\n",
    "line2 = '제1항'\n",
    "line3 = '대한민국은 민주공화국이다.'\n",
    "my_note = Note()\n",
    "my_note.write(line1)\n",
    "my_note.write(line2)\n",
    "my_note.write(line3)\n",
    "\n",
    "my_book = Notebook('대한민국 헌법')\n",
    "my_book.add_note(my_note)\n",
    "my_book.get_page_num(), my_book.title"
   ]
  },
  {
   "cell_type": "markdown",
   "id": "d1fdbf3a-b36c-4841-bfa7-3d282b828b52",
   "metadata": {},
   "source": [
    "---\n",
    "## **Review**\n",
    "\n",
    "### **새롭게 알게 된 내용**\n",
    "\n",
    "- 캡슐화, 정보 은닉\n",
    "  - get, set 함수 사용법\n",
    "  - property()\n",
    "  - @property 데코레이터\n",
    "  - 정보 은닉 __<변수명>"
   ]
  }
 ],
 "metadata": {
  "kernelspec": {
   "display_name": "Python 3 (ipykernel)",
   "language": "python",
   "name": "python3"
  },
  "language_info": {
   "codemirror_mode": {
    "name": "ipython",
    "version": 3
   },
   "file_extension": ".py",
   "mimetype": "text/x-python",
   "name": "python",
   "nbconvert_exporter": "python",
   "pygments_lexer": "ipython3",
   "version": "3.9.7"
  }
 },
 "nbformat": 4,
 "nbformat_minor": 5
}
