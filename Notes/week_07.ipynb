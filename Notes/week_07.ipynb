{
 "cells": [
  {
   "cell_type": "markdown",
   "id": "a5d743fa-0651-4cd9-8a53-77b6d220ad36",
   "metadata": {
    "tags": []
   },
   "source": [
    "# **Week 07 - 2022/04/15**\n",
    "---"
   ]
  },
  {
   "cell_type": "markdown",
   "id": "85e1da21-8645-4504-8574-1c21c570bb4e",
   "metadata": {},
   "source": [
    "## **Ch09. 함수**\n",
    "### **함수**\n",
    "1. 정의\n",
    "2. 인수\n",
    "3. 호출방식"
   ]
  },
  {
   "cell_type": "markdown",
   "id": "1dec0f90-8821-41c8-83dc-1835d6e5c107",
   "metadata": {},
   "source": [
    "#### **9.1. 정의**\n",
    "- 코드의 덩어리, 코드의 묶음\n",
    "- `간편한 재사용`을 위해 -> `한 줄`로 재사용 가능\n",
    "- 정의(define) 부분 + 호출(call) 부분\n",
    "  - 정의하기<br>\n",
    "  def 함수이름(매개변수1, 2, 3, ...): <br>\n",
    "      수행문1 (매개변수를 이용)<br>\n",
    "      수행문2 <br>\n",
    "      ....<br>\n",
    "      return 반환값\n",
    "  - 호출하기<br>\n",
    "  함수이름(인수 1, 2, 3, ...)\n",
    "- 2 * 2 = `4가지 경우`(매개변수, 반환값)\n",
    "    1. 둘 다 없는\n",
    "    2. 둘 다 있는\n",
    "    3. 매개변수만 있는\n",
    "    4. 반환값만 있는"
   ]
  },
  {
   "cell_type": "code",
   "execution_count": 1,
   "id": "8556634c-4be1-40e9-bac3-3b6c7e37f594",
   "metadata": {
    "tags": []
   },
   "outputs": [],
   "source": [
    "# y = x + 1 함수로 만들기\n",
    "# x : 매개변수, y: 반환값, x+1 : 수행문\n",
    "def ex(x): \n",
    "    # y = x + 1\n",
    "    # return y\n",
    "    return x + 1"
   ]
  },
  {
   "cell_type": "markdown",
   "id": "a7870633-4387-43aa-b68d-8f89b8bd770c",
   "metadata": {},
   "source": [
    "- 매개변수 X 반환값 X"
   ]
  },
  {
   "cell_type": "code",
   "execution_count": 89,
   "id": "9ab287b3-278e-46de-8e6d-26a82c39f07c",
   "metadata": {},
   "outputs": [
    {
     "name": "stdout",
     "output_type": "stream",
     "text": [
      "quack\n"
     ]
    }
   ],
   "source": [
    "# 1. \n",
    "def make_a_sound():\n",
    "    print('quack')\n",
    "    #return None 생략\n",
    "\n",
    "make_a_sound()"
   ]
  },
  {
   "cell_type": "code",
   "execution_count": 91,
   "id": "2404e701-fa9b-4a24-9faf-b821464d4f1c",
   "metadata": {},
   "outputs": [
    {
     "name": "stdout",
     "output_type": "stream",
     "text": [
      "Advanced Python!\n",
      "Advanced Python!\n",
      "Advanced Python!\n"
     ]
    }
   ],
   "source": [
    "# 실습\n",
    "def func1():\n",
    "    print('Advanced Python!')\n",
    " \n",
    "func1()\n",
    "func1()\n",
    "func1()"
   ]
  },
  {
   "cell_type": "markdown",
   "id": "4d1ad982-1329-48f4-a73f-2bf9ef4f695d",
   "metadata": {},
   "source": [
    "- 매개변수 O 반환값 O"
   ]
  },
  {
   "cell_type": "code",
   "execution_count": 92,
   "id": "385fa9c7-e32b-41ee-b85c-8f9aa6cc5693",
   "metadata": {},
   "outputs": [
    {
     "data": {
      "text/plain": [
       "'Hmm'"
      ]
     },
     "execution_count": 92,
     "metadata": {},
     "output_type": "execute_result"
    }
   ],
   "source": [
    "# 2.\n",
    "def make_a_sound(sound):\n",
    "    return sound\n",
    "\n",
    "make_a_sound('Hmm')"
   ]
  },
  {
   "cell_type": "code",
   "execution_count": 93,
   "id": "54feb4cd-7cdf-4060-a4e1-24dca0aea717",
   "metadata": {},
   "outputs": [
    {
     "name": "stdout",
     "output_type": "stream",
     "text": [
      "27\n"
     ]
    }
   ],
   "source": [
    "# 실습\n",
    "def func2(a, b):\n",
    "    return a * b\n",
    "\n",
    "c = func2(3, 9)\n",
    "print(c)"
   ]
  },
  {
   "cell_type": "markdown",
   "id": "a08266d2-823d-4770-961c-fb9beb3c79af",
   "metadata": {},
   "source": [
    "- 매개변수 O 반환값 X"
   ]
  },
  {
   "cell_type": "code",
   "execution_count": 94,
   "id": "762934c8-d789-4060-9825-b783f9e6696c",
   "metadata": {},
   "outputs": [
    {
     "name": "stdout",
     "output_type": "stream",
     "text": [
      "hey\n"
     ]
    }
   ],
   "source": [
    "# 3. \n",
    "def make_a_sound(sound):\n",
    "    print(sound)\n",
    "\n",
    "hey = 'hey'\n",
    "make_a_sound(hey)"
   ]
  },
  {
   "cell_type": "code",
   "execution_count": 102,
   "id": "70b6941a-30e7-4b7b-8079-a930d9b3f968",
   "metadata": {},
   "outputs": [
    {
     "name": "stdout",
     "output_type": "stream",
     "text": [
      "1 X 2 = 2\n",
      "1 X 3 = 3\n",
      "2 X 4 = 8\n"
     ]
    }
   ],
   "source": [
    "# 실습\n",
    "def func3(a, b):\n",
    "    print(f'{a} X {b} = {a * b}')\n",
    " \n",
    "func3(1, 2)\n",
    "func3(1, 3)\n",
    "func3(2, 4)"
   ]
  },
  {
   "cell_type": "markdown",
   "id": "ac30be64-a6c0-486a-9bd7-ed5907c27f1b",
   "metadata": {},
   "source": [
    "- 매개변수 X 반환값 O"
   ]
  },
  {
   "cell_type": "code",
   "execution_count": 97,
   "id": "fabe62ca-1091-4c67-8f30-f33d296950c6",
   "metadata": {},
   "outputs": [
    {
     "name": "stdout",
     "output_type": "stream",
     "text": [
      "Splendid\n"
     ]
    }
   ],
   "source": [
    "# 4.\n",
    "def agree():\n",
    "    return True\n",
    "\n",
    "if agree():\n",
    "    print('Splendid')\n",
    "else:\n",
    "    print('unexpected!')"
   ]
  },
  {
   "cell_type": "code",
   "execution_count": 98,
   "id": "53584a86-be7f-4dfb-9a52-afa8e0925de8",
   "metadata": {},
   "outputs": [
    {
     "name": "stdout",
     "output_type": "stream",
     "text": [
      "abcdefgGG\n"
     ]
    }
   ],
   "source": [
    "# 실습\n",
    "def func4():\n",
    "    return \"abcdefg\"\n",
    "\n",
    "k = func4()\n",
    "print(k + \"GG\")"
   ]
  },
  {
   "cell_type": "markdown",
   "id": "8570368e-ba4e-4710-9543-2eb64c0156ec",
   "metadata": {},
   "source": [
    "\n",
    "- 이름 짓기\n",
    "    - `소문자만` 사용\n",
    "        - splitWord (가능은 함 but 어색)\n",
    "        - split_word\n",
    "    - `동작`과 관련되어 있기 때문에 \"`동사+명사`\"의 형태 주로 씀\n",
    "        - def split_word():\n",
    "        - i.e., 클래스는 명사 \n",
    "    - 띄어쓰기는 언더바로 표시\n",
    "    - 줄임말 쓰지 말 것, 정해져 있는 줄임말만 허용\n",
    "        - splt_word (x)\n",
    "        - calculate -> calc"
   ]
  },
  {
   "cell_type": "markdown",
   "id": "d068f1de-31ce-4a09-b0c2-ce66169816b3",
   "metadata": {
    "tags": []
   },
   "source": [
    "#### **9.2. 인수**\n",
    "- `매개변수 vs. 인수`\n",
    "    - 매개변수: 함수 내(=인터페이스)에서 유효한 변수\n",
    "    - 인수: 실제 매개변수에 대입되는 변수\n",
    "    - 호출 시에 인수가 매개변수에 복제된다. sound <- hey\n",
    "- `위치 인수`\n",
    "    - positional argument\n",
    "    - 매개변수를 값에 순서에 상응하게 복제함\n",
    "- `키워드 인수`\n",
    "    - keyword argument\n",
    "    - 매개변수 키워드에 맞는 인수로 지정 => 위치 달라도 됨\n",
    "- `디폴트 인수`\n",
    "    - default argument\n",
    "    - 매개변수를 정의할 때 값을 미리 지정해놓는 것\n",
    "    - 호출 시에 값이 입력되지 않으면 디폴트 값을 사용한다.\n",
    "    - 디폴트 값이 언디폴트 값 앞에 위치할 수는 없음."
   ]
  },
  {
   "cell_type": "markdown",
   "id": "f21b091c-e722-48ed-acc2-bfab5ee6cf59",
   "metadata": {},
   "source": [
    "- 매개변수와 인수의 유효범위"
   ]
  },
  {
   "cell_type": "code",
   "execution_count": 3,
   "id": "ad634fbf-0810-41c2-846f-21b4e28570c5",
   "metadata": {},
   "outputs": [
    {
     "ename": "NameError",
     "evalue": "name 'sound' is not defined",
     "output_type": "error",
     "traceback": [
      "\u001b[1;31m---------------------------------------------------------------------------\u001b[0m",
      "\u001b[1;31mNameError\u001b[0m                                 Traceback (most recent call last)",
      "\u001b[1;32mC:\\Temp/ipykernel_5100/2811045289.py\u001b[0m in \u001b[0;36m<module>\u001b[1;34m\u001b[0m\n\u001b[0;32m      1\u001b[0m \u001b[1;31m# 매개변수는 함수를 빠져나온 범위에서는 무효\u001b[0m\u001b[1;33m\u001b[0m\u001b[1;33m\u001b[0m\u001b[0m\n\u001b[1;32m----> 2\u001b[1;33m \u001b[0mprint\u001b[0m\u001b[1;33m(\u001b[0m\u001b[0msound\u001b[0m\u001b[1;33m)\u001b[0m\u001b[1;33m\u001b[0m\u001b[1;33m\u001b[0m\u001b[0m\n\u001b[0m\u001b[0;32m      3\u001b[0m \u001b[1;33m\u001b[0m\u001b[0m\n\u001b[0;32m      4\u001b[0m \u001b[1;31m# 인수는 유효\u001b[0m\u001b[1;33m\u001b[0m\u001b[1;33m\u001b[0m\u001b[0m\n\u001b[0;32m      5\u001b[0m \u001b[1;31m# hey = 'yeh'\u001b[0m\u001b[1;33m\u001b[0m\u001b[1;33m\u001b[0m\u001b[0m\n",
      "\u001b[1;31mNameError\u001b[0m: name 'sound' is not defined"
     ]
    }
   ],
   "source": [
    "# 매개변수는 함수를 빠져나온 범위에서는 무효\n",
    "print(sound)\n",
    "\n",
    "# 인수는 유효\n",
    "# hey = 'yeh'\n",
    "print(hey)"
   ]
  },
  {
   "cell_type": "markdown",
   "id": "7214d6d6-4505-40eb-8e2b-5d1776f19582",
   "metadata": {},
   "source": [
    "- 매개변수와 인수"
   ]
  },
  {
   "cell_type": "code",
   "execution_count": 4,
   "id": "27928299-c3c1-4aae-8562-851186eada4a",
   "metadata": {},
   "outputs": [
    {
     "name": "stdout",
     "output_type": "stream",
     "text": [
      "hey\n"
     ]
    }
   ],
   "source": [
    "def make_a_sound(sound): # 매개변수: sound\n",
    "    print(sound)\n",
    "\n",
    "hey = 'hey'\n",
    "make_a_sound(hey) # 인수: hey"
   ]
  },
  {
   "cell_type": "markdown",
   "id": "dca09206-f13e-4090-99d8-8c49d3caf0b3",
   "metadata": {},
   "source": [
    "- 함수의 실제 사용"
   ]
  },
  {
   "cell_type": "code",
   "execution_count": 5,
   "id": "0511dd4c-6343-4aa9-ab43-9f03511b7895",
   "metadata": {},
   "outputs": [
    {
     "data": {
      "text/plain": [
       "'black'"
      ]
     },
     "execution_count": 5,
     "metadata": {},
     "output_type": "execute_result"
    }
   ],
   "source": [
    "def commentary(colour):\n",
    "    if colour == 'g':\n",
    "        return 'green'\n",
    "    else:\n",
    "        return 'black'\n",
    "    \n",
    "colour = 'white'\n",
    "commentary(colour)"
   ]
  },
  {
   "cell_type": "code",
   "execution_count": null,
   "id": "d972f12d-49dd-4007-8534-123d7b7bbf0b",
   "metadata": {},
   "outputs": [],
   "source": [
    "colours = ['g', 'b', 't']\n",
    "\n",
    "for colour in colours:\n",
    "    print(commentary(colour))"
   ]
  },
  {
   "cell_type": "markdown",
   "id": "54221e06-5270-4765-a536-bfff7e1c4adc",
   "metadata": {},
   "source": [
    "##### **위치 인수**"
   ]
  },
  {
   "cell_type": "code",
   "execution_count": 99,
   "id": "034d636f-4aa4-473f-8d3b-cb62f948850c",
   "metadata": {},
   "outputs": [
    {
     "data": {
      "text/plain": [
       "{'wine': 'a', 'entree': 'b', 'dessert': 'c'}"
      ]
     },
     "execution_count": 99,
     "metadata": {},
     "output_type": "execute_result"
    }
   ],
   "source": [
    "# 위치 인수\n",
    "def menu(wine, entree, dessert):\n",
    "    return {'wine': wine, 'entree': entree, 'dessert': dessert}\n",
    "\n",
    "menu('a', 'b', 'c')"
   ]
  },
  {
   "cell_type": "code",
   "execution_count": 100,
   "id": "2cd3bdbd-49c9-4404-8db5-aabcb5fe03f2",
   "metadata": {},
   "outputs": [
    {
     "name": "stdout",
     "output_type": "stream",
     "text": [
      "7 8 9\n"
     ]
    }
   ],
   "source": [
    "# 실습\n",
    "def print_number(a, b, c):\n",
    "    print(a, b, c)\n",
    "\n",
    "print_number(7, 8, 9)"
   ]
  },
  {
   "cell_type": "markdown",
   "id": "8943e09d-0c2b-4c59-ac62-21404981bcbf",
   "metadata": {},
   "source": [
    "##### **키워드 인수**"
   ]
  },
  {
   "cell_type": "code",
   "execution_count": 7,
   "id": "6e614305-ed74-402a-8a1b-f36fa010308b",
   "metadata": {},
   "outputs": [
    {
     "data": {
      "text/plain": [
       "{'wine': 'c', 'entree': 'a', 'dessert': 'b'}"
      ]
     },
     "execution_count": 7,
     "metadata": {},
     "output_type": "execute_result"
    }
   ],
   "source": [
    "# 순서를 섞어도 됨\n",
    "menu(entree='a', dessert='b', wine='c')"
   ]
  },
  {
   "cell_type": "code",
   "execution_count": 101,
   "id": "c9dc5dee-f54c-4193-8aa0-225bc65168cb",
   "metadata": {},
   "outputs": [
    {
     "name": "stdout",
     "output_type": "stream",
     "text": [
      "이름:  여혜인\n",
      "나이:  21\n",
      "주소:  세종시\n",
      "이름:  goguma\n",
      "나이:  27\n",
      "주소:  서울시\n"
     ]
    }
   ],
   "source": [
    "# 실습\n",
    "def personal_info(name, age, address):\n",
    "    print('이름: ', name)\n",
    "    print('나이: ', age)\n",
    "    print('주소: ', address)\n",
    "    \n",
    "personal_info(name='여혜인', age=21, address='세종시')\n",
    "personal_info(name='goguma', age=27, address='서울시')"
   ]
  },
  {
   "cell_type": "markdown",
   "id": "e49b4ad5-10a0-42ad-b76b-bda2c8a18996",
   "metadata": {},
   "source": [
    "##### **디폴트 인수**"
   ]
  },
  {
   "cell_type": "code",
   "execution_count": 8,
   "id": "705ef6e6-7464-49b7-949d-f48f9a139d56",
   "metadata": {},
   "outputs": [
    {
     "data": {
      "text/plain": [
       "{'wine': 'rioja', 'entree': 'egg', 'dessert': 'strawberry'}"
      ]
     },
     "execution_count": 8,
     "metadata": {},
     "output_type": "execute_result"
    }
   ],
   "source": [
    "# 디폴트 인수: 맨 마지막 위치에 와야 함\n",
    "def menu2(entree, dessert, wine='rioja'):\n",
    "    return {'wine':wine, 'entree': entree, 'dessert': dessert}\n",
    "\n",
    "menu2('egg', 'strawberry')"
   ]
  },
  {
   "cell_type": "code",
   "execution_count": 9,
   "id": "d6217586-cbd4-4e0d-830d-0b85f6417988",
   "metadata": {},
   "outputs": [
    {
     "data": {
      "text/plain": [
       "{'wine': 'ummm', 'entree': 'egg', 'dessert': 'strawberry'}"
      ]
     },
     "execution_count": 9,
     "metadata": {},
     "output_type": "execute_result"
    }
   ],
   "source": [
    "# 인수를 넣으면 바뀐다.\n",
    "menu2('egg', 'strawberry', 'ummm')"
   ]
  },
  {
   "cell_type": "markdown",
   "id": "05c119b1-3a59-4b3f-a309-f87b1603c800",
   "metadata": {},
   "source": [
    "#### **9.3. 호출방식**\n",
    "- 정의 부분은 호출 시 실행된다.\n",
    "- 메모리에 저장되어 있다가 호출 시에 실행\n",
    "- 매개변수 vs. 인수\n",
    "    - 참조에 의한 호출(call by reference)(e.g. 얕은 복사): 값 자체가 넘어가는 게 아님\n",
    "    - \"매개변수 = 인수\" copy되기 때문에 나타나는 문제점\n",
    "        - 리스트처럼 가변 객체일 때 주소값을 공유하므로 값이 변함."
   ]
  },
  {
   "cell_type": "markdown",
   "id": "302946f5-5247-4d73-a3db-f2b24d768050",
   "metadata": {},
   "source": [
    "- 호출 순서"
   ]
  },
  {
   "cell_type": "code",
   "execution_count": 10,
   "id": "0a6b1596-6ce0-48bc-b5b2-f8fe3cd46d5a",
   "metadata": {},
   "outputs": [
    {
     "name": "stdout",
     "output_type": "stream",
     "text": [
      "2\n",
      "3\n",
      "1\n",
      "4\n"
     ]
    }
   ],
   "source": [
    "# 어떤 순서로 호출되는가?\n",
    "## 2 -> 3 -> 1 -> 4\n",
    "def multiply(x, y): # 매개변수 x, y\n",
    "    print('1')\n",
    "    return x * y\n",
    "\n",
    "print('2')\n",
    "i = 2; j = 4 # 인수 i, j\n",
    "\n",
    "print('3')\n",
    "multiply(i, j) # i=2, j=4 => x=i, y=j 참조에 의한 호출\n",
    "\n",
    "print('4')"
   ]
  },
  {
   "cell_type": "markdown",
   "id": "70843880-8ca5-4567-96d2-80bbb8b19b68",
   "metadata": {},
   "source": [
    "- 참조에 의한 호출"
   ]
  },
  {
   "cell_type": "code",
   "execution_count": 12,
   "id": "58d6e4bb-3bff-4081-a8b3-dbef418744b6",
   "metadata": {},
   "outputs": [
    {
     "name": "stdout",
     "output_type": "stream",
     "text": [
      "['a']\n",
      "['a', 'b']\n"
     ]
    }
   ],
   "source": [
    "# 참조에 의한 호출이므로 계속 쌓인다\n",
    "def buggy(arg, result=[]):\n",
    "    result.append(arg)\n",
    "    print(result)\n",
    "\n",
    "a, b = 'a', 'b'\n",
    "buggy(a) # ['a']\n",
    "buggy(b) # ['a', 'b']"
   ]
  },
  {
   "cell_type": "code",
   "execution_count": 13,
   "id": "8d14f7f8-7d15-4541-9145-e00749307f4f",
   "metadata": {},
   "outputs": [
    {
     "name": "stdout",
     "output_type": "stream",
     "text": [
      "['a']\n",
      "['b']\n"
     ]
    }
   ],
   "source": [
    "def buggy(arg, result=[]):\n",
    "    result = [] # 빈 객체로 초기화 꼭\n",
    "    result.append(arg)\n",
    "    print(result)\n",
    "\n",
    "a, b = 'a', 'b'\n",
    "buggy(a) # ['a']\n",
    "buggy(b) # ['b'] -> 쌓이지 않는다"
   ]
  },
  {
   "cell_type": "code",
   "execution_count": 15,
   "id": "858c079f-5107-413c-a82a-69d1213bc8de",
   "metadata": {},
   "outputs": [
    {
     "name": "stdout",
     "output_type": "stream",
     "text": [
      "['a']\n",
      "['c', 'b']\n"
     ]
    }
   ],
   "source": [
    "# 둘 다 조건식으로 포함하는 함수로 변경하기\n",
    "def nonbuggy(arg, result=None):\n",
    "    # 리스트가 없으면 빈 리스트 생성하고, 있으면 그것을 사용\n",
    "    if result is None: result = [] # ==(값만 같을 때), is(id까지 같을 때)\n",
    "    result.append(arg)\n",
    "    print(result)\n",
    "\n",
    "a, b = 'a', 'b'\n",
    "empty = ['c']\n",
    "nonbuggy(a) # 리스트 없으면 쌓이지 않음\n",
    "nonbuggy(b, empty) # 리스트 있으면 쌓임"
   ]
  },
  {
   "cell_type": "code",
   "execution_count": 14,
   "id": "292abba2-78c5-4d61-a388-372734ddd54a",
   "metadata": {},
   "outputs": [
    {
     "name": "stdout",
     "output_type": "stream",
     "text": [
      "None\n"
     ]
    }
   ],
   "source": [
    "## 없는 값: None -> T/F 둘 다 아님\n",
    "thing = None\n",
    "\n",
    "if thing: #True\n",
    "    print('True')\n",
    "elif thing == False:\n",
    "    print('False')\n",
    "else: print('None')"
   ]
  },
  {
   "cell_type": "markdown",
   "id": "0da622b8-a59e-461e-a6eb-eea5ba7b00c4",
   "metadata": {},
   "source": [
    "- 함수 내 변수 vs. 함수 외 변수"
   ]
  },
  {
   "cell_type": "code",
   "execution_count": 23,
   "id": "f5e79775-ded2-40af-b148-0790b2efd79b",
   "metadata": {},
   "outputs": [
    {
     "name": "stdout",
     "output_type": "stream",
     "text": [
      "london\n",
      "paris\n"
     ]
    }
   ],
   "source": [
    "# 함수 내 변수, 함수 외 변수는 다름\n",
    "def fx():\n",
    "    city = 'london' # 지역 변수: 함수 내에서만 유효\n",
    "    print(city)\n",
    "    \n",
    "city = 'paris'\n",
    "fx() # london\n",
    "print(city) #paris"
   ]
  },
  {
   "cell_type": "code",
   "execution_count": 16,
   "id": "30d6ab99-85d8-42ab-9c03-d3d18d2e0ebb",
   "metadata": {},
   "outputs": [
    {
     "name": "stdout",
     "output_type": "stream",
     "text": [
      "london\n",
      "london\n"
     ]
    }
   ],
   "source": [
    "def fx():\n",
    "    global city # 전역 변수로 만들기\n",
    "    city = 'london' \n",
    "    print(city)\n",
    "    \n",
    "city = 'paris'\n",
    "fx() # london\n",
    "print(city) #london"
   ]
  },
  {
   "cell_type": "code",
   "execution_count": 17,
   "id": "fe8fb6b6-05ac-4649-8f3a-0cbe27f5e61b",
   "metadata": {},
   "outputs": [
    {
     "data": {
      "text/plain": [
       "'seoul'"
      ]
     },
     "execution_count": 17,
     "metadata": {},
     "output_type": "execute_result"
    }
   ],
   "source": [
    "city = 'seoul' # 다시 바꾸면 바뀜\n",
    "city"
   ]
  },
  {
   "cell_type": "markdown",
   "id": "3e549b62-baf5-490a-9e38-9f1f86292b27",
   "metadata": {},
   "source": [
    "#### **9.4. doc string**\n",
    "- 함수 설명\n",
    "- 매개변수 타입, 의미, 함수 기능\n",
    "- \"\"\"\n",
    "    독스트링\n",
    "    \"\"\""
   ]
  },
  {
   "cell_type": "code",
   "execution_count": 18,
   "id": "eed2d309-ca02-4ac7-ad38-df656018401e",
   "metadata": {},
   "outputs": [],
   "source": [
    "def buggy(arg, result=[]):\n",
    "    \"\"\"\n",
    "    arg: str, 꽃 이름\n",
    "    result: list, xxxxx\n",
    "    꽃 이름을 리스트에 추가한다.\n",
    "    \"\"\"\n",
    "    result = []\n",
    "    result.append(arg)\n",
    "    print(result)"
   ]
  },
  {
   "cell_type": "code",
   "execution_count": 19,
   "id": "5dfb3134-9732-4e57-9c4d-1a1c900e816f",
   "metadata": {},
   "outputs": [
    {
     "name": "stdout",
     "output_type": "stream",
     "text": [
      "Help on function buggy in module __main__:\n",
      "\n",
      "buggy(arg, result=[])\n",
      "    arg: str, 꽃 이름\n",
      "    result: list, xxxxx\n",
      "    꽃 이름을 리스트에 추가한다.\n",
      "\n"
     ]
    }
   ],
   "source": [
    "# 독스트링 확인\n",
    "help(buggy)"
   ]
  },
  {
   "cell_type": "code",
   "execution_count": 20,
   "id": "bb26c9cc-b358-4470-924b-6cfc113cfc2e",
   "metadata": {
    "tags": []
   },
   "outputs": [
    {
     "data": {
      "text/plain": [
       "'\\n    arg: str, 꽃 이름\\n    result: list, xxxxx\\n    꽃 이름을 리스트에 추가한다.\\n    '"
      ]
     },
     "execution_count": 20,
     "metadata": {},
     "output_type": "execute_result"
    }
   ],
   "source": [
    "buggy.__doc__"
   ]
  },
  {
   "cell_type": "markdown",
   "id": "bd96d22a-34a6-49ac-baf1-5126416dee1b",
   "metadata": {},
   "source": [
    "#### **QUIZ**\n",
    "- 나이 -> 연도\n",
    "    - 함수: 입력값=나이, 반환=연도\n",
    "    - 나이 = input 받기"
   ]
  },
  {
   "cell_type": "code",
   "execution_count": 23,
   "id": "c81e47c3-5751-4e92-b3dc-80a35d0064db",
   "metadata": {},
   "outputs": [
    {
     "name": "stdin",
     "output_type": "stream",
     "text": [
      "나이를 입력하세요:  2002\n"
     ]
    },
    {
     "name": "stdout",
     "output_type": "stream",
     "text": [
      "21\n"
     ]
    }
   ],
   "source": [
    "def age_to_year(age): #함수 이름 잘 지을 것!\n",
    "    \"\"\"\n",
    "    age: int, 나이\n",
    "    나이를 출생년도로 바꾼다.\n",
    "    \"\"\"\n",
    "    this_year = 2022\n",
    "    #year = this_year - age + 1\n",
    "    return this_year - age + 1\n",
    "\n",
    "age = int(input('나이를 입력하세요: '))\n",
    "#year = age_to_year(age)\n",
    "#print(year)\n",
    "print(age_to_year(age))"
   ]
  },
  {
   "cell_type": "markdown",
   "id": "a171a3b1-8ef0-4df7-8e01-38ad0cba7112",
   "metadata": {},
   "source": [
    "---"
   ]
  },
  {
   "cell_type": "markdown",
   "id": "3b385f6e-c3fe-4e5e-a1cc-710d6a987682",
   "metadata": {},
   "source": [
    "### **브라운 정제하기**\n",
    "1. 문장 분절\n",
    "2. 단어 분절\n",
    "    - C. 문장부호 제거\n",
    "    - D. 하이픈, 's\n",
    "3. 위의 것을 함수로 만들기"
   ]
  },
  {
   "cell_type": "code",
   "execution_count": 25,
   "id": "f0d380c5-0d90-49e2-b45a-362c0f0b8d21",
   "metadata": {
    "collapsed": true,
    "jupyter": {
     "outputs_hidden": true
    },
    "tags": []
   },
   "outputs": [
    {
     "name": "stderr",
     "output_type": "stream",
     "text": [
      "[nltk_data] Downloading package brown to\n",
      "[nltk_data]     C:\\Users\\여혜인\\AppData\\Roaming\\nltk_data...\n",
      "[nltk_data]   Package brown is already up-to-date!\n"
     ]
    }
   ],
   "source": [
    "import string\n",
    "import nltk\n",
    "\n",
    "nltk.download('brown')\n",
    "brown = nltk.corpus.brown\n",
    "romance = brown.raw(categories='romance')[:5000]"
   ]
  },
  {
   "cell_type": "markdown",
   "id": "53ba21a1-a54f-4db5-a6e3-be73763f569a",
   "metadata": {},
   "source": [
    "#### **문장 분절**"
   ]
  },
  {
   "cell_type": "code",
   "execution_count": 54,
   "id": "f9283e48-e8df-4841-8cb8-865ad5266476",
   "metadata": {},
   "outputs": [
    {
     "data": {
      "text/plain": [
       "['They/ppss neither/cc liked/vbd nor/cc disliked/vbd the/at Old/jj-tl Man/nn-tl .',\n",
       " 'To/in them/ppo he/pps could/md have/hv been/ben the/at broken/vbn bell/nn in/in the/at church/nn tower/nn which/wdt rang/vbd before/in and/cc after/in Mass/nn-tl ,/, and/cc at/in noon/nn ,/, and/cc at/in six/cd each/dt evening/nn --/-- its/pp$ tone/nn ,/, repetitive/jj ,/, monotonous/jj ,/, never/rb breaking/vbg the/at boredom/nn of/in the/at streets/nns .']"
      ]
     },
     "execution_count": 54,
     "metadata": {},
     "output_type": "execute_result"
    }
   ],
   "source": [
    "# ./. /. \\n\n",
    "sentence = [sent.strip() for sent in romance.split('/.')]\n",
    "sentence[:2]"
   ]
  },
  {
   "cell_type": "code",
   "execution_count": 55,
   "id": "733a8f47-767a-476d-a15f-4448e0696e91",
   "metadata": {},
   "outputs": [],
   "source": [
    "sentence = [s for s in sentence if s != '!']"
   ]
  },
  {
   "cell_type": "markdown",
   "id": "39ded5f8-2edb-4e36-aa49-c2cc666b301e",
   "metadata": {
    "tags": []
   },
   "source": [
    "#### **단어 분절**\n",
    "- sentences -> POS 제거, 단어 분절"
   ]
  },
  {
   "cell_type": "code",
   "execution_count": 56,
   "id": "bb24ac3b-5f1b-4b8c-85e7-6aa26835d0a7",
   "metadata": {},
   "outputs": [
    {
     "data": {
      "text/plain": [
       "['They', 'neither', 'liked', 'nor', 'disliked', 'the', 'Old', 'Man', '.']"
      ]
     },
     "execution_count": 56,
     "metadata": {},
     "output_type": "execute_result"
    }
   ],
   "source": [
    "example = sentence[0]\n",
    "[word[:word.find('/')] if word[:word.find('/')] else word for word in example.split()]"
   ]
  },
  {
   "cell_type": "code",
   "execution_count": 58,
   "id": "e0b693df-028b-4e84-902a-f8379819a104",
   "metadata": {
    "tags": []
   },
   "outputs": [],
   "source": [
    "# 전체문장에 적용하기\n",
    "sent_tokens = [[word[:word.find('/')] \\\n",
    "     if word[:word.find('/')] else word # punct에 있으면 버려라 \n",
    "         for word in example.split()] for example in sentence]"
   ]
  },
  {
   "cell_type": "markdown",
   "id": "2238c9cf-de85-45fd-8949-db17f522d558",
   "metadata": {},
   "source": [
    "#### **punctuations**"
   ]
  },
  {
   "cell_type": "code",
   "execution_count": 61,
   "id": "ba24b1c6-c611-4105-a6ad-da0206957f88",
   "metadata": {},
   "outputs": [],
   "source": [
    "punct = list(string.punctuation)"
   ]
  },
  {
   "cell_type": "code",
   "execution_count": 70,
   "id": "0f00c257-479f-4aff-a781-cf2ed89f0017",
   "metadata": {
    "tags": []
   },
   "outputs": [],
   "source": [
    "# 제거하기\n",
    "clean_sent_tokens = [[word for word in sent if word not in punct] for sent in sent_tokens]"
   ]
  },
  {
   "cell_type": "code",
   "execution_count": 71,
   "id": "d382f094-2a80-46b4-a4e2-056a3f52544e",
   "metadata": {},
   "outputs": [],
   "source": [
    "# 남은 문장부호\n",
    "my_punct = set([word for sent in sent_tokens for word in sent if not word[0].isalnum() and word not in punct])\n",
    "punct.extend(list(my_punct))"
   ]
  },
  {
   "cell_type": "code",
   "execution_count": 72,
   "id": "8e5dd674-597c-408a-a758-31e09fce094f",
   "metadata": {},
   "outputs": [
    {
     "data": {
      "text/plain": [
       "('she', \"'s\")"
      ]
     },
     "execution_count": 72,
     "metadata": {},
     "output_type": "execute_result"
    }
   ],
   "source": [
    "# 하이픈\n",
    "'fur-piece'.split('-') #extend\n",
    "#어포스트로피 's\n",
    "word = \"she's\"\n",
    "index = word.find(\"'\")\n",
    "word[:index], word[index:]"
   ]
  },
  {
   "cell_type": "code",
   "execution_count": 79,
   "id": "e68cffe2-5382-4779-a1e2-d9b317ed1192",
   "metadata": {},
   "outputs": [
    {
     "data": {
      "text/plain": [
       "['They', 'neither', 'liked', 'nor', 'disliked', 'the', 'Old', 'Man']"
      ]
     },
     "execution_count": 79,
     "metadata": {},
     "output_type": "execute_result"
    }
   ],
   "source": [
    "# 함수로: 문장이 들어왔을 때 POS 제거하고, punct 제거하고, 토큰리스트로 반환한다.\n",
    "sentence = [sent.strip() for sent in romance.split('/.')]\n",
    "def tokenize_word(text):\n",
    "    token_list = text\n",
    "    return [word[:word.find('/')] for word in token_list.split() if '/' in word and word not in punct]\n",
    "tokenize_word(sentence[0])   "
   ]
  },
  {
   "cell_type": "markdown",
   "id": "06c48c32-62a9-444f-8fc0-89de26988428",
   "metadata": {
    "tags": []
   },
   "source": [
    "---\n",
    "## **Review**\n",
    "\n",
    "### **새롭게 알게 된 내용**\n",
    "\n",
    "- 함수 호출 시 인수가 매개변수에 복사(얕은복사)된다.\n",
    "- doc string 작성법\n",
    "    - doc string 보고 싶을 때,\n",
    "        - help(함수명)\n",
    "        - 함수명.\\_\\_doc\\_\\_"
   ]
  }
 ],
 "metadata": {
  "kernelspec": {
   "display_name": "Python 3 (ipykernel)",
   "language": "python",
   "name": "python3"
  },
  "language_info": {
   "codemirror_mode": {
    "name": "ipython",
    "version": 3
   },
   "file_extension": ".py",
   "mimetype": "text/x-python",
   "name": "python",
   "nbconvert_exporter": "python",
   "pygments_lexer": "ipython3",
   "version": "3.9.7"
  }
 },
 "nbformat": 4,
 "nbformat_minor": 5
}
