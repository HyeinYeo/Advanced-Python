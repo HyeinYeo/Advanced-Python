{
 "cells": [
  {
   "cell_type": "markdown",
   "id": "f4a617f1-1cd3-4270-a987-cfe42f4b1b7b",
   "metadata": {},
   "source": [
    "# **Week 05 - 2022/04/01**"
   ]
  },
  {
   "cell_type": "markdown",
   "id": "fca27b52-6aee-485a-a03c-f97a428831af",
   "metadata": {},
   "source": [
    "---"
   ]
  },
  {
   "cell_type": "markdown",
   "id": "931331a6-5b1b-4966-80ab-d340143bde20",
   "metadata": {},
   "source": [
    "## **Ch07. 반복문**\n",
    "### **7.1 반복문**"
   ]
  },
  {
   "cell_type": "markdown",
   "id": "f1263547-8c0e-4454-814a-2e7eaf95d1dc",
   "metadata": {
    "tags": []
   },
   "source": [
    "##### **반복문**\n",
    "- while, for loop\n",
    "\n",
    "##### **while loop**\n",
    "- 어떤 조건이 만족하는 동안 명령 블록을 수행한다.\n",
    "- if + for loop\n",
    "- 해당 조건이 거짓이면 멈춘다. => 언제 멈추는지 그 시점을 정확히 파악해야 함.\n",
    "- 조건 변수 선언 및 초기화 해야 함\n",
    "\n",
    "##### **for vs. while**\n",
    "- `for`: 반복 `횟수`가 정해짐, 정확함, 변하지 않음\n",
    "    - 예: 전체 학생 성적 산출(횟수가 정해져 있을 때)\n",
    "- `while`: 횟수 정해지지 않음.(= 횟수가 중요하지 않음), 어떤 `조건`을 만족시킬 때 빠져나오는 게 중요할 때\n",
    "    - 예: 가위바위보 이겼을 때 끝내기(조건 중요)"
   ]
  },
  {
   "cell_type": "markdown",
   "id": "67e3dc59-398d-4ddf-a81f-9a6894082249",
   "metadata": {},
   "source": [
    "- **for loop**"
   ]
  },
  {
   "cell_type": "code",
   "execution_count": 13,
   "id": "12f28be9-982f-4822-9c38-7ab06383cba7",
   "metadata": {
    "tags": []
   },
   "outputs": [
    {
     "name": "stdout",
     "output_type": "stream",
     "text": [
      "0\n",
      "1\n",
      "2\n",
      "3\n"
     ]
    }
   ],
   "source": [
    "for i in range(4):\n",
    "    print(i)"
   ]
  },
  {
   "cell_type": "markdown",
   "id": "fad7bbbd-2e92-4595-8b1b-db0ae0822067",
   "metadata": {},
   "source": [
    "- **while loop**"
   ]
  },
  {
   "cell_type": "code",
   "execution_count": 1,
   "id": "b34ea564-04ae-46f3-a211-407ac63a0966",
   "metadata": {},
   "outputs": [
    {
     "name": "stdout",
     "output_type": "stream",
     "text": [
      "0\n",
      "1\n",
      "2\n",
      "\n",
      "3\n"
     ]
    }
   ],
   "source": [
    "#for loop -> while loop\n",
    "\n",
    "j = 0   #초기화 필수\n",
    "while j < 3: #조건식  #0, 1, 2, false\n",
    "    print(j)         #0, 1, 2\n",
    "    j += 1 #변화 블록 #1, 2, 3\n",
    "print()\n",
    "print(j) #j = 3 됐을 때, while문 내 실행 안 되고 빠져나옴"
   ]
  },
  {
   "cell_type": "code",
   "execution_count": 14,
   "id": "9e2445c5-8ff8-4db1-87ac-680648425abe",
   "metadata": {},
   "outputs": [
    {
     "name": "stdout",
     "output_type": "stream",
     "text": [
      "a\n",
      "b\n",
      "c\n",
      "d\n",
      "---------\n",
      "a\n",
      "b\n",
      "c\n",
      "d\n"
     ]
    }
   ],
   "source": [
    "#for loop\n",
    "abcd = ['a', 'b', 'c', 'd']\n",
    "for ch in abcd:\n",
    "    print(ch)\n",
    "print('---------')\n",
    "#while loop\n",
    "i = 0\n",
    "while i < len(abcd):\n",
    "        print(abcd[i])\n",
    "        i += 1"
   ]
  },
  {
   "cell_type": "markdown",
   "id": "2ae4c509-17bd-4e7c-b80a-d6af0a573db2",
   "metadata": {},
   "source": [
    "### **7.2 반복문 제어**\n",
    "- 되도록 사용하지 않는다. 의도치 않은 오류를 위해\n",
    "\n",
    "- `break`: 논리적으로 반복 종료시킬 때 사용\n",
    "- `else`: 어떤 조건이 완전히 끝났을 때 한 번 더 실행함. \n",
    "  - 어느 지점에서 종료되었는지 확인할 때 사용\n",
    "  - break로 종료 시에는 실행되지 않음\n",
    "- `continue`: 특정 조건을 건너뛰고 다음 조건 실행"
   ]
  },
  {
   "cell_type": "markdown",
   "id": "100c89aa-9bfb-4e03-8c50-63486c8358eb",
   "metadata": {},
   "source": [
    "- **break**"
   ]
  },
  {
   "cell_type": "code",
   "execution_count": 10,
   "id": "2648aabd-ded6-4268-a92a-a47ad57a2df5",
   "metadata": {},
   "outputs": [
    {
     "name": "stdout",
     "output_type": "stream",
     "text": [
      "0\n",
      "1\n",
      "2\n",
      "3\n",
      "4\n",
      "5\n",
      "6\n"
     ]
    }
   ],
   "source": [
    "j = 0\n",
    "while j < 10: \n",
    "    print(j)       \n",
    "    if j == 6: break #print문이 먼저 실행되므로 6 출력 후 종료. 어디서 종료되는지가 중요\n",
    "    j += 1 "
   ]
  },
  {
   "cell_type": "code",
   "execution_count": 2,
   "id": "f8558714-2f9f-4e06-b1ae-320c04c09ac1",
   "metadata": {
    "tags": []
   },
   "outputs": [
    {
     "name": "stdout",
     "output_type": "stream",
     "text": [
      "0\n",
      "1\n",
      "2\n",
      "3\n",
      "4\n",
      "5\n"
     ]
    }
   ],
   "source": [
    "for i in range(10):\n",
    "    if i == 6: break\n",
    "    print(i) #6 출력 안 됨, 어디서 종료되는지가 중요"
   ]
  },
  {
   "cell_type": "markdown",
   "id": "07ddee32-60e1-45dc-bf6b-2c53dc7814b2",
   "metadata": {
    "tags": []
   },
   "source": [
    "- **else**"
   ]
  },
  {
   "cell_type": "code",
   "execution_count": 4,
   "id": "168f7778-95af-478e-9238-47a9c757b92e",
   "metadata": {},
   "outputs": [
    {
     "name": "stdout",
     "output_type": "stream",
     "text": [
      "0\n",
      "1\n",
      "2\n",
      "3\n",
      "4\n",
      "5\n",
      "6\n"
     ]
    }
   ],
   "source": [
    "j = 0\n",
    "while j < 10: \n",
    "    print(j)       \n",
    "    if j == 6: break\n",
    "    j += 1 \n",
    "else:\n",
    "    print('ended') #6까지 출력하고 종료되었으므로, else 실행 안 됨"
   ]
  },
  {
   "cell_type": "code",
   "execution_count": 5,
   "id": "c0a90602-7a5d-44e1-9d15-f3c4bfb2beff",
   "metadata": {},
   "outputs": [
    {
     "name": "stdout",
     "output_type": "stream",
     "text": [
      "0\n",
      "1\n",
      "2\n",
      "3\n",
      "4\n",
      "5\n"
     ]
    }
   ],
   "source": [
    "for i in range(10):\n",
    "    if i == 6: break\n",
    "    print(i) #6 출력 안 됨\n",
    "else:\n",
    "    print('ended') #5까지 출력하고 종료되었으므로, else 실행 안 됨"
   ]
  },
  {
   "cell_type": "code",
   "execution_count": 6,
   "id": "c5e1c353-2eb5-411a-ad2a-7b133ffb87ff",
   "metadata": {},
   "outputs": [
    {
     "name": "stdout",
     "output_type": "stream",
     "text": [
      "0\n",
      "1\n",
      "2\n",
      "3\n",
      "4\n",
      "ended\n"
     ]
    }
   ],
   "source": [
    "j = 0\n",
    "while j < 5: \n",
    "    print(j)       \n",
    "    j += 1 \n",
    "else:\n",
    "    print('ended') #끝까지 while문 실행 후 종료되었으므로, else문 실행됨."
   ]
  },
  {
   "cell_type": "markdown",
   "id": "8f378fa1-1498-49cd-862f-e47739e2a355",
   "metadata": {},
   "source": [
    "- **continue**"
   ]
  },
  {
   "cell_type": "code",
   "execution_count": 11,
   "id": "be6f2277-a323-41a6-9db1-9a4df540aa83",
   "metadata": {},
   "outputs": [
    {
     "name": "stdout",
     "output_type": "stream",
     "text": [
      "0\n",
      "1\n",
      "2\n",
      "3\n",
      "4\n",
      "5\n",
      "7\n",
      "8\n",
      "9\n",
      "ended\n"
     ]
    }
   ],
   "source": [
    "for i in range(10):\n",
    "    if i == 6: continue #6만 건너뜀\n",
    "    print(i)\n",
    "else:\n",
    "    print('ended') #끝까지 for문 실행 후 종료되었으므로, else문 실행됨."
   ]
  },
  {
   "cell_type": "markdown",
   "id": "89604b46-dd50-49fb-8344-2c26dc173983",
   "metadata": {},
   "source": [
    "### **실습: 구구단**\n",
    "변수는 입력을 받아서 사용 \n",
    "- 1. n단 출력\n",
    "- 2. 1부터 n단까지\n",
    "- 3. n, m 모두 입력 받아서 출력\n",
    "- 4. 프로그램으로 만듦.\n",
    "    - 메뉴: 1) n단, 2) 1-n단, 3) n-m단 \n",
    "    - 메뉴에 없는 옵션 선택할 때\n",
    "    - 1단 미만, 9단 초과 단은 출력 불가능\n",
    "    - 성공적으로 출력 시 종료, 잘못된 값 입력 시 재실행\n",
    "- print format 사용할 것"
   ]
  },
  {
   "cell_type": "code",
   "execution_count": 16,
   "id": "f79034e3-f23b-4860-ae02-4bba38a8a240",
   "metadata": {
    "tags": []
   },
   "outputs": [
    {
     "name": "stdin",
     "output_type": "stream",
     "text": [
      "메뉴를 선택하세요(숫자 입력): \n",
      "                        \n",
      "                        1) n단 \n",
      "                        2) 1단에서 n단까지 \n",
      "                        3) n단에서 m단까지\n",
      "                        \n",
      "                         3\n",
      "시작할 단:  4\n",
      "끝낼 단:  2\n",
      "warning: 시작하는 단이 끝나는 단보다 큽니다. \n",
      "        2단부터 4단까지 출력하시겠습니까?\n",
      "        yes -> Y\n",
      "        no -> N\n",
      "\n",
      "                             Y\n"
     ]
    },
    {
     "name": "stdout",
     "output_type": "stream",
     "text": [
      "===2단===\n",
      "2 X 1 = 2\n",
      "2 X 2 = 4\n",
      "2 X 3 = 6\n",
      "2 X 4 = 8\n",
      "2 X 5 = 10\n",
      "2 X 6 = 12\n",
      "2 X 7 = 14\n",
      "2 X 8 = 16\n",
      "2 X 9 = 18\n",
      "\n",
      "===3단===\n",
      "3 X 1 = 3\n",
      "3 X 2 = 6\n",
      "3 X 3 = 9\n",
      "3 X 4 = 12\n",
      "3 X 5 = 15\n",
      "3 X 6 = 18\n",
      "3 X 7 = 21\n",
      "3 X 8 = 24\n",
      "3 X 9 = 27\n",
      "\n",
      "===4단===\n",
      "4 X 1 = 4\n",
      "4 X 2 = 8\n",
      "4 X 3 = 12\n",
      "4 X 4 = 16\n",
      "4 X 5 = 20\n",
      "4 X 6 = 24\n",
      "4 X 7 = 28\n",
      "4 X 8 = 32\n",
      "4 X 9 = 36\n",
      "\n",
      "출력 완료되었습니다. 종료합니다.\n"
     ]
    }
   ],
   "source": [
    "flag = True\n",
    "while(flag):\n",
    "    menu = int(input('''메뉴를 선택하세요(숫자 입력): \n",
    "                        \n",
    "                        1) n단 \n",
    "                        2) 1단에서 n단까지 \n",
    "                        3) n단에서 m단까지\n",
    "                        \n",
    "                        '''))\n",
    "\n",
    "    if menu == 1:\n",
    "        start = int(input('몇 단? : '))\n",
    "        end = start\n",
    "                  \n",
    "    elif menu == 2:\n",
    "        end = int(input('1단에서 몇 단까지? : '))\n",
    "        start = 1    \n",
    "        \n",
    "    elif menu == 3:\n",
    "        start = int(input('시작할 단: '))\n",
    "        end = int(input('끝낼 단: '))\n",
    "\n",
    "    else: \n",
    "        print('없는 메뉴를 선택하셨습니다. 다시 선택해주세요.')\n",
    "    \n",
    " #-------------------------------------------------------------#   \n",
    "    if start > 9 or start < 1 or end > 9 or end < 1:\n",
    "        print('1단 미만, 9단 초과는 출력할 수 없습니다.')\n",
    "        response = 'N'\n",
    "                  \n",
    "    elif start > end:\n",
    "        response = input(f'''warning: 시작하는 단이 끝나는 단보다 큽니다. \n",
    "        {end}단부터 {start}단까지 출력하시겠습니까?\n",
    "        yes -> Y\n",
    "        no -> N\n",
    "\n",
    "                            ''')\n",
    "        (start, end) = (end, start)\n",
    "    else: response = 'Y'\n",
    " #-------------------------------------------------------------#                   \n",
    "    if response == 'Y':\n",
    "        for i in range(start, end+1):\n",
    "            print(f\"==={i}단===\")                  \n",
    "            for j in range(1, 10):\n",
    "                print(f\"{i} X {j} = {i * j}\")\n",
    "            print()\n",
    "        print(\"출력 완료되었습니다. 종료합니다.\")\n",
    "        flag = False\n",
    "    else: \n",
    "        print('다시 실행합니다.')"
   ]
  },
  {
   "cell_type": "markdown",
   "id": "05bf3775-cdbf-44ce-8b38-b85bc8f64938",
   "metadata": {},
   "source": [
    "---"
   ]
  },
  {
   "cell_type": "markdown",
   "id": "18f10dc3-9b5f-4012-8cea-ebf04231aeb2",
   "metadata": {},
   "source": [
    "## **NLTK corpus**"
   ]
  },
  {
   "cell_type": "code",
   "execution_count": null,
   "id": "09ed860e-8db8-4360-9997-1cacfda536e4",
   "metadata": {},
   "outputs": [
    {
     "name": "stdout",
     "output_type": "stream",
     "text": [
      "*** Introductory Examples for the NLTK Book ***\n",
      "Loading text1, ..., text9 and sent1, ..., sent9\n",
      "Type the name of the text or sentence to view it.\n",
      "Type: 'texts()' or 'sents()' to list the materials.\n",
      "text1: Moby Dick by Herman Melville 1851\n",
      "text2: Sense and Sensibility by Jane Austen 1811\n",
      "text3: The Book of Genesis\n",
      "text4: Inaugural Address Corpus\n",
      "text5: Chat Corpus\n",
      "text6: Monty Python and the Holy Grail\n",
      "text7: Wall Street Journal\n",
      "text8: Personals Corpus\n",
      "text9: The Man Who Was Thursday by G . K . Chesterton 1908\n"
     ]
    },
    {
     "data": {
      "text/plain": [
       "True"
      ]
     },
     "execution_count": 2,
     "metadata": {},
     "output_type": "execute_result"
    }
   ],
   "source": [
    "import nltk\n",
    "from nltk.book import *\n",
    "nltk.download('book', quiet=True)"
   ]
  },
  {
   "cell_type": "markdown",
   "id": "3bd06270-f713-48bc-bd55-4b07634df3f5",
   "metadata": {},
   "source": [
    "### **text를 한꺼번에 가져오기**"
   ]
  },
  {
   "cell_type": "markdown",
   "id": "68611a72-7f23-4eb3-b13d-a7b182370b01",
   "metadata": {},
   "source": [
    "- texts = [text1, text2, ..., text9]\n",
    "- text1 != 'text1'\n",
    "\n",
    "1. text 1-9까지 string 가져오기\n",
    "2. string -> fx : getattr(라이브러리, '문자열 이름')"
   ]
  },
  {
   "cell_type": "markdown",
   "id": "0b27f997-aff1-4d09-851d-41d34235c658",
   "metadata": {},
   "source": [
    "- `getattr()`"
   ]
  },
  {
   "cell_type": "code",
   "execution_count": 29,
   "id": "6179d368-e2cd-4026-b471-18b578d439da",
   "metadata": {},
   "outputs": [
    {
     "data": {
      "text/plain": [
       "[<Text: Moby Dick by Herman Melville 1851>,\n",
       " <Text: Sense and Sensibility by Jane Austen 1811>,\n",
       " <Text: The Book of Genesis>,\n",
       " <Text: Inaugural Address Corpus>,\n",
       " <Text: Chat Corpus>,\n",
       " <Text: Monty Python and the Holy Grail>,\n",
       " <Text: Wall Street Journal>,\n",
       " <Text: Personals Corpus>,\n",
       " <Text: The Man Who Was Thursday by G . K . Chesterton 1908>]"
      ]
     },
     "execution_count": 29,
     "metadata": {},
     "output_type": "execute_result"
    }
   ],
   "source": [
    "# 1. getattr()\n",
    "texts = [getattr(nltk.book, f'text{i}') for i in range(1, 10)]\n",
    "texts"
   ]
  },
  {
   "cell_type": "markdown",
   "id": "15d11727-24ec-4e37-8581-53f5e223d929",
   "metadata": {},
   "source": [
    "### **NLTK corpus**\n",
    "- 코퍼스 + 테마\n",
    "- 종류\n",
    "    - brown\n",
    "    - gutenberg: 저작권이 말소된 문학작품 포함\n",
    "    - inargural\n",
    "\n",
    "- methods\n",
    "    - `words()` : 단어 수 #tokens \n",
    "    - `sents()` : 문장 수 \n",
    "    - `raw()` : 글자 수\n",
    "    - `fileids()` : 말 뭉치 중 파일 제목들"
   ]
  },
  {
   "cell_type": "code",
   "execution_count": null,
   "id": "1bfffdd1-b267-4628-a9e2-a235652831d5",
   "metadata": {
    "collapsed": true,
    "jupyter": {
     "outputs_hidden": true
    },
    "tags": []
   },
   "outputs": [
    {
     "name": "stderr",
     "output_type": "stream",
     "text": [
      "[nltk_data] Downloading package brown to\n",
      "[nltk_data]     C:\\Users\\여혜인\\AppData\\Roaming\\nltk_data...\n",
      "[nltk_data]   Package brown is already up-to-date!\n",
      "[nltk_data] Downloading package gutenberg to\n",
      "[nltk_data]     C:\\Users\\여혜인\\AppData\\Roaming\\nltk_data...\n",
      "[nltk_data]   Package gutenberg is already up-to-date!\n",
      "[nltk_data] Downloading package inaugural to\n",
      "[nltk_data]     C:\\Users\\여혜인\\AppData\\Roaming\\nltk_data...\n",
      "[nltk_data]   Package inaugural is already up-to-date!\n"
     ]
    },
    {
     "data": {
      "text/plain": [
       "True"
      ]
     },
     "execution_count": 3,
     "metadata": {},
     "output_type": "execute_result"
    }
   ],
   "source": [
    "from nltk.corpus import gutenberg\n",
    "nltk.download(['brown', 'gutenberg', 'inaugural'])"
   ]
  },
  {
   "cell_type": "code",
   "execution_count": null,
   "id": "b23f9b35-0150-433a-980d-c1f9413b8f6e",
   "metadata": {
    "tags": []
   },
   "outputs": [],
   "source": [
    "# 또 다른 import 방법\n",
    "gutenberg = nltk.corpus.gutenberg"
   ]
  },
  {
   "cell_type": "code",
   "execution_count": 21,
   "id": "da3c7001-8ce8-4a5c-b323-7ad8289979ee",
   "metadata": {},
   "outputs": [
    {
     "data": {
      "text/plain": [
       "['austen-emma.txt',\n",
       " 'austen-persuasion.txt',\n",
       " 'austen-sense.txt',\n",
       " 'bible-kjv.txt',\n",
       " 'blake-poems.txt',\n",
       " 'bryant-stories.txt',\n",
       " 'burgess-busterbrown.txt',\n",
       " 'carroll-alice.txt',\n",
       " 'chesterton-ball.txt',\n",
       " 'chesterton-brown.txt',\n",
       " 'chesterton-thursday.txt',\n",
       " 'edgeworth-parents.txt',\n",
       " 'melville-moby_dick.txt',\n",
       " 'milton-paradise.txt',\n",
       " 'shakespeare-caesar.txt',\n",
       " 'shakespeare-hamlet.txt',\n",
       " 'shakespeare-macbeth.txt',\n",
       " 'whitman-leaves.txt']"
      ]
     },
     "execution_count": 21,
     "metadata": {},
     "output_type": "execute_result"
    }
   ],
   "source": [
    "gutenberg.fileids()"
   ]
  },
  {
   "cell_type": "code",
   "execution_count": 26,
   "id": "04a364c0-7fe1-444b-9f7c-13f467031657",
   "metadata": {
    "tags": []
   },
   "outputs": [
    {
     "name": "stdout",
     "output_type": "stream",
     "text": [
      "austen-emma.txt | 글자 수=887071개 / 단어 수=192427개 / 문장 수=7752개\n",
      "austen-persuasion.txt | 글자 수=466292개 / 단어 수=98171개 / 문장 수=3747개\n",
      "austen-sense.txt | 글자 수=673022개 / 단어 수=141576개 / 문장 수=4999개\n",
      "bible-kjv.txt | 글자 수=4332554개 / 단어 수=1010654개 / 문장 수=30103개\n",
      "blake-poems.txt | 글자 수=38153개 / 단어 수=8354개 / 문장 수=438개\n",
      "bryant-stories.txt | 글자 수=249439개 / 단어 수=55563개 / 문장 수=2863개\n",
      "burgess-busterbrown.txt | 글자 수=84663개 / 단어 수=18963개 / 문장 수=1054개\n",
      "carroll-alice.txt | 글자 수=144395개 / 단어 수=34110개 / 문장 수=1703개\n",
      "chesterton-ball.txt | 글자 수=457450개 / 단어 수=96996개 / 문장 수=4779개\n",
      "chesterton-brown.txt | 글자 수=406629개 / 단어 수=86063개 / 문장 수=3806개\n",
      "chesterton-thursday.txt | 글자 수=320525개 / 단어 수=69213개 / 문장 수=3742개\n",
      "edgeworth-parents.txt | 글자 수=935158개 / 단어 수=210663개 / 문장 수=10230개\n",
      "melville-moby_dick.txt | 글자 수=1242990개 / 단어 수=260819개 / 문장 수=10059개\n",
      "milton-paradise.txt | 글자 수=468220개 / 단어 수=96825개 / 문장 수=1851개\n",
      "shakespeare-caesar.txt | 글자 수=112310개 / 단어 수=25833개 / 문장 수=2163개\n",
      "shakespeare-hamlet.txt | 글자 수=162881개 / 단어 수=37360개 / 문장 수=3106개\n",
      "shakespeare-macbeth.txt | 글자 수=100351개 / 단어 수=23140개 / 문장 수=1907개\n",
      "whitman-leaves.txt | 글자 수=711215개 / 단어 수=154883개 / 문장 수=4250개\n"
     ]
    }
   ],
   "source": [
    "# 각 파일마다 word, char, sent 개수 출력\n",
    "lists = gutenberg.fileids()\n",
    "for txt in lists:\n",
    "    char = len(gutenberg.raw(fileids=[txt]))\n",
    "    word = len(gutenberg.words(fileids=[txt]))\n",
    "    sent = len(gutenberg.sents(fileids=[txt]))   \n",
    "    print(f'{txt} | 글자 수={char}개 / 단어 수={word}개 / 문장 수={sent}개')"
   ]
  },
  {
   "cell_type": "code",
   "execution_count": null,
   "id": "01753f02-e344-4025-a420-0bde46e15b1c",
   "metadata": {
    "jupyter": {
     "source_hidden": true
    },
    "tags": []
   },
   "outputs": [],
   "source": []
  },
  {
   "cell_type": "code",
   "execution_count": 27,
   "id": "4fa283cc-bedb-40d1-ae7d-d7a1235a256f",
   "metadata": {
    "tags": []
   },
   "outputs": [
    {
     "name": "stdout",
     "output_type": "stream",
     "text": [
      "austen-emma: 192427개 7752개 887071개\n",
      "austen-persuasion: 98171개 3747개 466292개\n",
      "austen-sense: 141576개 4999개 673022개\n",
      "bible-kjv: 1010654개 30103개 4332554개\n",
      "blake-poems: 8354개 438개 38153개\n",
      "bryant-stories: 55563개 2863개 249439개\n",
      "burgess-busterbrown: 18963개 1054개 84663개\n",
      "carroll-alice: 34110개 1703개 144395개\n",
      "chesterton-ball: 96996개 4779개 457450개\n",
      "chesterton-brown: 86063개 3806개 406629개\n",
      "chesterton-thursday: 69213개 3742개 320525개\n",
      "edgeworth-parents: 210663개 10230개 935158개\n",
      "melville-moby_dick: 260819개 10059개 1242990개\n",
      "milton-paradise: 96825개 1851개 468220개\n",
      "shakespeare-caesar: 25833개 2163개 112310개\n",
      "shakespeare-hamlet: 37360개 3106개 162881개\n",
      "shakespeare-macbeth: 23140개 1907개 100351개\n",
      "whitman-leaves: 154883개 4250개 711215개\n"
     ]
    }
   ],
   "source": [
    "for file in gutenberg.fileids():\n",
    "    words = gutenberg.words(file)\n",
    "    sents = gutenberg.sents(file)\n",
    "    chars = gutenberg.raw(file)\n",
    "    \n",
    "    print(f'{file[:-4]}: {len(words)}개 {len(sents)}개 {len(chars)}개')"
   ]
  },
  {
   "cell_type": "markdown",
   "id": "f40409dd-4b8d-40c4-99ac-0fa084614e35",
   "metadata": {},
   "source": [
    "### **`Gutenberg`**\n",
    "1. shakespeare-caesar의 중복된 단어를 거르고 각 단어의 길이를 출력하시오.\n",
    "2. chesterton-thursday에서 길이가 4자 이하인 알파벳 중 ie를 포함하는 단어를 소문자로 출력하고, 개수를 세어라.\n",
    "3. bryant-stories에서 ch로 끝나는 단어를 출력하는데, 중복 없이, 첫 글자(모두 소문자)와 끝 ch만 남기고 가운데 글자들은 모두 -로 가려라. 예: much -> m-ch"
   ]
  },
  {
   "cell_type": "code",
   "execution_count": 32,
   "id": "e3a5a82b-c78f-4210-b5d0-a59b441d07df",
   "metadata": {
    "tags": []
   },
   "outputs": [
    {
     "data": {
      "text/plain": [
       "[4, 10, 10, 9, 9, 8, 4, 7, 5, 10]"
      ]
     },
     "execution_count": 32,
     "metadata": {},
     "output_type": "execute_result"
    }
   ],
   "source": [
    "# 1\n",
    "##words = set(gutenberg.words(fileids='shakespeare-caesar.txt'))\n",
    "##[(word, len(word)) for word in words]\n",
    "[len(word) for word in set(gutenberg.words(fileids='shakespeare-caesar.txt'))][:10]"
   ]
  },
  {
   "cell_type": "code",
   "execution_count": 6,
   "id": "9c88de06-61b6-473e-af2a-5efcf2aa71d2",
   "metadata": {},
   "outputs": [
    {
     "data": {
      "text/plain": [
       "[('pie', 1),\n",
       " ('lie', 3),\n",
       " ('tied', 2),\n",
       " ('erie', 1),\n",
       " ('foie', 1),\n",
       " ('died', 5),\n",
       " ('lies', 1),\n",
       " ('die', 12),\n",
       " ('pier', 5),\n",
       " ('dies', 1),\n",
       " ('view', 2),\n",
       " ('tie', 3)]"
      ]
     },
     "execution_count": 6,
     "metadata": {},
     "output_type": "execute_result"
    }
   ],
   "source": [
    "# 2\n",
    "words = gutenberg.words(fileids='chesterton-thursday.txt')\n",
    "fdist = FreqDist(words)\n",
    "ex = set([(word.lower(), fdist[word]) for word in words if len(word) <= 4 and 'ie' in word])\n",
    "list(ex)"
   ]
  },
  {
   "cell_type": "code",
   "execution_count": 65,
   "id": "15714840-a9e8-4a61-9156-53901260d9bd",
   "metadata": {},
   "outputs": [
    {
     "data": {
      "text/plain": [
       "['p--ch',\n",
       " 's-ch',\n",
       " 'l---ch',\n",
       " 'r-ch',\n",
       " 's-----ch',\n",
       " 'l--ch',\n",
       " 'a---ch',\n",
       " 'c---ch',\n",
       " 't--ch',\n",
       " 'r--ch',\n",
       " 'c--ch',\n",
       " 'm-ch',\n",
       " 'i-ch',\n",
       " 'f---ch',\n",
       " 'm--ch',\n",
       " 'b--ch',\n",
       " 'b---ch',\n",
       " 'e-ch',\n",
       " 's----ch',\n",
       " 'h--ch',\n",
       " 'a-ch',\n",
       " 'w--ch',\n",
       " 'a-----ch',\n",
       " 's---ch']"
      ]
     },
     "execution_count": 65,
     "metadata": {},
     "output_type": "execute_result"
    }
   ],
   "source": [
    "# 3\n",
    "words = gutenberg.words(fileids='chesterton-thursday.txt')\n",
    "ex = set([word[0].lower()+\"-\"*len(word[1:-2])+word[-2:] for word in words if word.endswith('ch')])\n",
    "list(ex)"
   ]
  },
  {
   "cell_type": "markdown",
   "id": "1358455c-5cb8-43c6-a544-99828c353632",
   "metadata": {},
   "source": [
    "### **`Brown`**\n",
    "- categories()\n"
   ]
  },
  {
   "cell_type": "code",
   "execution_count": 8,
   "id": "f4d3f375-ab74-441b-9580-b8e81da5a866",
   "metadata": {},
   "outputs": [
    {
     "data": {
      "text/plain": [
       "['adventure',\n",
       " 'belles_lettres',\n",
       " 'editorial',\n",
       " 'fiction',\n",
       " 'government',\n",
       " 'hobbies',\n",
       " 'humor',\n",
       " 'learned',\n",
       " 'lore',\n",
       " 'mystery',\n",
       " 'news',\n",
       " 'religion',\n",
       " 'reviews',\n",
       " 'romance',\n",
       " 'science_fiction']"
      ]
     },
     "execution_count": 8,
     "metadata": {},
     "output_type": "execute_result"
    }
   ],
   "source": [
    "brown  = nltk.corpus.brown\n",
    "brown.categories() #카테고리 존재"
   ]
  },
  {
   "cell_type": "code",
   "execution_count": 67,
   "id": "3a7b2775-a421-4fd6-ac50-4e4877951424",
   "metadata": {},
   "outputs": [
    {
     "data": {
      "text/plain": [
       "83"
      ]
     },
     "execution_count": 67,
     "metadata": {},
     "output_type": "execute_result"
    }
   ],
   "source": [
    "fdist = nltk.FreqDist([w.lower() for w in brown.words(categories='adventure')])\n",
    "#brown.words(categories=' ', fileids=' ') 인수가 복수 개 있으므로, categories가 무엇인지 명시해주어야 함.\n",
    "fdist['men'] #adventure 장르 중 men 단어의 개수(모두 소문자)"
   ]
  },
  {
   "cell_type": "code",
   "execution_count": 68,
   "id": "bbc37ed9-2c3d-4cc8-ae63-33390e9e9caf",
   "metadata": {},
   "outputs": [
    {
     "name": "stdout",
     "output_type": "stream",
     "text": [
      "can 48\n",
      "could 154\n",
      "will 51\n",
      "would 194\n",
      "may 7\n",
      "might 59\n"
     ]
    }
   ],
   "source": [
    "#조동사 출현 횟수\n",
    "modals = ['can', 'could', 'will', 'would', 'may', 'might']\n",
    "\n",
    "for verb in modals:\n",
    "    print(verb, fdist[verb])"
   ]
  },
  {
   "cell_type": "markdown",
   "id": "52001a7f-6f34-48ba-b93f-617aecc205e8",
   "metadata": {},
   "source": [
    "### **`conditional frequency distribution`**\n",
    "- 조건에 따른 fdist"
   ]
  },
  {
   "cell_type": "code",
   "execution_count": 9,
   "id": "5984f486-8909-4fe8-9fe4-d4ad51678e60",
   "metadata": {},
   "outputs": [],
   "source": [
    "cfd = nltk.ConditionalFreqDist(\n",
    "    # 각 장르에 따른 frequency distribution을 만든다.\n",
    "    (genre, word.lower())\n",
    "    for genre in brown.categories()  #카테고리 중 장르에 대해\n",
    "    for word in brown.words(categories=genre) #장르 중 단어들에 대해\n",
    ")"
   ]
  },
  {
   "cell_type": "code",
   "execution_count": 10,
   "id": "23c26150-9f46-412a-80a2-b8f3410035bb",
   "metadata": {},
   "outputs": [
    {
     "data": {
      "text/plain": [
       "36"
      ]
     },
     "execution_count": 10,
     "metadata": {},
     "output_type": "execute_result"
    }
   ],
   "source": [
    "cfd['romance']['love'] #romance 카테고리에서 love가 몇 번 나왔는지"
   ]
  },
  {
   "cell_type": "code",
   "execution_count": 11,
   "id": "18bb2649-08c8-4519-a887-5915c2a2bd62",
   "metadata": {},
   "outputs": [
    {
     "data": {
      "text/plain": [
       "107"
      ]
     },
     "execution_count": 11,
     "metadata": {},
     "output_type": "execute_result"
    }
   ],
   "source": [
    "cfd['mystery']['man']"
   ]
  },
  {
   "cell_type": "markdown",
   "id": "c7471322-239d-4737-8d89-09c91e321c80",
   "metadata": {},
   "source": [
    "---\n",
    "## **Review**\n",
    "\n",
    "### **새롭게 알게 된 내용**\n",
    "\n",
    "- 반복문에서 else 사용법\n",
    "- NLTK 내용 전반"
   ]
  },
  {
   "cell_type": "code",
   "execution_count": null,
   "id": "cfec58c7-f1e5-4f72-bbd8-4a761505e3da",
   "metadata": {},
   "outputs": [],
   "source": []
  }
 ],
 "metadata": {
  "kernelspec": {
   "display_name": "Python 3 (ipykernel)",
   "language": "python",
   "name": "python3"
  },
  "language_info": {
   "codemirror_mode": {
    "name": "ipython",
    "version": 3
   },
   "file_extension": ".py",
   "mimetype": "text/x-python",
   "name": "python",
   "nbconvert_exporter": "python",
   "pygments_lexer": "ipython3",
   "version": "3.9.7"
  }
 },
 "nbformat": 4,
 "nbformat_minor": 5
}
