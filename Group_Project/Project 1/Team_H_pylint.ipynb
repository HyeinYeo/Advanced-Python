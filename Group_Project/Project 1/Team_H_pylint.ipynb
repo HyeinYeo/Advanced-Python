{
 "cells": [
  {
   "attachments": {},
   "cell_type": "markdown",
   "id": "052e517f",
   "metadata": {},
   "source": [
    "# Team H - Project 1"
   ]
  },
  {
   "attachments": {},
   "cell_type": "markdown",
   "id": "fa5de201",
   "metadata": {},
   "source": [
    "##  Pseudo Code"
   ]
  },
  {
   "attachments": {},
   "cell_type": "markdown",
   "id": "ac47507e",
   "metadata": {},
   "source": [
    "### task 1"
   ]
  },
  {
   "cell_type": "code",
   "execution_count": null,
   "id": "52bc6cf5",
   "metadata": {},
   "outputs": [],
   "source": [
    "텍스트(text)를 입력받는다.\n",
    "텍스트(text)를 소문자화 한다.\n",
    "\n",
    "for 텍스트의 각 글자(ch)에 대해서 do\n",
    "    if 글자가 알파벳인 경우 then\n",
    "        다음과 같이 딕셔너리에 데이터를 추가한다.\n",
    "            텍스트 내에 해당 글자가 몇 번 들어갔는지 세어본다.\n",
    "            글자 수 만큼 글자를 나열한 문자열을 만든다.\n",
    "            문자열을 list로 unpacking한다.\n",
    "            '글자':[글자 수 만큼의 글자 요소] 쌍을 딕셔너리에 추가한다.\n",
    "    endif\n",
    "endfor\n",
    "\n",
    "딕셔너리를 출력한다."
   ]
  },
  {
   "attachments": {},
   "cell_type": "markdown",
   "id": "f1546257",
   "metadata": {},
   "source": [
    "### task 2"
   ]
  },
  {
   "cell_type": "code",
   "execution_count": null,
   "id": "712c446c",
   "metadata": {},
   "outputs": [],
   "source": [
    "파일을 불러온다.\n",
    "파일을 한 줄(단어)씩 읽어들인다.\n",
    "\n",
    "for 파일 내 각 단어에 대해서 do\n",
    "    알파벳 외 문자를 제거하기 위해 다음과 같은 과정을 진행한다.\n",
    "        for 단어 내 각 글자에 대해서 do\n",
    "            if 글자가 알파벳인 경우 then\n",
    "                글자를 리스트에 담는다.\n",
    "            endif\n",
    "        endfor\n",
    "        리스트에 담긴 글자들을 한 단어로 합친다.\n",
    "        알파벳으로만 이루어진 단어를 단어 리스트에 추가한다.\n",
    "endfor\n",
    "\n",
    "for 단어 리스트 내 각 단어에 대해서 do\n",
    "    if 단어의 길이가 1보다 크고 and 원래 단어 == 거꾸로 뒤집은 단어 then\n",
    "        회문 리스트에 단어를 추가한다.\n",
    "    endif\n",
    "endfor\n",
    "\n",
    "회문 리스트를 출력한다."
   ]
  },
  {
   "cell_type": "markdown",
   "id": "f5f73dce",
   "metadata": {},
   "source": [
    "---"
   ]
  },
  {
   "attachments": {},
   "cell_type": "markdown",
   "id": "a8b18b38",
   "metadata": {},
   "source": [
    "## Pylint Score"
   ]
  },
  {
   "cell_type": "code",
   "execution_count": null,
   "id": "dc574030",
   "metadata": {},
   "outputs": [],
   "source": [
    "!pip install pylint"
   ]
  },
  {
   "cell_type": "code",
   "execution_count": 18,
   "id": "10598aa9",
   "metadata": {},
   "outputs": [],
   "source": [
    "!pylint -rn --max-line-length=79 --generate-rcfile > myconfig.pylintrc"
   ]
  },
  {
   "cell_type": "markdown",
   "id": "6fa23db8",
   "metadata": {},
   "source": [
    "### task1"
   ]
  },
  {
   "cell_type": "code",
   "execution_count": 19,
   "id": "01c50625",
   "metadata": {},
   "outputs": [
    {
     "name": "stdout",
     "output_type": "stream",
     "text": [
      "\n",
      "--------------------------------------------------------------------\n",
      "\n",
      "Your code has been rated at 10.00/10 (previous run: 10.00/10, +0.00)\n",
      "\n",
      "\n",
      "\n"
     ]
    }
   ],
   "source": [
    "!pylint --rcfile myconfig.pylintrc task1.py"
   ]
  },
  {
   "cell_type": "markdown",
   "id": "a8aad26d",
   "metadata": {},
   "source": [
    "### task2"
   ]
  },
  {
   "cell_type": "code",
   "execution_count": 21,
   "id": "3776adf0",
   "metadata": {},
   "outputs": [
    {
     "name": "stdout",
     "output_type": "stream",
     "text": [
      "\n",
      "--------------------------------------------------------------------\n",
      "\n",
      "Your code has been rated at 10.00/10 (previous run: 10.00/10, +0.00)\n",
      "\n",
      "\n",
      "\n"
     ]
    }
   ],
   "source": [
    "!pylint --rcfile myconfig.pylintrc task2.py"
   ]
  }
 ],
 "metadata": {
  "kernelspec": {
   "display_name": "Python 3",
   "language": "python",
   "name": "python3"
  },
  "language_info": {
   "codemirror_mode": {
    "name": "ipython",
    "version": 3
   },
   "file_extension": ".py",
   "mimetype": "text/x-python",
   "name": "python",
   "nbconvert_exporter": "python",
   "pygments_lexer": "ipython3",
   "version": "3.10.6"
  },
  "vscode": {
   "interpreter": {
    "hash": "6e4d342d0503028738833de0f90c5e3e8a37930b6fb8e2b1927c0ce48472d53a"
   }
  }
 },
 "nbformat": 4,
 "nbformat_minor": 5
}
