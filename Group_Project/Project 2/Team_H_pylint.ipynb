{
 "cells": [
  {
   "attachments": {},
   "cell_type": "markdown",
   "id": "6a5fc660",
   "metadata": {},
   "source": [
    "# Team H - Project 2"
   ]
  },
  {
   "attachments": {},
   "cell_type": "markdown",
   "id": "a8b18b38",
   "metadata": {},
   "source": [
    "## Pylint Score"
   ]
  },
  {
   "cell_type": "code",
   "execution_count": 2,
   "id": "b642fbbd",
   "metadata": {},
   "outputs": [
    {
     "name": "stdout",
     "output_type": "stream",
     "text": [
      "Requirement already satisfied: pylint in c:\\anaconda\\lib\\site-packages (2.9.6)\n",
      "Requirement already satisfied: isort<6,>=4.2.5 in c:\\anaconda\\lib\\site-packages (from pylint) (5.9.3)\n",
      "Requirement already satisfied: astroid<2.7,>=2.6.5 in c:\\anaconda\\lib\\site-packages (from pylint) (2.6.6)\n",
      "Requirement already satisfied: colorama in c:\\anaconda\\lib\\site-packages (from pylint) (0.4.4)\n",
      "Requirement already satisfied: mccabe<0.7,>=0.6 in c:\\anaconda\\lib\\site-packages (from pylint) (0.6.1)\n",
      "Requirement already satisfied: toml>=0.7.1 in c:\\anaconda\\lib\\site-packages (from pylint) (0.10.2)\n",
      "Requirement already satisfied: wrapt<1.13,>=1.11 in c:\\anaconda\\lib\\site-packages (from astroid<2.7,>=2.6.5->pylint) (1.12.1)\n",
      "Requirement already satisfied: lazy-object-proxy>=1.4.0 in c:\\anaconda\\lib\\site-packages (from astroid<2.7,>=2.6.5->pylint) (1.6.0)\n",
      "Requirement already satisfied: setuptools>=20.0 in c:\\anaconda\\lib\\site-packages (from astroid<2.7,>=2.6.5->pylint) (58.0.4)\n"
     ]
    }
   ],
   "source": [
    "!pip install pylint"
   ]
  },
  {
   "cell_type": "code",
   "execution_count": 4,
   "id": "f886a338",
   "metadata": {},
   "outputs": [],
   "source": [
    "!pylint -rn --max-line-length=79 --generate-rcfile > myconfig.pylintrc"
   ]
  },
  {
   "cell_type": "markdown",
   "id": "17edb1d7",
   "metadata": {},
   "source": [
    "<br>"
   ]
  },
  {
   "cell_type": "code",
   "execution_count": 8,
   "id": "5e2ee521",
   "metadata": {},
   "outputs": [
    {
     "name": "stdout",
     "output_type": "stream",
     "text": [
      "\n",
      "--------------------------------------------------------------------\n",
      "\n",
      "Your code has been rated at 10.00/10 (previous run: 10.00/10, +0.00)\n",
      "\n",
      "\n",
      "\n"
     ]
    }
   ],
   "source": [
    "# 가독성을 위해 넣은 개행들이 C0303 오류를 발생시키고 감점을 일으켜, 제외하였습니다.\n",
    "!pylint --rcfile myconfig.pylintrc --disable=C0303 project2.py"
   ]
  }
 ],
 "metadata": {
  "kernelspec": {
   "display_name": "Python 3",
   "language": "python",
   "name": "python3"
  },
  "language_info": {
   "codemirror_mode": {
    "name": "ipython",
    "version": 3
   },
   "file_extension": ".py",
   "mimetype": "text/x-python",
   "name": "python",
   "nbconvert_exporter": "python",
   "pygments_lexer": "ipython3",
   "version": "3.10.6"
  },
  "vscode": {
   "interpreter": {
    "hash": "6e4d342d0503028738833de0f90c5e3e8a37930b6fb8e2b1927c0ce48472d53a"
   }
  }
 },
 "nbformat": 4,
 "nbformat_minor": 5
}
