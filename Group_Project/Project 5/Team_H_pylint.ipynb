{
 "cells": [
  {
   "cell_type": "markdown",
   "id": "2cb27c11-a6bf-4e9f-9a8e-3440bfe9d281",
   "metadata": {},
   "source": [
    "# Team H - Project 5"
   ]
  },
  {
   "attachments": {},
   "cell_type": "markdown",
   "id": "7a3c0f9d-9ebe-49a9-aff2-d898b7ee85e0",
   "metadata": {},
   "source": [
    "## Pylint Score"
   ]
  },
  {
   "cell_type": "code",
   "execution_count": 13,
   "id": "db2f2875-3a42-4295-9033-5d0febdacea4",
   "metadata": {},
   "outputs": [
    {
     "name": "stdout",
     "output_type": "stream",
     "text": [
      "Requirement already satisfied: pylint in c:\\anaconda\\lib\\site-packages (2.9.6)\n",
      "Requirement already satisfied: toml>=0.7.1 in c:\\anaconda\\lib\\site-packages (from pylint) (0.10.2)\n",
      "Requirement already satisfied: astroid<2.7,>=2.6.5 in c:\\anaconda\\lib\\site-packages (from pylint) (2.6.6)\n",
      "Requirement already satisfied: mccabe<0.7,>=0.6 in c:\\anaconda\\lib\\site-packages (from pylint) (0.6.1)\n",
      "Requirement already satisfied: colorama in c:\\anaconda\\lib\\site-packages (from pylint) (0.4.4)\n",
      "Requirement already satisfied: isort<6,>=4.2.5 in c:\\anaconda\\lib\\site-packages (from pylint) (5.9.3)\n",
      "Requirement already satisfied: setuptools>=20.0 in c:\\anaconda\\lib\\site-packages (from astroid<2.7,>=2.6.5->pylint) (58.0.4)\n",
      "Requirement already satisfied: lazy-object-proxy>=1.4.0 in c:\\anaconda\\lib\\site-packages (from astroid<2.7,>=2.6.5->pylint) (1.6.0)\n",
      "Requirement already satisfied: wrapt<1.13,>=1.11 in c:\\anaconda\\lib\\site-packages (from astroid<2.7,>=2.6.5->pylint) (1.12.1)\n"
     ]
    }
   ],
   "source": [
    "!pip install pylint\n",
    "!pylint -rn --max-line-length=79 --generate-rcfile > myconfig.pylintrc"
   ]
  },
  {
   "cell_type": "code",
   "execution_count": 15,
   "id": "3fe0dc05-4847-4b9c-b53e-84a875b84915",
   "metadata": {},
   "outputs": [
    {
     "name": "stdout",
     "output_type": "stream",
     "text": [
      "************* Module project5\n",
      "project5.py:1323:0: C0325: Unnecessary parens after 'while' keyword (superfluous-parens)\n",
      "project5.py:261:4: W0231: __init__ method from base class 'Exception' is not called (super-init-not-called)\n",
      "project5.py:295:24: W0613: Unused argument 'option' (unused-argument)\n",
      "project5.py:315:0: R0902: Too many instance attributes (8/7) (too-many-instance-attributes)\n",
      "project5.py:537:8: C0206: Consider iterating with .items() (consider-using-dict-items)\n",
      "project5.py:754:8: C0103: Variable name \"y\" doesn't conform to snake_case naming style (invalid-name)\n",
      "project5.py:773:12: R1705: Unnecessary \"elif\" after \"return\" (no-else-return)\n",
      "project5.py:1045:12: R1723: Unnecessary \"elif\" after \"break\" (no-else-break)\n",
      "project5.py:1055:37: E1101: Instance of 'str' has no 'name' member (no-member)\n",
      "project5.py:1055:48: E1101: Instance of 'str' has no 'price' member (no-member)\n",
      "project5.py:1007:4: R0912: Too many branches (13/12) (too-many-branches)\n",
      "project5.py:1362:8: R1705: Unnecessary \"elif\" after \"return\" (no-else-return)\n",
      "project5.py:1388:4: R0201: Method could be a function (no-self-use)\n",
      "project5.py:1435:8: W0120: Else clause on loop without a break statement (useless-else-on-loop)\n",
      "project5.py:871:0: R0904: Too many public methods (22/20) (too-many-public-methods)\n",
      "project5.py:1504:4: R1711: Useless return at end of function or method (useless-return)\n",
      "project5.py:1656:8: C0206: Consider iterating with .items() (consider-using-dict-items)\n",
      "project5.py:1753:16: R1705: Unnecessary \"elif\" after \"return\" (no-else-return)\n",
      "\n",
      "-----------------------------------\n",
      "\n",
      "Your code has been rated at 9.62/10\n",
      "\n",
      "\n",
      "\n"
     ]
    }
   ],
   "source": [
    "!pylint --rcfile myconfig.pylintrc --disable=C0303,W0107,R1710,C0302,R0911,C0301 project5.py"
   ]
  }
 ],
 "metadata": {
  "kernelspec": {
   "display_name": "Python 3 (ipykernel)",
   "language": "python",
   "name": "python3"
  },
  "language_info": {
   "codemirror_mode": {
    "name": "ipython",
    "version": 3
   },
   "file_extension": ".py",
   "mimetype": "text/x-python",
   "name": "python",
   "nbconvert_exporter": "python",
   "pygments_lexer": "ipython3",
   "version": "3.9.7"
  }
 },
 "nbformat": 4,
 "nbformat_minor": 5
}
