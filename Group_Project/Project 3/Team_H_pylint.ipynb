{
 "cells": [
  {
   "cell_type": "markdown",
   "id": "dc8694c9-8438-444f-852c-019765ee3975",
   "metadata": {},
   "source": [
    "# Team H - Project 3"
   ]
  },
  {
   "cell_type": "markdown",
   "id": "d93620b9-64cf-41a1-9582-95a3b35b75c6",
   "metadata": {},
   "source": [
    "## Pylint Score"
   ]
  },
  {
   "cell_type": "code",
   "execution_count": 1,
   "id": "ebb4b814-8e10-4052-bbe5-bd25ebc02ba4",
   "metadata": {},
   "outputs": [
    {
     "name": "stdout",
     "output_type": "stream",
     "text": [
      "Requirement already satisfied: pylint in c:\\anaconda\\lib\\site-packages (2.9.6)\n",
      "Requirement already satisfied: mccabe<0.7,>=0.6 in c:\\anaconda\\lib\\site-packages (from pylint) (0.6.1)\n",
      "Requirement already satisfied: toml>=0.7.1 in c:\\anaconda\\lib\\site-packages (from pylint) (0.10.2)\n",
      "Requirement already satisfied: astroid<2.7,>=2.6.5 in c:\\anaconda\\lib\\site-packages (from pylint) (2.6.6)\n",
      "Requirement already satisfied: isort<6,>=4.2.5 in c:\\anaconda\\lib\\site-packages (from pylint) (5.9.3)\n",
      "Requirement already satisfied: colorama in c:\\anaconda\\lib\\site-packages (from pylint) (0.4.4)\n",
      "Requirement already satisfied: lazy-object-proxy>=1.4.0 in c:\\anaconda\\lib\\site-packages (from astroid<2.7,>=2.6.5->pylint) (1.6.0)\n",
      "Requirement already satisfied: wrapt<1.13,>=1.11 in c:\\anaconda\\lib\\site-packages (from astroid<2.7,>=2.6.5->pylint) (1.12.1)\n",
      "Requirement already satisfied: setuptools>=20.0 in c:\\anaconda\\lib\\site-packages (from astroid<2.7,>=2.6.5->pylint) (58.0.4)\n"
     ]
    }
   ],
   "source": [
    "!pip install pylint\n",
    "!pylint -rn --max-line-length=79 --generate-rcfile > myconfig.pylintrc"
   ]
  },
  {
   "cell_type": "code",
   "execution_count": 6,
   "id": "2f885253-4154-4dc0-85eb-b8832e6f40c8",
   "metadata": {},
   "outputs": [
    {
     "name": "stdout",
     "output_type": "stream",
     "text": [
      "\n",
      "-------------------------------------------------------------------\n",
      "\n",
      "Your code has been rated at 10.00/10 (previous run: 9.94/10, +0.06)\n",
      "\n",
      "\n",
      "\n"
     ]
    }
   ],
   "source": [
    "!pylint --rcfile myconfig.pylintrc --disable=C0303,W0107,R1710,C0302,R0911 project3.py"
   ]
  }
 ],
 "metadata": {
  "kernelspec": {
   "display_name": "Python 3",
   "language": "python",
   "name": "python3"
  },
  "language_info": {
   "codemirror_mode": {
    "name": "ipython",
    "version": 3
   },
   "file_extension": ".py",
   "mimetype": "text/x-python",
   "name": "python",
   "nbconvert_exporter": "python",
   "pygments_lexer": "ipython3",
   "version": "3.10.6"
  },
  "vscode": {
   "interpreter": {
    "hash": "6e4d342d0503028738833de0f90c5e3e8a37930b6fb8e2b1927c0ce48472d53a"
   }
  }
 },
 "nbformat": 4,
 "nbformat_minor": 5
}
